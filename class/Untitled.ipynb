{
 "cells": [
  {
   "cell_type": "code",
   "execution_count": 1,
   "id": "3fd32031-54b5-40a2-8369-ffc3a4cf6060",
   "metadata": {},
   "outputs": [],
   "source": [
    "import numpy as np\n",
    "import pandas as pd\n",
    "import scipy as sp\n",
    "df = pd.read_csv('../data/performance.csv', encoding='cp949')"
   ]
  },
  {
   "cell_type": "code",
   "execution_count": 2,
   "id": "d968f2da-7ae8-4b21-8c3a-a55e2b0885d2",
   "metadata": {},
   "outputs": [
    {
     "data": {
      "text/html": [
       "<div>\n",
       "<style scoped>\n",
       "    .dataframe tbody tr th:only-of-type {\n",
       "        vertical-align: middle;\n",
       "    }\n",
       "\n",
       "    .dataframe tbody tr th {\n",
       "        vertical-align: top;\n",
       "    }\n",
       "\n",
       "    .dataframe thead th {\n",
       "        text-align: right;\n",
       "    }\n",
       "</style>\n",
       "<table border=\"1\" class=\"dataframe\">\n",
       "  <thead>\n",
       "    <tr style=\"text-align: right;\">\n",
       "      <th></th>\n",
       "      <th>GENDER</th>\n",
       "      <th>TEAM</th>\n",
       "      <th>EDUCATION</th>\n",
       "      <th>TRAINING</th>\n",
       "      <th>ACHIEVEMENT</th>\n",
       "      <th>ABILITY</th>\n",
       "      <th>ATTITUDE</th>\n",
       "    </tr>\n",
       "  </thead>\n",
       "  <tbody>\n",
       "    <tr>\n",
       "      <th>0</th>\n",
       "      <td>female</td>\n",
       "      <td>B</td>\n",
       "      <td>bachelor's degree</td>\n",
       "      <td>none</td>\n",
       "      <td>72</td>\n",
       "      <td>72</td>\n",
       "      <td>74</td>\n",
       "    </tr>\n",
       "    <tr>\n",
       "      <th>1</th>\n",
       "      <td>female</td>\n",
       "      <td>C</td>\n",
       "      <td>some college</td>\n",
       "      <td>completed</td>\n",
       "      <td>69</td>\n",
       "      <td>90</td>\n",
       "      <td>88</td>\n",
       "    </tr>\n",
       "    <tr>\n",
       "      <th>2</th>\n",
       "      <td>female</td>\n",
       "      <td>B</td>\n",
       "      <td>master's degree</td>\n",
       "      <td>none</td>\n",
       "      <td>90</td>\n",
       "      <td>95</td>\n",
       "      <td>93</td>\n",
       "    </tr>\n",
       "    <tr>\n",
       "      <th>3</th>\n",
       "      <td>male</td>\n",
       "      <td>A</td>\n",
       "      <td>associate's degree</td>\n",
       "      <td>none</td>\n",
       "      <td>47</td>\n",
       "      <td>57</td>\n",
       "      <td>44</td>\n",
       "    </tr>\n",
       "    <tr>\n",
       "      <th>4</th>\n",
       "      <td>male</td>\n",
       "      <td>C</td>\n",
       "      <td>some college</td>\n",
       "      <td>none</td>\n",
       "      <td>76</td>\n",
       "      <td>78</td>\n",
       "      <td>75</td>\n",
       "    </tr>\n",
       "    <tr>\n",
       "      <th>...</th>\n",
       "      <td>...</td>\n",
       "      <td>...</td>\n",
       "      <td>...</td>\n",
       "      <td>...</td>\n",
       "      <td>...</td>\n",
       "      <td>...</td>\n",
       "      <td>...</td>\n",
       "    </tr>\n",
       "    <tr>\n",
       "      <th>995</th>\n",
       "      <td>female</td>\n",
       "      <td>E</td>\n",
       "      <td>master's degree</td>\n",
       "      <td>completed</td>\n",
       "      <td>88</td>\n",
       "      <td>99</td>\n",
       "      <td>95</td>\n",
       "    </tr>\n",
       "    <tr>\n",
       "      <th>996</th>\n",
       "      <td>male</td>\n",
       "      <td>C</td>\n",
       "      <td>high school</td>\n",
       "      <td>none</td>\n",
       "      <td>62</td>\n",
       "      <td>55</td>\n",
       "      <td>55</td>\n",
       "    </tr>\n",
       "    <tr>\n",
       "      <th>997</th>\n",
       "      <td>female</td>\n",
       "      <td>C</td>\n",
       "      <td>high school</td>\n",
       "      <td>completed</td>\n",
       "      <td>59</td>\n",
       "      <td>71</td>\n",
       "      <td>65</td>\n",
       "    </tr>\n",
       "    <tr>\n",
       "      <th>998</th>\n",
       "      <td>female</td>\n",
       "      <td>D</td>\n",
       "      <td>some college</td>\n",
       "      <td>completed</td>\n",
       "      <td>68</td>\n",
       "      <td>78</td>\n",
       "      <td>77</td>\n",
       "    </tr>\n",
       "    <tr>\n",
       "      <th>999</th>\n",
       "      <td>female</td>\n",
       "      <td>D</td>\n",
       "      <td>some college</td>\n",
       "      <td>none</td>\n",
       "      <td>77</td>\n",
       "      <td>86</td>\n",
       "      <td>86</td>\n",
       "    </tr>\n",
       "  </tbody>\n",
       "</table>\n",
       "<p>1000 rows × 7 columns</p>\n",
       "</div>"
      ],
      "text/plain": [
       "     GENDER TEAM           EDUCATION   TRAINING  ACHIEVEMENT  ABILITY  \\\n",
       "0    female    B   bachelor's degree       none           72       72   \n",
       "1    female    C        some college  completed           69       90   \n",
       "2    female    B     master's degree       none           90       95   \n",
       "3      male    A  associate's degree       none           47       57   \n",
       "4      male    C        some college       none           76       78   \n",
       "..      ...  ...                 ...        ...          ...      ...   \n",
       "995  female    E     master's degree  completed           88       99   \n",
       "996    male    C         high school       none           62       55   \n",
       "997  female    C         high school  completed           59       71   \n",
       "998  female    D        some college  completed           68       78   \n",
       "999  female    D        some college       none           77       86   \n",
       "\n",
       "     ATTITUDE  \n",
       "0          74  \n",
       "1          88  \n",
       "2          93  \n",
       "3          44  \n",
       "4          75  \n",
       "..        ...  \n",
       "995        95  \n",
       "996        55  \n",
       "997        65  \n",
       "998        77  \n",
       "999        86  \n",
       "\n",
       "[1000 rows x 7 columns]"
      ]
     },
     "execution_count": 2,
     "metadata": {},
     "output_type": "execute_result"
    }
   ],
   "source": [
    "df"
   ]
  },
  {
   "cell_type": "code",
   "execution_count": 34,
   "id": "f72eccbb-b31c-4334-8f96-cefae2b4e8c1",
   "metadata": {},
   "outputs": [],
   "source": [
    "a = df[df['TEAM']=='A']['ACHIEVEMENT']\n",
    "b = df[df['TEAM']=='B']['ACHIEVEMENT']\n",
    "c = df[df['TEAM']=='C']['ACHIEVEMENT']\n",
    "d = df[df['TEAM']=='D']['ACHIEVEMENT']\n",
    "e = df[df['TEAM']=='E']['ACHIEVEMENT']"
   ]
  },
  {
   "cell_type": "code",
   "execution_count": 6,
   "id": "36fb7213-abe7-4bfb-bdf8-bb9dc95b5a04",
   "metadata": {},
   "outputs": [
    {
     "data": {
      "text/plain": [
       "3      47\n",
       "13     78\n",
       "14     50\n",
       "25     73\n",
       "46     55\n",
       "       ..\n",
       "974    54\n",
       "983    78\n",
       "985    57\n",
       "988    44\n",
       "994    63\n",
       "Name: ACHIEVEMENT, Length: 89, dtype: int64"
      ]
     },
     "execution_count": 6,
     "metadata": {},
     "output_type": "execute_result"
    }
   ],
   "source": [
    "a"
   ]
  },
  {
   "cell_type": "code",
   "execution_count": 7,
   "id": "0cbed8b1-e43d-45bb-83de-b362ddd15ea0",
   "metadata": {},
   "outputs": [
    {
     "data": {
      "text/plain": [
       "0      72\n",
       "2      90\n",
       "5      71\n",
       "6      88\n",
       "7      40\n",
       "       ..\n",
       "969    75\n",
       "976    60\n",
       "980     8\n",
       "982    79\n",
       "991    65\n",
       "Name: ACHIEVEMENT, Length: 190, dtype: int64"
      ]
     },
     "execution_count": 7,
     "metadata": {},
     "output_type": "execute_result"
    }
   ],
   "source": [
    "b"
   ]
  },
  {
   "cell_type": "code",
   "execution_count": 26,
   "id": "17028a80-48e4-4149-b2d2-72aef28d20dd",
   "metadata": {},
   "outputs": [
    {
     "name": "stdout",
     "output_type": "stream",
     "text": [
      "0.9917360440600248 0.8545319451007725\n"
     ]
    }
   ],
   "source": [
    "s, p = sp.stats.shapiro(a)\n",
    "print(s, p)"
   ]
  },
  {
   "cell_type": "code",
   "execution_count": 27,
   "id": "d4e89978-18f4-40d1-b95f-9c082bdcaf0e",
   "metadata": {},
   "outputs": [
    {
     "name": "stdout",
     "output_type": "stream",
     "text": [
      "0.9808056990812756 0.010389426534438832\n"
     ]
    }
   ],
   "source": [
    "s, p = sp.stats.shapiro(b)\n",
    "print(s, p)"
   ]
  },
  {
   "cell_type": "code",
   "execution_count": 9,
   "id": "28461a5e-f705-4048-b189-0bdc3ef3d1c3",
   "metadata": {},
   "outputs": [],
   "source": [
    "mean_a = np.mean(a)\n",
    "mean_b = np.mean(b)"
   ]
  },
  {
   "cell_type": "code",
   "execution_count": 11,
   "id": "d50f3e46-f193-4619-af07-edf089bca7d5",
   "metadata": {},
   "outputs": [
    {
     "name": "stdout",
     "output_type": "stream",
     "text": [
      "61.62921348314607 63.45263157894737\n"
     ]
    }
   ],
   "source": [
    "print(mean_a, mean_b)"
   ]
  },
  {
   "cell_type": "code",
   "execution_count": 13,
   "id": "738a7a70-5618-407c-9d0c-d00bc993b5c2",
   "metadata": {},
   "outputs": [],
   "source": [
    "var_a = np.var(a)\n",
    "var_b = np.var(b)"
   ]
  },
  {
   "cell_type": "code",
   "execution_count": 14,
   "id": "21115671-5be2-482f-ae57-6e4382fe083c",
   "metadata": {},
   "outputs": [
    {
     "name": "stdout",
     "output_type": "stream",
     "text": [
      "208.5479106173464 238.0056509695291\n"
     ]
    }
   ],
   "source": [
    "print(var_a, var_b)"
   ]
  },
  {
   "cell_type": "code",
   "execution_count": 16,
   "id": "1d8d1e07-fa9e-4716-81c6-0520ec2a9485",
   "metadata": {},
   "outputs": [],
   "source": [
    "l_a = len(a)\n",
    "l_b = len(b)"
   ]
  },
  {
   "cell_type": "code",
   "execution_count": 17,
   "id": "06a9ba21-3647-4a58-be77-cc64ec991a28",
   "metadata": {},
   "outputs": [
    {
     "name": "stdout",
     "output_type": "stream",
     "text": [
      "89 190\n"
     ]
    }
   ],
   "source": [
    "print(l_a, l_b)"
   ]
  },
  {
   "cell_type": "code",
   "execution_count": 18,
   "id": "61a55938-23dc-40ee-9c83-1b985370534f",
   "metadata": {},
   "outputs": [],
   "source": [
    "z = (mean_b - mean_a) / (var_a/l_a + var_b/l_b)**0.5"
   ]
  },
  {
   "cell_type": "code",
   "execution_count": 22,
   "id": "5c6c7e6b-c3f1-4473-bdf6-9621a4381d1b",
   "metadata": {},
   "outputs": [
    {
     "name": "stdout",
     "output_type": "stream",
     "text": [
      "0.9615739353898894\n"
     ]
    }
   ],
   "source": [
    "print(z)"
   ]
  },
  {
   "cell_type": "code",
   "execution_count": 20,
   "id": "57ca6c4c-9ed1-4b76-9147-429672dec35f",
   "metadata": {},
   "outputs": [],
   "source": [
    "z_dist = sp.stats.norm(0,1)\n",
    "p = 1 - z_dist.cdf(z)"
   ]
  },
  {
   "cell_type": "code",
   "execution_count": 21,
   "id": "0d68e6aa-0f79-4b2f-a98b-461293329cb5",
   "metadata": {},
   "outputs": [
    {
     "name": "stdout",
     "output_type": "stream",
     "text": [
      "0.16813183477339477\n"
     ]
    }
   ],
   "source": [
    "print(p)"
   ]
  },
  {
   "cell_type": "code",
   "execution_count": 31,
   "id": "80f96fe4-f208-4828-80bf-41b9b561daf1",
   "metadata": {},
   "outputs": [],
   "source": [
    "s, p = sp.stats.ttest_ind(b, a, alternative='greater')"
   ]
  },
  {
   "cell_type": "code",
   "execution_count": 33,
   "id": "277b213f-2dcb-46f6-a13f-7701b3c2a93d",
   "metadata": {},
   "outputs": [
    {
     "name": "stdout",
     "output_type": "stream",
     "text": [
      "검정통계량 : 0.9355076279747488, p-value : 0.17517079808299785\n"
     ]
    }
   ],
   "source": [
    "print(f'검정통계량 : {s}, p-value : {p}')"
   ]
  },
  {
   "cell_type": "code",
   "execution_count": 30,
   "id": "cb808a0e-61f7-4edd-a3f5-dc9c7dbeabc8",
   "metadata": {},
   "outputs": [
    {
     "name": "stdout",
     "output_type": "stream",
     "text": [
      "검정통계량 : 1.35398583683992, p-value : 0.08787044816326\n"
     ]
    }
   ],
   "source": [
    "s, p = sp.stats.ranksums(b, a, alternative='greater')\n",
    "print(f'검정통계량 : {s}, p-value : {p}')"
   ]
  },
  {
   "cell_type": "code",
   "execution_count": 36,
   "id": "f67f17f0-ec04-46bd-8148-b8791748d32c",
   "metadata": {},
   "outputs": [
    {
     "name": "stdout",
     "output_type": "stream",
     "text": [
      "검정통계량 : 2.5864996389996464, p-value : 0.0048478135981361685\n"
     ]
    }
   ],
   "source": [
    "s, p = sp.stats.ranksums(d, c, alternative='greater')\n",
    "print(f'검정통계량 : {s}, p-value : {p}')"
   ]
  },
  {
   "cell_type": "code",
   "execution_count": 37,
   "id": "b5a33a59-8531-4abc-b320-b48d30e780b5",
   "metadata": {},
   "outputs": [
    {
     "name": "stdout",
     "output_type": "stream",
     "text": [
      "4.250454243201009 1.0666870819004865e-05\n"
     ]
    }
   ],
   "source": [
    "s, p = sp.stats.ranksums(e, d, alternative='greater')\n",
    "print(s, p)"
   ]
  },
  {
   "cell_type": "code",
   "execution_count": 38,
   "id": "87a174c7-2123-4fb7-bd17-ec7ed07abb78",
   "metadata": {},
   "outputs": [
    {
     "name": "stdout",
     "output_type": "stream",
     "text": [
      "6.064177605749511 6.631526534532667e-10\n"
     ]
    }
   ],
   "source": [
    "s, p = sp.stats.ranksums(e, c, alternative='greater')\n",
    "print(s, p)"
   ]
  },
  {
   "cell_type": "code",
   "execution_count": 39,
   "id": "962994ae-6e7e-49dc-ae66-15794e2a067b",
   "metadata": {},
   "outputs": [
    {
     "name": "stdout",
     "output_type": "stream",
     "text": [
      "1.9131906213930467 0.027861826861397612\n"
     ]
    }
   ],
   "source": [
    "s, p = sp.stats.ranksums(c, a, alternative='greater')\n",
    "print(s, p)"
   ]
  },
  {
   "cell_type": "code",
   "execution_count": 41,
   "id": "2bfca538-451c-4f63-90e2-a79e3104057f",
   "metadata": {},
   "outputs": [
    {
     "name": "stdout",
     "output_type": "stream",
     "text": [
      "3.551824655126869 0.00019128485560149314\n"
     ]
    }
   ],
   "source": [
    "s, p = sp.stats.ranksums(d, a, alternative='greater')\n",
    "print(s, p)"
   ]
  },
  {
   "cell_type": "code",
   "execution_count": 42,
   "id": "649191ff-6f94-4402-9140-6fa2ad450a61",
   "metadata": {},
   "outputs": [
    {
     "name": "stdout",
     "output_type": "stream",
     "text": [
      "5.776683346560215 3.809373724405942e-09\n"
     ]
    }
   ],
   "source": [
    "s, p = sp.stats.ranksums(e, a, alternative='greater')\n",
    "print(s, p)"
   ]
  },
  {
   "cell_type": "code",
   "execution_count": 44,
   "id": "ce246f87-5e93-41ef-b281-fba532be41e7",
   "metadata": {},
   "outputs": [
    {
     "name": "stdout",
     "output_type": "stream",
     "text": [
      "검정통계량 : 0.9917360440600248, p-value : 0.8545319451007725\n",
      "검정통계량 : 0.9808056990812756, p-value : 0.010389426534438832\n",
      "검정통계량 : 0.9891068965131897, p-value : 0.017414767041862515\n",
      "검정통계량 : 0.9896670870859058, p-value : 0.05926829323477837\n",
      "검정통계량 : 0.9770447788984441, p-value : 0.018493716885038675\n"
     ]
    }
   ],
   "source": [
    "s, p = sp.stats.shapiro(a)\n",
    "print(f'검정통계량 : {s}, p-value : {p}')\n",
    "s, p = sp.stats.shapiro(b)\n",
    "print(f'검정통계량 : {s}, p-value : {p}')\n",
    "s, p = sp.stats.shapiro(c)\n",
    "print(f'검정통계량 : {s}, p-value : {p}')\n",
    "s, p = sp.stats.shapiro(d)\n",
    "print(f'검정통계량 : {s}, p-value : {p}')\n",
    "s, p = sp.stats.shapiro(e)\n",
    "print(f'검정통계량 : {s}, p-value : {p}')"
   ]
  },
  {
   "cell_type": "code",
   "execution_count": 45,
   "id": "faf52ee6-0e7b-4c56-a767-9542d716e972",
   "metadata": {},
   "outputs": [
    {
     "name": "stdout",
     "output_type": "stream",
     "text": [
      "검정통계량 : 4.075678014368108, p-value : 0.39586081869788264\n"
     ]
    }
   ],
   "source": [
    "s, p = sp.stats.bartlett(a, b, c, d, e)\n",
    "print(f'검정통계량 : {s}, p-value : {p}')"
   ]
  },
  {
   "cell_type": "code",
   "execution_count": 46,
   "id": "f72d45a4-6b65-4a7b-87e6-381d796fa504",
   "metadata": {},
   "outputs": [
    {
     "name": "stdout",
     "output_type": "stream",
     "text": [
      "검정통계량 : 14.593885166332635, p-value : 1.3732194030370688e-11\n"
     ]
    }
   ],
   "source": [
    "s, p = sp.stats.f_oneway(a, b, c, d, e)\n",
    "print(f'검정통계량 : {s}, p-value : {p}')"
   ]
  },
  {
   "cell_type": "code",
   "execution_count": 47,
   "id": "8abe23ab-0881-4547-8730-911e923909b7",
   "metadata": {},
   "outputs": [
    {
     "name": "stdout",
     "output_type": "stream",
     "text": [
      "검정통계량 : 57.079329705742886, p-value : 1.1906568165839682e-11\n"
     ]
    }
   ],
   "source": [
    "s, p = sp.stats.kruskal(a, b, c, d, e)\n",
    "print(f'검정통계량 : {s}, p-value : {p}')"
   ]
  },
  {
   "cell_type": "code",
   "execution_count": 49,
   "id": "75a91039-3a71-468e-b3a7-e788717e081a",
   "metadata": {},
   "outputs": [
    {
     "name": "stdout",
     "output_type": "stream",
     "text": [
      "0.9917360440600248 0.8545319451007725\n",
      "0.9808056990812756 0.010389426534438832\n",
      "0.9891068965131897 0.017414767041862515\n",
      "0.9896670870859058 0.05926829323477837\n",
      "0.9770447788984441 0.018493716885038675\n"
     ]
    }
   ],
   "source": [
    "s, p = sp.stats.shapiro(a)\n",
    "print(s, p)\n",
    "s, p = sp.stats.shapiro(b)\n",
    "print(s, p)\n",
    "s, p = sp.stats.shapiro(c)\n",
    "print(s, p)\n",
    "s, p = sp.stats.shapiro(d)\n",
    "print(s, p)\n",
    "s, p = sp.stats.shapiro(e)\n",
    "print(s, p)"
   ]
  },
  {
   "cell_type": "code",
   "execution_count": 52,
   "id": "d1a9bd24-3339-4859-b8a1-bbf0b0d04ad9",
   "metadata": {},
   "outputs": [
    {
     "name": "stdout",
     "output_type": "stream",
     "text": [
      "0.6041031299129982 0.7392999419372903\n",
      "1.6462058743820212 0.4390671408400545\n",
      "0.5856262401638053 0.7461615702816626\n",
      "3.1989562681953365 0.20200190840063412\n"
     ]
    }
   ],
   "source": [
    "s, p = sp. stats.bartlett(a, b, c)\n",
    "print(s, p)\n",
    "s, p = sp. stats.bartlett(a, c, d)\n",
    "print(s, p)\n",
    "s, p = sp. stats.bartlett(a, c, e)\n",
    "print(s, p)\n",
    "s, p = sp. stats.bartlett(b, c, d)\n",
    "print(s, p)"
   ]
  },
  {
   "cell_type": "code",
   "execution_count": 55,
   "id": "d132808c-e441-4cc1-8c60-d8a187f050dc",
   "metadata": {},
   "outputs": [
    {
     "name": "stdout",
     "output_type": "stream",
     "text": [
      "1.2865292354788134 0.2769951028770473\n",
      "6.111872305340446 0.0023424853304506266\n",
      "24.36743291060134 7.312674797189767e-11\n",
      "4.607985686702369 0.010249185205640596\n"
     ]
    }
   ],
   "source": [
    "s, p = sp.stats.f_oneway(a, b, c)\n",
    "print(s, p)\n",
    "s, p = sp.stats.f_oneway(a, c, d)\n",
    "print(s, p)\n",
    "s, p = sp.stats.f_oneway(a, c, e)\n",
    "print(s, p)\n",
    "s, p = sp.stats.f_oneway(b, c, d)\n",
    "print(s, p)"
   ]
  },
  {
   "cell_type": "code",
   "execution_count": 57,
   "id": "c5f2d048-ebb6-4570-9026-f75946efa0aa",
   "metadata": {},
   "outputs": [
    {
     "name": "stdout",
     "output_type": "stream",
     "text": [
      "3.698400045333953 0.15736300280904847\n",
      "14.658252760184663 0.0006561465595059478\n",
      "47.49410168205372 4.861685468012949e-11\n",
      "9.843475073231495 0.0072864593514606795\n"
     ]
    }
   ],
   "source": [
    "s, p = sp.stats.kruskal(a, b, c)\n",
    "print(s, p)\n",
    "s, p = sp.stats.kruskal(a, c, d)\n",
    "print(s, p)\n",
    "s, p = sp.stats.kruskal(a, c, e)\n",
    "print(s, p)\n",
    "s, p = sp.stats.kruskal(b, c, d)\n",
    "print(s, p)"
   ]
  },
  {
   "cell_type": "code",
   "execution_count": 58,
   "id": "d53d19b4-683b-4067-b7a1-812280f8f667",
   "metadata": {},
   "outputs": [],
   "source": [
    "df['C_OR_NOT'] = np.where(df['TEAM']=='C', 'C', 'not_C')"
   ]
  },
  {
   "cell_type": "code",
   "execution_count": 59,
   "id": "97230409-75a2-42ed-9db8-66d60cc810b1",
   "metadata": {},
   "outputs": [
    {
     "data": {
      "text/html": [
       "<div>\n",
       "<style scoped>\n",
       "    .dataframe tbody tr th:only-of-type {\n",
       "        vertical-align: middle;\n",
       "    }\n",
       "\n",
       "    .dataframe tbody tr th {\n",
       "        vertical-align: top;\n",
       "    }\n",
       "\n",
       "    .dataframe thead th {\n",
       "        text-align: right;\n",
       "    }\n",
       "</style>\n",
       "<table border=\"1\" class=\"dataframe\">\n",
       "  <thead>\n",
       "    <tr style=\"text-align: right;\">\n",
       "      <th></th>\n",
       "      <th>GENDER</th>\n",
       "      <th>TEAM</th>\n",
       "      <th>EDUCATION</th>\n",
       "      <th>TRAINING</th>\n",
       "      <th>ACHIEVEMENT</th>\n",
       "      <th>ABILITY</th>\n",
       "      <th>ATTITUDE</th>\n",
       "      <th>C_OR_NOT</th>\n",
       "    </tr>\n",
       "  </thead>\n",
       "  <tbody>\n",
       "    <tr>\n",
       "      <th>0</th>\n",
       "      <td>female</td>\n",
       "      <td>B</td>\n",
       "      <td>bachelor's degree</td>\n",
       "      <td>none</td>\n",
       "      <td>72</td>\n",
       "      <td>72</td>\n",
       "      <td>74</td>\n",
       "      <td>not_C</td>\n",
       "    </tr>\n",
       "    <tr>\n",
       "      <th>1</th>\n",
       "      <td>female</td>\n",
       "      <td>C</td>\n",
       "      <td>some college</td>\n",
       "      <td>completed</td>\n",
       "      <td>69</td>\n",
       "      <td>90</td>\n",
       "      <td>88</td>\n",
       "      <td>C</td>\n",
       "    </tr>\n",
       "    <tr>\n",
       "      <th>2</th>\n",
       "      <td>female</td>\n",
       "      <td>B</td>\n",
       "      <td>master's degree</td>\n",
       "      <td>none</td>\n",
       "      <td>90</td>\n",
       "      <td>95</td>\n",
       "      <td>93</td>\n",
       "      <td>not_C</td>\n",
       "    </tr>\n",
       "    <tr>\n",
       "      <th>3</th>\n",
       "      <td>male</td>\n",
       "      <td>A</td>\n",
       "      <td>associate's degree</td>\n",
       "      <td>none</td>\n",
       "      <td>47</td>\n",
       "      <td>57</td>\n",
       "      <td>44</td>\n",
       "      <td>not_C</td>\n",
       "    </tr>\n",
       "    <tr>\n",
       "      <th>4</th>\n",
       "      <td>male</td>\n",
       "      <td>C</td>\n",
       "      <td>some college</td>\n",
       "      <td>none</td>\n",
       "      <td>76</td>\n",
       "      <td>78</td>\n",
       "      <td>75</td>\n",
       "      <td>C</td>\n",
       "    </tr>\n",
       "  </tbody>\n",
       "</table>\n",
       "</div>"
      ],
      "text/plain": [
       "   GENDER TEAM           EDUCATION   TRAINING  ACHIEVEMENT  ABILITY  ATTITUDE  \\\n",
       "0  female    B   bachelor's degree       none           72       72        74   \n",
       "1  female    C        some college  completed           69       90        88   \n",
       "2  female    B     master's degree       none           90       95        93   \n",
       "3    male    A  associate's degree       none           47       57        44   \n",
       "4    male    C        some college       none           76       78        75   \n",
       "\n",
       "  C_OR_NOT  \n",
       "0    not_C  \n",
       "1        C  \n",
       "2    not_C  \n",
       "3    not_C  \n",
       "4        C  "
      ]
     },
     "execution_count": 59,
     "metadata": {},
     "output_type": "execute_result"
    }
   ],
   "source": [
    "df.head()"
   ]
  },
  {
   "cell_type": "code",
   "execution_count": 60,
   "id": "84343f22-f7f5-4a92-aae6-305da824d389",
   "metadata": {},
   "outputs": [
    {
     "data": {
      "text/plain": [
       "array(['none', 'completed'], dtype=object)"
      ]
     },
     "execution_count": 60,
     "metadata": {},
     "output_type": "execute_result"
    }
   ],
   "source": [
    "df['TRAINING'].unique()"
   ]
  },
  {
   "cell_type": "code",
   "execution_count": 61,
   "id": "54d1af5e-a08c-4f27-bf8d-3d82f0199f2d",
   "metadata": {},
   "outputs": [
    {
     "data": {
      "text/plain": [
       "array(['not_C', 'C'], dtype=object)"
      ]
     },
     "execution_count": 61,
     "metadata": {},
     "output_type": "execute_result"
    }
   ],
   "source": [
    "df['C_OR_NOT'].unique()"
   ]
  },
  {
   "cell_type": "code",
   "execution_count": 62,
   "id": "110cbab7-4295-4a21-a558-888f1b52f1cc",
   "metadata": {},
   "outputs": [
    {
     "data": {
      "text/html": [
       "<div>\n",
       "<style scoped>\n",
       "    .dataframe tbody tr th:only-of-type {\n",
       "        vertical-align: middle;\n",
       "    }\n",
       "\n",
       "    .dataframe tbody tr th {\n",
       "        vertical-align: top;\n",
       "    }\n",
       "\n",
       "    .dataframe thead th {\n",
       "        text-align: right;\n",
       "    }\n",
       "</style>\n",
       "<table border=\"1\" class=\"dataframe\">\n",
       "  <thead>\n",
       "    <tr style=\"text-align: right;\">\n",
       "      <th>TRAINING</th>\n",
       "      <th>completed</th>\n",
       "      <th>none</th>\n",
       "    </tr>\n",
       "    <tr>\n",
       "      <th>C_OR_NOT</th>\n",
       "      <th></th>\n",
       "      <th></th>\n",
       "    </tr>\n",
       "  </thead>\n",
       "  <tbody>\n",
       "    <tr>\n",
       "      <th>C</th>\n",
       "      <td>117</td>\n",
       "      <td>202</td>\n",
       "    </tr>\n",
       "    <tr>\n",
       "      <th>not_C</th>\n",
       "      <td>241</td>\n",
       "      <td>440</td>\n",
       "    </tr>\n",
       "  </tbody>\n",
       "</table>\n",
       "</div>"
      ],
      "text/plain": [
       "TRAINING  completed  none\n",
       "C_OR_NOT                 \n",
       "C               117   202\n",
       "not_C           241   440"
      ]
     },
     "execution_count": 62,
     "metadata": {},
     "output_type": "execute_result"
    }
   ],
   "source": [
    "obs = pd.crosstab(df['C_OR_NOT'], df['TRAINING'])\n",
    "obs"
   ]
  },
  {
   "cell_type": "code",
   "execution_count": 63,
   "id": "6f1901bb-606c-4a3c-98d0-43ed3fb45e8b",
   "metadata": {},
   "outputs": [
    {
     "name": "stdout",
     "output_type": "stream",
     "text": [
      "H0 : 팀C 여부와 사내 교육 수강 여부는 연관성이 없다.\n",
      "H1 : 팀C 여부와 사내 교육 수강 여부는 연관성이 있다.\n",
      "검정통계량 :  0.10576554193252763\n",
      "p-value :  0.745017489209715\n",
      "결론 : H0 채택, 팀C 여부와 사내 교육 수강 여부는 연관성이 없다.\n"
     ]
    }
   ],
   "source": [
    "chi2, p, d, expected = sp.stats.chi2_contingency(obs)\n",
    "print(\"H0 : 팀C 여부와 사내 교육 수강 여부는 연관성이 없다.\")\n",
    "print(\"H1 : 팀C 여부와 사내 교육 수강 여부는 연관성이 있다.\")\n",
    "print('검정통계량 : ', chi2)\n",
    "print('p-value : ', p)\n",
    "print('결론 : H0 채택, 팀C 여부와 사내 교육 수강 여부는 연관성이 없다.')"
   ]
  },
  {
   "cell_type": "code",
   "execution_count": 68,
   "id": "fb5289f3-2314-4b0f-b937-3b4ee706b9a8",
   "metadata": {},
   "outputs": [],
   "source": [
    "obs1 = pd.crosstab(df['GENDER'], df['TEAM'])"
   ]
  },
  {
   "cell_type": "code",
   "execution_count": 69,
   "id": "7d91e091-07d7-4803-be90-712780546de0",
   "metadata": {},
   "outputs": [],
   "source": [
    "obs2 = pd.crosstab(df['GENDER'], df['EDUCATION'])"
   ]
  },
  {
   "cell_type": "code",
   "execution_count": 70,
   "id": "1d5be9c1-2f11-4afa-918e-711e7bde299c",
   "metadata": {},
   "outputs": [],
   "source": [
    "obs3 = pd.crosstab(df['TEAM'], df['TRAINING'])"
   ]
  },
  {
   "cell_type": "code",
   "execution_count": 71,
   "id": "ce4a03e9-6689-4374-a1e3-bdb09e8eace7",
   "metadata": {},
   "outputs": [],
   "source": [
    "obs4 = pd.crosstab(df['EDUCATION'], df['TRAINING'])"
   ]
  },
  {
   "cell_type": "code",
   "execution_count": 77,
   "id": "eef7360c-b50d-4f6a-934b-66bfacd10b96",
   "metadata": {},
   "outputs": [
    {
     "name": "stdout",
     "output_type": "stream",
     "text": [
      "H0 : GENDER와 TEAM은 연관성이 없다.\n",
      "H1 : GENDER와 TEAM은 연관성이 있다.\n",
      "검정통계량 : 9.02738626908596, p-value : 0.06041858784847785\n",
      "H0 채택, GENDER와 TEAM은 연관성이 없다.\n",
      "\n",
      "H0 : GENDER와 EDUCATION은 연관성이 없다.\n",
      "H1 : GENDER와 EDUCATION은 연관성이 있다.\n",
      "검정통계량 : 3.384904766004173, p-value : 0.6408699721807456\n",
      "H0 채택, GENDER와 EDUCATION은 연관성이 없다.\n",
      "\n",
      "H0 : TEAM와 TRAINING은 연관성이 없다.\n",
      "H1 : TEAM와 TRAINING은 연관성이 있다.\n",
      "검정통계량 : 5.4875148857070695, p-value : 0.24082911295018397\n",
      "H0 채택, TEAM와 TRAINING은 연관성이 없다.\n",
      "\n",
      "H0 : EDUCATION와 TRAINING은 연관성이 없다.\n",
      "H1 : EDUCATION와 TRAINING은 연관성이 있다.\n",
      "검정통계량 : 9.54407054307069, p-value : 0.08923388625809343\n",
      "H0 채택, EDUCATION와 TRAINING은 연관성이 없다.\n"
     ]
    }
   ],
   "source": [
    "s, p, d, e = sp.stats.chi2_contingency(obs1)\n",
    "print('H0 : GENDER와 TEAM은 연관성이 없다.')\n",
    "print('H1 : GENDER와 TEAM은 연관성이 있다.')\n",
    "print(f\"검정통계량 : {s}, p-value : {p}\")\n",
    "print('H0 채택, GENDER와 TEAM은 연관성이 없다.')\n",
    "print()\n",
    "s, p, d, e = sp.stats.chi2_contingency(obs2)\n",
    "print('H0 : GENDER와 EDUCATION은 연관성이 없다.')\n",
    "print('H1 : GENDER와 EDUCATION은 연관성이 있다.')\n",
    "print(f\"검정통계량 : {s}, p-value : {p}\")\n",
    "print('H0 채택, GENDER와 EDUCATION은 연관성이 없다.')\n",
    "print()\n",
    "s, p, d, e = sp.stats.chi2_contingency(obs3)\n",
    "print('H0 : TEAM와 TRAINING은 연관성이 없다.')\n",
    "print('H1 : TEAM와 TRAINING은 연관성이 있다.')\n",
    "print(f\"검정통계량 : {s}, p-value : {p}\")\n",
    "print('H0 채택, TEAM와 TRAINING은 연관성이 없다.')\n",
    "print()\n",
    "s, p, d, e = sp.stats.chi2_contingency(obs4)\n",
    "print('H0 : EDUCATION와 TRAINING은 연관성이 없다.')\n",
    "print('H1 : EDUCATION와 TRAINING은 연관성이 있다.')\n",
    "print(f\"검정통계량 : {s}, p-value : {p}\")\n",
    "print('H0 채택, EDUCATION와 TRAINING은 연관성이 없다.')"
   ]
  },
  {
   "cell_type": "code",
   "execution_count": null,
   "id": "064c5d5e-f867-495f-bc89-9bde160ff1e1",
   "metadata": {},
   "outputs": [],
   "source": []
  }
 ],
 "metadata": {
  "kernelspec": {
   "display_name": "Python 3 (ipykernel)",
   "language": "python",
   "name": "python3"
  },
  "language_info": {
   "codemirror_mode": {
    "name": "ipython",
    "version": 3
   },
   "file_extension": ".py",
   "mimetype": "text/x-python",
   "name": "python",
   "nbconvert_exporter": "python",
   "pygments_lexer": "ipython3",
   "version": "3.11.9"
  }
 },
 "nbformat": 4,
 "nbformat_minor": 5
}
