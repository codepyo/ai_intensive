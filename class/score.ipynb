{
 "cells": [
  {
   "cell_type": "code",
   "execution_count": 26,
   "id": "717479b5-e91f-4090-9167-30dcc9040f11",
   "metadata": {},
   "outputs": [],
   "source": [
    "import pandas as pd\n",
    "df = pd.read_csv('../data/house_prices.csv')"
   ]
  },
  {
   "cell_type": "code",
   "execution_count": 39,
   "id": "4048ab6c-1677-4f5d-b0ba-67599a00ae2a",
   "metadata": {},
   "outputs": [],
   "source": [
    "features = ['CRIM', 'ZN', 'INDUS', 'CHAS', 'NOX', 'RM', 'AGE', 'DIS', 'RAD', 'TAX',\n",
    "       'PTRATIO', 'B', 'LSTAT']\n",
    "\n",
    "X = df[features]\n",
    "y = df['MEDV']\n",
    "\n",
    "from sklearn.model_selection import train_test_split\n",
    "X_tn, X_te, y_tn, y_te=train_test_split(X, y, test_size=0.25, random_state=0)"
   ]
  },
  {
   "cell_type": "code",
   "execution_count": 40,
   "id": "49040d02-9c70-4b9f-b5d3-31dc6d28f359",
   "metadata": {},
   "outputs": [
    {
     "name": "stdout",
     "output_type": "stream",
     "text": [
      "(379, 13) (127, 13)\n"
     ]
    }
   ],
   "source": [
    "print(X_tn.shape, X_te.shape)"
   ]
  },
  {
   "cell_type": "code",
   "execution_count": 41,
   "id": "66e0018e-515c-4c13-a382-cd3d78f0235e",
   "metadata": {},
   "outputs": [
    {
     "data": {
      "text/plain": [
       "13"
      ]
     },
     "execution_count": 41,
     "metadata": {},
     "output_type": "execute_result"
    }
   ],
   "source": [
    "len(features)"
   ]
  },
  {
   "cell_type": "code",
   "execution_count": 29,
   "id": "7e10b320-1b50-4fba-a8d1-bb8a01c67271",
   "metadata": {},
   "outputs": [],
   "source": [
    "from sklearn.preprocessing import StandardScaler\n",
    "std_scale = StandardScaler()\n",
    "std_scale.fit(X_tn)\n",
    "X_tn_std = std_scale.transform(X_tn)\n",
    "X_te_std = std_scale.transform(X_te)"
   ]
  },
  {
   "cell_type": "code",
   "execution_count": 47,
   "id": "b91973f8-c4b8-4bb1-8df3-6484ac27932a",
   "metadata": {},
   "outputs": [
    {
     "name": "stdout",
     "output_type": "stream",
     "text": [
      "['INDUS', 'CHAS', 'NOX', 'RM', 'AGE', 'DIS', 'RAD', 'TAX', 'PTRATIO', 'B', 'LSTAT'] 25.721594488188973\n",
      "['ZN', 'CHAS', 'NOX', 'RM', 'AGE', 'DIS', 'RAD', 'TAX', 'PTRATIO', 'B', 'LSTAT'] 25.479921259842516\n",
      "['ZN', 'INDUS', 'NOX', 'RM', 'AGE', 'DIS', 'RAD', 'TAX', 'PTRATIO', 'B', 'LSTAT'] 23.581338582677162\n",
      "['ZN', 'INDUS', 'CHAS', 'RM', 'AGE', 'DIS', 'RAD', 'TAX', 'PTRATIO', 'B', 'LSTAT'] 26.55824803149606\n",
      "['ZN', 'INDUS', 'CHAS', 'NOX', 'AGE', 'DIS', 'RAD', 'TAX', 'PTRATIO', 'B', 'LSTAT'] 34.62505905511811\n",
      "['ZN', 'INDUS', 'CHAS', 'NOX', 'RM', 'DIS', 'RAD', 'TAX', 'PTRATIO', 'B', 'LSTAT'] 25.32999999999999\n",
      "['ZN', 'INDUS', 'CHAS', 'NOX', 'RM', 'AGE', 'RAD', 'TAX', 'PTRATIO', 'B', 'LSTAT'] 27.790570866141735\n",
      "['ZN', 'INDUS', 'CHAS', 'NOX', 'RM', 'AGE', 'DIS', 'TAX', 'PTRATIO', 'B', 'LSTAT'] 25.535610236220467\n",
      "['ZN', 'INDUS', 'CHAS', 'NOX', 'RM', 'AGE', 'DIS', 'RAD', 'PTRATIO', 'B', 'LSTAT'] 26.9398031496063\n",
      "['ZN', 'INDUS', 'CHAS', 'NOX', 'RM', 'AGE', 'DIS', 'RAD', 'TAX', 'B', 'LSTAT'] 26.373011811023613\n",
      "['ZN', 'INDUS', 'CHAS', 'NOX', 'RM', 'AGE', 'DIS', 'RAD', 'TAX', 'PTRATIO', 'LSTAT'] 26.403740157480307\n",
      "['ZN', 'INDUS', 'CHAS', 'NOX', 'RM', 'AGE', 'DIS', 'RAD', 'TAX', 'PTRATIO', 'B'] 35.450019685039365\n",
      "['ZN', 'INDUS', 'CHAS', 'NOX', 'RM', 'AGE', 'DIS', 'RAD', 'TAX', 'PTRATIO', 'B', 'LSTAT'] 25.826220472440937\n",
      "['CRIM', 'CHAS', 'NOX', 'RM', 'AGE', 'DIS', 'RAD', 'TAX', 'PTRATIO', 'B', 'LSTAT'] 24.940866141732286\n",
      "['CRIM', 'INDUS', 'NOX', 'RM', 'AGE', 'DIS', 'RAD', 'TAX', 'PTRATIO', 'B', 'LSTAT'] 32.87015748031496\n",
      "['CRIM', 'INDUS', 'CHAS', 'RM', 'AGE', 'DIS', 'RAD', 'TAX', 'PTRATIO', 'B', 'LSTAT'] 29.685590551181104\n",
      "['CRIM', 'INDUS', 'CHAS', 'NOX', 'AGE', 'DIS', 'RAD', 'TAX', 'PTRATIO', 'B', 'LSTAT'] 25.539094488188972\n",
      "['CRIM', 'INDUS', 'CHAS', 'NOX', 'RM', 'DIS', 'RAD', 'TAX', 'PTRATIO', 'B', 'LSTAT'] 27.51364173228345\n",
      "['CRIM', 'INDUS', 'CHAS', 'NOX', 'RM', 'AGE', 'RAD', 'TAX', 'PTRATIO', 'B', 'LSTAT'] 24.54748031496063\n",
      "['CRIM', 'INDUS', 'CHAS', 'NOX', 'RM', 'AGE', 'DIS', 'TAX', 'PTRATIO', 'B', 'LSTAT'] 25.23799212598425\n",
      "['CRIM', 'INDUS', 'CHAS', 'NOX', 'RM', 'AGE', 'DIS', 'RAD', 'PTRATIO', 'B', 'LSTAT'] 26.523031496063\n",
      "['CRIM', 'INDUS', 'CHAS', 'NOX', 'RM', 'AGE', 'DIS', 'RAD', 'TAX', 'B', 'LSTAT'] 24.513051181102366\n",
      "['CRIM', 'INDUS', 'CHAS', 'NOX', 'RM', 'AGE', 'DIS', 'RAD', 'TAX', 'PTRATIO', 'LSTAT'] 26.42950787401574\n",
      "['CRIM', 'INDUS', 'CHAS', 'NOX', 'RM', 'AGE', 'DIS', 'RAD', 'TAX', 'PTRATIO', 'B'] 31.690078740157478\n",
      "['CRIM', 'INDUS', 'CHAS', 'NOX', 'RM', 'AGE', 'DIS', 'RAD', 'TAX', 'PTRATIO', 'B', 'LSTAT'] 26.259212598425194\n",
      "['CRIM', 'ZN', 'NOX', 'RM', 'AGE', 'DIS', 'RAD', 'TAX', 'PTRATIO', 'B', 'LSTAT'] 32.75037401574803\n",
      "['CRIM', 'ZN', 'CHAS', 'RM', 'AGE', 'DIS', 'RAD', 'TAX', 'PTRATIO', 'B', 'LSTAT'] 30.54271653543307\n",
      "['CRIM', 'ZN', 'CHAS', 'NOX', 'AGE', 'DIS', 'RAD', 'TAX', 'PTRATIO', 'B', 'LSTAT'] 28.39322834645669\n",
      "['CRIM', 'ZN', 'CHAS', 'NOX', 'RM', 'DIS', 'RAD', 'TAX', 'PTRATIO', 'B', 'LSTAT'] 27.077519685039363\n",
      "['CRIM', 'ZN', 'CHAS', 'NOX', 'RM', 'AGE', 'RAD', 'TAX', 'PTRATIO', 'B', 'LSTAT'] 23.402145669291336\n",
      "['CRIM', 'ZN', 'CHAS', 'NOX', 'RM', 'AGE', 'DIS', 'TAX', 'PTRATIO', 'B', 'LSTAT'] 26.102775590551175\n",
      "['CRIM', 'ZN', 'CHAS', 'NOX', 'RM', 'AGE', 'DIS', 'RAD', 'PTRATIO', 'B', 'LSTAT'] 26.557165354330703\n",
      "['CRIM', 'ZN', 'CHAS', 'NOX', 'RM', 'AGE', 'DIS', 'RAD', 'TAX', 'B', 'LSTAT'] 26.793818897637788\n",
      "['CRIM', 'ZN', 'CHAS', 'NOX', 'RM', 'AGE', 'DIS', 'RAD', 'TAX', 'PTRATIO', 'LSTAT'] 26.497362204724407\n",
      "['CRIM', 'ZN', 'CHAS', 'NOX', 'RM', 'AGE', 'DIS', 'RAD', 'TAX', 'PTRATIO', 'B'] 32.259173228346455\n",
      "['CRIM', 'ZN', 'CHAS', 'NOX', 'RM', 'AGE', 'DIS', 'RAD', 'TAX', 'PTRATIO', 'B', 'LSTAT'] 26.017539370078737\n",
      "['CRIM', 'ZN', 'INDUS', 'RM', 'AGE', 'DIS', 'RAD', 'TAX', 'PTRATIO', 'B', 'LSTAT'] 30.296870078740152\n",
      "['CRIM', 'ZN', 'INDUS', 'NOX', 'AGE', 'DIS', 'RAD', 'TAX', 'PTRATIO', 'B', 'LSTAT'] 24.094212598425194\n",
      "['CRIM', 'ZN', 'INDUS', 'NOX', 'RM', 'DIS', 'RAD', 'TAX', 'PTRATIO', 'B', 'LSTAT'] 33.120413385826765\n",
      "['CRIM', 'ZN', 'INDUS', 'NOX', 'RM', 'AGE', 'RAD', 'TAX', 'PTRATIO', 'B', 'LSTAT'] 30.289251968503933\n",
      "['CRIM', 'ZN', 'INDUS', 'NOX', 'RM', 'AGE', 'DIS', 'TAX', 'PTRATIO', 'B', 'LSTAT'] 33.271791338582666\n",
      "['CRIM', 'ZN', 'INDUS', 'NOX', 'RM', 'AGE', 'DIS', 'RAD', 'PTRATIO', 'B', 'LSTAT'] 34.04905511811024\n",
      "['CRIM', 'ZN', 'INDUS', 'NOX', 'RM', 'AGE', 'DIS', 'RAD', 'TAX', 'B', 'LSTAT'] 32.25787401574803\n",
      "['CRIM', 'ZN', 'INDUS', 'NOX', 'RM', 'AGE', 'DIS', 'RAD', 'TAX', 'PTRATIO', 'LSTAT'] 31.534015748031493\n",
      "['CRIM', 'ZN', 'INDUS', 'NOX', 'RM', 'AGE', 'DIS', 'RAD', 'TAX', 'PTRATIO', 'B'] 41.439763779527546\n",
      "['CRIM', 'ZN', 'INDUS', 'NOX', 'RM', 'AGE', 'DIS', 'RAD', 'TAX', 'PTRATIO', 'B', 'LSTAT'] 32.97068897637795\n",
      "['CRIM', 'ZN', 'INDUS', 'CHAS', 'AGE', 'DIS', 'RAD', 'TAX', 'PTRATIO', 'B', 'LSTAT'] 35.06490157480315\n",
      "['CRIM', 'ZN', 'INDUS', 'CHAS', 'RM', 'DIS', 'RAD', 'TAX', 'PTRATIO', 'B', 'LSTAT'] 31.003937007874008\n",
      "['CRIM', 'ZN', 'INDUS', 'CHAS', 'RM', 'AGE', 'RAD', 'TAX', 'PTRATIO', 'B', 'LSTAT'] 27.5838779527559\n",
      "['CRIM', 'ZN', 'INDUS', 'CHAS', 'RM', 'AGE', 'DIS', 'TAX', 'PTRATIO', 'B', 'LSTAT'] 30.44633858267716\n",
      "['CRIM', 'ZN', 'INDUS', 'CHAS', 'RM', 'AGE', 'DIS', 'RAD', 'PTRATIO', 'B', 'LSTAT'] 32.18381889763779\n",
      "['CRIM', 'ZN', 'INDUS', 'CHAS', 'RM', 'AGE', 'DIS', 'RAD', 'TAX', 'B', 'LSTAT'] 31.083838582677163\n",
      "['CRIM', 'ZN', 'INDUS', 'CHAS', 'RM', 'AGE', 'DIS', 'RAD', 'TAX', 'PTRATIO', 'LSTAT'] 33.321692913385824\n",
      "['CRIM', 'ZN', 'INDUS', 'CHAS', 'RM', 'AGE', 'DIS', 'RAD', 'TAX', 'PTRATIO', 'B'] 38.04312992125983\n",
      "['CRIM', 'ZN', 'INDUS', 'CHAS', 'RM', 'AGE', 'DIS', 'RAD', 'TAX', 'PTRATIO', 'B', 'LSTAT'] 30.33409448818897\n",
      "['CRIM', 'ZN', 'INDUS', 'CHAS', 'NOX', 'DIS', 'RAD', 'TAX', 'PTRATIO', 'B', 'LSTAT'] 26.883110236220464\n",
      "['CRIM', 'ZN', 'INDUS', 'CHAS', 'NOX', 'AGE', 'RAD', 'TAX', 'PTRATIO', 'B', 'LSTAT'] 34.44167322834645\n",
      "['CRIM', 'ZN', 'INDUS', 'CHAS', 'NOX', 'AGE', 'DIS', 'TAX', 'PTRATIO', 'B', 'LSTAT'] 30.845255905511806\n",
      "['CRIM', 'ZN', 'INDUS', 'CHAS', 'NOX', 'AGE', 'DIS', 'RAD', 'PTRATIO', 'B', 'LSTAT'] 31.020098425196846\n",
      "['CRIM', 'ZN', 'INDUS', 'CHAS', 'NOX', 'AGE', 'DIS', 'RAD', 'TAX', 'B', 'LSTAT'] 28.674999999999997\n",
      "['CRIM', 'ZN', 'INDUS', 'CHAS', 'NOX', 'AGE', 'DIS', 'RAD', 'TAX', 'PTRATIO', 'LSTAT'] 31.34362204724409\n",
      "['CRIM', 'ZN', 'INDUS', 'CHAS', 'NOX', 'AGE', 'DIS', 'RAD', 'TAX', 'PTRATIO', 'B'] 40.4898622047244\n",
      "['CRIM', 'ZN', 'INDUS', 'CHAS', 'NOX', 'AGE', 'DIS', 'RAD', 'TAX', 'PTRATIO', 'B', 'LSTAT'] 27.81856299212598\n",
      "['CRIM', 'ZN', 'INDUS', 'CHAS', 'NOX', 'RM', 'RAD', 'TAX', 'PTRATIO', 'B', 'LSTAT'] 24.72234251968503\n",
      "['CRIM', 'ZN', 'INDUS', 'CHAS', 'NOX', 'RM', 'DIS', 'TAX', 'PTRATIO', 'B', 'LSTAT'] 25.79667322834645\n",
      "['CRIM', 'ZN', 'INDUS', 'CHAS', 'NOX', 'RM', 'DIS', 'RAD', 'PTRATIO', 'B', 'LSTAT'] 26.690846456692906\n",
      "['CRIM', 'ZN', 'INDUS', 'CHAS', 'NOX', 'RM', 'DIS', 'RAD', 'TAX', 'B', 'LSTAT'] 27.69704724409448\n",
      "['CRIM', 'ZN', 'INDUS', 'CHAS', 'NOX', 'RM', 'DIS', 'RAD', 'TAX', 'PTRATIO', 'LSTAT'] 25.846141732283453\n",
      "['CRIM', 'ZN', 'INDUS', 'CHAS', 'NOX', 'RM', 'DIS', 'RAD', 'TAX', 'PTRATIO', 'B'] 33.12080708661417\n",
      "['CRIM', 'ZN', 'INDUS', 'CHAS', 'NOX', 'RM', 'DIS', 'RAD', 'TAX', 'PTRATIO', 'B', 'LSTAT'] 26.49769685039369\n",
      "['CRIM', 'ZN', 'INDUS', 'CHAS', 'NOX', 'RM', 'AGE', 'TAX', 'PTRATIO', 'B', 'LSTAT'] 23.76466535433071\n",
      "['CRIM', 'ZN', 'INDUS', 'CHAS', 'NOX', 'RM', 'AGE', 'RAD', 'PTRATIO', 'B', 'LSTAT'] 24.641338582677168\n",
      "['CRIM', 'ZN', 'INDUS', 'CHAS', 'NOX', 'RM', 'AGE', 'RAD', 'TAX', 'B', 'LSTAT'] 25.22783464566929\n",
      "['CRIM', 'ZN', 'INDUS', 'CHAS', 'NOX', 'RM', 'AGE', 'RAD', 'TAX', 'PTRATIO', 'LSTAT'] 30.915688976377947\n",
      "['CRIM', 'ZN', 'INDUS', 'CHAS', 'NOX', 'RM', 'AGE', 'RAD', 'TAX', 'PTRATIO', 'B'] 37.69635826771653\n",
      "['CRIM', 'ZN', 'INDUS', 'CHAS', 'NOX', 'RM', 'AGE', 'RAD', 'TAX', 'PTRATIO', 'B', 'LSTAT'] 24.111574803149608\n",
      "['CRIM', 'ZN', 'INDUS', 'CHAS', 'NOX', 'RM', 'AGE', 'DIS', 'PTRATIO', 'B', 'LSTAT'] 26.701555118110235\n",
      "['CRIM', 'ZN', 'INDUS', 'CHAS', 'NOX', 'RM', 'AGE', 'DIS', 'TAX', 'B', 'LSTAT'] 25.809173228346456\n",
      "['CRIM', 'ZN', 'INDUS', 'CHAS', 'NOX', 'RM', 'AGE', 'DIS', 'TAX', 'PTRATIO', 'LSTAT'] 26.60653543307086\n",
      "['CRIM', 'ZN', 'INDUS', 'CHAS', 'NOX', 'RM', 'AGE', 'DIS', 'TAX', 'PTRATIO', 'B'] 32.04785433070866\n",
      "['CRIM', 'ZN', 'INDUS', 'CHAS', 'NOX', 'RM', 'AGE', 'DIS', 'TAX', 'PTRATIO', 'B', 'LSTAT'] 26.07322834645669\n",
      "['CRIM', 'ZN', 'INDUS', 'CHAS', 'NOX', 'RM', 'AGE', 'DIS', 'RAD', 'B', 'LSTAT'] 27.106555118110233\n",
      "['CRIM', 'ZN', 'INDUS', 'CHAS', 'NOX', 'RM', 'AGE', 'DIS', 'RAD', 'PTRATIO', 'LSTAT'] 28.407125984251966\n",
      "['CRIM', 'ZN', 'INDUS', 'CHAS', 'NOX', 'RM', 'AGE', 'DIS', 'RAD', 'PTRATIO', 'B'] 32.743188976377944\n",
      "['CRIM', 'ZN', 'INDUS', 'CHAS', 'NOX', 'RM', 'AGE', 'DIS', 'RAD', 'PTRATIO', 'B', 'LSTAT'] 27.477421259842522\n",
      "['CRIM', 'ZN', 'INDUS', 'CHAS', 'NOX', 'RM', 'AGE', 'DIS', 'RAD', 'TAX', 'LSTAT'] 27.236811023622042\n",
      "['CRIM', 'ZN', 'INDUS', 'CHAS', 'NOX', 'RM', 'AGE', 'DIS', 'RAD', 'TAX', 'B'] 34.22885826771653\n",
      "['CRIM', 'ZN', 'INDUS', 'CHAS', 'NOX', 'RM', 'AGE', 'DIS', 'RAD', 'TAX', 'B', 'LSTAT'] 26.91062992125984\n",
      "['CRIM', 'ZN', 'INDUS', 'CHAS', 'NOX', 'RM', 'AGE', 'DIS', 'RAD', 'TAX', 'PTRATIO'] 35.671377952755904\n",
      "['CRIM', 'ZN', 'INDUS', 'CHAS', 'NOX', 'RM', 'AGE', 'DIS', 'RAD', 'TAX', 'PTRATIO', 'LSTAT'] 26.53413385826771\n",
      "['CRIM', 'ZN', 'INDUS', 'CHAS', 'NOX', 'RM', 'AGE', 'DIS', 'RAD', 'TAX', 'PTRATIO', 'B'] 32.91899606299212\n",
      "['CRIM', 'ZN', 'INDUS', 'CHAS', 'NOX', 'RM', 'AGE', 'DIS', 'RAD', 'TAX', 'PTRATIO', 'B', 'LSTAT'] 26.36383858267716\n"
     ]
    }
   ],
   "source": [
    "from sklearn.metrics import mean_squared_error\n",
    "from sklearn.linear_model import LinearRegression\n",
    "from sklearn.svm import SVR\n",
    "from sklearn.tree import DecisionTreeRegressor\n",
    "from sklearn.ensemble import VotingRegressor\n",
    "from sklearn.neighbors import KNeighborsRegressor\n",
    "from sklearn.model_selection import train_test_split\n",
    "from sklearn.preprocessing import StandardScaler\n",
    "from sklearn.metrics import mean_squared_error\n",
    "\n",
    "\n",
    "min_val = [26, []]\n",
    "def r_class(tmp, i):\n",
    "    global features\n",
    "    \n",
    "    if i == len(features):\n",
    "        if len(features) == 0:\n",
    "            return\n",
    "        if len(tmp) >= 11:\n",
    "            X = df[tmp]\n",
    "            y = df['MEDV']\n",
    "            \n",
    "            X_tn, X_te, y_tn, y_te=train_test_split(X, y, test_size=0.25, random_state=0)\n",
    "            \n",
    "            std_scale = StandardScaler()\n",
    "            std_scale.fit(X_tn)\n",
    "            X_tn_std = std_scale.transform(X_tn)\n",
    "            X_te_std = std_scale.transform(X_te)\n",
    "            \n",
    "            clf_knn = KNeighborsRegressor(n_neighbors=2)\n",
    "            clf_knn.fit(X_tn_std, y_tn)\n",
    "            knn_pred = clf_knn.predict(X_te_std)\n",
    "            \n",
    "            mse = mean_squared_error(y_te, knn_pred)\n",
    "            print(tmp, mse)\n",
    "            if mse < min_val[0]:\n",
    "                min_val[0] = mse\n",
    "                min_val[1] = tmp[:]\n",
    "        return\n",
    "    tmp_a = tmp[:]\n",
    "    tmp_b = tmp[:]\n",
    "    tmp_b.append(features[i])\n",
    "    r_class(tmp_a, i+1)\n",
    "    r_class(tmp_b, i+1)\n",
    "temp = []\n",
    "r_class(temp, 0)"
   ]
  },
  {
   "cell_type": "code",
   "execution_count": 48,
   "id": "1c707a3a-7292-44d8-a3fb-26a1a97667f3",
   "metadata": {},
   "outputs": [
    {
     "name": "stdout",
     "output_type": "stream",
     "text": [
      "[23.402145669291336, ['CRIM', 'ZN', 'CHAS', 'NOX', 'RM', 'AGE', 'RAD', 'TAX', 'PTRATIO', 'B', 'LSTAT']]\n"
     ]
    }
   ],
   "source": [
    "print(min_val)"
   ]
  },
  {
   "cell_type": "code",
   "execution_count": 71,
   "id": "c2a0c3d5-cdae-4501-851f-2fa65481fac4",
   "metadata": {},
   "outputs": [
    {
     "name": "stdout",
     "output_type": "stream",
     "text": [
      "at num = 2 : 21.67767805642961\n"
     ]
    }
   ],
   "source": [
    "features = ['CRIM', 'ZN', 'CHAS', 'NOX', 'RM', 'AGE', 'RAD', 'TAX', 'PTRATIO', 'B', 'LSTAT']\n",
    "X = df[features]\n",
    "y = df['MEDV']\n",
    "\n",
    "from sklearn.model_selection import train_test_split\n",
    "X_tn, X_te, y_tn, y_te=train_test_split(X, y, test_size=0.25, random_state=0)\n",
    "\n",
    "std_scale = StandardScaler()\n",
    "std_scale.fit(X_tn)\n",
    "X_tn_std = std_scale.transform(X_tn)\n",
    "X_te_std = std_scale.transform(X_te)\n",
    "\n",
    "\n",
    "min = 26\n",
    "min_val = []\n",
    "\n",
    "for num in range(1,10):\n",
    "    clf_knn = KNeighborsRegressor(n_neighbors=num, weights='distance',algorithm='ball_tree')\n",
    "    clf_knn.fit(X_tn_std, y_tn)\n",
    "    pred = clf_knn.predict(X_te_std)\n",
    "    if mean_squared_error(y_te, pred) < min:\n",
    "        min = mean_squared_error(y_te, pred)\n",
    "        min_val = [num]\n",
    "        print(f\"at num = {min_val[0]} : {min}\")"
   ]
  },
  {
   "cell_type": "code",
   "execution_count": 75,
   "id": "43c7110d-f0b5-44cc-a987-531b82d8902b",
   "metadata": {},
   "outputs": [
    {
     "name": "stdout",
     "output_type": "stream",
     "text": [
      "at num = 2 : 21.67767805642961\n"
     ]
    }
   ],
   "source": [
    "from sklearn.metrics import mean_squared_error\n",
    "from sklearn.linear_model import LinearRegression\n",
    "from sklearn.svm import SVR\n",
    "from sklearn.tree import DecisionTreeRegressor\n",
    "from sklearn.ensemble import VotingRegressor\n",
    "from sklearn.neighbors import KNeighborsRegressor\n",
    "from sklearn.model_selection import train_test_split\n",
    "from sklearn.preprocessing import StandardScaler\n",
    "from sklearn.metrics import mean_squared_error\n",
    "\n",
    "\n",
    "min_val = [26, []]\n",
    "def r_class(tmp, i):\n",
    "    global features, min_val\n",
    "    \n",
    "    if i == len(features):\n",
    "        if len(features) == 0:\n",
    "            return\n",
    "        if len(tmp) >= 11:\n",
    "            X = df[tmp]\n",
    "            y = df['MEDV']\n",
    "            \n",
    "            X_tn, X_te, y_tn, y_te=train_test_split(X, y, test_size=0.25, random_state=0)\n",
    "            \n",
    "            std_scale = StandardScaler()\n",
    "            std_scale.fit(X_tn)\n",
    "            X_tn_std = std_scale.transform(X_tn)\n",
    "            X_te_std = std_scale.transform(X_te)\n",
    "            \n",
    "            for num in range(1,10):\n",
    "                clf_knn = KNeighborsRegressor(n_neighbors=num, weights='distance',algorithm='ball_tree')\n",
    "                clf_knn.fit(X_tn_std, y_tn)\n",
    "                pred = clf_knn.predict(X_te_std)\n",
    "                mse = mean_squared_error(y_te, pred)\n",
    "                if mse < min_val[0]:\n",
    "                    min_val = [mean_squared_error(y_te, pred), num, tmp[:]]\n",
    "                    print(f\"at num = {min_val[1]} : {min_val[0]}\")\n",
    "            if mse < min_val[0]:\n",
    "                min_val[0] = mse\n",
    "                min_val[1] = tmp[:]\n",
    "        return\n",
    "    tmp_a = tmp[:]\n",
    "    tmp_b = tmp[:]\n",
    "    tmp_b.append(features[i])\n",
    "    r_class(tmp_a, i+1)\n",
    "    r_class(tmp_b, i+1)\n",
    "temp = []\n",
    "r_class(temp, 0)"
   ]
  },
  {
   "cell_type": "code",
   "execution_count": null,
   "id": "97dc7fa7-fd0b-4cab-8818-cb30bb66cf2d",
   "metadata": {},
   "outputs": [],
   "source": []
  },
  {
   "cell_type": "code",
   "execution_count": 70,
   "id": "1fad7447-9f1c-4458-96e4-f7da1a9fe424",
   "metadata": {},
   "outputs": [
    {
     "name": "stdout",
     "output_type": "stream",
     "text": [
      "['CRIM', 'ZN', 'CHAS', 'NOX', 'RM', 'AGE', 'RAD', 'TAX', 'PTRATIO', 'B', 'LSTAT'] 27.39479970434851\n"
     ]
    }
   ],
   "source": [
    "from sklearn.metrics import mean_squared_error\n",
    "from sklearn.linear_model import LinearRegression\n",
    "from sklearn.svm import SVR\n",
    "from sklearn.tree import DecisionTreeRegressor\n",
    "from sklearn.ensemble import VotingRegressor\n",
    "from sklearn.neighbors import KNeighborsRegressor\n",
    "from sklearn.model_selection import train_test_split\n",
    "from sklearn.preprocessing import StandardScaler\n",
    "from sklearn.metrics import mean_squared_error\n",
    "\n",
    "\n",
    "min_val = [26, []]\n",
    "def r_class(tmp, i):\n",
    "    global features\n",
    "    \n",
    "    if i == len(features):\n",
    "        if len(features) == 0:\n",
    "            return\n",
    "        if len(tmp) >= 11:\n",
    "            X = df[tmp]\n",
    "            y = df['MEDV']\n",
    "            \n",
    "            X_tn, X_te, y_tn, y_te=train_test_split(X, y, test_size=0.25, random_state=0)\n",
    "            \n",
    "            std_scale = StandardScaler()\n",
    "            std_scale.fit(X_tn)\n",
    "            X_tn_std = std_scale.transform(X_tn)\n",
    "            X_te_std = std_scale.transform(X_te)\n",
    "            \n",
    "            clf1 = LinearRegression()\n",
    "            clf2 = SVR(kernel='linear')\n",
    "            clf3 = DecisionTreeRegressor()\n",
    "            \n",
    "            clf_voting = VotingRegressor(\n",
    "                estimators=[\n",
    "                    ('lr', clf1),\n",
    "                    ('svm', clf2),\n",
    "                    ('tree', clf3)\n",
    "                ],\n",
    "                weights=[1,1,1])\n",
    "            clf_voting.fit(X_tn_std, y_tn)\n",
    "            knn_pred = clf_knn.predict(X_te_std)\n",
    "            \n",
    "            mse = mean_squared_error(y_te, knn_pred)\n",
    "            print(tmp, mse)\n",
    "            if mse < min_val[0]:\n",
    "                min_val[0] = mse\n",
    "                min_val[1] = tmp[:]\n",
    "        return\n",
    "    tmp_a = tmp[:]\n",
    "    tmp_b = tmp[:]\n",
    "    tmp_b.append(features[i])\n",
    "    r_class(tmp_a, i+1)\n",
    "    r_class(tmp_b, i+1)\n",
    "temp = []\n",
    "r_class(temp, 0)"
   ]
  },
  {
   "cell_type": "code",
   "execution_count": 50,
   "id": "f6a65e72-ec44-40a7-b890-030ed97dce8b",
   "metadata": {},
   "outputs": [
    {
     "name": "stdout",
     "output_type": "stream",
     "text": [
      "[24.531574803149603, ['ZN', 'CHAS', 'NOX', 'RM', 'AGE', 'DIS', 'RAD', 'TAX', 'PTRATIO', 'B', 'LSTAT']]\n"
     ]
    }
   ],
   "source": [
    "print(min_val)"
   ]
  },
  {
   "cell_type": "code",
   "execution_count": 18,
   "id": "d511e841-a98e-4849-8e54-198d8350e787",
   "metadata": {
    "scrolled": true
   },
   "outputs": [],
   "source": [
    "from sklearn.linear_model import ElasticNet\n",
    "from sklearn.metrics import mean_squared_error\n",
    "min = 26\n",
    "min_val = []\n",
    "for a in [0.001 * i for i in range(1,1000)]:\n",
    "    for r in  [0.01 * j for j in range(1,100)]:\n",
    "        clf_elastic = ElasticNet(alpha=a, l1_ratio=r)\n",
    "        clf_elastic.fit(X_tn_std, y_tn)\n",
    "        pred = clf_elastic.predict(X_te_std)\n",
    "        if mean_squared_error(y_te, pred) < min:\n",
    "            min = mean_squared_error(y_te, pred)\n",
    "            min_val = [a, r]\n",
    "            print(f\"at alpha = {min_val[0]}, l1_ratio = {min_val[1]} : {min}\")\n",
    "#print(f\"at alpha = {a}, l1_ratio = {r} : {mean_squared_error(y_te, pred)}\")"
   ]
  },
  {
   "cell_type": "code",
   "execution_count": null,
   "id": "47439424-fe52-45e8-b66b-c49084483d0c",
   "metadata": {},
   "outputs": [],
   "source": [
    "print(f\"at alpha = {min_val[0]}, l1_ratio = {min_val[1]} : {min}\")"
   ]
  },
  {
   "cell_type": "code",
   "execution_count": null,
   "id": "6605ef5b-ce10-4ec3-845a-32415419646d",
   "metadata": {},
   "outputs": [],
   "source": [
    "pred_elastic = clf_elastic.predict(X_te_std)"
   ]
  },
  {
   "cell_type": "code",
   "execution_count": null,
   "id": "700a5c5d-5624-410c-a7c8-73d0cb1a6978",
   "metadata": {},
   "outputs": [],
   "source": [
    "print(mean_squared_error(y_te, pred))"
   ]
  },
  {
   "cell_type": "code",
   "execution_count": null,
   "id": "7b80d9be-7395-4d49-a60f-d7e971f72376",
   "metadata": {},
   "outputs": [],
   "source": [
    "[0.001 * i for i in range(1000)]"
   ]
  },
  {
   "cell_type": "code",
   "execution_count": null,
   "id": "d406ca29-2c5e-4e0e-aad5-39d1dcaccf91",
   "metadata": {},
   "outputs": [],
   "source": []
  }
 ],
 "metadata": {
  "kernelspec": {
   "display_name": "Python 3 (ipykernel)",
   "language": "python",
   "name": "python3"
  },
  "language_info": {
   "codemirror_mode": {
    "name": "ipython",
    "version": 3
   },
   "file_extension": ".py",
   "mimetype": "text/x-python",
   "name": "python",
   "nbconvert_exporter": "python",
   "pygments_lexer": "ipython3",
   "version": "3.11.9"
  }
 },
 "nbformat": 4,
 "nbformat_minor": 5
}
