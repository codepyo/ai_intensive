{
 "cells": [
  {
   "cell_type": "code",
   "execution_count": 1,
   "id": "2fade7e2-0632-4a61-ba30-c18b9f021d19",
   "metadata": {},
   "outputs": [],
   "source": [
    "import numpy as np\n",
    "import pandas as pd"
   ]
  },
  {
   "cell_type": "code",
   "execution_count": 3,
   "id": "3344b6eb-fbf2-4091-bb90-c0500c4b4593",
   "metadata": {},
   "outputs": [],
   "source": [
    "df = pd.read_csv('../data/house_prices.csv')"
   ]
  },
  {
   "cell_type": "code",
   "execution_count": 4,
   "id": "9e8f56e6-5491-4a9b-b09f-c36e66fb628f",
   "metadata": {},
   "outputs": [
    {
     "name": "stdout",
     "output_type": "stream",
     "text": [
      "1226.1231702310001\n"
     ]
    }
   ],
   "source": [
    "crim = df['CRIM']\n",
    "nox = df['NOX']\n",
    "res = np.inner(crim, nox)\n",
    "print(res)"
   ]
  },
  {
   "cell_type": "code",
   "execution_count": 6,
   "id": "6be7332e-cbb9-47e0-b6a2-3fc210a5f9a9",
   "metadata": {},
   "outputs": [],
   "source": [
    "X = df[['CRIM', 'NOX', 'RM', 'AGE', 'TAX']]\n",
    "X_t = np.transpose(X)\n",
    "cov_x = X_t.dot(X)"
   ]
  },
  {
   "cell_type": "code",
   "execution_count": 7,
   "id": "ce0b82b6-1444-484d-ac35-474865f3f58f",
   "metadata": {},
   "outputs": [
    {
     "data": {
      "text/html": [
       "<div>\n",
       "<style scoped>\n",
       "    .dataframe tbody tr th:only-of-type {\n",
       "        vertical-align: middle;\n",
       "    }\n",
       "\n",
       "    .dataframe tbody tr th {\n",
       "        vertical-align: top;\n",
       "    }\n",
       "\n",
       "    .dataframe thead th {\n",
       "        text-align: right;\n",
       "    }\n",
       "</style>\n",
       "<table border=\"1\" class=\"dataframe\">\n",
       "  <thead>\n",
       "    <tr style=\"text-align: right;\">\n",
       "      <th></th>\n",
       "      <th>CRIM</th>\n",
       "      <th>NOX</th>\n",
       "      <th>RM</th>\n",
       "      <th>AGE</th>\n",
       "      <th>TAX</th>\n",
       "    </tr>\n",
       "  </thead>\n",
       "  <tbody>\n",
       "    <tr>\n",
       "      <th>CRIM</th>\n",
       "      <td>4.397034e+04</td>\n",
       "      <td>1226.123170</td>\n",
       "      <td>1.082195e+04</td>\n",
       "      <td>1.685150e+05</td>\n",
       "      <td>1.173073e+06</td>\n",
       "    </tr>\n",
       "    <tr>\n",
       "      <th>NOX</th>\n",
       "      <td>1.226123e+03</td>\n",
       "      <td>162.470380</td>\n",
       "      <td>1.751519e+03</td>\n",
       "      <td>2.045220e+04</td>\n",
       "      <td>1.211706e+05</td>\n",
       "    </tr>\n",
       "    <tr>\n",
       "      <th>RM</th>\n",
       "      <td>1.082195e+04</td>\n",
       "      <td>1751.519414</td>\n",
       "      <td>2.023460e+04</td>\n",
       "      <td>2.156702e+05</td>\n",
       "      <td>1.280740e+06</td>\n",
       "    </tr>\n",
       "    <tr>\n",
       "      <th>AGE</th>\n",
       "      <td>1.685150e+05</td>\n",
       "      <td>20452.201630</td>\n",
       "      <td>2.156702e+05</td>\n",
       "      <td>2.779615e+06</td>\n",
       "      <td>1.537874e+07</td>\n",
       "    </tr>\n",
       "    <tr>\n",
       "      <th>TAX</th>\n",
       "      <td>1.173073e+06</td>\n",
       "      <td>121170.623200</td>\n",
       "      <td>1.280740e+06</td>\n",
       "      <td>1.537874e+07</td>\n",
       "      <td>9.867314e+07</td>\n",
       "    </tr>\n",
       "  </tbody>\n",
       "</table>\n",
       "</div>"
      ],
      "text/plain": [
       "              CRIM            NOX            RM           AGE           TAX\n",
       "CRIM  4.397034e+04    1226.123170  1.082195e+04  1.685150e+05  1.173073e+06\n",
       "NOX   1.226123e+03     162.470380  1.751519e+03  2.045220e+04  1.211706e+05\n",
       "RM    1.082195e+04    1751.519414  2.023460e+04  2.156702e+05  1.280740e+06\n",
       "AGE   1.685150e+05   20452.201630  2.156702e+05  2.779615e+06  1.537874e+07\n",
       "TAX   1.173073e+06  121170.623200  1.280740e+06  1.537874e+07  9.867314e+07"
      ]
     },
     "execution_count": 7,
     "metadata": {},
     "output_type": "execute_result"
    }
   ],
   "source": [
    "cov_x"
   ]
  },
  {
   "cell_type": "code",
   "execution_count": 8,
   "id": "6a2ef2a1-992e-43f0-8e7e-cb3e69d05553",
   "metadata": {},
   "outputs": [],
   "source": [
    "e, v = np.linalg.eig(cov_x)"
   ]
  },
  {
   "cell_type": "code",
   "execution_count": 9,
   "id": "38266e2e-581e-4bbc-a6a4-db60e321eb85",
   "metadata": {},
   "outputs": [
    {
     "data": {
      "text/plain": [
       "array([1.01109837e+08, 3.74919516e+05, 2.99553705e+04, 2.40312204e+03,\n",
       "       2.90022330e+00])"
      ]
     },
     "execution_count": 9,
     "metadata": {},
     "output_type": "execute_result"
    }
   ],
   "source": [
    "e"
   ]
  },
  {
   "cell_type": "code",
   "execution_count": 10,
   "id": "54d64c58-c744-4b25-8d4f-295e42ef869a",
   "metadata": {},
   "outputs": [
    {
     "data": {
      "text/plain": [
       "array([[ 1.17248568e-02, -4.34541539e-02, -9.89273583e-01,\n",
       "         1.38967257e-01, -3.78876853e-04],\n",
       "       [ 1.21545113e-03,  3.97729110e-03,  5.48368537e-03,\n",
       "         3.74537281e-02, -9.99274663e-01],\n",
       "       [ 1.28461807e-02,  4.11504926e-02,  1.37240647e-01,\n",
       "         9.88869506e-01,  3.79962757e-02],\n",
       "       [ 1.54544362e-01,  9.86199762e-01, -4.66395497e-02,\n",
       "        -3.66695593e-02,  2.48287726e-03],\n",
       "       [ 9.87832003e-01, -1.54313263e-01,  1.72471505e-02,\n",
       "        -8.81831838e-03,  3.51466736e-04]])"
      ]
     },
     "execution_count": 10,
     "metadata": {},
     "output_type": "execute_result"
    }
   ],
   "source": [
    "v"
   ]
  },
  {
   "cell_type": "code",
   "execution_count": 13,
   "id": "9a471823-2c3a-44cd-ba17-0a2b07ab3dcc",
   "metadata": {},
   "outputs": [],
   "source": [
    "v_T = np.transpose(v)"
   ]
  },
  {
   "cell_type": "code",
   "execution_count": 14,
   "id": "13b5cbe9-5fcd-4414-87ac-4c986cfdd402",
   "metadata": {},
   "outputs": [
    {
     "data": {
      "text/plain": [
       "array([[ 1.01109837e+08, -1.25592525e-09, -2.02310183e-09,\n",
       "         7.42580584e-10, -1.81942141e-08],\n",
       "       [-2.72675835e-09,  3.74919516e+05,  1.91899897e-11,\n",
       "        -4.57094862e-11,  1.31811858e-09],\n",
       "       [-1.77840627e-09,  8.76833138e-12,  2.99553705e+04,\n",
       "        -4.93424741e-11,  2.22439152e-11],\n",
       "       [ 7.34772892e-10, -3.89910097e-11, -4.43062342e-11,\n",
       "         2.40312204e+03, -4.82423279e-11],\n",
       "       [-1.81896722e-08,  1.31867842e-09,  2.23209591e-11,\n",
       "        -4.81921207e-11,  2.90022330e+00]])"
      ]
     },
     "execution_count": 14,
     "metadata": {},
     "output_type": "execute_result"
    }
   ],
   "source": [
    "v_T.dot(cov_x).dot(v)"
   ]
  },
  {
   "cell_type": "code",
   "execution_count": 15,
   "id": "ac834798-a209-43be-a494-51d7cccd5d90",
   "metadata": {},
   "outputs": [],
   "source": [
    "u, s, vt = np.linalg.svd(cov_x)"
   ]
  },
  {
   "cell_type": "code",
   "execution_count": 16,
   "id": "90161316-f03c-4146-9d31-02af20ef6ec3",
   "metadata": {},
   "outputs": [
    {
     "data": {
      "text/plain": [
       "array([[-1.17248568e-02,  4.34541539e-02,  9.89273583e-01,\n",
       "        -1.38967257e-01, -3.78876853e-04],\n",
       "       [-1.21545113e-03, -3.97729110e-03, -5.48368537e-03,\n",
       "        -3.74537281e-02, -9.99274663e-01],\n",
       "       [-1.28461807e-02, -4.11504926e-02, -1.37240647e-01,\n",
       "        -9.88869506e-01,  3.79962757e-02],\n",
       "       [-1.54544362e-01, -9.86199762e-01,  4.66395497e-02,\n",
       "         3.66695593e-02,  2.48287726e-03],\n",
       "       [-9.87832003e-01,  1.54313263e-01, -1.72471505e-02,\n",
       "         8.81831838e-03,  3.51466736e-04]])"
      ]
     },
     "execution_count": 16,
     "metadata": {},
     "output_type": "execute_result"
    }
   ],
   "source": [
    "u"
   ]
  },
  {
   "cell_type": "code",
   "execution_count": 17,
   "id": "1265bb33-158b-4598-879d-333884167112",
   "metadata": {},
   "outputs": [
    {
     "data": {
      "text/plain": [
       "array([1.01109837e+08, 3.74919516e+05, 2.99553705e+04, 2.40312204e+03,\n",
       "       2.90022330e+00])"
      ]
     },
     "execution_count": 17,
     "metadata": {},
     "output_type": "execute_result"
    }
   ],
   "source": [
    "s"
   ]
  },
  {
   "cell_type": "code",
   "execution_count": 18,
   "id": "46bad628-aced-456c-84bf-3bd0019275ae",
   "metadata": {},
   "outputs": [
    {
     "data": {
      "text/plain": [
       "array([[-1.17248568e-02, -1.21545113e-03, -1.28461807e-02,\n",
       "        -1.54544362e-01, -9.87832003e-01],\n",
       "       [ 4.34541539e-02, -3.97729110e-03, -4.11504926e-02,\n",
       "        -9.86199762e-01,  1.54313263e-01],\n",
       "       [ 9.89273583e-01, -5.48368537e-03, -1.37240647e-01,\n",
       "         4.66395497e-02, -1.72471505e-02],\n",
       "       [-1.38967257e-01, -3.74537281e-02, -9.88869506e-01,\n",
       "         3.66695593e-02,  8.81831838e-03],\n",
       "       [-3.78876853e-04, -9.99274663e-01,  3.79962757e-02,\n",
       "         2.48287726e-03,  3.51466736e-04]])"
      ]
     },
     "execution_count": 18,
     "metadata": {},
     "output_type": "execute_result"
    }
   ],
   "source": [
    "vt"
   ]
  },
  {
   "cell_type": "code",
   "execution_count": null,
   "id": "5fb9d042-5784-4f7c-9230-9d34fec697c3",
   "metadata": {},
   "outputs": [],
   "source": []
  }
 ],
 "metadata": {
  "kernelspec": {
   "display_name": "Python 3 (ipykernel)",
   "language": "python",
   "name": "python3"
  },
  "language_info": {
   "codemirror_mode": {
    "name": "ipython",
    "version": 3
   },
   "file_extension": ".py",
   "mimetype": "text/x-python",
   "name": "python",
   "nbconvert_exporter": "python",
   "pygments_lexer": "ipython3",
   "version": "3.11.9"
  }
 },
 "nbformat": 4,
 "nbformat_minor": 5
}
