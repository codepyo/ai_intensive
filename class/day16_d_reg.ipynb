{
 "cells": [
  {
   "cell_type": "code",
   "execution_count": 1,
   "id": "5ecaa16b-031a-4f70-96ed-cd0fcac03171",
   "metadata": {},
   "outputs": [],
   "source": [
    "import pandas as pd\n",
    "import torch\n",
    "import torch.nn as nn\n",
    "import torch.optim as optim\n",
    "from torch.utils.data import TensorDataset, random_split, DataLoader"
   ]
  },
  {
   "cell_type": "code",
   "execution_count": 2,
   "id": "818c2fa9-0e14-4015-bf9c-6fb04152beb9",
   "metadata": {},
   "outputs": [],
   "source": [
    "device = 'cpu'\n",
    "if torch.cuda.is_available():\n",
    "    device = 'cuda'\n",
    "\n",
    "torch.manual_seed(777)\n",
    "if device == 'cuda':\n",
    "    torch.cuda.manual_seed_all(777)"
   ]
  },
  {
   "cell_type": "code",
   "execution_count": 7,
   "id": "26338825-2172-42b4-b858-64f034872ff1",
   "metadata": {},
   "outputs": [],
   "source": [
    "df = pd.read_csv('../data/house_prices.csv')"
   ]
  },
  {
   "cell_type": "code",
   "execution_count": 8,
   "id": "70d62aee-7ac7-42a1-bab4-338053394ee9",
   "metadata": {},
   "outputs": [],
   "source": [
    "X = df.iloc[:, :-1].values\n",
    "y = df.iloc[:,-1].values"
   ]
  },
  {
   "cell_type": "code",
   "execution_count": 9,
   "id": "cacf7031-dd5b-4b4a-a884-acc9949e389c",
   "metadata": {},
   "outputs": [],
   "source": [
    "X = torch.tensor(X, dtype=torch.float32).to(device)\n",
    "y = torch.tensor(y, dtype=torch.float32).to(device)"
   ]
  },
  {
   "cell_type": "code",
   "execution_count": 10,
   "id": "d9796102-48d3-4303-8473-cc25386b7b03",
   "metadata": {},
   "outputs": [],
   "source": [
    "dataset = TensorDataset(X, y)"
   ]
  },
  {
   "cell_type": "code",
   "execution_count": 11,
   "id": "96f4b400-3994-4a63-ae7b-b7fcd2dd2aa4",
   "metadata": {},
   "outputs": [],
   "source": [
    "n = len(dataset)\n",
    "ratio_tn = 0.8\n",
    "n_tn = int(n*ratio_tn)\n",
    "n_te = n-n_tn"
   ]
  },
  {
   "cell_type": "code",
   "execution_count": 12,
   "id": "23984729-5819-4e4e-9675-ad12e1dde22e",
   "metadata": {},
   "outputs": [
    {
     "name": "stdout",
     "output_type": "stream",
     "text": [
      "506 0.8 404 102\n"
     ]
    }
   ],
   "source": [
    "print(n, ratio_tn, n_tn, n_te)"
   ]
  },
  {
   "cell_type": "code",
   "execution_count": 13,
   "id": "3ad56bba-0e04-43e4-ab0b-185b7716aae3",
   "metadata": {},
   "outputs": [],
   "source": [
    "train_data, test_data = random_split(dataset, [n_tn, n_te])"
   ]
  },
  {
   "cell_type": "code",
   "execution_count": 14,
   "id": "9b586dcc-57dd-420c-bbef-99b03151e9e0",
   "metadata": {},
   "outputs": [
    {
     "name": "stdout",
     "output_type": "stream",
     "text": [
      "tensor([3.4940e-01, 0.0000e+00, 9.9000e+00, 0.0000e+00, 5.4400e-01, 5.9720e+00,\n",
      "        7.6700e+01, 3.1025e+00, 4.0000e+00, 3.0400e+02, 1.8400e+01, 3.9624e+02,\n",
      "        9.9700e+00]) tensor(20.3000)\n",
      "tensor([  3.5350,   0.0000,  19.5800,   1.0000,   0.8710,   6.1520,  82.6000,\n",
      "          1.7455,   5.0000, 403.0000,  14.7000,  88.0100,  15.0200]) tensor(15.6000)\n",
      "tensor([5.0830e-02, 0.0000e+00, 5.1900e+00, 0.0000e+00, 5.1500e-01, 6.3160e+00,\n",
      "        3.8100e+01, 6.4584e+00, 5.0000e+00, 2.2400e+02, 2.0200e+01, 3.8971e+02,\n",
      "        5.6800e+00]) tensor(22.2000)\n"
     ]
    }
   ],
   "source": [
    "for i in range(0,3):\n",
    "    feature, target = train_data[i]\n",
    "    print(feature, target)"
   ]
  },
  {
   "cell_type": "code",
   "execution_count": 15,
   "id": "38d0524d-d83b-48f4-9ac9-0f55fac99c8f",
   "metadata": {},
   "outputs": [],
   "source": [
    "batch_size = 15\n",
    "train_loader = DataLoader(train_data, batch_size=batch_size, shuffle=True)"
   ]
  },
  {
   "cell_type": "code",
   "execution_count": 16,
   "id": "2af02e3c-5964-4280-b91b-8cbf6617bd82",
   "metadata": {},
   "outputs": [
    {
     "name": "stdout",
     "output_type": "stream",
     "text": [
      "tensor([[2.4522e-01, 0.0000e+00, 9.9000e+00, 0.0000e+00, 5.4400e-01, 5.7820e+00,\n",
      "         7.1700e+01, 4.0317e+00, 4.0000e+00, 3.0400e+02, 1.8400e+01, 3.9690e+02,\n",
      "         1.5940e+01],\n",
      "        [3.7662e+01, 0.0000e+00, 1.8100e+01, 0.0000e+00, 6.7900e-01, 6.2020e+00,\n",
      "         7.8700e+01, 1.8629e+00, 2.4000e+01, 6.6600e+02, 2.0200e+01, 1.8820e+01,\n",
      "         1.4520e+01],\n",
      "        [1.8159e-01, 0.0000e+00, 7.3800e+00, 0.0000e+00, 4.9300e-01, 6.3760e+00,\n",
      "         5.4300e+01, 4.5404e+00, 5.0000e+00, 2.8700e+02, 1.9600e+01, 3.9690e+02,\n",
      "         6.8700e+00],\n",
      "        [1.5876e-01, 0.0000e+00, 1.0810e+01, 0.0000e+00, 4.1300e-01, 5.9610e+00,\n",
      "         1.7500e+01, 5.2873e+00, 4.0000e+00, 3.0500e+02, 1.9200e+01, 3.7694e+02,\n",
      "         9.8800e+00],\n",
      "        [2.7957e-01, 0.0000e+00, 9.6900e+00, 0.0000e+00, 5.8500e-01, 5.9260e+00,\n",
      "         4.2600e+01, 2.3817e+00, 6.0000e+00, 3.9100e+02, 1.9200e+01, 3.9690e+02,\n",
      "         1.3590e+01],\n",
      "        [2.2424e+00, 0.0000e+00, 1.9580e+01, 0.0000e+00, 6.0500e-01, 5.8540e+00,\n",
      "         9.1800e+01, 2.4220e+00, 5.0000e+00, 4.0300e+02, 1.4700e+01, 3.9511e+02,\n",
      "         1.1640e+01],\n",
      "        [4.4178e-01, 0.0000e+00, 6.2000e+00, 0.0000e+00, 5.0400e-01, 6.5520e+00,\n",
      "         2.1400e+01, 3.3751e+00, 8.0000e+00, 3.0700e+02, 1.7400e+01, 3.8034e+02,\n",
      "         3.7600e+00],\n",
      "        [1.7004e-01, 1.2500e+01, 7.8700e+00, 0.0000e+00, 5.2400e-01, 6.0040e+00,\n",
      "         8.5900e+01, 6.5921e+00, 5.0000e+00, 3.1100e+02, 1.5200e+01, 3.8671e+02,\n",
      "         1.7100e+01],\n",
      "        [1.7120e-01, 0.0000e+00, 8.5600e+00, 0.0000e+00, 5.2000e-01, 5.8360e+00,\n",
      "         9.1900e+01, 2.2110e+00, 5.0000e+00, 3.8400e+02, 2.0900e+01, 3.9567e+02,\n",
      "         1.8660e+01],\n",
      "        [3.5370e-02, 3.4000e+01, 6.0900e+00, 0.0000e+00, 4.3300e-01, 6.5900e+00,\n",
      "         4.0400e+01, 5.4917e+00, 7.0000e+00, 3.2900e+02, 1.6100e+01, 3.9575e+02,\n",
      "         9.5000e+00],\n",
      "        [3.9320e-02, 0.0000e+00, 3.4100e+00, 0.0000e+00, 4.8900e-01, 6.4050e+00,\n",
      "         7.3900e+01, 3.0921e+00, 2.0000e+00, 2.7000e+02, 1.7800e+01, 3.9355e+02,\n",
      "         8.2000e+00],\n",
      "        [4.1130e-02, 2.5000e+01, 4.8600e+00, 0.0000e+00, 4.2600e-01, 6.7270e+00,\n",
      "         3.3500e+01, 5.4007e+00, 4.0000e+00, 2.8100e+02, 1.9000e+01, 3.9690e+02,\n",
      "         5.2900e+00],\n",
      "        [5.6664e+00, 0.0000e+00, 1.8100e+01, 0.0000e+00, 7.4000e-01, 6.2190e+00,\n",
      "         1.0000e+02, 2.0048e+00, 2.4000e+01, 6.6600e+02, 2.0200e+01, 3.9569e+02,\n",
      "         1.6590e+01],\n",
      "        [1.1087e+01, 0.0000e+00, 1.8100e+01, 0.0000e+00, 7.1800e-01, 6.4110e+00,\n",
      "         1.0000e+02, 1.8589e+00, 2.4000e+01, 6.6600e+02, 2.0200e+01, 3.1875e+02,\n",
      "         1.5020e+01],\n",
      "        [3.0347e-01, 0.0000e+00, 7.3800e+00, 0.0000e+00, 4.9300e-01, 6.3120e+00,\n",
      "         2.8900e+01, 5.4159e+00, 5.0000e+00, 2.8700e+02, 1.9600e+01, 3.9690e+02,\n",
      "         6.1500e+00]])\n",
      "tensor([19.8000, 10.9000, 23.1000, 21.7000, 24.5000, 22.7000, 31.5000, 18.9000,\n",
      "        19.5000, 22.0000, 22.0000, 28.0000, 18.4000, 16.7000, 23.0000])\n",
      "\n",
      "tensor([[1.0233e+01, 0.0000e+00, 1.8100e+01, 0.0000e+00, 6.1400e-01, 6.1850e+00,\n",
      "         9.6700e+01, 2.1705e+00, 2.4000e+01, 6.6600e+02, 2.0200e+01, 3.7970e+02,\n",
      "         1.8030e+01],\n",
      "        [6.6549e+00, 0.0000e+00, 1.8100e+01, 0.0000e+00, 7.1300e-01, 6.3170e+00,\n",
      "         8.3000e+01, 2.7344e+00, 2.4000e+01, 6.6600e+02, 2.0200e+01, 3.9690e+02,\n",
      "         1.3990e+01],\n",
      "        [1.0328e-01, 2.5000e+01, 5.1300e+00, 0.0000e+00, 4.5300e-01, 5.9270e+00,\n",
      "         4.7200e+01, 6.9320e+00, 8.0000e+00, 2.8400e+02, 1.9700e+01, 3.9690e+02,\n",
      "         9.2200e+00],\n",
      "        [1.1812e+01, 0.0000e+00, 1.8100e+01, 0.0000e+00, 7.1800e-01, 6.8240e+00,\n",
      "         7.6500e+01, 1.7940e+00, 2.4000e+01, 6.6600e+02, 2.0200e+01, 4.8450e+01,\n",
      "         2.2740e+01],\n",
      "        [1.5177e+01, 0.0000e+00, 1.8100e+01, 0.0000e+00, 7.4000e-01, 6.1520e+00,\n",
      "         1.0000e+02, 1.9142e+00, 2.4000e+01, 6.6600e+02, 2.0200e+01, 9.3200e+00,\n",
      "         2.6450e+01],\n",
      "        [7.0504e+00, 0.0000e+00, 1.8100e+01, 0.0000e+00, 6.1400e-01, 6.1030e+00,\n",
      "         8.5100e+01, 2.0218e+00, 2.4000e+01, 6.6600e+02, 2.0200e+01, 2.5200e+00,\n",
      "         2.3290e+01],\n",
      "        [3.5100e-02, 9.5000e+01, 2.6800e+00, 0.0000e+00, 4.1610e-01, 7.8530e+00,\n",
      "         3.3200e+01, 5.1180e+00, 4.0000e+00, 2.2400e+02, 1.4700e+01, 3.9278e+02,\n",
      "         3.8100e+00],\n",
      "        [5.9005e-01, 0.0000e+00, 2.1890e+01, 0.0000e+00, 6.2400e-01, 6.3720e+00,\n",
      "         9.7900e+01, 2.3274e+00, 4.0000e+00, 4.3700e+02, 2.1200e+01, 3.8576e+02,\n",
      "         1.1120e+01],\n",
      "        [3.3147e-01, 0.0000e+00, 6.2000e+00, 0.0000e+00, 5.0700e-01, 8.2470e+00,\n",
      "         7.0400e+01, 3.6519e+00, 8.0000e+00, 3.0700e+02, 1.7400e+01, 3.7895e+02,\n",
      "         3.9500e+00],\n",
      "        [1.3522e+01, 0.0000e+00, 1.8100e+01, 0.0000e+00, 6.3100e-01, 3.8630e+00,\n",
      "         1.0000e+02, 1.5106e+00, 2.4000e+01, 6.6600e+02, 2.0200e+01, 1.3142e+02,\n",
      "         1.3330e+01],\n",
      "        [1.4051e+01, 0.0000e+00, 1.8100e+01, 0.0000e+00, 5.9700e-01, 6.6570e+00,\n",
      "         1.0000e+02, 1.5275e+00, 2.4000e+01, 6.6600e+02, 2.0200e+01, 3.5050e+01,\n",
      "         2.1220e+01],\n",
      "        [7.8393e+00, 0.0000e+00, 1.8100e+01, 0.0000e+00, 6.5500e-01, 6.2090e+00,\n",
      "         6.5400e+01, 2.9634e+00, 2.4000e+01, 6.6600e+02, 2.0200e+01, 3.9690e+02,\n",
      "         1.3220e+01],\n",
      "        [9.5957e+00, 0.0000e+00, 1.8100e+01, 0.0000e+00, 6.9300e-01, 6.4040e+00,\n",
      "         1.0000e+02, 1.6390e+00, 2.4000e+01, 6.6600e+02, 2.0200e+01, 3.7611e+02,\n",
      "         2.0310e+01],\n",
      "        [6.6640e-02, 0.0000e+00, 4.0500e+00, 0.0000e+00, 5.1000e-01, 6.5460e+00,\n",
      "         3.3100e+01, 3.1323e+00, 5.0000e+00, 2.9600e+02, 1.6600e+01, 3.9096e+02,\n",
      "         5.3300e+00],\n",
      "        [6.1620e-02, 0.0000e+00, 4.3900e+00, 0.0000e+00, 4.4200e-01, 5.8980e+00,\n",
      "         5.2300e+01, 8.0136e+00, 3.0000e+00, 3.5200e+02, 1.8800e+01, 3.6461e+02,\n",
      "         1.2670e+01]])\n",
      "tensor([14.6000, 19.5000, 19.6000,  8.4000,  8.7000, 13.4000, 48.5000, 23.0000,\n",
      "        48.3000, 23.1000, 17.2000, 21.4000, 12.1000, 29.4000, 17.2000])\n",
      "\n"
     ]
    }
   ],
   "source": [
    "batch_count = 0\n",
    "for batch in train_loader:\n",
    "    features, labels = batch\n",
    "    print(features)\n",
    "    print(labels)\n",
    "    print()\n",
    "\n",
    "    batch_count += 1\n",
    "    if batch_count >= 2:\n",
    "        break"
   ]
  },
  {
   "cell_type": "code",
   "execution_count": 17,
   "id": "8e879f6a-68cc-4989-b7ab-fc8d6f11db3d",
   "metadata": {},
   "outputs": [
    {
     "name": "stdout",
     "output_type": "stream",
     "text": [
      "13\n"
     ]
    }
   ],
   "source": [
    "learning_rate = 0.01\n",
    "epochs = 1000\n",
    "n_feature = len(train_data[0][0])\n",
    "print(n_feature)"
   ]
  },
  {
   "cell_type": "code",
   "execution_count": 18,
   "id": "1ca785d8-1b2e-4508-b8a6-2331ffb8b913",
   "metadata": {},
   "outputs": [],
   "source": [
    "class Regressor(nn.Module):\n",
    "    def __init__(self, n_feature):\n",
    "        super(Regressor, self).__init__()\n",
    "        self.fc1 = nn.Linear(n_feature, 30)\n",
    "        self.bn1 = torch.nn.BatchNorm1d(30)\n",
    "        self.relu = nn.ReLU()\n",
    "        self.dropout = torch.nn.Dropout(p=0.3)\n",
    "        self.fc2 = nn.Linear(30,1)\n",
    "\n",
    "    def forward(self, x):\n",
    "        x = self.fc1(x)\n",
    "        x = self.bn1(x)\n",
    "        x = self.relu(x)\n",
    "        x = self.dropout(x)\n",
    "        x = self.fc2(x)\n",
    "        return x"
   ]
  },
  {
   "cell_type": "code",
   "execution_count": 19,
   "id": "c2da464b-c5fe-46e3-9e5a-cebc676eb64a",
   "metadata": {},
   "outputs": [],
   "source": [
    "model = Regressor(n_feature).to(device)"
   ]
  },
  {
   "cell_type": "code",
   "execution_count": 20,
   "id": "41f18921-74f0-426b-9d86-790e71d86efe",
   "metadata": {},
   "outputs": [],
   "source": [
    "criterion = nn.MSELoss().to(device)\n",
    "optimizer = optim.SGD(model.parameters(), lr=learning_rate)"
   ]
  },
  {
   "cell_type": "code",
   "execution_count": 21,
   "id": "a4d4a2bc-2403-4830-85e7-340d82691c8f",
   "metadata": {},
   "outputs": [
    {
     "name": "stdout",
     "output_type": "stream",
     "text": [
      "Epoch [100/1000], Cost: 52.9485\n",
      "Epoch [200/1000], Cost: 48.7761\n",
      "Epoch [300/1000], Cost: 49.8581\n",
      "Epoch [400/1000], Cost: 38.2578\n",
      "Epoch [500/1000], Cost: 35.5709\n",
      "Epoch [600/1000], Cost: 32.1672\n",
      "Epoch [700/1000], Cost: 35.0153\n",
      "Epoch [800/1000], Cost: 35.2325\n",
      "Epoch [900/1000], Cost: 34.0542\n",
      "Epoch [1000/1000], Cost: 27.6219\n"
     ]
    }
   ],
   "source": [
    "total_batch = len(train_loader)\n",
    "model.train()\n",
    "for epoch in range(epochs):\n",
    "    avg_cost = 0\n",
    "    for X_tn, y_tn in train_loader:\n",
    "        X_tn = X_tn.to(device)\n",
    "        y_tn = y_tn.to(device)\n",
    "\n",
    "        optimizer.zero_grad()\n",
    "        y_hat = model.forward(X_tn)\n",
    "        y_hat = y_hat.squeeze()\n",
    "        cost = criterion(y_hat, y_tn)\n",
    "        cost.backward()\n",
    "        optimizer.step()\n",
    "    \n",
    "        avg_cost += cost/total_batch\n",
    "\n",
    "    if (epoch+1) % 100 == 0:\n",
    "        print('Epoch [%d/%d], Cost: %.4f' % (epoch+1, epochs, avg_cost))"
   ]
  },
  {
   "cell_type": "code",
   "execution_count": 22,
   "id": "5080fb58-c72a-4b2e-ad45-52bf411c0174",
   "metadata": {},
   "outputs": [],
   "source": [
    "X_te = []\n",
    "y_te = []\n",
    "for row in test_data:\n",
    "    feature, target = row\n",
    "    X_te.append(feature)\n",
    "    y_te.append(target)"
   ]
  },
  {
   "cell_type": "code",
   "execution_count": 23,
   "id": "77d0c3db-cdee-4de2-bf9a-8259351cad7e",
   "metadata": {},
   "outputs": [],
   "source": [
    "X_te = torch.stack(X_te)\n",
    "y_te = torch.stack(y_te)"
   ]
  },
  {
   "cell_type": "code",
   "execution_count": 25,
   "id": "cfb86c3c-4767-4ef2-a45e-84ca77791a51",
   "metadata": {},
   "outputs": [
    {
     "name": "stdout",
     "output_type": "stream",
     "text": [
      "MSE: 15.024499893188477\n"
     ]
    }
   ],
   "source": [
    "with torch.no_grad():\n",
    "    model.eval()\n",
    "    prediction = model.forward(X_te)\n",
    "    prediction = prediction.squeeze()\n",
    "    mse = criterion(prediction, y_te)\n",
    "    print('MSE:', mse.item())"
   ]
  },
  {
   "cell_type": "code",
   "execution_count": 26,
   "id": "4da894ab-df85-4e5a-af93-90875308faf2",
   "metadata": {},
   "outputs": [],
   "source": [
    "PATH = '../house.pt'\n",
    "torch.save(model.state_dict(), PATH)"
   ]
  },
  {
   "cell_type": "code",
   "execution_count": 27,
   "id": "cb2a5786-bb0f-43c8-94f5-8b08014359d8",
   "metadata": {},
   "outputs": [
    {
     "data": {
      "text/plain": [
       "torch.Size([102, 13])"
      ]
     },
     "execution_count": 27,
     "metadata": {},
     "output_type": "execute_result"
    }
   ],
   "source": [
    "X_te.shape"
   ]
  },
  {
   "cell_type": "code",
   "execution_count": 34,
   "id": "ae89a920-a48d-4a01-bbb1-a7d544618970",
   "metadata": {},
   "outputs": [
    {
     "data": {
      "text/plain": [
       "<All keys matched successfully>"
      ]
     },
     "execution_count": 34,
     "metadata": {},
     "output_type": "execute_result"
    }
   ],
   "source": [
    "loaded_model = Regressor(n_feature).to(device)\n",
    "loaded_model.load_state_dict(torch.load(PATH))"
   ]
  },
  {
   "cell_type": "code",
   "execution_count": 35,
   "id": "71db582d-19b5-44f2-9dc2-5485b6448337",
   "metadata": {},
   "outputs": [
    {
     "name": "stdout",
     "output_type": "stream",
     "text": [
      "MSE: 15.024499893188477\n"
     ]
    }
   ],
   "source": [
    "with torch.no_grad():\n",
    "    loaded_model.eval()\n",
    "    prediction = loaded_model.forward(X_te)\n",
    "    prediction = prediction.squeeze()\n",
    "    mse = criterion(prediction, y_te)\n",
    "    print('MSE:', mse.item())"
   ]
  },
  {
   "cell_type": "code",
   "execution_count": null,
   "id": "7cbbcbcb-4999-4da6-984b-bc81ae58e7dd",
   "metadata": {},
   "outputs": [],
   "source": []
  }
 ],
 "metadata": {
  "kernelspec": {
   "display_name": "Python 3 (ipykernel)",
   "language": "python",
   "name": "python3"
  },
  "language_info": {
   "codemirror_mode": {
    "name": "ipython",
    "version": 3
   },
   "file_extension": ".py",
   "mimetype": "text/x-python",
   "name": "python",
   "nbconvert_exporter": "python",
   "pygments_lexer": "ipython3",
   "version": "3.11.9"
  }
 },
 "nbformat": 4,
 "nbformat_minor": 5
}
