{
 "cells": [
  {
   "cell_type": "code",
   "execution_count": 22,
   "id": "b3e5faa9-b6f0-459f-adea-ed2f7a7cc3c4",
   "metadata": {},
   "outputs": [],
   "source": [
    "import numpy as np\n",
    "import pandas as pd\n",
    "import statsmodels\n",
    "from statsmodels.regression import linear_model\n",
    "from statsmodels.tsa.arima.model import ARIMA\n",
    "from arch import arch_model"
   ]
  },
  {
   "cell_type": "code",
   "execution_count": 23,
   "id": "fbb42d2f-f0a0-4284-9319-bd5302d476eb",
   "metadata": {},
   "outputs": [
    {
     "data": {
      "text/html": [
       "<div>\n",
       "<style scoped>\n",
       "    .dataframe tbody tr th:only-of-type {\n",
       "        vertical-align: middle;\n",
       "    }\n",
       "\n",
       "    .dataframe tbody tr th {\n",
       "        vertical-align: top;\n",
       "    }\n",
       "\n",
       "    .dataframe thead th {\n",
       "        text-align: right;\n",
       "    }\n",
       "</style>\n",
       "<table border=\"1\" class=\"dataframe\">\n",
       "  <thead>\n",
       "    <tr style=\"text-align: right;\">\n",
       "      <th></th>\n",
       "      <th>Date</th>\n",
       "      <th>Time</th>\n",
       "      <th>CO</th>\n",
       "      <th>PT08_S1</th>\n",
       "      <th>NMHC</th>\n",
       "      <th>C6H6</th>\n",
       "      <th>PT08_S2</th>\n",
       "      <th>NOx</th>\n",
       "      <th>PT08_S3</th>\n",
       "      <th>NO2</th>\n",
       "      <th>PT08_S4</th>\n",
       "      <th>PT08_S5</th>\n",
       "      <th>T</th>\n",
       "      <th>RH</th>\n",
       "      <th>AH</th>\n",
       "    </tr>\n",
       "  </thead>\n",
       "  <tbody>\n",
       "    <tr>\n",
       "      <th>0</th>\n",
       "      <td>2005-02-16</td>\n",
       "      <td>17:00:00</td>\n",
       "      <td>1.6</td>\n",
       "      <td>1083</td>\n",
       "      <td>-200</td>\n",
       "      <td>7.0</td>\n",
       "      <td>856</td>\n",
       "      <td>252</td>\n",
       "      <td>720</td>\n",
       "      <td>148</td>\n",
       "      <td>1010</td>\n",
       "      <td>975</td>\n",
       "      <td>8.2</td>\n",
       "      <td>41.8</td>\n",
       "      <td>0.4563</td>\n",
       "    </tr>\n",
       "    <tr>\n",
       "      <th>1</th>\n",
       "      <td>2005-02-16</td>\n",
       "      <td>18:00:00</td>\n",
       "      <td>2.2</td>\n",
       "      <td>1143</td>\n",
       "      <td>-200</td>\n",
       "      <td>9.5</td>\n",
       "      <td>960</td>\n",
       "      <td>313</td>\n",
       "      <td>641</td>\n",
       "      <td>153</td>\n",
       "      <td>1110</td>\n",
       "      <td>1136</td>\n",
       "      <td>7.4</td>\n",
       "      <td>44.5</td>\n",
       "      <td>0.4582</td>\n",
       "    </tr>\n",
       "    <tr>\n",
       "      <th>2</th>\n",
       "      <td>2005-02-16</td>\n",
       "      <td>19:00:00</td>\n",
       "      <td>3.4</td>\n",
       "      <td>1288</td>\n",
       "      <td>-200</td>\n",
       "      <td>15.9</td>\n",
       "      <td>1178</td>\n",
       "      <td>433</td>\n",
       "      <td>539</td>\n",
       "      <td>171</td>\n",
       "      <td>1300</td>\n",
       "      <td>1434</td>\n",
       "      <td>7.0</td>\n",
       "      <td>43.4</td>\n",
       "      <td>0.4366</td>\n",
       "    </tr>\n",
       "  </tbody>\n",
       "</table>\n",
       "</div>"
      ],
      "text/plain": [
       "         Date      Time   CO  PT08_S1  NMHC  C6H6  PT08_S2  NOx  PT08_S3  NO2  \\\n",
       "0  2005-02-16  17:00:00  1.6     1083  -200   7.0      856  252      720  148   \n",
       "1  2005-02-16  18:00:00  2.2     1143  -200   9.5      960  313      641  153   \n",
       "2  2005-02-16  19:00:00  3.4     1288  -200  15.9     1178  433      539  171   \n",
       "\n",
       "   PT08_S4  PT08_S5    T    RH      AH  \n",
       "0     1010      975  8.2  41.8  0.4563  \n",
       "1     1110     1136  7.4  44.5  0.4582  \n",
       "2     1300     1434  7.0  43.4  0.4366  "
      ]
     },
     "execution_count": 23,
     "metadata": {},
     "output_type": "execute_result"
    }
   ],
   "source": [
    "df = pd.read_csv('../data/air_quality_uci.csv', encoding='cp949')\n",
    "df.head(3)"
   ]
  },
  {
   "cell_type": "code",
   "execution_count": 24,
   "id": "bd464c1d-e334-4437-bb4c-6479d14c1796",
   "metadata": {},
   "outputs": [
    {
     "data": {
      "text/plain": [
       "(1000, 15)"
      ]
     },
     "execution_count": 24,
     "metadata": {},
     "output_type": "execute_result"
    }
   ],
   "source": [
    "df.shape"
   ]
  },
  {
   "cell_type": "code",
   "execution_count": 25,
   "id": "71face70-764a-4c24-8e9c-1a90ea8c8544",
   "metadata": {},
   "outputs": [
    {
     "data": {
      "text/html": [
       "<div>\n",
       "<style scoped>\n",
       "    .dataframe tbody tr th:only-of-type {\n",
       "        vertical-align: middle;\n",
       "    }\n",
       "\n",
       "    .dataframe tbody tr th {\n",
       "        vertical-align: top;\n",
       "    }\n",
       "\n",
       "    .dataframe thead th {\n",
       "        text-align: right;\n",
       "    }\n",
       "</style>\n",
       "<table border=\"1\" class=\"dataframe\">\n",
       "  <thead>\n",
       "    <tr style=\"text-align: right;\">\n",
       "      <th></th>\n",
       "      <th>Date</th>\n",
       "      <th>Time</th>\n",
       "      <th>CO</th>\n",
       "      <th>PT08_S1</th>\n",
       "      <th>NMHC</th>\n",
       "      <th>C6H6</th>\n",
       "      <th>PT08_S2</th>\n",
       "      <th>NOx</th>\n",
       "      <th>PT08_S3</th>\n",
       "      <th>NO2</th>\n",
       "      <th>PT08_S4</th>\n",
       "      <th>PT08_S5</th>\n",
       "      <th>T</th>\n",
       "      <th>RH</th>\n",
       "      <th>AH</th>\n",
       "      <th>DateTime</th>\n",
       "    </tr>\n",
       "  </thead>\n",
       "  <tbody>\n",
       "    <tr>\n",
       "      <th>0</th>\n",
       "      <td>2005-02-16</td>\n",
       "      <td>17:00:00</td>\n",
       "      <td>1.6</td>\n",
       "      <td>1083</td>\n",
       "      <td>-200</td>\n",
       "      <td>7.0</td>\n",
       "      <td>856</td>\n",
       "      <td>252</td>\n",
       "      <td>720</td>\n",
       "      <td>148</td>\n",
       "      <td>1010</td>\n",
       "      <td>975</td>\n",
       "      <td>8.2</td>\n",
       "      <td>41.8</td>\n",
       "      <td>0.4563</td>\n",
       "      <td>2005-02-16 17:00:00</td>\n",
       "    </tr>\n",
       "    <tr>\n",
       "      <th>1</th>\n",
       "      <td>2005-02-16</td>\n",
       "      <td>18:00:00</td>\n",
       "      <td>2.2</td>\n",
       "      <td>1143</td>\n",
       "      <td>-200</td>\n",
       "      <td>9.5</td>\n",
       "      <td>960</td>\n",
       "      <td>313</td>\n",
       "      <td>641</td>\n",
       "      <td>153</td>\n",
       "      <td>1110</td>\n",
       "      <td>1136</td>\n",
       "      <td>7.4</td>\n",
       "      <td>44.5</td>\n",
       "      <td>0.4582</td>\n",
       "      <td>2005-02-16 18:00:00</td>\n",
       "    </tr>\n",
       "    <tr>\n",
       "      <th>2</th>\n",
       "      <td>2005-02-16</td>\n",
       "      <td>19:00:00</td>\n",
       "      <td>3.4</td>\n",
       "      <td>1288</td>\n",
       "      <td>-200</td>\n",
       "      <td>15.9</td>\n",
       "      <td>1178</td>\n",
       "      <td>433</td>\n",
       "      <td>539</td>\n",
       "      <td>171</td>\n",
       "      <td>1300</td>\n",
       "      <td>1434</td>\n",
       "      <td>7.0</td>\n",
       "      <td>43.4</td>\n",
       "      <td>0.4366</td>\n",
       "      <td>2005-02-16 19:00:00</td>\n",
       "    </tr>\n",
       "  </tbody>\n",
       "</table>\n",
       "</div>"
      ],
      "text/plain": [
       "         Date      Time   CO  PT08_S1  NMHC  C6H6  PT08_S2  NOx  PT08_S3  NO2  \\\n",
       "0  2005-02-16  17:00:00  1.6     1083  -200   7.0      856  252      720  148   \n",
       "1  2005-02-16  18:00:00  2.2     1143  -200   9.5      960  313      641  153   \n",
       "2  2005-02-16  19:00:00  3.4     1288  -200  15.9     1178  433      539  171   \n",
       "\n",
       "   PT08_S4  PT08_S5    T    RH      AH             DateTime  \n",
       "0     1010      975  8.2  41.8  0.4563  2005-02-16 17:00:00  \n",
       "1     1110     1136  7.4  44.5  0.4582  2005-02-16 18:00:00  \n",
       "2     1300     1434  7.0  43.4  0.4366  2005-02-16 19:00:00  "
      ]
     },
     "execution_count": 25,
     "metadata": {},
     "output_type": "execute_result"
    }
   ],
   "source": [
    "df['DateTime'] = df['Date'] + ' ' + df['Time']\n",
    "df.head(3)"
   ]
  },
  {
   "cell_type": "code",
   "execution_count": 26,
   "id": "d576d373-b15c-4d5f-9ca3-4c4e250dac8f",
   "metadata": {},
   "outputs": [
    {
     "data": {
      "text/plain": [
       "'2005-02-16 20:00:00'"
      ]
     },
     "execution_count": 26,
     "metadata": {},
     "output_type": "execute_result"
    }
   ],
   "source": [
    "df['DateTime'][3]"
   ]
  },
  {
   "cell_type": "code",
   "execution_count": 27,
   "id": "ede61ba0-c260-44df-9564-7d959ffc2e8d",
   "metadata": {},
   "outputs": [
    {
     "data": {
      "text/plain": [
       "str"
      ]
     },
     "execution_count": 27,
     "metadata": {},
     "output_type": "execute_result"
    }
   ],
   "source": [
    "type(df['DateTime'][3])"
   ]
  },
  {
   "cell_type": "code",
   "execution_count": 28,
   "id": "f1cc37ab-02f8-4039-925b-4f19df6aad83",
   "metadata": {},
   "outputs": [
    {
     "data": {
      "text/html": [
       "<div>\n",
       "<style scoped>\n",
       "    .dataframe tbody tr th:only-of-type {\n",
       "        vertical-align: middle;\n",
       "    }\n",
       "\n",
       "    .dataframe tbody tr th {\n",
       "        vertical-align: top;\n",
       "    }\n",
       "\n",
       "    .dataframe thead th {\n",
       "        text-align: right;\n",
       "    }\n",
       "</style>\n",
       "<table border=\"1\" class=\"dataframe\">\n",
       "  <thead>\n",
       "    <tr style=\"text-align: right;\">\n",
       "      <th></th>\n",
       "      <th>Date</th>\n",
       "      <th>Time</th>\n",
       "      <th>CO</th>\n",
       "      <th>PT08_S1</th>\n",
       "      <th>NMHC</th>\n",
       "      <th>C6H6</th>\n",
       "      <th>PT08_S2</th>\n",
       "      <th>NOx</th>\n",
       "      <th>PT08_S3</th>\n",
       "      <th>NO2</th>\n",
       "      <th>PT08_S4</th>\n",
       "      <th>PT08_S5</th>\n",
       "      <th>T</th>\n",
       "      <th>RH</th>\n",
       "      <th>AH</th>\n",
       "      <th>DateTime</th>\n",
       "      <th>DateTimeIndex</th>\n",
       "    </tr>\n",
       "  </thead>\n",
       "  <tbody>\n",
       "    <tr>\n",
       "      <th>0</th>\n",
       "      <td>2005-02-16</td>\n",
       "      <td>17:00:00</td>\n",
       "      <td>1.6</td>\n",
       "      <td>1083</td>\n",
       "      <td>-200</td>\n",
       "      <td>7.0</td>\n",
       "      <td>856</td>\n",
       "      <td>252</td>\n",
       "      <td>720</td>\n",
       "      <td>148</td>\n",
       "      <td>1010</td>\n",
       "      <td>975</td>\n",
       "      <td>8.2</td>\n",
       "      <td>41.8</td>\n",
       "      <td>0.4563</td>\n",
       "      <td>2005-02-16 17:00:00</td>\n",
       "      <td>2005-02-16 17:00:00</td>\n",
       "    </tr>\n",
       "    <tr>\n",
       "      <th>1</th>\n",
       "      <td>2005-02-16</td>\n",
       "      <td>18:00:00</td>\n",
       "      <td>2.2</td>\n",
       "      <td>1143</td>\n",
       "      <td>-200</td>\n",
       "      <td>9.5</td>\n",
       "      <td>960</td>\n",
       "      <td>313</td>\n",
       "      <td>641</td>\n",
       "      <td>153</td>\n",
       "      <td>1110</td>\n",
       "      <td>1136</td>\n",
       "      <td>7.4</td>\n",
       "      <td>44.5</td>\n",
       "      <td>0.4582</td>\n",
       "      <td>2005-02-16 18:00:00</td>\n",
       "      <td>2005-02-16 18:00:00</td>\n",
       "    </tr>\n",
       "    <tr>\n",
       "      <th>2</th>\n",
       "      <td>2005-02-16</td>\n",
       "      <td>19:00:00</td>\n",
       "      <td>3.4</td>\n",
       "      <td>1288</td>\n",
       "      <td>-200</td>\n",
       "      <td>15.9</td>\n",
       "      <td>1178</td>\n",
       "      <td>433</td>\n",
       "      <td>539</td>\n",
       "      <td>171</td>\n",
       "      <td>1300</td>\n",
       "      <td>1434</td>\n",
       "      <td>7.0</td>\n",
       "      <td>43.4</td>\n",
       "      <td>0.4366</td>\n",
       "      <td>2005-02-16 19:00:00</td>\n",
       "      <td>2005-02-16 19:00:00</td>\n",
       "    </tr>\n",
       "  </tbody>\n",
       "</table>\n",
       "</div>"
      ],
      "text/plain": [
       "         Date      Time   CO  PT08_S1  NMHC  C6H6  PT08_S2  NOx  PT08_S3  NO2  \\\n",
       "0  2005-02-16  17:00:00  1.6     1083  -200   7.0      856  252      720  148   \n",
       "1  2005-02-16  18:00:00  2.2     1143  -200   9.5      960  313      641  153   \n",
       "2  2005-02-16  19:00:00  3.4     1288  -200  15.9     1178  433      539  171   \n",
       "\n",
       "   PT08_S4  PT08_S5    T    RH      AH             DateTime  \\\n",
       "0     1010      975  8.2  41.8  0.4563  2005-02-16 17:00:00   \n",
       "1     1110     1136  7.4  44.5  0.4582  2005-02-16 18:00:00   \n",
       "2     1300     1434  7.0  43.4  0.4366  2005-02-16 19:00:00   \n",
       "\n",
       "        DateTimeIndex  \n",
       "0 2005-02-16 17:00:00  \n",
       "1 2005-02-16 18:00:00  \n",
       "2 2005-02-16 19:00:00  "
      ]
     },
     "execution_count": 28,
     "metadata": {},
     "output_type": "execute_result"
    }
   ],
   "source": [
    "df['DateTimeIndex'] = pd.to_datetime(df['DateTime'])\n",
    "df.head(3)"
   ]
  },
  {
   "cell_type": "code",
   "execution_count": 29,
   "id": "4051c816-c979-44b3-87fc-424ced597a88",
   "metadata": {},
   "outputs": [
    {
     "data": {
      "text/plain": [
       "pandas._libs.tslibs.timestamps.Timestamp"
      ]
     },
     "execution_count": 29,
     "metadata": {},
     "output_type": "execute_result"
    }
   ],
   "source": [
    "type(df['DateTimeIndex'][3])"
   ]
  },
  {
   "cell_type": "code",
   "execution_count": 30,
   "id": "b6c3dc46-0086-40d8-a2ee-19bb30360c9a",
   "metadata": {},
   "outputs": [],
   "source": [
    "df = df.set_index(keys=['DateTimeIndex'])"
   ]
  },
  {
   "cell_type": "code",
   "execution_count": 31,
   "id": "59b1076a-da13-4993-81f3-688ee18c5ad8",
   "metadata": {},
   "outputs": [
    {
     "data": {
      "text/html": [
       "<div>\n",
       "<style scoped>\n",
       "    .dataframe tbody tr th:only-of-type {\n",
       "        vertical-align: middle;\n",
       "    }\n",
       "\n",
       "    .dataframe tbody tr th {\n",
       "        vertical-align: top;\n",
       "    }\n",
       "\n",
       "    .dataframe thead th {\n",
       "        text-align: right;\n",
       "    }\n",
       "</style>\n",
       "<table border=\"1\" class=\"dataframe\">\n",
       "  <thead>\n",
       "    <tr style=\"text-align: right;\">\n",
       "      <th></th>\n",
       "      <th>Date</th>\n",
       "      <th>Time</th>\n",
       "      <th>CO</th>\n",
       "      <th>PT08_S1</th>\n",
       "      <th>NMHC</th>\n",
       "      <th>C6H6</th>\n",
       "      <th>PT08_S2</th>\n",
       "      <th>NOx</th>\n",
       "      <th>PT08_S3</th>\n",
       "      <th>NO2</th>\n",
       "      <th>PT08_S4</th>\n",
       "      <th>PT08_S5</th>\n",
       "      <th>T</th>\n",
       "      <th>RH</th>\n",
       "      <th>AH</th>\n",
       "      <th>DateTime</th>\n",
       "    </tr>\n",
       "    <tr>\n",
       "      <th>DateTimeIndex</th>\n",
       "      <th></th>\n",
       "      <th></th>\n",
       "      <th></th>\n",
       "      <th></th>\n",
       "      <th></th>\n",
       "      <th></th>\n",
       "      <th></th>\n",
       "      <th></th>\n",
       "      <th></th>\n",
       "      <th></th>\n",
       "      <th></th>\n",
       "      <th></th>\n",
       "      <th></th>\n",
       "      <th></th>\n",
       "      <th></th>\n",
       "      <th></th>\n",
       "    </tr>\n",
       "  </thead>\n",
       "  <tbody>\n",
       "    <tr>\n",
       "      <th>2005-02-16 17:00:00</th>\n",
       "      <td>2005-02-16</td>\n",
       "      <td>17:00:00</td>\n",
       "      <td>1.6</td>\n",
       "      <td>1083</td>\n",
       "      <td>-200</td>\n",
       "      <td>7.0</td>\n",
       "      <td>856</td>\n",
       "      <td>252</td>\n",
       "      <td>720</td>\n",
       "      <td>148</td>\n",
       "      <td>1010</td>\n",
       "      <td>975</td>\n",
       "      <td>8.2</td>\n",
       "      <td>41.8</td>\n",
       "      <td>0.4563</td>\n",
       "      <td>2005-02-16 17:00:00</td>\n",
       "    </tr>\n",
       "    <tr>\n",
       "      <th>2005-02-16 18:00:00</th>\n",
       "      <td>2005-02-16</td>\n",
       "      <td>18:00:00</td>\n",
       "      <td>2.2</td>\n",
       "      <td>1143</td>\n",
       "      <td>-200</td>\n",
       "      <td>9.5</td>\n",
       "      <td>960</td>\n",
       "      <td>313</td>\n",
       "      <td>641</td>\n",
       "      <td>153</td>\n",
       "      <td>1110</td>\n",
       "      <td>1136</td>\n",
       "      <td>7.4</td>\n",
       "      <td>44.5</td>\n",
       "      <td>0.4582</td>\n",
       "      <td>2005-02-16 18:00:00</td>\n",
       "    </tr>\n",
       "    <tr>\n",
       "      <th>2005-02-16 19:00:00</th>\n",
       "      <td>2005-02-16</td>\n",
       "      <td>19:00:00</td>\n",
       "      <td>3.4</td>\n",
       "      <td>1288</td>\n",
       "      <td>-200</td>\n",
       "      <td>15.9</td>\n",
       "      <td>1178</td>\n",
       "      <td>433</td>\n",
       "      <td>539</td>\n",
       "      <td>171</td>\n",
       "      <td>1300</td>\n",
       "      <td>1434</td>\n",
       "      <td>7.0</td>\n",
       "      <td>43.4</td>\n",
       "      <td>0.4366</td>\n",
       "      <td>2005-02-16 19:00:00</td>\n",
       "    </tr>\n",
       "  </tbody>\n",
       "</table>\n",
       "</div>"
      ],
      "text/plain": [
       "                           Date      Time   CO  PT08_S1  NMHC  C6H6  PT08_S2  \\\n",
       "DateTimeIndex                                                                  \n",
       "2005-02-16 17:00:00  2005-02-16  17:00:00  1.6     1083  -200   7.0      856   \n",
       "2005-02-16 18:00:00  2005-02-16  18:00:00  2.2     1143  -200   9.5      960   \n",
       "2005-02-16 19:00:00  2005-02-16  19:00:00  3.4     1288  -200  15.9     1178   \n",
       "\n",
       "                     NOx  PT08_S3  NO2  PT08_S4  PT08_S5    T    RH      AH  \\\n",
       "DateTimeIndex                                                                 \n",
       "2005-02-16 17:00:00  252      720  148     1010      975  8.2  41.8  0.4563   \n",
       "2005-02-16 18:00:00  313      641  153     1110     1136  7.4  44.5  0.4582   \n",
       "2005-02-16 19:00:00  433      539  171     1300     1434  7.0  43.4  0.4366   \n",
       "\n",
       "                                DateTime  \n",
       "DateTimeIndex                             \n",
       "2005-02-16 17:00:00  2005-02-16 17:00:00  \n",
       "2005-02-16 18:00:00  2005-02-16 18:00:00  \n",
       "2005-02-16 19:00:00  2005-02-16 19:00:00  "
      ]
     },
     "execution_count": 31,
     "metadata": {},
     "output_type": "execute_result"
    }
   ],
   "source": [
    "df.head(3)"
   ]
  },
  {
   "cell_type": "code",
   "execution_count": 32,
   "id": "72278375-f43d-4269-847c-01f172ceecec",
   "metadata": {},
   "outputs": [
    {
     "data": {
      "text/plain": [
       "Date        0\n",
       "Time        0\n",
       "CO          0\n",
       "PT08_S1     0\n",
       "NMHC        0\n",
       "C6H6        0\n",
       "PT08_S2     0\n",
       "NOx         0\n",
       "PT08_S3     0\n",
       "NO2         0\n",
       "PT08_S4     0\n",
       "PT08_S5     0\n",
       "T           0\n",
       "RH          0\n",
       "AH          0\n",
       "DateTime    0\n",
       "dtype: int64"
      ]
     },
     "execution_count": 32,
     "metadata": {},
     "output_type": "execute_result"
    }
   ],
   "source": [
    "df.isnull().sum()"
   ]
  },
  {
   "cell_type": "code",
   "execution_count": 33,
   "id": "21ebba66-336b-44bb-be55-f7b8cbe78157",
   "metadata": {},
   "outputs": [],
   "source": [
    "train_ratio = 0.9\n",
    "n = len(df)\n",
    "n_train = int(n*train_ratio)\n",
    "df_train = df[:n_train]\n",
    "df_test = df[n_train:]"
   ]
  },
  {
   "cell_type": "code",
   "execution_count": 34,
   "id": "1439da12-6b4d-49a0-98d5-d36d0c5b1dd4",
   "metadata": {},
   "outputs": [
    {
     "data": {
      "text/plain": [
       "Index(['Date', 'Time', 'CO', 'PT08_S1', 'NMHC', 'C6H6', 'PT08_S2', 'NOx',\n",
       "       'PT08_S3', 'NO2', 'PT08_S4', 'PT08_S5', 'T', 'RH', 'AH', 'DateTime'],\n",
       "      dtype='object')"
      ]
     },
     "execution_count": 34,
     "metadata": {},
     "output_type": "execute_result"
    }
   ],
   "source": [
    "df.columns"
   ]
  },
  {
   "cell_type": "code",
   "execution_count": 35,
   "id": "8cdab94b-300d-4e79-990f-dd05b967a77c",
   "metadata": {},
   "outputs": [],
   "source": [
    "features = ['T', 'AH']\n",
    "target = 'PT08_S4'\n",
    "\n",
    "X_tn = df_train[features]\n",
    "y_tn = df_train[target]\n",
    "X_te = df_test[features]\n",
    "y_te = df_test[target]"
   ]
  },
  {
   "cell_type": "code",
   "execution_count": 36,
   "id": "8388a8a7-8c98-4457-9b73-802a6db39ae5",
   "metadata": {},
   "outputs": [
    {
     "data": {
      "text/html": [
       "<div>\n",
       "<style scoped>\n",
       "    .dataframe tbody tr th:only-of-type {\n",
       "        vertical-align: middle;\n",
       "    }\n",
       "\n",
       "    .dataframe tbody tr th {\n",
       "        vertical-align: top;\n",
       "    }\n",
       "\n",
       "    .dataframe thead th {\n",
       "        text-align: right;\n",
       "    }\n",
       "</style>\n",
       "<table border=\"1\" class=\"dataframe\">\n",
       "  <thead>\n",
       "    <tr style=\"text-align: right;\">\n",
       "      <th></th>\n",
       "      <th>T</th>\n",
       "      <th>AH</th>\n",
       "    </tr>\n",
       "    <tr>\n",
       "      <th>DateTimeIndex</th>\n",
       "      <th></th>\n",
       "      <th></th>\n",
       "    </tr>\n",
       "  </thead>\n",
       "  <tbody>\n",
       "    <tr>\n",
       "      <th>2005-02-16 17:00:00</th>\n",
       "      <td>8.2</td>\n",
       "      <td>0.4563</td>\n",
       "    </tr>\n",
       "    <tr>\n",
       "      <th>2005-02-16 18:00:00</th>\n",
       "      <td>7.4</td>\n",
       "      <td>0.4582</td>\n",
       "    </tr>\n",
       "    <tr>\n",
       "      <th>2005-02-16 19:00:00</th>\n",
       "      <td>7.0</td>\n",
       "      <td>0.4366</td>\n",
       "    </tr>\n",
       "    <tr>\n",
       "      <th>2005-02-16 20:00:00</th>\n",
       "      <td>6.6</td>\n",
       "      <td>0.4241</td>\n",
       "    </tr>\n",
       "    <tr>\n",
       "      <th>2005-02-16 21:00:00</th>\n",
       "      <td>5.9</td>\n",
       "      <td>0.4137</td>\n",
       "    </tr>\n",
       "    <tr>\n",
       "      <th>...</th>\n",
       "      <td>...</td>\n",
       "      <td>...</td>\n",
       "    </tr>\n",
       "    <tr>\n",
       "      <th>2005-03-26 00:00:00</th>\n",
       "      <td>17.1</td>\n",
       "      <td>1.2926</td>\n",
       "    </tr>\n",
       "    <tr>\n",
       "      <th>2005-03-26 01:00:00</th>\n",
       "      <td>16.8</td>\n",
       "      <td>1.3135</td>\n",
       "    </tr>\n",
       "    <tr>\n",
       "      <th>2005-03-26 02:00:00</th>\n",
       "      <td>16.6</td>\n",
       "      <td>1.3078</td>\n",
       "    </tr>\n",
       "    <tr>\n",
       "      <th>2005-03-26 03:00:00</th>\n",
       "      <td>16.1</td>\n",
       "      <td>1.2955</td>\n",
       "    </tr>\n",
       "    <tr>\n",
       "      <th>2005-03-26 04:00:00</th>\n",
       "      <td>16.2</td>\n",
       "      <td>1.3013</td>\n",
       "    </tr>\n",
       "  </tbody>\n",
       "</table>\n",
       "<p>900 rows × 2 columns</p>\n",
       "</div>"
      ],
      "text/plain": [
       "                        T      AH\n",
       "DateTimeIndex                    \n",
       "2005-02-16 17:00:00   8.2  0.4563\n",
       "2005-02-16 18:00:00   7.4  0.4582\n",
       "2005-02-16 19:00:00   7.0  0.4366\n",
       "2005-02-16 20:00:00   6.6  0.4241\n",
       "2005-02-16 21:00:00   5.9  0.4137\n",
       "...                   ...     ...\n",
       "2005-03-26 00:00:00  17.1  1.2926\n",
       "2005-03-26 01:00:00  16.8  1.3135\n",
       "2005-03-26 02:00:00  16.6  1.3078\n",
       "2005-03-26 03:00:00  16.1  1.2955\n",
       "2005-03-26 04:00:00  16.2  1.3013\n",
       "\n",
       "[900 rows x 2 columns]"
      ]
     },
     "execution_count": 36,
     "metadata": {},
     "output_type": "execute_result"
    }
   ],
   "source": [
    "X_tn"
   ]
  },
  {
   "cell_type": "code",
   "execution_count": 37,
   "id": "964ccda3-f4bc-4bdb-8ea1-187ce757d9ae",
   "metadata": {},
   "outputs": [],
   "source": [
    "ols_reg = linear_model.OLS(endog=y_tn, exog=X_tn)\n",
    "ols_model = ols_reg.fit()"
   ]
  },
  {
   "cell_type": "code",
   "execution_count": 38,
   "id": "b03d3cda-581d-425b-a18a-bbdc68346527",
   "metadata": {},
   "outputs": [
    {
     "data": {
      "text/plain": [
       "T     92.087713\n",
       "AH   -87.960934\n",
       "dtype: float64"
      ]
     },
     "execution_count": 38,
     "metadata": {},
     "output_type": "execute_result"
    }
   ],
   "source": [
    "ols_model.params"
   ]
  },
  {
   "cell_type": "code",
   "execution_count": 39,
   "id": "18d7a7ad-a1a9-4181-bfea-af6811ba05e4",
   "metadata": {},
   "outputs": [
    {
     "data": {
      "text/html": [
       "<table class=\"simpletable\">\n",
       "<caption>OLS Regression Results</caption>\n",
       "<tr>\n",
       "  <th>Dep. Variable:</th>         <td>PT08_S4</td>     <th>  R-squared (uncentered):</th>      <td>   0.791</td> \n",
       "</tr>\n",
       "<tr>\n",
       "  <th>Model:</th>                   <td>OLS</td>       <th>  Adj. R-squared (uncentered):</th> <td>   0.791</td> \n",
       "</tr>\n",
       "<tr>\n",
       "  <th>Method:</th>             <td>Least Squares</td>  <th>  F-statistic:       </th>          <td>   1701.</td> \n",
       "</tr>\n",
       "<tr>\n",
       "  <th>Date:</th>             <td>Tue, 02 Jul 2024</td> <th>  Prob (F-statistic):</th>          <td>3.95e-306</td>\n",
       "</tr>\n",
       "<tr>\n",
       "  <th>Time:</th>                 <td>08:48:27</td>     <th>  Log-Likelihood:    </th>          <td> -6942.3</td> \n",
       "</tr>\n",
       "<tr>\n",
       "  <th>No. Observations:</th>      <td>   900</td>      <th>  AIC:               </th>          <td>1.389e+04</td>\n",
       "</tr>\n",
       "<tr>\n",
       "  <th>Df Residuals:</th>          <td>   898</td>      <th>  BIC:               </th>          <td>1.390e+04</td>\n",
       "</tr>\n",
       "<tr>\n",
       "  <th>Df Model:</th>              <td>     2</td>      <th>                     </th>              <td> </td>    \n",
       "</tr>\n",
       "<tr>\n",
       "  <th>Covariance Type:</th>      <td>nonrobust</td>    <th>                     </th>              <td> </td>    \n",
       "</tr>\n",
       "</table>\n",
       "<table class=\"simpletable\">\n",
       "<tr>\n",
       "   <td></td>     <th>coef</th>     <th>std err</th>      <th>t</th>      <th>P>|t|</th>  <th>[0.025</th>    <th>0.975]</th>  \n",
       "</tr>\n",
       "<tr>\n",
       "  <th>T</th>  <td>   92.0877</td> <td>    1.590</td> <td>   57.911</td> <td> 0.000</td> <td>   88.967</td> <td>   95.209</td>\n",
       "</tr>\n",
       "<tr>\n",
       "  <th>AH</th> <td>  -87.9609</td> <td>    3.266</td> <td>  -26.930</td> <td> 0.000</td> <td>  -94.371</td> <td>  -81.550</td>\n",
       "</tr>\n",
       "</table>\n",
       "<table class=\"simpletable\">\n",
       "<tr>\n",
       "  <th>Omnibus:</th>       <td>56.134</td> <th>  Durbin-Watson:     </th> <td>   0.130</td>\n",
       "</tr>\n",
       "<tr>\n",
       "  <th>Prob(Omnibus):</th> <td> 0.000</td> <th>  Jarque-Bera (JB):  </th> <td>  65.528</td>\n",
       "</tr>\n",
       "<tr>\n",
       "  <th>Skew:</th>          <td>-0.622</td> <th>  Prob(JB):          </th> <td>5.90e-15</td>\n",
       "</tr>\n",
       "<tr>\n",
       "  <th>Kurtosis:</th>      <td> 3.446</td> <th>  Cond. No.          </th> <td>    2.71</td>\n",
       "</tr>\n",
       "</table><br/><br/>Notes:<br/>[1] R² is computed without centering (uncentered) since the model does not contain a constant.<br/>[2] Standard Errors assume that the covariance matrix of the errors is correctly specified."
      ],
      "text/latex": [
       "\\begin{center}\n",
       "\\begin{tabular}{lclc}\n",
       "\\toprule\n",
       "\\textbf{Dep. Variable:}    &     PT08\\_S4     & \\textbf{  R-squared (uncentered):}      &     0.791   \\\\\n",
       "\\textbf{Model:}            &       OLS        & \\textbf{  Adj. R-squared (uncentered):} &     0.791   \\\\\n",
       "\\textbf{Method:}           &  Least Squares   & \\textbf{  F-statistic:       }          &     1701.   \\\\\n",
       "\\textbf{Date:}             & Tue, 02 Jul 2024 & \\textbf{  Prob (F-statistic):}          & 3.95e-306   \\\\\n",
       "\\textbf{Time:}             &     08:48:27     & \\textbf{  Log-Likelihood:    }          &   -6942.3   \\\\\n",
       "\\textbf{No. Observations:} &         900      & \\textbf{  AIC:               }          & 1.389e+04   \\\\\n",
       "\\textbf{Df Residuals:}     &         898      & \\textbf{  BIC:               }          & 1.390e+04   \\\\\n",
       "\\textbf{Df Model:}         &           2      & \\textbf{                     }          &             \\\\\n",
       "\\textbf{Covariance Type:}  &    nonrobust     & \\textbf{                     }          &             \\\\\n",
       "\\bottomrule\n",
       "\\end{tabular}\n",
       "\\begin{tabular}{lcccccc}\n",
       "            & \\textbf{coef} & \\textbf{std err} & \\textbf{t} & \\textbf{P$> |$t$|$} & \\textbf{[0.025} & \\textbf{0.975]}  \\\\\n",
       "\\midrule\n",
       "\\textbf{T}  &      92.0877  &        1.590     &    57.911  &         0.000        &       88.967    &       95.209     \\\\\n",
       "\\textbf{AH} &     -87.9609  &        3.266     &   -26.930  &         0.000        &      -94.371    &      -81.550     \\\\\n",
       "\\bottomrule\n",
       "\\end{tabular}\n",
       "\\begin{tabular}{lclc}\n",
       "\\textbf{Omnibus:}       & 56.134 & \\textbf{  Durbin-Watson:     } &    0.130  \\\\\n",
       "\\textbf{Prob(Omnibus):} &  0.000 & \\textbf{  Jarque-Bera (JB):  } &   65.528  \\\\\n",
       "\\textbf{Skew:}          & -0.622 & \\textbf{  Prob(JB):          } & 5.90e-15  \\\\\n",
       "\\textbf{Kurtosis:}      &  3.446 & \\textbf{  Cond. No.          } &     2.71  \\\\\n",
       "\\bottomrule\n",
       "\\end{tabular}\n",
       "%\\caption{OLS Regression Results}\n",
       "\\end{center}\n",
       "\n",
       "Notes: \\newline\n",
       " [1] R² is computed without centering (uncentered) since the model does not contain a constant. \\newline\n",
       " [2] Standard Errors assume that the covariance matrix of the errors is correctly specified."
      ],
      "text/plain": [
       "<class 'statsmodels.iolib.summary.Summary'>\n",
       "\"\"\"\n",
       "                                 OLS Regression Results                                \n",
       "=======================================================================================\n",
       "Dep. Variable:                PT08_S4   R-squared (uncentered):                   0.791\n",
       "Model:                            OLS   Adj. R-squared (uncentered):              0.791\n",
       "Method:                 Least Squares   F-statistic:                              1701.\n",
       "Date:                Tue, 02 Jul 2024   Prob (F-statistic):                   3.95e-306\n",
       "Time:                        08:48:27   Log-Likelihood:                         -6942.3\n",
       "No. Observations:                 900   AIC:                                  1.389e+04\n",
       "Df Residuals:                     898   BIC:                                  1.390e+04\n",
       "Df Model:                           2                                                  \n",
       "Covariance Type:            nonrobust                                                  \n",
       "==============================================================================\n",
       "                 coef    std err          t      P>|t|      [0.025      0.975]\n",
       "------------------------------------------------------------------------------\n",
       "T             92.0877      1.590     57.911      0.000      88.967      95.209\n",
       "AH           -87.9609      3.266    -26.930      0.000     -94.371     -81.550\n",
       "==============================================================================\n",
       "Omnibus:                       56.134   Durbin-Watson:                   0.130\n",
       "Prob(Omnibus):                  0.000   Jarque-Bera (JB):               65.528\n",
       "Skew:                          -0.622   Prob(JB):                     5.90e-15\n",
       "Kurtosis:                       3.446   Cond. No.                         2.71\n",
       "==============================================================================\n",
       "\n",
       "Notes:\n",
       "[1] R² is computed without centering (uncentered) since the model does not contain a constant.\n",
       "[2] Standard Errors assume that the covariance matrix of the errors is correctly specified.\n",
       "\"\"\""
      ]
     },
     "execution_count": 39,
     "metadata": {},
     "output_type": "execute_result"
    }
   ],
   "source": [
    "ols_model.summary()"
   ]
  },
  {
   "cell_type": "code",
   "execution_count": 40,
   "id": "99b3cbb9-a07d-41e9-99f9-ddd9419335e1",
   "metadata": {},
   "outputs": [
    {
     "data": {
      "text/plain": [
       "array([ 7.14982671e+02,  6.41145375e+02,  6.06210246e+02,  5.70474673e+02,\n",
       "        5.06928067e+02,  4.24383377e+02,  5.01211345e+02,  4.62573061e+02,\n",
       "        4.90744733e+02,  4.90727140e+02,  4.99012322e+02,  4.87094354e+02,\n",
       "        5.95831594e+02,  5.98250520e+02,  5.52153887e+02,  5.69225627e+02,\n",
       "        6.70020734e+02,  8.90186820e+02,  7.86788070e+02,  7.59056203e+02,\n",
       "        7.18254079e+02,  7.73770590e+02,  7.73348377e+02,  7.83287224e+02,\n",
       "        8.12663961e+02,  7.29758631e+02,  6.55771801e+02,  6.38603304e+02,\n",
       "        6.38752838e+02,  5.92902495e+02,  6.11012175e+02,  5.92533059e+02,\n",
       "        5.84045568e+02,  5.38045692e+02,  4.72986159e+02,  5.47016969e+02,\n",
       "        5.93219155e+02,  5.46700309e+02,  5.46383650e+02,  5.92277973e+02,\n",
       "        7.30242416e+02,  9.52378827e+02,  9.89002806e+02,  1.04478320e+03,\n",
       "        1.01961100e+03,  9.66284712e+02,  1.00321655e+03,  1.03107157e+03,\n",
       "        9.84851788e+02,  8.55137342e+02,  7.44605698e+02,  7.25528449e+02,\n",
       "        6.97576679e+02,  6.05506559e+02,  4.55949603e+02,  3.37467029e+02,\n",
       "        2.46223741e+02,  2.46874652e+02,  1.64479496e+02,  1.73829004e+02,\n",
       "        1.37354559e+02,  1.37205026e+02,  4.51085166e+01,  1.80363567e+01,\n",
       "        1.55226744e+02,  2.46751507e+02,  3.47335507e+02,  6.41532403e+02,\n",
       "        9.91043499e+02,  1.22609110e+03,  1.09788958e+03,  1.13752182e+03,\n",
       "        1.20372485e+03,  1.02828320e+03,  9.63575515e+02,  9.16300206e+02,\n",
       "        8.51099935e+02,  7.95275561e+02,  8.13077377e+02,  8.19189924e+02,\n",
       "        7.37815114e+02,  6.71664865e+02,  6.62966267e+02,  7.10267965e+02,\n",
       "        7.26257786e+02,  6.84954285e+02,  6.66264064e+02,  6.85719545e+02,\n",
       "        7.59776744e+02,  8.78452831e+02,  9.24778163e+02,  7.80691638e+02,\n",
       "        6.64829562e+02,  6.75208214e+02,  7.14418244e+02,  7.35404246e+02,\n",
       "        7.18763514e+02,  6.81972410e+02,  5.98046733e+02,  6.27590595e+02,\n",
       "        6.56351605e+02,  6.58471464e+02,  6.60063556e+02,  5.62557450e+02,\n",
       "        5.54509763e+02,  4.67742948e+02,  3.55012281e+02,  3.09311473e+02,\n",
       "        3.00621671e+02,  2.45685703e+02,  3.27465132e+02,  4.11188499e+02,\n",
       "        3.65100662e+02,  2.90023117e+02,  5.06002262e+02,  6.46332855e+02,\n",
       "        6.83994773e+02,  6.84847994e+02,  5.72794626e+02,  5.79302997e+02,\n",
       "        6.08952412e+02,  4.70574552e+02,  4.33123740e+02,  4.42613987e+02,\n",
       "        4.55807388e+02,  4.57601791e+02,  5.29125715e+02,  5.20928494e+02,\n",
       "        3.45152599e+02,  2.99442994e+02,  1.73862712e+02,  2.53847739e+02,\n",
       "        2.45764867e+02,  2.54692164e+02,  2.54366708e+02,  3.17570266e+02,\n",
       "        3.63007192e+02,  4.99942492e+02,  7.78299101e+02,  9.91921632e+02,\n",
       "        7.02122044e+02,  5.37850701e+02,  5.46443746e+02,  6.18425066e+02,\n",
       "        5.29248860e+02,  4.75016579e+02,  4.58024004e+02,  3.29672952e+02,\n",
       "        3.37500736e+02,  3.57844623e+02,  3.47809019e+02,  3.29541010e+02,\n",
       "        3.11026711e+02,  3.02583200e+02,  2.65985609e+02,  2.38156985e+02,\n",
       "        3.22109050e+02,  3.31256249e+02,  3.57396023e+02,  3.46366460e+02,\n",
       "        3.36990563e+02,  2.29009786e+02,  2.02201509e+02,  3.02125803e+02,\n",
       "        4.11408401e+02,  4.66089283e+02,  4.55649058e+02,  4.36800507e+02,\n",
       "        3.91187660e+02,  3.81811762e+02,  3.81978888e+02,  3.64792799e+02,\n",
       "        3.28300761e+02,  3.37738231e+02,  3.29778505e+02,  2.37945879e+02,\n",
       "        4.11364421e+02,  3.09716093e+02,  3.36427613e+02,  2.09853372e+02,\n",
       "        2.45729683e+02,  2.72370834e+02,  2.90374961e+02,  3.17579062e+02,\n",
       "        2.98915229e+02,  3.16277240e+02,  3.62057214e+02,  4.42816297e+02,\n",
       "        5.50849850e+02,  6.62454617e+02,  7.17768817e+02,  6.34784323e+02,\n",
       "        5.98186732e+02,  5.52547496e+02,  4.98543913e+02,  5.16935068e+02,\n",
       "        4.87918971e+02,  4.50221869e+02,  4.41452902e+02,  4.21830295e+02,\n",
       "        4.12999756e+02,  4.04415507e+02,  3.96227083e+02,  3.96534946e+02,\n",
       "        3.96464577e+02,  4.15357109e+02,  4.24917724e+02,  4.60336638e+02,\n",
       "        5.06248553e+02,  6.99377663e+02,  9.35208853e+02,  1.14411742e+03,\n",
       "        9.52307720e+02,  1.00881819e+03,  1.10211976e+03,  1.11117020e+03,\n",
       "        1.08440591e+03,  8.92094834e+02,  7.44587367e+02,  6.70925993e+02,\n",
       "        6.24706215e+02,  5.18536695e+02,  4.16580504e+02,  3.80598640e+02,\n",
       "        3.17720538e+02,  2.63611402e+02,  2.08666638e+02,  1.63300081e+02,\n",
       "        3.02795044e+02,  3.78101288e+02,  4.80725982e+02,  5.28018884e+02,\n",
       "        5.73957187e+02,  7.65388651e+02,  8.38284765e+02,  8.56385649e+02,\n",
       "        8.65049062e+02,  8.55558816e+02,  8.45602377e+02,  7.81114589e+02,\n",
       "        6.30458122e+02,  5.36971830e+02,  5.75548542e+02,  6.21170186e+02,\n",
       "        6.12102152e+02,  5.65548122e+02,  4.92229795e+02,  5.29038492e+02,\n",
       "        4.58473343e+02,  3.75005063e+02,  2.74297917e+02,  2.10496225e+02,\n",
       "        2.94149223e+02,  1.01882130e+02,  8.26465508e+01,  1.84725887e+02,\n",
       "        2.94914483e+02,  6.71603293e+02,  9.87964867e+02,  1.12107461e+03,\n",
       "        9.12166780e+02,  8.82649306e+02,  7.70455201e+02,  7.25352527e+02,\n",
       "        6.91068309e+02,  5.90378755e+02,  5.17676155e+02,  4.71623503e+02,\n",
       "        3.88410309e+02,  3.78462666e+02,  3.60185861e+02,  3.32154927e+02,\n",
       "        3.30193398e+02,  3.31407259e+02,  3.24573433e+02,  3.15813263e+02,\n",
       "        2.96137879e+02,  2.22907513e+02,  1.95844149e+02,  2.15176485e+02,\n",
       "        2.15968134e+02,  2.72751282e+02,  2.55969813e+02,  3.13254338e+02,\n",
       "        3.41821834e+02,  3.15893166e+02,  2.90553836e+02,  2.81089978e+02,\n",
       "        2.16399881e+02,  1.70215287e+02,  1.24074674e+02,  1.05921014e+02,\n",
       "        7.04845075e+01,  8.03441897e+01,  7.19270668e+01,  7.02118286e+01,\n",
       "        4.07735195e+01, -4.15323300e+00, -1.27726660e+01, -2.96684844e+01,\n",
       "       -4.82707450e+01, -7.63984361e+01, -7.70493470e+01, -4.02142619e+01,\n",
       "        3.42475567e+01,  2.37667358e+02,  2.65768661e+02,  2.83763991e+02,\n",
       "        2.64484431e+02,  2.73578853e+02,  2.82215878e+02,  3.56774454e+02,\n",
       "        3.38224970e+02,  1.53029198e+02,  1.43794038e+02,  1.06906176e+02,\n",
       "        5.26650993e+01,  3.58132614e+01,  9.76144823e+00,  1.61700424e+00,\n",
       "       -1.62463844e+01, -2.65810557e+01, -1.22222390e+02, -1.51229691e+02,\n",
       "       -1.42891733e+02, -1.34254707e+02, -1.43481071e+02, -1.99604512e+02,\n",
       "       -7.03474624e+01,  3.99123951e+02,  6.68421322e+02,  8.64286017e+02,\n",
       "        8.37442556e+02,  8.73512381e+02,  9.11948355e+02,  1.07025669e+03,\n",
       "        1.04986882e+03,  8.18426879e+02,  6.40064933e+02,  5.33262094e+02,\n",
       "        4.41235954e+02,  4.11762460e+02,  4.29836955e+02,  3.47160324e+02,\n",
       "        3.73027419e+02,  3.17141473e+02,  2.96683236e+02,  2.73911628e+02,\n",
       "        2.21464215e+02,  2.08429143e+02,  2.16547199e+02,  2.98326629e+02,\n",
       "        5.01923090e+02,  6.36748067e+02,  2.78255421e+02,  2.76249912e+02,\n",
       "        4.33414750e+02,  5.06715484e+02,  4.94674371e+02,  5.19397974e+02,\n",
       "        5.16363322e+02,  4.50758431e+02,  3.87889125e+02,  3.33955911e+02,\n",
       "        3.34184609e+02,  3.61450283e+02,  3.44158641e+02,  3.36242895e+02,\n",
       "        3.18441079e+02,  3.00973515e+02,  3.61582963e+02,  3.65602778e+02,\n",
       "        3.14158120e+02,  2.86505418e+02,  2.32827291e+02,  2.88018346e+02,\n",
       "        4.06624065e+02,  5.46506057e+02,  6.44935014e+02,  7.35034810e+02,\n",
       "        9.43713936e+02,  1.07224091e+03,  1.09569861e+03,  1.04392924e+03,\n",
       "        1.08107219e+03,  9.39703656e+02,  7.66839268e+02,  7.20258850e+02,\n",
       "        6.36896124e+02,  5.82830968e+02,  5.55046325e+02,  5.29478297e+02,\n",
       "        4.45068835e+02,  4.85527911e+02,  4.03053589e+02,  3.57818974e+02,\n",
       "        3.41107873e+02,  2.38835023e+02,  3.82420170e+02,  4.18322869e+02,\n",
       "        6.01979325e+02,  8.80036867e+02,  1.15738192e+03,  1.24985667e+03,\n",
       "        1.18607257e+03,  1.19495588e+03,  1.20471001e+03,  1.15826153e+03,\n",
       "        1.02185326e+03,  7.36433389e+02,  7.26142698e+02,  6.59042471e+02,\n",
       "        6.00720007e+02,  5.34816049e+02,  5.35027155e+02,  5.63365952e+02,\n",
       "        5.91353644e+02,  6.20194558e+02,  6.20546401e+02,  5.80060937e+02,\n",
       "        4.81077087e+02,  4.85712629e+02,  4.59951087e+02,  4.98290304e+02,\n",
       "        6.28198264e+02,  8.24221289e+02,  9.91887924e+02,  1.09525149e+03,\n",
       "        1.32819756e+03,  1.17125263e+03,  1.19033867e+03,  1.07087973e+03,\n",
       "        1.02323499e+03,  8.93889975e+02,  7.54289458e+02,  6.97708621e+02,\n",
       "        6.50626825e+02,  5.85294613e+02,  5.23085014e+02,  4.78861949e+02,\n",
       "        4.58632411e+02,  4.29765848e+02,  4.47928304e+02,  4.34048807e+02,\n",
       "        3.67062929e+02,  4.36107093e+02,  4.74244000e+02,  5.05986885e+02,\n",
       "        5.98945411e+02,  7.58230108e+02,  8.54944566e+02,  9.47771151e+02,\n",
       "        9.11314298e+02,  8.93793957e+02,  8.66088478e+02,  8.64874617e+02,\n",
       "        8.37336264e+02,  7.01113447e+02,  6.08436396e+02,  5.34009762e+02,\n",
       "        4.31499417e+02,  3.56712143e+02,  3.28021502e+02,  2.44087029e+02,\n",
       "        1.96310342e+02,  1.50477592e+02,  5.86361698e+01,  1.22580618e+01,\n",
       "        9.45916456e+01,  4.87500993e+01, -6.51132449e+00,  4.84598282e+01,\n",
       "        3.42735889e+02,  6.76952056e+02,  9.74368322e+02,  1.23772027e+03,\n",
       "        1.26572482e+03,  1.27443221e+03,  1.35775975e+03,  1.49503810e+03,\n",
       "        1.42884387e+03,  1.18391826e+03,  9.73945371e+02,  8.33984214e+02,\n",
       "        7.41263183e+02,  6.50512476e+02,  5.68152504e+02,  4.66671302e+02,\n",
       "        4.11058034e+02,  3.83282187e+02,  3.92446978e+02,  3.09348134e+02,\n",
       "        1.71075827e+02,  1.43212019e+02,  1.42939340e+02,  2.61413117e+02,\n",
       "        4.82230114e+02,  7.22335467e+02,  9.23591429e+02,  1.28699888e+03,\n",
       "        1.39170751e+03,  1.42461953e+03,  1.53393732e+03,  1.56109744e+03,\n",
       "        1.59795011e+03,  1.28473754e+03,  1.11896207e+03,  9.94691663e+02,\n",
       "        9.10053503e+02,  8.29584691e+02,  7.02130840e+02,  6.57054554e+02,\n",
       "        6.30246277e+02,  5.01508197e+02,  3.64810391e+02,  3.09680909e+02,\n",
       "        3.28617421e+02,  4.30212972e+02,  3.39726148e+02,  3.85110297e+02,\n",
       "        6.31706428e+02,  1.01785910e+03,  1.29337457e+03,  1.54484373e+03,\n",
       "        1.68166542e+03,  1.72408677e+03,  1.76553100e+03,  1.83052896e+03,\n",
       "        1.79138930e+03,  1.48415733e+03,  1.30891874e+03,  1.14913267e+03,\n",
       "        1.01624209e+03,  8.38681328e+02,  7.27358036e+02,  6.70486927e+02,\n",
       "        5.86860318e+02,  4.84868942e+02,  4.84182847e+02,  3.63307736e+02,\n",
       "        4.08946972e+02,  3.72173460e+02,  3.07369013e+02,  3.52744366e+02,\n",
       "        6.09252956e+02,  9.77612603e+02, -8.25355840e+02,  1.53158070e+03,\n",
       "        1.57986682e+03,  1.67096937e+03,  1.71920346e+03,  1.67185778e+03,\n",
       "        1.62482950e+03,  1.41749544e+03,  1.21077710e+03,  1.12415982e+03,\n",
       "        1.11471355e+03,  1.06012063e+03,  9.13343241e+02,  8.86807643e+02,\n",
       "        8.78364132e+02,  8.59172533e+02,  8.76041963e+02,  8.82893382e+02,\n",
       "        8.29196924e+02,  7.70117996e+02,  7.89793380e+02,  9.01855544e+02,\n",
       "        1.08538885e+03,  1.30872153e+03,  1.23452360e+03,  1.31781596e+03,\n",
       "        1.59395669e+03,  1.58517892e+03,  1.56825672e+03,  1.55859935e+03,\n",
       "        1.55194144e+03,  1.37483734e+03,  1.22253600e+03,  1.14730012e+03,\n",
       "        1.03616155e+03,  1.00265139e+03,  1.03932814e+03,  1.08073646e+03,\n",
       "        1.06267956e+03,  1.07443040e+03,  1.10289234e+03,  1.14956072e+03,\n",
       "        1.06260919e+03,  1.15770516e+03,  1.06772851e+03,  1.12241819e+03,\n",
       "        1.12278763e+03,  1.21423323e+03,  1.17342231e+03,  1.14079981e+03,\n",
       "        1.22591222e+03,  1.50484058e+03,  1.75860552e+03,  1.74024955e+03,\n",
       "        1.67822467e+03,  1.43938596e+03,  1.31612711e+03,  1.28806978e+03,\n",
       "        1.26964344e+03,  1.19016859e+03,  1.14156507e+03,  1.14109888e+03,\n",
       "        1.00235158e+03,  8.37886726e+02,  8.30094126e+02,  7.47435086e+02,\n",
       "        7.01048182e+02,  7.74208179e+02,  8.39197344e+02,  9.21293433e+02,\n",
       "        1.00280898e+03,  1.19030053e+03,  1.43076653e+03,  1.57903046e+03,\n",
       "        1.70801483e+03,  1.78347940e+03,  1.77468404e+03,  1.79397240e+03,\n",
       "        1.67505002e+03,  1.58130864e+03,  1.46601831e+03,  1.38878573e+03,\n",
       "        1.32924940e+03,  1.18115260e+03,  1.08860749e+03,  1.04260761e+03,\n",
       "        1.11705184e+03,  9.45313348e+02,  8.54272371e+02,  9.95218690e+02,\n",
       "        8.59998628e+02,  7.86319661e+02,  8.60297695e+02,  8.88143911e+02,\n",
       "        1.12645486e+03,  1.43774109e+03,  1.68811954e+03,  1.86780090e+03,\n",
       "        1.97133159e+03,  1.98495600e+03,  2.11464406e+03,  2.11547089e+03,\n",
       "        2.04034937e+03,  1.80804541e+03,  1.59297152e+03,  1.44198960e+03,\n",
       "        1.30171179e+03,  1.20226248e+03,  1.14725614e+03,  1.01770882e+03,\n",
       "        9.81032068e+02,  9.72491800e+02,  9.17846103e+02,  7.62537240e+02,\n",
       "        6.71593019e+02,  6.25936191e+02,  6.36200494e+02,  7.37329852e+02,\n",
       "        1.01181618e+03,  1.39775774e+03,  1.70973006e+03,  2.06024392e+03,\n",
       "        2.34227729e+03,  2.41298392e+03,  2.56167885e+03,  2.60043149e+03,\n",
       "        2.51838818e+03,  2.16587761e+03,  1.87311374e+03,  1.62270816e+03,\n",
       "        1.48396087e+03,  1.35791439e+03,  1.24605454e+03,  1.28352294e+03,\n",
       "        1.15597233e+03,  1.09175723e+03,  9.91226002e+02,  8.62962911e+02,\n",
       "        8.36286575e+02,  7.63548791e+02,  6.63070343e+02,  8.09355153e+02,\n",
       "        1.14779271e+03,  1.48840289e+03,  1.84842458e+03,  2.17257876e+03,\n",
       "        2.39026435e+03,  2.42841005e+03,  2.54654152e+03,  2.49514084e+03,\n",
       "        2.35560263e+03,  2.03180030e+03,  1.79983060e+03,  1.53236281e+03,\n",
       "        1.42083721e+03,  1.27994367e+03,  1.19514718e+03,  1.07580259e+03,\n",
       "        1.03062955e+03,  8.92911394e+02,  7.55650638e+02,  6.92068848e+02,\n",
       "        6.46851824e+02,  6.01652393e+02,  6.29586570e+02,  7.39942292e+02,\n",
       "        1.04232761e+03,  1.35324440e+03,  1.66804027e+03,  1.97902744e+03,\n",
       "        2.20608892e+03,  2.23797254e+03,  2.32166072e+03,  2.29552975e+03,\n",
       "        2.25111317e+03,  1.97595834e+03,  1.69631750e+03,  1.46747846e+03,\n",
       "        1.35312932e+03,  1.14412400e+03,  1.03035539e+03,  1.00367026e+03,\n",
       "        9.86290655e+02,  1.00428599e+03,  1.05022429e+03,  1.03994239e+03,\n",
       "        1.03087436e+03,  1.00506004e+03,  1.01554425e+03,  1.04166643e+03,\n",
       "        1.09561723e+03,  1.15043006e+03,  1.25317790e+03,  1.37455438e+03,\n",
       "        1.53145534e+03,  1.71645760e+03,  1.87359605e+03,  1.91920010e+03,\n",
       "        1.80721710e+03,  1.59253904e+03,  1.40630533e+03,  1.29531629e+03,\n",
       "        1.21297391e+03,  1.12863481e+03,  1.15700880e+03,  1.16624396e+03,\n",
       "        1.16568980e+03,  1.14706995e+03,  1.12934730e+03,  1.11178298e+03,\n",
       "        1.07601222e+03,  1.12198571e+03,  1.05832475e+03,  1.14155554e+03,\n",
       "        1.20574426e+03,  1.33559944e+03,  1.48504205e+03,  1.63331477e+03,\n",
       "        1.90172374e+03,  1.88297195e+03,  2.04829882e+03,  1.95566575e+03,\n",
       "        1.90028118e+03,  1.69610492e+03,  1.51075961e+03,  1.38602301e+03,\n",
       "        1.34687456e+03,  1.27273819e+03,  1.18358838e+03,  1.11915336e+03,\n",
       "        1.13567975e+03,  1.13498486e+03,  1.11585483e+03,  1.03353884e+03,\n",
       "        9.79781546e+02,  1.10005852e+03,  1.09055948e+03,  1.15632270e+03,\n",
       "        1.26636176e+03,  1.37494067e+03,  1.59492204e+03,  1.73457534e+03,\n",
       "        1.90034201e+03,  2.05692631e+03,  2.10637426e+03,  2.01433932e+03,\n",
       "        2.01536846e+03,  1.84005876e+03,  1.62604041e+03,  1.49344084e+03,\n",
       "        1.31623118e+03,  1.21531293e+03,  1.18043058e+03,  1.13707833e+03,\n",
       "        1.07334700e+03,  1.09522141e+03,  1.09639129e+03,  1.02498172e+03,\n",
       "        8.96674645e+02,  9.24300958e+02,  8.70156638e+02,  1.00593965e+03,\n",
       "        1.21534006e+03,  1.43499597e+03,  1.77361824e+03,  1.91052715e+03,\n",
       "        2.07630263e+03,  2.07831693e+03,  2.26798112e+03,  2.27850125e+03,\n",
       "        2.03795609e+03,  1.88926115e+03,  1.76405763e+03,  1.62611957e+03,\n",
       "        1.51446203e+03,  1.41722860e+03,  1.40519628e+03,  1.37801857e+03,\n",
       "        1.34105154e+03,  1.32321454e+03,  1.30402294e+03,  1.23922729e+03,\n",
       "        1.28449709e+03,  1.21099405e+03,  1.19319223e+03,  1.32099793e+03,\n",
       "        1.54472643e+03,  1.69317508e+03,  1.88514384e+03,  2.03776258e+03,\n",
       "        2.15930619e+03,  2.19485779e+03,  2.07140616e+03,  2.08637563e+03,\n",
       "        2.07871497e+03,  2.02931101e+03,  1.87058047e+03,  1.72553517e+03,\n",
       "        1.66060758e+03,  1.55967173e+03,  1.46304523e+03,  1.39000838e+03,\n",
       "        1.31537944e+03,  1.33423679e+03,  1.13232112e+03,  1.15187335e+03,\n",
       "        1.06831711e+03,  1.11499429e+03,  1.02288898e+03,  1.15970114e+03,\n",
       "        1.40840833e+03,  1.57310189e+03,  1.59748244e+03,  1.36594153e+03,\n",
       "        1.51624616e+03,  1.83123628e+03,  2.13239968e+03,  2.02353929e+03,\n",
       "        1.96025657e+03,  1.87823965e+03,  1.76255349e+03,  1.63855577e+03,\n",
       "        1.58104255e+03,  1.50303590e+03,  1.46959611e+03,  1.38556414e+03,\n",
       "        1.29762744e+03,  1.28928949e+03,  1.16836160e+03,  1.13965337e+03,\n",
       "        1.14927555e+03,  1.15451803e+03,  1.19231188e+03,  1.25443352e+03,\n",
       "        1.36542256e+03,  1.58535995e+03,  1.77344084e+03,  1.85918731e+03,\n",
       "        1.77510330e+03,  1.83914249e+03,  1.87380494e+03,  1.89113177e+03,\n",
       "        1.82645926e+03,  1.77074044e+03,  1.67655046e+03,  1.62117469e+03,\n",
       "        1.56486653e+03,  1.51798704e+03,  1.51824213e+03,  1.46100159e+03,\n",
       "        1.43153689e+03,  1.41362072e+03,  1.36865879e+03,  1.37735738e+03])"
      ]
     },
     "execution_count": 40,
     "metadata": {},
     "output_type": "execute_result"
    }
   ],
   "source": [
    "ols_model.predict()"
   ]
  },
  {
   "cell_type": "code",
   "execution_count": 41,
   "id": "428214bb-7a9a-488d-a2fe-d97f0f2af292",
   "metadata": {},
   "outputs": [
    {
     "data": {
      "text/plain": [
       "DateTimeIndex\n",
       "2005-03-26 05:00:00    1387.973531\n",
       "2005-03-26 06:00:00    1370.558743\n",
       "2005-03-26 07:00:00    1371.579090\n",
       "2005-03-26 08:00:00    1408.150292\n",
       "2005-03-26 09:00:00    1489.956110\n",
       "                          ...     \n",
       "2005-03-30 04:00:00     973.827329\n",
       "2005-03-30 05:00:00     854.042934\n",
       "2005-03-30 06:00:00     928.926965\n",
       "2005-03-30 07:00:00     902.312202\n",
       "2005-03-30 08:00:00    1030.707234\n",
       "Length: 100, dtype: float64"
      ]
     },
     "execution_count": 41,
     "metadata": {},
     "output_type": "execute_result"
    }
   ],
   "source": [
    "ols_model.predict(X_te)"
   ]
  },
  {
   "cell_type": "code",
   "execution_count": 42,
   "id": "7d01b4f1-e371-4a49-acf4-5b4a31baef11",
   "metadata": {},
   "outputs": [
    {
     "data": {
      "text/plain": [
       "DateTimeIndex\n",
       "2005-02-16 17:00:00    1010\n",
       "2005-02-16 18:00:00    1110\n",
       "2005-02-16 19:00:00    1300\n",
       "2005-02-16 20:00:00    1542\n",
       "2005-02-16 21:00:00    1294\n",
       "                       ... \n",
       "2005-03-26 00:00:00    1534\n",
       "2005-03-26 01:00:00    1488\n",
       "2005-03-26 02:00:00    1361\n",
       "2005-03-26 03:00:00    1360\n",
       "2005-03-26 04:00:00    1336\n",
       "Name: PT08_S4, Length: 900, dtype: int64"
      ]
     },
     "execution_count": 42,
     "metadata": {},
     "output_type": "execute_result"
    }
   ],
   "source": [
    "y_tn"
   ]
  },
  {
   "cell_type": "code",
   "execution_count": 43,
   "id": "759c5b52-1b1e-4b36-b440-0c821fac4dd8",
   "metadata": {},
   "outputs": [],
   "source": [
    "X_train = X_tn.asfreq('H')\n",
    "y_train = y_tn.asfreq('H')"
   ]
  },
  {
   "cell_type": "code",
   "execution_count": 44,
   "id": "44ecb9c9-3df8-4d90-a555-3890650473c7",
   "metadata": {},
   "outputs": [],
   "source": [
    "X_test = X_te.asfreq('H')\n",
    "y_test = y_te.asfreq('H')"
   ]
  },
  {
   "cell_type": "code",
   "execution_count": 45,
   "id": "db11e3be-a14e-4877-9d8c-5ca3cbeb3f40",
   "metadata": {},
   "outputs": [
    {
     "data": {
      "text/plain": [
       "DateTimeIndex\n",
       "2005-03-26 05:00:00    1309\n",
       "2005-03-26 06:00:00    1293\n",
       "2005-03-26 07:00:00    1325\n",
       "2005-03-26 08:00:00    1458\n",
       "2005-03-26 09:00:00    1522\n",
       "                       ... \n",
       "2005-03-30 04:00:00    1073\n",
       "2005-03-30 05:00:00    1109\n",
       "2005-03-30 06:00:00    1164\n",
       "2005-03-30 07:00:00    1457\n",
       "2005-03-30 08:00:00    1533\n",
       "Freq: H, Name: PT08_S4, Length: 100, dtype: int64"
      ]
     },
     "execution_count": 45,
     "metadata": {},
     "output_type": "execute_result"
    }
   ],
   "source": [
    "y_test"
   ]
  },
  {
   "cell_type": "code",
   "execution_count": 46,
   "id": "99a865e5-594f-4dda-8a5b-d275abea4b5a",
   "metadata": {},
   "outputs": [],
   "source": [
    "sarimax = ARIMA(endog=y_train, exog=X_train, order=(1,1,0), seasonal_order=(0,1,1,24))\n",
    "sarimax_fit = sarimax.fit()"
   ]
  },
  {
   "cell_type": "code",
   "execution_count": 47,
   "id": "15905003-c1f5-4305-b887-029f46d9c1bc",
   "metadata": {},
   "outputs": [
    {
     "data": {
      "text/html": [
       "<table class=\"simpletable\">\n",
       "<caption>SARIMAX Results</caption>\n",
       "<tr>\n",
       "  <th>Dep. Variable:</th>               <td>PT08_S4</td>            <th>  No. Observations:  </th>    <td>900</td>   \n",
       "</tr>\n",
       "<tr>\n",
       "  <th>Model:</th>           <td>ARIMA(1, 1, 0)x(0, 1, [1], 24)</td> <th>  Log Likelihood     </th> <td>-5244.604</td>\n",
       "</tr>\n",
       "<tr>\n",
       "  <th>Date:</th>                   <td>Tue, 02 Jul 2024</td>        <th>  AIC                </th> <td>10499.208</td>\n",
       "</tr>\n",
       "<tr>\n",
       "  <th>Time:</th>                       <td>08:54:37</td>            <th>  BIC                </th> <td>10523.079</td>\n",
       "</tr>\n",
       "<tr>\n",
       "  <th>Sample:</th>                    <td>02-16-2005</td>           <th>  HQIC               </th> <td>10508.340</td>\n",
       "</tr>\n",
       "<tr>\n",
       "  <th></th>                          <td>- 03-26-2005</td>          <th>                     </th>     <td> </td>    \n",
       "</tr>\n",
       "<tr>\n",
       "  <th>Covariance Type:</th>               <td>opg</td>              <th>                     </th>     <td> </td>    \n",
       "</tr>\n",
       "</table>\n",
       "<table class=\"simpletable\">\n",
       "<tr>\n",
       "      <td></td>        <th>coef</th>     <th>std err</th>      <th>z</th>      <th>P>|z|</th>  <th>[0.025</th>    <th>0.975]</th>  \n",
       "</tr>\n",
       "<tr>\n",
       "  <th>T</th>        <td>  -16.1453</td> <td>    3.231</td> <td>   -4.996</td> <td> 0.000</td> <td>  -22.479</td> <td>   -9.812</td>\n",
       "</tr>\n",
       "<tr>\n",
       "  <th>AH</th>       <td>   24.5826</td> <td>    3.539</td> <td>    6.946</td> <td> 0.000</td> <td>   17.646</td> <td>   31.520</td>\n",
       "</tr>\n",
       "<tr>\n",
       "  <th>ar.L1</th>    <td>   -0.0230</td> <td>    0.026</td> <td>   -0.885</td> <td> 0.376</td> <td>   -0.074</td> <td>    0.028</td>\n",
       "</tr>\n",
       "<tr>\n",
       "  <th>ma.S.L24</th> <td>   -0.8801</td> <td>    0.015</td> <td>  -59.336</td> <td> 0.000</td> <td>   -0.909</td> <td>   -0.851</td>\n",
       "</tr>\n",
       "<tr>\n",
       "  <th>sigma2</th>   <td> 9040.4793</td> <td>  302.297</td> <td>   29.906</td> <td> 0.000</td> <td> 8447.988</td> <td> 9632.971</td>\n",
       "</tr>\n",
       "</table>\n",
       "<table class=\"simpletable\">\n",
       "<tr>\n",
       "  <th>Ljung-Box (L1) (Q):</th>     <td>0.01</td> <th>  Jarque-Bera (JB):  </th> <td>225.36</td>\n",
       "</tr>\n",
       "<tr>\n",
       "  <th>Prob(Q):</th>                <td>0.93</td> <th>  Prob(JB):          </th>  <td>0.00</td> \n",
       "</tr>\n",
       "<tr>\n",
       "  <th>Heteroskedasticity (H):</th> <td>1.78</td> <th>  Skew:              </th>  <td>0.11</td> \n",
       "</tr>\n",
       "<tr>\n",
       "  <th>Prob(H) (two-sided):</th>    <td>0.00</td> <th>  Kurtosis:          </th>  <td>5.48</td> \n",
       "</tr>\n",
       "</table><br/><br/>Warnings:<br/>[1] Covariance matrix calculated using the outer product of gradients (complex-step)."
      ],
      "text/latex": [
       "\\begin{center}\n",
       "\\begin{tabular}{lclc}\n",
       "\\toprule\n",
       "\\textbf{Dep. Variable:}          &            PT08\\_S4            & \\textbf{  No. Observations:  } &    900      \\\\\n",
       "\\textbf{Model:}                  & ARIMA(1, 1, 0)x(0, 1, [1], 24) & \\textbf{  Log Likelihood     } & -5244.604   \\\\\n",
       "\\textbf{Date:}                   &        Tue, 02 Jul 2024        & \\textbf{  AIC                } & 10499.208   \\\\\n",
       "\\textbf{Time:}                   &            08:54:37            & \\textbf{  BIC                } & 10523.079   \\\\\n",
       "\\textbf{Sample:}                 &           02-16-2005           & \\textbf{  HQIC               } & 10508.340   \\\\\n",
       "\\textbf{}                        &          - 03-26-2005          & \\textbf{                     } &             \\\\\n",
       "\\textbf{Covariance Type:}        &              opg               & \\textbf{                     } &             \\\\\n",
       "\\bottomrule\n",
       "\\end{tabular}\n",
       "\\begin{tabular}{lcccccc}\n",
       "                  & \\textbf{coef} & \\textbf{std err} & \\textbf{z} & \\textbf{P$> |$z$|$} & \\textbf{[0.025} & \\textbf{0.975]}  \\\\\n",
       "\\midrule\n",
       "\\textbf{T}        &     -16.1453  &        3.231     &    -4.996  &         0.000        &      -22.479    &       -9.812     \\\\\n",
       "\\textbf{AH}       &      24.5826  &        3.539     &     6.946  &         0.000        &       17.646    &       31.520     \\\\\n",
       "\\textbf{ar.L1}    &      -0.0230  &        0.026     &    -0.885  &         0.376        &       -0.074    &        0.028     \\\\\n",
       "\\textbf{ma.S.L24} &      -0.8801  &        0.015     &   -59.336  &         0.000        &       -0.909    &       -0.851     \\\\\n",
       "\\textbf{sigma2}   &    9040.4793  &      302.297     &    29.906  &         0.000        &     8447.988    &     9632.971     \\\\\n",
       "\\bottomrule\n",
       "\\end{tabular}\n",
       "\\begin{tabular}{lclc}\n",
       "\\textbf{Ljung-Box (L1) (Q):}     & 0.01 & \\textbf{  Jarque-Bera (JB):  } & 225.36  \\\\\n",
       "\\textbf{Prob(Q):}                & 0.93 & \\textbf{  Prob(JB):          } &  0.00   \\\\\n",
       "\\textbf{Heteroskedasticity (H):} & 1.78 & \\textbf{  Skew:              } &  0.11   \\\\\n",
       "\\textbf{Prob(H) (two-sided):}    & 0.00 & \\textbf{  Kurtosis:          } &  5.48   \\\\\n",
       "\\bottomrule\n",
       "\\end{tabular}\n",
       "%\\caption{SARIMAX Results}\n",
       "\\end{center}\n",
       "\n",
       "Warnings: \\newline\n",
       " [1] Covariance matrix calculated using the outer product of gradients (complex-step)."
      ],
      "text/plain": [
       "<class 'statsmodels.iolib.summary.Summary'>\n",
       "\"\"\"\n",
       "                                     SARIMAX Results                                      \n",
       "==========================================================================================\n",
       "Dep. Variable:                            PT08_S4   No. Observations:                  900\n",
       "Model:             ARIMA(1, 1, 0)x(0, 1, [1], 24)   Log Likelihood               -5244.604\n",
       "Date:                            Tue, 02 Jul 2024   AIC                          10499.208\n",
       "Time:                                    08:54:37   BIC                          10523.079\n",
       "Sample:                                02-16-2005   HQIC                         10508.340\n",
       "                                     - 03-26-2005                                         \n",
       "Covariance Type:                              opg                                         \n",
       "==============================================================================\n",
       "                 coef    std err          z      P>|z|      [0.025      0.975]\n",
       "------------------------------------------------------------------------------\n",
       "T            -16.1453      3.231     -4.996      0.000     -22.479      -9.812\n",
       "AH            24.5826      3.539      6.946      0.000      17.646      31.520\n",
       "ar.L1         -0.0230      0.026     -0.885      0.376      -0.074       0.028\n",
       "ma.S.L24      -0.8801      0.015    -59.336      0.000      -0.909      -0.851\n",
       "sigma2      9040.4793    302.297     29.906      0.000    8447.988    9632.971\n",
       "===================================================================================\n",
       "Ljung-Box (L1) (Q):                   0.01   Jarque-Bera (JB):               225.36\n",
       "Prob(Q):                              0.93   Prob(JB):                         0.00\n",
       "Heteroskedasticity (H):               1.78   Skew:                             0.11\n",
       "Prob(H) (two-sided):                  0.00   Kurtosis:                         5.48\n",
       "===================================================================================\n",
       "\n",
       "Warnings:\n",
       "[1] Covariance matrix calculated using the outer product of gradients (complex-step).\n",
       "\"\"\""
      ]
     },
     "execution_count": 47,
     "metadata": {},
     "output_type": "execute_result"
    }
   ],
   "source": [
    "sarimax_fit.summary()"
   ]
  },
  {
   "cell_type": "code",
   "execution_count": 48,
   "id": "a897e313-9aa1-4d97-bf0f-5ea177812374",
   "metadata": {},
   "outputs": [
    {
     "data": {
      "text/plain": [
       "DateTimeIndex\n",
       "2005-02-16 17:00:00    -121.174296\n",
       "2005-02-16 18:00:00    1022.755962\n",
       "2005-02-16 19:00:00    1115.900212\n",
       "2005-02-16 20:00:00    1306.084613\n",
       "2005-02-16 21:00:00    1552.961913\n",
       "                          ...     \n",
       "2005-03-26 00:00:00    1427.921306\n",
       "2005-03-26 01:00:00    1489.220439\n",
       "2005-03-26 02:00:00    1425.691600\n",
       "2005-03-26 03:00:00    1336.854742\n",
       "2005-03-26 04:00:00    1337.022572\n",
       "Freq: H, Name: predicted_mean, Length: 900, dtype: float64"
      ]
     },
     "execution_count": 48,
     "metadata": {},
     "output_type": "execute_result"
    }
   ],
   "source": [
    "sarimax_fit.predict()"
   ]
  },
  {
   "cell_type": "code",
   "execution_count": 49,
   "id": "3e690245-5e15-45fe-9ad6-b39f8ace0eb1",
   "metadata": {},
   "outputs": [
    {
     "data": {
      "text/plain": [
       "2005-03-26 05:00:00    1317.998473\n",
       "2005-03-26 06:00:00    1334.624957\n",
       "2005-03-26 07:00:00    1413.269919\n",
       "2005-03-26 08:00:00    1767.346876\n",
       "2005-03-26 09:00:00    1956.451181\n",
       "                          ...     \n",
       "2005-03-30 04:00:00    1571.202454\n",
       "2005-03-30 05:00:00    1576.185184\n",
       "2005-03-30 06:00:00    1576.608123\n",
       "2005-03-30 07:00:00    1660.099112\n",
       "2005-03-30 08:00:00    1998.104532\n",
       "Freq: H, Name: predicted_mean, Length: 100, dtype: float64"
      ]
     },
     "execution_count": 49,
     "metadata": {},
     "output_type": "execute_result"
    }
   ],
   "source": [
    "sarimax_fit.forecast(steps=len(X_test), exog=X_test)"
   ]
  },
  {
   "cell_type": "code",
   "execution_count": 50,
   "id": "e8709899-103d-4fbe-aca9-685e9e9302fc",
   "metadata": {},
   "outputs": [
    {
     "data": {
      "text/plain": [
       "DateTimeIndex\n",
       "2005-03-26 05:00:00    1309\n",
       "2005-03-26 06:00:00    1293\n",
       "2005-03-26 07:00:00    1325\n",
       "2005-03-26 08:00:00    1458\n",
       "2005-03-26 09:00:00    1522\n",
       "                       ... \n",
       "2005-03-30 04:00:00    1073\n",
       "2005-03-30 05:00:00    1109\n",
       "2005-03-30 06:00:00    1164\n",
       "2005-03-30 07:00:00    1457\n",
       "2005-03-30 08:00:00    1533\n",
       "Freq: H, Name: PT08_S4, Length: 100, dtype: int64"
      ]
     },
     "execution_count": 50,
     "metadata": {},
     "output_type": "execute_result"
    }
   ],
   "source": [
    "y_test"
   ]
  },
  {
   "cell_type": "code",
   "execution_count": 54,
   "id": "a331abd9-f807-421b-9175-aef1b15e8bd1",
   "metadata": {},
   "outputs": [
    {
     "name": "stderr",
     "output_type": "stream",
     "text": [
      "C:\\Users\\User\\miniconda3\\envs\\intensive\\Lib\\site-packages\\seaborn\\_oldcore.py:1119: FutureWarning: use_inf_as_na option is deprecated and will be removed in a future version. Convert inf values to NaN before operating instead.\n",
      "  with pd.option_context('mode.use_inf_as_na', True):\n",
      "C:\\Users\\User\\miniconda3\\envs\\intensive\\Lib\\site-packages\\seaborn\\_oldcore.py:1119: FutureWarning: use_inf_as_na option is deprecated and will be removed in a future version. Convert inf values to NaN before operating instead.\n",
      "  with pd.option_context('mode.use_inf_as_na', True):\n",
      "C:\\Users\\User\\miniconda3\\envs\\intensive\\Lib\\site-packages\\seaborn\\_oldcore.py:1119: FutureWarning: use_inf_as_na option is deprecated and will be removed in a future version. Convert inf values to NaN before operating instead.\n",
      "  with pd.option_context('mode.use_inf_as_na', True):\n",
      "C:\\Users\\User\\miniconda3\\envs\\intensive\\Lib\\site-packages\\seaborn\\_oldcore.py:1119: FutureWarning: use_inf_as_na option is deprecated and will be removed in a future version. Convert inf values to NaN before operating instead.\n",
      "  with pd.option_context('mode.use_inf_as_na', True):\n"
     ]
    },
    {
     "data": {
      "text/plain": [
       "(array([12868.5, 12869. , 12869.5, 12870. , 12870.5, 12871. , 12871.5,\n",
       "        12872. , 12872.5]),\n",
       " [Text(12868.5, 0, '03-26 12'),\n",
       "  Text(12869.0, 0, '03-27 00'),\n",
       "  Text(12869.5, 0, '03-27 12'),\n",
       "  Text(12870.0, 0, '03-28 00'),\n",
       "  Text(12870.5, 0, '03-28 12'),\n",
       "  Text(12871.0, 0, '03-29 00'),\n",
       "  Text(12871.5, 0, '03-29 12'),\n",
       "  Text(12872.0, 0, '03-30 00'),\n",
       "  Text(12872.5, 0, '03-30 12')])"
      ]
     },
     "execution_count": 54,
     "metadata": {},
     "output_type": "execute_result"
    },
    {
     "data": {
      "image/png": "[encoded data removed]",
      "text/plain": [
       "<Figure size 640x480 with 1 Axes>"
      ]
     },
     "metadata": {},
     "output_type": "display_data"
    }
   ],
   "source": [
    "import seaborn as sns\n",
    "import matplotlib.pyplot as plt\n",
    "sns.lineplot(sarimax_fit.forecast(steps=len(X_test), exog=X_test), label='pred')\n",
    "sns.lineplot(y_test, color='red', label='test')\n",
    "plt.xticks(rotation=90)"
   ]
  },
  {
   "cell_type": "code",
   "execution_count": 55,
   "id": "187d1199-ad1a-4a43-bd0f-8af0ddc28443",
   "metadata": {},
   "outputs": [
    {
     "name": "stdout",
     "output_type": "stream",
     "text": [
      "Iteration:      1,   Func. Count:      5,   Neg. LLF: 6145.472529512024\n",
      "Iteration:      2,   Func. Count:     10,   Neg. LLF: 6141.004542180426\n",
      "Iteration:      3,   Func. Count:     14,   Neg. LLF: 6129.2687634324775\n",
      "Iteration:      4,   Func. Count:     18,   Neg. LLF: 6120.179168927249\n",
      "Iteration:      5,   Func. Count:     22,   Neg. LLF: 6119.610661065649\n",
      "Iteration:      6,   Func. Count:     26,   Neg. LLF: 6119.588002745563\n",
      "Iteration:      7,   Func. Count:     30,   Neg. LLF: 6119.587793126943\n",
      "Iteration:      8,   Func. Count:     34,   Neg. LLF: 6119.587789379819\n",
      "Iteration:      9,   Func. Count:     38,   Neg. LLF: 6119.587783770034\n",
      "Iteration:     10,   Func. Count:     42,   Neg. LLF: 6119.587767089447\n",
      "Iteration:     11,   Func. Count:     46,   Neg. LLF: 6119.587686890489\n",
      "Iteration:     12,   Func. Count:     50,   Neg. LLF: 6119.587583732056\n",
      "Iteration:     13,   Func. Count:     54,   Neg. LLF: 6119.586937589176\n",
      "Iteration:     14,   Func. Count:     58,   Neg. LLF: 6119.583792146732\n",
      "Iteration:     15,   Func. Count:     62,   Neg. LLF: 6119.578898215857\n",
      "Iteration:     16,   Func. Count:     66,   Neg. LLF: 6119.559464510934\n",
      "Iteration:     17,   Func. Count:     70,   Neg. LLF: 6119.530057863791\n",
      "Iteration:     18,   Func. Count:     74,   Neg. LLF: 6119.458620869698\n",
      "Iteration:     19,   Func. Count:     78,   Neg. LLF: 6119.00495194713\n",
      "Iteration:     20,   Func. Count:     82,   Neg. LLF: 6117.945784216098\n",
      "Iteration:     21,   Func. Count:     86,   Neg. LLF: 6115.522064152361\n",
      "Iteration:     22,   Func. Count:     90,   Neg. LLF: 6114.325301604491\n",
      "Iteration:     23,   Func. Count:     94,   Neg. LLF: 6114.042568286667\n",
      "Iteration:     24,   Func. Count:     98,   Neg. LLF: 6114.025499522144\n",
      "Iteration:     25,   Func. Count:    102,   Neg. LLF: 6114.032027502126\n",
      "Optimization terminated successfully    (Exit mode 0)\n",
      "            Current function value: 6114.025499630206\n",
      "            Iterations: 25\n",
      "            Function evaluations: 112\n",
      "            Gradient evaluations: 25\n"
     ]
    },
    {
     "name": "stderr",
     "output_type": "stream",
     "text": [
      "C:\\Users\\User\\miniconda3\\envs\\intensive\\Lib\\site-packages\\arch\\univariate\\base.py:311: DataScaleWarning: y is poorly scaled, which may affect convergence of the optimizer when\n",
      "estimating the model parameters. The scale of y is 7.674e+04. Parameter\n",
      "estimation work better when this value is between 1 and 1000. The recommended\n",
      "rescaling is 0.1 * y.\n",
      "\n",
      "This warning can be disabled by either rescaling y before initializing the\n",
      "model or by setting rescale=False.\n",
      "\n",
      "  warnings.warn(\n"
     ]
    }
   ],
   "source": [
    "arch = arch_model(y_train, vol='ARCH', p=1)\n",
    "arch_fit = arch.fit()"
   ]
  },
  {
   "cell_type": "code",
   "execution_count": 56,
   "id": "be1f24e7-a5a1-4f2c-859e-6c971f6b0a1e",
   "metadata": {},
   "outputs": [
    {
     "data": {
      "text/plain": [
       "<bound method ARCHModelFixedResult.forecast of                       Constant Mean - ARCH Model Results                      \n",
       "==============================================================================\n",
       "Dep. Variable:                PT08_S4   R-squared:                       0.000\n",
       "Mean Model:             Constant Mean   Adj. R-squared:                  0.000\n",
       "Vol Model:                       ARCH   Log-Likelihood:               -6114.03\n",
       "Distribution:                  Normal   AIC:                           12234.1\n",
       "Method:            Maximum Likelihood   BIC:                           12248.5\n",
       "                                        No. Observations:                  900\n",
       "Date:                Tue, Jul 02 2024   Df Residuals:                      899\n",
       "Time:                        09:32:06   Df Model:                            1\n",
       "                                 Mean Model                                 \n",
       "============================================================================\n",
       "                 coef    std err          t      P>|t|      95.0% Conf. Int.\n",
       "----------------------------------------------------------------------------\n",
       "mu          1051.2059     25.554     41.136      0.000 [1.001e+03,1.101e+03]\n",
       "                              Volatility Model                              \n",
       "============================================================================\n",
       "                 coef    std err          t      P>|t|      95.0% Conf. Int.\n",
       "----------------------------------------------------------------------------\n",
       "omega      1.0041e+04   3794.373      2.646  8.138e-03 [2.604e+03,1.748e+04]\n",
       "alpha[1]       1.0000      0.145      6.897  5.307e-12     [  0.716,  1.284]\n",
       "============================================================================\n",
       "\n",
       "Covariance estimator: robust\n",
       "ARCHModelResult, id: 0x2bd1befd990>"
      ]
     },
     "execution_count": 56,
     "metadata": {},
     "output_type": "execute_result"
    }
   ],
   "source": [
    "arch_fit.forecast"
   ]
  },
  {
   "cell_type": "code",
   "execution_count": 57,
   "id": "b17177da-5148-433e-bea7-371887322c2c",
   "metadata": {},
   "outputs": [],
   "source": [
    "pred_var = arch_fit.forecast(horizon=len(y_test))"
   ]
  },
  {
   "cell_type": "code",
   "execution_count": 58,
   "id": "c008c7fb-b407-4f22-a709-b4a0b7b796f5",
   "metadata": {},
   "outputs": [
    {
     "data": {
      "text/plain": [
       "array([[  91148.64734654,  101189.59126678,  111230.53518701,\n",
       "         121271.47910724,  131312.42302748,  141353.36694771,\n",
       "         151394.31086794,  161435.25478817,  171476.19870841,\n",
       "         181517.14262864,  191558.08654887,  201599.03046911,\n",
       "         211639.97438934,  221680.91830957,  231721.86222981,\n",
       "         241762.80615004,  251803.75007027,  261844.6939905 ,\n",
       "         271885.63791074,  281926.58183097,  291967.5257512 ,\n",
       "         302008.46967144,  312049.41359167,  322090.3575119 ,\n",
       "         332131.30143214,  342172.24535237,  352213.1892726 ,\n",
       "         362254.13319283,  372295.07711307,  382336.0210333 ,\n",
       "         392376.96495353,  402417.90887377,  412458.852794  ,\n",
       "         422499.79671423,  432540.74063447,  442581.6845547 ,\n",
       "         452622.62847493,  462663.57239516,  472704.5163154 ,\n",
       "         482745.46023563,  492786.40415586,  502827.3480761 ,\n",
       "         512868.29199633,  522909.23591656,  532950.17983679,\n",
       "         542991.12375703,  553032.06767726,  563073.01159749,\n",
       "         573113.95551773,  583154.89943796,  593195.84335819,\n",
       "         603236.78727843,  613277.73119866,  623318.67511889,\n",
       "         633359.61903912,  643400.56295936,  653441.50687959,\n",
       "         663482.45079982,  673523.39472006,  683564.33864029,\n",
       "         693605.28256052,  703646.22648075,  713687.17040099,\n",
       "         723728.11432122,  733769.05824145,  743810.00216169,\n",
       "         753850.94608192,  763891.89000215,  773932.83392239,\n",
       "         783973.77784262,  794014.72176285,  804055.66568308,\n",
       "         814096.60960332,  824137.55352355,  834178.49744378,\n",
       "         844219.44136402,  854260.38528425,  864301.32920448,\n",
       "         874342.27312471,  884383.21704495,  894424.16096518,\n",
       "         904465.10488541,  914506.04880565,  924546.99272588,\n",
       "         934587.93664611,  944628.88056634,  954669.82448658,\n",
       "         964710.76840681,  974751.71232704,  984792.65624728,\n",
       "         994833.60016751, 1004874.54408774, 1014915.48800798,\n",
       "        1024956.43192821, 1034997.37584844, 1045038.31976867,\n",
       "        1055079.26368891, 1065120.20760914, 1075161.15152937,\n",
       "        1085202.09544961]])"
      ]
     },
     "execution_count": 58,
     "metadata": {},
     "output_type": "execute_result"
    }
   ],
   "source": [
    "pred_var.variance.values"
   ]
  },
  {
   "cell_type": "code",
   "execution_count": 59,
   "id": "e3b9f4f5-4d14-44da-8124-ecf384d8bfb6",
   "metadata": {},
   "outputs": [],
   "source": [
    "pred_arch = np.sqrt(pred_var.variance.values[0])"
   ]
  },
  {
   "cell_type": "code",
   "execution_count": 60,
   "id": "ddd296ea-5387-4e32-9e7a-16613c5c6fcf",
   "metadata": {},
   "outputs": [
    {
     "data": {
      "text/plain": [
       "array([ 301.90834262,  318.1031142 ,  333.51242134,  348.24054776,\n",
       "        362.37056038,  375.96990165,  389.0942185 ,  401.79006308,\n",
       "        414.09684702,  426.04828673,  437.67349308,  448.99780675,\n",
       "        460.04344837,  470.83003123,  481.37497051,  491.69381341,\n",
       "        501.80050824,  511.7076255 ,  521.42654124,  530.96759019,\n",
       "        540.34019446,  549.55297258,  558.61383226,  567.53004988,\n",
       "        576.30833885,  584.95490882,  593.475517  ,  601.87551304,\n",
       "        610.15987832,  618.33326049,  626.40000395,  634.36417685,\n",
       "        642.22959508,  649.99984363,  657.6782957 ,  665.26812982,\n",
       "        672.77234521,  680.19377562,  687.53510188,  694.79886315,\n",
       "        701.98746724,  709.10319988,  716.14823326,  723.12463374,\n",
       "        730.03436894,  736.87931424,  743.66125869,  750.38191049,\n",
       "        757.04290203,  763.64579449,  770.19208212,  776.68319621,\n",
       "        783.12050873,  789.50533571,  795.83894039,  802.12253612,\n",
       "        808.35728912,  814.54432095,  820.68471091,  826.7794982 ,\n",
       "        832.82968401,  838.83623341,  844.80007718,  850.72211345,\n",
       "        856.60320933,  862.44420235,  868.24590185,  874.00909034,\n",
       "        879.73452468,  885.42293727,  891.07503711,  896.69151088,\n",
       "        902.27302387,  907.82022093,  913.33372731,  918.81414952,\n",
       "        924.26207608,  929.67807826,  935.0627108 ,  940.41651253,\n",
       "        945.74000707,  951.03370334,  956.29809621,  961.53366697,\n",
       "        966.74088392,  971.92020278,  977.07206719,  982.19690918,\n",
       "        987.29514955,  992.36719829,  997.41345498, 1002.43430911,\n",
       "       1007.43014051, 1012.4013196 , 1017.34820777, 1022.27115765,\n",
       "       1027.17051344, 1032.04661116, 1036.89977892, 1041.7303372 ])"
      ]
     },
     "execution_count": 60,
     "metadata": {},
     "output_type": "execute_result"
    }
   ],
   "source": [
    "pred_arch"
   ]
  },
  {
   "cell_type": "code",
   "execution_count": 61,
   "id": "1b48bba3-7e58-4228-8c6d-9bbfc6b50e5f",
   "metadata": {},
   "outputs": [
    {
     "name": "stderr",
     "output_type": "stream",
     "text": [
      "C:\\Users\\User\\miniconda3\\envs\\intensive\\Lib\\site-packages\\arch\\univariate\\base.py:311: DataScaleWarning: y is poorly scaled, which may affect convergence of the optimizer when\n",
      "estimating the model parameters. The scale of y is 7.674e+04. Parameter\n",
      "estimation work better when this value is between 1 and 1000. The recommended\n",
      "rescaling is 0.1 * y.\n",
      "\n",
      "This warning can be disabled by either rescaling y before initializing the\n",
      "model or by setting rescale=False.\n",
      "\n",
      "  warnings.warn(\n"
     ]
    },
    {
     "name": "stdout",
     "output_type": "stream",
     "text": [
      "Iteration:      1,   Func. Count:     34,   Neg. LLF: 6179.791297746277\n",
      "Iteration:      2,   Func. Count:     67,   Neg. LLF: 6123.397145478621\n",
      "Iteration:      3,   Func. Count:    101,   Neg. LLF: 6748.969787008376\n",
      "Iteration:      4,   Func. Count:    137,   Neg. LLF: 7869.9729490697755\n",
      "Iteration:      5,   Func. Count:    172,   Neg. LLF: 6110.230369907059\n",
      "Iteration:      6,   Func. Count:    206,   Neg. LLF: 6103.991024259718\n",
      "Iteration:      7,   Func. Count:    239,   Neg. LLF: 6102.173843623951\n",
      "Iteration:      8,   Func. Count:    272,   Neg. LLF: 6115.888151787677\n",
      "Iteration:      9,   Func. Count:    306,   Neg. LLF: 6097.031528521321\n",
      "Iteration:     10,   Func. Count:    339,   Neg. LLF: 6086.235321025513\n",
      "Iteration:     11,   Func. Count:    372,   Neg. LLF: 6080.368357302004\n",
      "Iteration:     12,   Func. Count:    405,   Neg. LLF: 6079.935321776635\n",
      "Iteration:     13,   Func. Count:    439,   Neg. LLF: 6076.55244545851\n",
      "Iteration:     14,   Func. Count:    472,   Neg. LLF: 6076.712560028076\n",
      "Iteration:     15,   Func. Count:    506,   Neg. LLF: 6076.4839906355055\n",
      "Iteration:     16,   Func. Count:    540,   Neg. LLF: 6076.467552184893\n",
      "Iteration:     17,   Func. Count:    573,   Neg. LLF: 6116.940042102901\n",
      "Iteration:     18,   Func. Count:    610,   Neg. LLF: 6089.650258842183\n",
      "Iteration:     19,   Func. Count:    647,   Neg. LLF: 6076.478043834075\n",
      "Iteration:     20,   Func. Count:    683,   Neg. LLF: 6076.486515908829\n",
      "Iteration:     21,   Func. Count:    719,   Neg. LLF: 6079.022390857248\n",
      "Iteration:     22,   Func. Count:    756,   Neg. LLF: 6076.4887836718135\n",
      "Iteration:     23,   Func. Count:    792,   Neg. LLF: 6076.467484594972\n",
      "Iteration:     24,   Func. Count:    825,   Neg. LLF: 6095.459672237597\n",
      "Optimization terminated successfully    (Exit mode 0)\n",
      "            Current function value: 6076.467484525111\n",
      "            Iterations: 28\n",
      "            Function evaluations: 830\n",
      "            Gradient evaluations: 24\n"
     ]
    }
   ],
   "source": [
    "garch = arch_model(y_train, vol='GARCH', p=15, q=15)\n",
    "garch_fit = garch.fit()"
   ]
  },
  {
   "cell_type": "code",
   "execution_count": 62,
   "id": "c8712dfc-8882-41f9-8083-5e9b7bb2f507",
   "metadata": {},
   "outputs": [],
   "source": [
    "pred_var = garch_fit.forecast(horizon=len(y_test))"
   ]
  },
  {
   "cell_type": "code",
   "execution_count": 63,
   "id": "d0f87271-8d4e-4fc4-8b31-b488005ddd8d",
   "metadata": {},
   "outputs": [],
   "source": [
    "pred_garch = np.sqrt(pred_var.variance.values[0])"
   ]
  },
  {
   "cell_type": "code",
   "execution_count": 64,
   "id": "eeb56cf6-3123-408d-bc10-83be82a0288c",
   "metadata": {},
   "outputs": [
    {
     "data": {
      "text/plain": [
       "array([323.35286485, 366.92396456, 430.54862238, 495.68595321,\n",
       "       534.68542188, 548.31386704, 553.73113365, 550.07275961,\n",
       "       551.15024984, 549.34714463, 541.40215564, 533.91634746,\n",
       "       525.93810862, 520.85313694, 518.302843  , 519.63492169,\n",
       "       525.21897362, 533.18084835, 541.46571472, 549.4236457 ,\n",
       "       556.40494088, 562.8619596 , 568.63428411, 573.34834038,\n",
       "       577.14592373, 580.08455599, 582.44336143, 584.44457155,\n",
       "       586.37785658, 588.53416913, 591.0593244 , 593.95048538,\n",
       "       597.1599715 , 600.59728437, 604.20937529, 607.93532953,\n",
       "       611.69203629, 615.41270805, 619.03992029, 622.54072796,\n",
       "       625.90062332, 629.12669793, 632.24584656, 635.29290971,\n",
       "       638.29965043, 641.29193172, 644.28721775, 647.29788884,\n",
       "       650.33108107, 653.38751383, 656.46312583, 659.55009498,\n",
       "       662.63886014, 665.71956468, 668.7836171 , 671.82500274,\n",
       "       674.84064782, 677.82996958, 680.79426099, 683.7359464 ,\n",
       "       686.65813228, 689.56418197, 692.45723995, 695.33990969,\n",
       "       698.21402847, 701.08060342, 703.93985507, 706.79136876,\n",
       "       709.63432801, 712.46775592, 715.29070579, 718.10239293,\n",
       "       720.9022631 , 723.69002345, 726.46564071, 729.22930539,\n",
       "       731.98137569, 734.7223097 , 737.45259821, 740.17270588,\n",
       "       742.88302782, 745.58386628, 748.27542646, 750.95782633,\n",
       "       753.63111511, 756.29529531, 758.9503452 , 761.59623947,\n",
       "       764.23296566, 766.86053532, 769.47898941, 772.08839842,\n",
       "       774.68885827, 777.2804834 , 779.86339866, 782.43773161,\n",
       "       785.00360604, 787.56113737, 790.11042999, 792.65157645])"
      ]
     },
     "execution_count": 64,
     "metadata": {},
     "output_type": "execute_result"
    }
   ],
   "source": [
    "pred_garch"
   ]
  },
  {
   "cell_type": "code",
   "execution_count": 67,
   "id": "56c5bf00-8cfa-4530-a9bf-a8c300127a73",
   "metadata": {},
   "outputs": [],
   "source": [
    "sarimax = ARIMA(endog=y_train, exog=X_train, order=(1,1,0), seasonal_order=(0,1,1,12))\n",
    "sarimax_fit = sarimax.fit()\n",
    "sarimax_residual = sarimax_fit.resid"
   ]
  },
  {
   "cell_type": "code",
   "execution_count": 68,
   "id": "9c620aa1-0d53-464f-aa52-b9413993e77c",
   "metadata": {},
   "outputs": [
    {
     "data": {
      "text/plain": [
       "DateTimeIndex\n",
       "2005-02-16 17:00:00    1015.103920\n",
       "2005-02-16 18:00:00      97.774049\n",
       "2005-02-16 19:00:00     189.351140\n",
       "2005-02-16 20:00:00     241.135167\n",
       "2005-02-16 21:00:00    -249.359669\n",
       "                          ...     \n",
       "2005-03-26 00:00:00     111.494736\n",
       "2005-03-26 01:00:00     -46.802525\n",
       "2005-03-26 02:00:00    -101.757225\n",
       "2005-03-26 03:00:00      37.279490\n",
       "2005-03-26 04:00:00     -22.630145\n",
       "Freq: H, Length: 900, dtype: float64"
      ]
     },
     "execution_count": 68,
     "metadata": {},
     "output_type": "execute_result"
    }
   ],
   "source": [
    "sarimax_residual"
   ]
  },
  {
   "cell_type": "code",
   "execution_count": 71,
   "id": "b9d9e485-1d50-4d9b-a911-078b1b1807ec",
   "metadata": {},
   "outputs": [],
   "source": [
    "adjusted_constant = 0.1\n",
    "adj_sarimax_residual = sarimax_residual*adjusted_constant"
   ]
  },
  {
   "cell_type": "code",
   "execution_count": 72,
   "id": "af92e848-5cbf-4076-a00e-685dac374998",
   "metadata": {},
   "outputs": [
    {
     "data": {
      "text/plain": [
       "count    900.000000\n",
       "mean       0.105443\n",
       "std       12.104562\n",
       "min      -53.930939\n",
       "25%       -5.470847\n",
       "50%       -0.338875\n",
       "75%        4.947957\n",
       "max      101.510392\n",
       "dtype: float64"
      ]
     },
     "execution_count": 72,
     "metadata": {},
     "output_type": "execute_result"
    }
   ],
   "source": [
    "adj_sarimax_residual.describe()"
   ]
  },
  {
   "cell_type": "code",
   "execution_count": 73,
   "id": "bce35135-a7be-4dbb-a871-d3d51b812719",
   "metadata": {},
   "outputs": [
    {
     "name": "stdout",
     "output_type": "stream",
     "text": [
      "Iteration:      1,   Func. Count:     44,   Neg. LLF: 3474.826172840859\n",
      "Iteration:      2,   Func. Count:     88,   Neg. LLF: 3447.6590917181425\n",
      "Iteration:      3,   Func. Count:    132,   Neg. LLF: 3564.275193870279\n",
      "Iteration:      4,   Func. Count:    177,   Neg. LLF: 3674.726598809564\n",
      "Iteration:      5,   Func. Count:    222,   Neg. LLF: 3523.8571199291305\n",
      "Iteration:      6,   Func. Count:    266,   Neg. LLF: 3635.7299350347075\n",
      "Iteration:      7,   Func. Count:    310,   Neg. LLF: 3545.927038979211\n",
      "Iteration:      8,   Func. Count:    354,   Neg. LLF: 3444.7662891832006\n",
      "Iteration:      9,   Func. Count:    398,   Neg. LLF: 3493.4899789517926\n",
      "Iteration:     10,   Func. Count:    442,   Neg. LLF: 3441.8669267846126\n",
      "Iteration:     11,   Func. Count:    486,   Neg. LLF: 3452.046187574845\n",
      "Iteration:     12,   Func. Count:    530,   Neg. LLF: 3471.0964387603894\n",
      "Iteration:     13,   Func. Count:    574,   Neg. LLF: 5750.746098203266\n",
      "Iteration:     14,   Func. Count:    618,   Neg. LLF: 5043.68492034342\n",
      "Iteration:     15,   Func. Count:    662,   Neg. LLF: 3641.5841200050754\n",
      "Iteration:     16,   Func. Count:    706,   Neg. LLF: 3496.6883374440986\n",
      "Iteration:     17,   Func. Count:    750,   Neg. LLF: 3441.933666922794\n",
      "Iteration:     18,   Func. Count:    794,   Neg. LLF: 3511.541592264206\n",
      "Iteration:     19,   Func. Count:    838,   Neg. LLF: 3370.770298549353\n",
      "Iteration:     20,   Func. Count:    882,   Neg. LLF: 3371.9724078691643\n",
      "Iteration:     21,   Func. Count:    926,   Neg. LLF: 3351.739358719798\n",
      "Iteration:     22,   Func. Count:    970,   Neg. LLF: 3361.416424910678\n",
      "Iteration:     23,   Func. Count: 1.01e+03,   Neg. LLF: 3352.6194049848355\n",
      "Iteration:     24,   Func. Count: 1.06e+03,   Neg. LLF: 3360.8305520505182\n",
      "Iteration:     25,   Func. Count: 1.1e+03,   Neg. LLF: 3355.584563693097\n",
      "Iteration:     26,   Func. Count: 1.15e+03,   Neg. LLF: 3343.1268528425885\n",
      "Iteration:     27,   Func. Count: 1.19e+03,   Neg. LLF: 3342.408071766389\n",
      "Iteration:     28,   Func. Count: 1.23e+03,   Neg. LLF: 3341.852512728905\n",
      "Iteration:     29,   Func. Count: 1.28e+03,   Neg. LLF: 3341.8435526028566\n",
      "Iteration:     30,   Func. Count: 1.32e+03,   Neg. LLF: 3341.837329705058\n",
      "Iteration:     31,   Func. Count: 1.36e+03,   Neg. LLF: 3341.836306830254\n",
      "Iteration:     32,   Func. Count: 1.41e+03,   Neg. LLF: 3341.83588249251\n",
      "Iteration:     33,   Func. Count: 1.45e+03,   Neg. LLF: 3341.835821184409\n",
      "Iteration:     34,   Func. Count: 1.49e+03,   Neg. LLF: 3424.8159061551687\n",
      "Iteration:     35,   Func. Count: 1.54e+03,   Neg. LLF: 3401.8090461835186\n",
      "Optimization terminated successfully    (Exit mode 0)\n",
      "            Current function value: 3341.835817850368\n",
      "            Iterations: 36\n",
      "            Function evaluations: 1543\n",
      "            Gradient evaluations: 35\n"
     ]
    }
   ],
   "source": [
    "garch = arch_model(adj_sarimax_residual, vol='GARCH', p=20, q=20)\n",
    "garch_fit = garch.fit()"
   ]
  },
  {
   "cell_type": "code",
   "execution_count": 74,
   "id": "bdc98ac7-640b-4b5c-8582-59d3f623fb46",
   "metadata": {},
   "outputs": [
    {
     "data": {
      "text/plain": [
       "2005-03-26 05:00:00    1343.640239\n",
       "2005-03-26 06:00:00    1424.351508\n",
       "2005-03-26 07:00:00    1527.959922\n",
       "2005-03-26 08:00:00    1668.701526\n",
       "2005-03-26 09:00:00    1635.782585\n",
       "                          ...     \n",
       "2005-03-30 04:00:00    1373.488585\n",
       "2005-03-30 05:00:00    1384.861970\n",
       "2005-03-30 06:00:00    1464.676263\n",
       "2005-03-30 07:00:00    1568.636216\n",
       "2005-03-30 08:00:00    1708.312426\n",
       "Freq: H, Name: predicted_mean, Length: 100, dtype: float64"
      ]
     },
     "execution_count": 74,
     "metadata": {},
     "output_type": "execute_result"
    }
   ],
   "source": [
    "pred_mu = sarimax_fit.forecast(steps=len(X_test), exog=X_test)\n",
    "pred_mu"
   ]
  },
  {
   "cell_type": "code",
   "execution_count": 76,
   "id": "ffe665d2-33bf-4df5-90a1-b1f8b058112a",
   "metadata": {},
   "outputs": [
    {
     "data": {
      "text/plain": [
       "<arch.univariate.base.ARCHModelForecast at 0x2bd1c332550>"
      ]
     },
     "execution_count": 76,
     "metadata": {},
     "output_type": "execute_result"
    }
   ],
   "source": [
    "adj_forecast_residual = garch_fit.forecast(horizon=len(y_test))\n",
    "adj_forecast_residual"
   ]
  },
  {
   "cell_type": "code",
   "execution_count": 77,
   "id": "0df5c399-b42c-4e0a-a6cd-b96ff8cd8fc4",
   "metadata": {},
   "outputs": [
    {
     "data": {
      "text/plain": [
       "array([[ 55.99831593, 161.51075012, 180.62888985, 327.49362365,\n",
       "        300.19281186, 254.0584814 , 173.86275216, 156.24596151,\n",
       "        107.82230881,  93.24096041,  70.42552374,  71.73987649,\n",
       "         84.98725664, 145.98211455, 183.04852867, 256.37775853,\n",
       "        256.67294807, 232.71799104, 186.65324558, 161.13176726,\n",
       "        127.59120139, 108.83352164,  92.02320726,  91.4744521 ,\n",
       "        103.45699718, 141.28829588, 175.02714604, 217.28503064,\n",
       "        225.60692538, 214.24504612, 187.29953861, 164.64581777,\n",
       "        139.6736002 , 121.89229867, 108.58604742, 106.80076382,\n",
       "        115.96637709, 140.49155572, 166.70646288, 193.86800149,\n",
       "        203.64792226, 199.18233182, 183.33727943, 165.88422723,\n",
       "        147.03178998, 131.8533969 , 121.0323953 , 118.55658167,\n",
       "        124.88157002, 141.13089461, 160.36924837, 179.03720844,\n",
       "        188.10479673, 187.2680608 , 178.03592871, 165.4304101 ,\n",
       "        151.31601681, 139.01939981, 130.19588612, 127.43397148,\n",
       "        131.44275991, 142.2739019 , 156.04560093, 169.33172676,\n",
       "        177.05861855, 178.00860106, 172.77177827, 164.00176111,\n",
       "        153.58654945, 143.93724188, 136.80056055, 134.03217247,\n",
       "        136.34253946, 143.52985898, 153.2592725 , 162.86221071,\n",
       "        169.17676325, 170.89152828, 168.07381155, 162.13322175,\n",
       "        154.5630354 , 147.15698761, 141.45329979, 138.85676096,\n",
       "        140.00722074, 144.71936031, 151.52942577, 158.50304104,\n",
       "        163.53251328, 165.4599561 , 164.09250229, 160.16100347,\n",
       "        154.73692676, 149.14747065, 144.64667151, 142.32186691,\n",
       "        142.72725938, 145.75903399, 150.48443165, 155.54313309]])"
      ]
     },
     "execution_count": 77,
     "metadata": {},
     "output_type": "execute_result"
    }
   ],
   "source": [
    "adj_forecast_residual.variance.values"
   ]
  },
  {
   "cell_type": "code",
   "execution_count": 78,
   "id": "62674469-3261-4d71-bbb9-6eaba99275dd",
   "metadata": {},
   "outputs": [
    {
     "data": {
      "text/plain": [
       "array([[ 74.83202251, 127.08687978, 134.3982477 , 180.96784898,\n",
       "        173.26073181, 159.3921207 , 131.85702566, 124.99838459,\n",
       "        103.83752155,  96.56135894,  83.91991643,  84.6993958 ,\n",
       "         92.18853326, 120.82305846, 135.29542811, 160.11800602,\n",
       "        160.21015825, 152.55097215, 136.62109851, 126.93768836,\n",
       "        112.95627534, 104.32330595,  95.92872733,  95.64227732,\n",
       "        101.71381282, 118.86475335, 132.29782539, 147.40591258,\n",
       "        150.20217222, 146.37111946, 136.85742165, 128.31438648,\n",
       "        118.18358609, 110.40484531, 104.20462918, 103.34445501,\n",
       "        107.68768597, 118.52913385, 129.11485696, 139.23649001,\n",
       "        142.70526348, 141.1319708 , 135.40209726, 128.79605088,\n",
       "        121.25666579, 114.8274344 , 110.01472415, 108.883691  ,\n",
       "        111.75042283, 118.79852466, 126.63698053, 133.80478633,\n",
       "        137.15130212, 136.84592095, 133.43010482, 128.61975357,\n",
       "        123.01057548, 117.90648829, 114.10341192, 112.8866562 ,\n",
       "        114.64848883, 119.2786242 , 124.91821362, 130.12752467,\n",
       "        133.06337533, 133.41986399, 131.44267886, 128.06317234,\n",
       "        123.93004053, 119.97384793, 116.96177177, 115.77226459,\n",
       "        116.76580812, 119.80394776, 123.7979291 , 127.61747949,\n",
       "        130.0679681 , 130.72548653, 129.64328426, 127.3315443 ,\n",
       "        124.32338292, 121.30827985, 118.93414135, 117.83749869,\n",
       "        118.32464694, 120.29936006, 123.09728907, 125.89799087,\n",
       "        127.87983159, 128.63123886, 128.09859573, 126.55473262,\n",
       "        124.39329836, 122.12594755, 120.26914464, 119.29872879,\n",
       "        119.46851442, 120.73070611, 122.67209611, 124.71693273]])"
      ]
     },
     "execution_count": 78,
     "metadata": {},
     "output_type": "execute_result"
    }
   ],
   "source": [
    "forecast_residual = np.sqrt(adj_forecast_residual.variance.values)/adjusted_constant\n",
    "forecast_residual"
   ]
  },
  {
   "cell_type": "code",
   "execution_count": 79,
   "id": "e6568449-c68b-482c-9601-216c5fb9dc54",
   "metadata": {},
   "outputs": [
    {
     "data": {
      "text/plain": [
       "DateTimeIndex\n",
       "2005-03-26 05:00:00     74.832023\n",
       "2005-03-26 06:00:00    127.086880\n",
       "2005-03-26 07:00:00    134.398248\n",
       "2005-03-26 08:00:00    180.967849\n",
       "2005-03-26 09:00:00    173.260732\n",
       "                          ...    \n",
       "2005-03-30 04:00:00    119.298729\n",
       "2005-03-30 05:00:00    119.468514\n",
       "2005-03-30 06:00:00    120.730706\n",
       "2005-03-30 07:00:00    122.672096\n",
       "2005-03-30 08:00:00    124.716933\n",
       "Freq: H, Length: 100, dtype: float64"
      ]
     },
     "execution_count": 79,
     "metadata": {},
     "output_type": "execute_result"
    }
   ],
   "source": [
    "pred_residual = pd.Series(forecast_residual[-1,:], index=y_test.index)\n",
    "pred_residual"
   ]
  },
  {
   "cell_type": "code",
   "execution_count": 80,
   "id": "3697251c-cfeb-4311-ba2b-ec292aa9e3f0",
   "metadata": {},
   "outputs": [],
   "source": [
    "e_t = np.random.randn(len(X_test))\n",
    "y_hat = pred_mu + pred_residual*e_t"
   ]
  },
  {
   "cell_type": "code",
   "execution_count": 81,
   "id": "46458344-71a7-4594-b110-f9a8e164f230",
   "metadata": {},
   "outputs": [
    {
     "data": {
      "text/plain": [
       "2005-03-26 05:00:00    1288.537886\n",
       "2005-03-26 06:00:00    1759.495180\n",
       "2005-03-26 07:00:00    1722.475760\n",
       "2005-03-26 08:00:00    1769.228807\n",
       "2005-03-26 09:00:00    1282.932447\n",
       "                          ...     \n",
       "2005-03-30 04:00:00    1355.384995\n",
       "2005-03-30 05:00:00    1411.292454\n",
       "2005-03-30 06:00:00    1417.010773\n",
       "2005-03-30 07:00:00    1524.107075\n",
       "2005-03-30 08:00:00    1834.414652\n",
       "Freq: H, Length: 100, dtype: float64"
      ]
     },
     "execution_count": 81,
     "metadata": {},
     "output_type": "execute_result"
    }
   ],
   "source": [
    "y_hat"
   ]
  },
  {
   "cell_type": "code",
   "execution_count": 82,
   "id": "d00fb56f-fec8-4349-81dd-7bcc2f7a4b23",
   "metadata": {},
   "outputs": [
    {
     "data": {
      "text/plain": [
       "DateTimeIndex\n",
       "2005-03-26 05:00:00    1309\n",
       "2005-03-26 06:00:00    1293\n",
       "2005-03-26 07:00:00    1325\n",
       "2005-03-26 08:00:00    1458\n",
       "2005-03-26 09:00:00    1522\n",
       "                       ... \n",
       "2005-03-30 04:00:00    1073\n",
       "2005-03-30 05:00:00    1109\n",
       "2005-03-30 06:00:00    1164\n",
       "2005-03-30 07:00:00    1457\n",
       "2005-03-30 08:00:00    1533\n",
       "Freq: H, Name: PT08_S4, Length: 100, dtype: int64"
      ]
     },
     "execution_count": 82,
     "metadata": {},
     "output_type": "execute_result"
    }
   ],
   "source": [
    "y_test"
   ]
  },
  {
   "cell_type": "code",
   "execution_count": 84,
   "id": "c438ab6e-37a7-4680-9fcb-6374091a57c3",
   "metadata": {},
   "outputs": [
    {
     "name": "stderr",
     "output_type": "stream",
     "text": [
      "C:\\Users\\User\\miniconda3\\envs\\intensive\\Lib\\site-packages\\seaborn\\_oldcore.py:1119: FutureWarning: use_inf_as_na option is deprecated and will be removed in a future version. Convert inf values to NaN before operating instead.\n",
      "  with pd.option_context('mode.use_inf_as_na', True):\n",
      "C:\\Users\\User\\miniconda3\\envs\\intensive\\Lib\\site-packages\\seaborn\\_oldcore.py:1119: FutureWarning: use_inf_as_na option is deprecated and will be removed in a future version. Convert inf values to NaN before operating instead.\n",
      "  with pd.option_context('mode.use_inf_as_na', True):\n",
      "C:\\Users\\User\\miniconda3\\envs\\intensive\\Lib\\site-packages\\seaborn\\_oldcore.py:1119: FutureWarning: use_inf_as_na option is deprecated and will be removed in a future version. Convert inf values to NaN before operating instead.\n",
      "  with pd.option_context('mode.use_inf_as_na', True):\n",
      "C:\\Users\\User\\miniconda3\\envs\\intensive\\Lib\\site-packages\\seaborn\\_oldcore.py:1119: FutureWarning: use_inf_as_na option is deprecated and will be removed in a future version. Convert inf values to NaN before operating instead.\n",
      "  with pd.option_context('mode.use_inf_as_na', True):\n"
     ]
    },
    {
     "data": {
      "text/plain": [
       "(array([12868.5, 12869. , 12869.5, 12870. , 12870.5, 12871. , 12871.5,\n",
       "        12872. , 12872.5]),\n",
       " [Text(12868.5, 0, '03-26 12'),\n",
       "  Text(12869.0, 0, '03-27 00'),\n",
       "  Text(12869.5, 0, '03-27 12'),\n",
       "  Text(12870.0, 0, '03-28 00'),\n",
       "  Text(12870.5, 0, '03-28 12'),\n",
       "  Text(12871.0, 0, '03-29 00'),\n",
       "  Text(12871.5, 0, '03-29 12'),\n",
       "  Text(12872.0, 0, '03-30 00'),\n",
       "  Text(12872.5, 0, '03-30 12')])"
      ]
     },
     "execution_count": 84,
     "metadata": {},
     "output_type": "execute_result"
    },
    {
     "data": {
      "image/png": "[encoded data removed]",
      "text/plain": [
       "<Figure size 640x480 with 1 Axes>"
      ]
     },
     "metadata": {},
     "output_type": "display_data"
    }
   ],
   "source": [
    "sns.lineplot(y_hat, label='pred')\n",
    "sns.lineplot(y_test, color='red', label='test')\n",
    "plt.xticks(rotation=90)"
   ]
  },
  {
   "cell_type": "code",
   "execution_count": null,
   "id": "4398a9cc-a590-4197-bdfa-86ebc7053a16",
   "metadata": {},
   "outputs": [],
   "source": []
  }
 ],
 "metadata": {
  "kernelspec": {
   "display_name": "Python 3 (ipykernel)",
   "language": "python",
   "name": "python3"
  },
  "language_info": {
   "codemirror_mode": {
    "name": "ipython",
    "version": 3
   },
   "file_extension": ".py",
   "mimetype": "text/x-python",
   "name": "python",
   "nbconvert_exporter": "python",
   "pygments_lexer": "ipython3",
   "version": "3.11.9"
  }
 },
 "nbformat": 4,
 "nbformat_minor": 5
}
