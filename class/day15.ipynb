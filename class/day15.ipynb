{
 "cells": [
  {
   "cell_type": "code",
   "execution_count": 6,
   "id": "e602720c-238e-4d00-945e-cb06a1f6d675",
   "metadata": {},
   "outputs": [],
   "source": [
    "class Country01:\n",
    "    name = '국가명'\n",
    "    capital = '수도'\n",
    "    population = 100\n",
    "\n",
    "    def introduce(self):\n",
    "        sentence = '국가 소개 문장입니다.'\n",
    "        return sentence"
   ]
  },
  {
   "cell_type": "code",
   "execution_count": 7,
   "id": "e77b8b05-041d-4d37-b34f-8f5d9d9ab0c8",
   "metadata": {},
   "outputs": [],
   "source": [
    "ex1 = Country01()"
   ]
  },
  {
   "cell_type": "code",
   "execution_count": 8,
   "id": "ea06cfb3-e83b-4ad3-ae57-ecc813fefe87",
   "metadata": {},
   "outputs": [
    {
     "data": {
      "text/plain": [
       "'국가명'"
      ]
     },
     "execution_count": 8,
     "metadata": {},
     "output_type": "execute_result"
    }
   ],
   "source": [
    "ex1.name"
   ]
  },
  {
   "cell_type": "code",
   "execution_count": 9,
   "id": "38a7ab55-b05a-4a4f-bcf8-659a55c0b1a7",
   "metadata": {},
   "outputs": [
    {
     "data": {
      "text/plain": [
       "'수도'"
      ]
     },
     "execution_count": 9,
     "metadata": {},
     "output_type": "execute_result"
    }
   ],
   "source": [
    "ex1.capital"
   ]
  },
  {
   "cell_type": "code",
   "execution_count": 10,
   "id": "d07931a0-472b-4555-8f22-a70f494ec0e7",
   "metadata": {},
   "outputs": [
    {
     "data": {
      "text/plain": [
       "'국가 소개 문장입니다.'"
      ]
     },
     "execution_count": 10,
     "metadata": {},
     "output_type": "execute_result"
    }
   ],
   "source": [
    "ex1.introduce()"
   ]
  },
  {
   "cell_type": "code",
   "execution_count": 12,
   "id": "5bdd25c5-e051-4b91-81e1-2de2e562b4a5",
   "metadata": {},
   "outputs": [],
   "source": [
    "class Country02:\n",
    "    def __init__(self, name, capital, population):\n",
    "        self.name = name\n",
    "        self.capital = capital\n",
    "        self.population = population\n",
    "        \n",
    "    def introduce(self):\n",
    "        sentence = '국가 소개 문장입니다.'\n",
    "        return sentence"
   ]
  },
  {
   "cell_type": "code",
   "execution_count": 13,
   "id": "59322653-a1f1-4d67-a661-d81a3727a555",
   "metadata": {},
   "outputs": [],
   "source": [
    "ex2 = Country02(name='Korea', capital='Seoul', population=5000000)"
   ]
  },
  {
   "cell_type": "code",
   "execution_count": 14,
   "id": "b965266a-5f8d-45eb-8083-17010fea6d29",
   "metadata": {},
   "outputs": [
    {
     "data": {
      "text/plain": [
       "'Korea'"
      ]
     },
     "execution_count": 14,
     "metadata": {},
     "output_type": "execute_result"
    }
   ],
   "source": [
    "ex2.name"
   ]
  },
  {
   "cell_type": "code",
   "execution_count": 15,
   "id": "2dbcbfc7-fd9f-4998-b924-6eada852b52a",
   "metadata": {},
   "outputs": [
    {
     "data": {
      "text/plain": [
       "'Seoul'"
      ]
     },
     "execution_count": 15,
     "metadata": {},
     "output_type": "execute_result"
    }
   ],
   "source": [
    "ex2.capital"
   ]
  },
  {
   "cell_type": "code",
   "execution_count": 16,
   "id": "9f297d5d-1bec-4b1b-bdcc-950fefa0ef79",
   "metadata": {},
   "outputs": [
    {
     "data": {
      "text/plain": [
       "5000000"
      ]
     },
     "execution_count": 16,
     "metadata": {},
     "output_type": "execute_result"
    }
   ],
   "source": [
    "ex2.population"
   ]
  },
  {
   "cell_type": "code",
   "execution_count": 19,
   "id": "939a8e54-d0e5-4fae-b901-cfd7d9477b5a",
   "metadata": {},
   "outputs": [
    {
     "data": {
      "text/plain": [
       "'국가 소개 문장입니다.'"
      ]
     },
     "execution_count": 19,
     "metadata": {},
     "output_type": "execute_result"
    }
   ],
   "source": [
    "ex2.introduce()"
   ]
  },
  {
   "cell_type": "code",
   "execution_count": 20,
   "id": "b8dc31b0-9fa5-4d12-84d0-0a2712e65805",
   "metadata": {},
   "outputs": [],
   "source": [
    "class Korea01(Country01):\n",
    "    def __init__(self, name):\n",
    "        self.name = name\n",
    "\n",
    "    def explanation(self):\n",
    "        sentence = '국가 이름은 {} 입니다.'.format(self.name)\n",
    "        return sentence"
   ]
  },
  {
   "cell_type": "code",
   "execution_count": 21,
   "id": "f45d205c-55cc-463e-bb55-33ead3c8c8e4",
   "metadata": {},
   "outputs": [],
   "source": [
    "ex3 = Korea01(name='한국')"
   ]
  },
  {
   "cell_type": "code",
   "execution_count": 22,
   "id": "57396432-76bf-4ec0-90b6-7c6d613859af",
   "metadata": {},
   "outputs": [
    {
     "data": {
      "text/plain": [
       "'한국'"
      ]
     },
     "execution_count": 22,
     "metadata": {},
     "output_type": "execute_result"
    }
   ],
   "source": [
    "ex3.name"
   ]
  },
  {
   "cell_type": "code",
   "execution_count": 23,
   "id": "a28f000a-4219-447e-bdad-f74091a41c5e",
   "metadata": {},
   "outputs": [
    {
     "data": {
      "text/plain": [
       "'수도'"
      ]
     },
     "execution_count": 23,
     "metadata": {},
     "output_type": "execute_result"
    }
   ],
   "source": [
    "ex3.capital"
   ]
  },
  {
   "cell_type": "code",
   "execution_count": 24,
   "id": "45fc436a-884e-4511-ab38-2f211ebd3609",
   "metadata": {},
   "outputs": [
    {
     "data": {
      "text/plain": [
       "100"
      ]
     },
     "execution_count": 24,
     "metadata": {},
     "output_type": "execute_result"
    }
   ],
   "source": [
    "ex3.population"
   ]
  },
  {
   "cell_type": "code",
   "execution_count": 25,
   "id": "097be7b8-2747-4b5a-a317-bf2dd072d0f5",
   "metadata": {},
   "outputs": [
    {
     "data": {
      "text/plain": [
       "'국가 소개 문장입니다.'"
      ]
     },
     "execution_count": 25,
     "metadata": {},
     "output_type": "execute_result"
    }
   ],
   "source": [
    "ex3.introduce()"
   ]
  },
  {
   "cell_type": "code",
   "execution_count": 26,
   "id": "ca22b51d-2924-4806-9b35-5728f2492381",
   "metadata": {},
   "outputs": [
    {
     "data": {
      "text/plain": [
       "'국가 이름은 한국 입니다.'"
      ]
     },
     "execution_count": 26,
     "metadata": {},
     "output_type": "execute_result"
    }
   ],
   "source": [
    "ex3.explanation()"
   ]
  },
  {
   "cell_type": "code",
   "execution_count": 28,
   "id": "6e48f41d-bc5f-4794-becd-120e39df2677",
   "metadata": {},
   "outputs": [],
   "source": [
    "class Korea02(Country01):\n",
    "    def __init__(self, name):\n",
    "        self.name = name\n",
    "\n",
    "    def introduce(self):\n",
    "        sentence = '국가 이름은 {} 입니다.'.format(self.name)\n",
    "        return sentence"
   ]
  },
  {
   "cell_type": "code",
   "execution_count": 29,
   "id": "5f7bb287-e63c-44ff-83cf-5760a35bdb97",
   "metadata": {},
   "outputs": [],
   "source": [
    "ex4 = Korea02(name='한국')"
   ]
  },
  {
   "cell_type": "code",
   "execution_count": 30,
   "id": "3a5111f4-d54b-4141-857f-457c15939a84",
   "metadata": {},
   "outputs": [
    {
     "data": {
      "text/plain": [
       "'한국'"
      ]
     },
     "execution_count": 30,
     "metadata": {},
     "output_type": "execute_result"
    }
   ],
   "source": [
    "ex4.name"
   ]
  },
  {
   "cell_type": "code",
   "execution_count": 31,
   "id": "9df2c4a0-8774-423f-ba1f-4593087566d9",
   "metadata": {},
   "outputs": [
    {
     "data": {
      "text/plain": [
       "'수도'"
      ]
     },
     "execution_count": 31,
     "metadata": {},
     "output_type": "execute_result"
    }
   ],
   "source": [
    "ex4.capital"
   ]
  },
  {
   "cell_type": "code",
   "execution_count": 32,
   "id": "ed2a729c-5906-4af7-83d1-ece3781f1937",
   "metadata": {},
   "outputs": [
    {
     "data": {
      "text/plain": [
       "100"
      ]
     },
     "execution_count": 32,
     "metadata": {},
     "output_type": "execute_result"
    }
   ],
   "source": [
    "ex4.population"
   ]
  },
  {
   "cell_type": "code",
   "execution_count": 33,
   "id": "91ed6b32-37fe-4ed3-bdad-f053bd09a3f0",
   "metadata": {},
   "outputs": [
    {
     "data": {
      "text/plain": [
       "'국가 이름은 한국 입니다.'"
      ]
     },
     "execution_count": 33,
     "metadata": {},
     "output_type": "execute_result"
    }
   ],
   "source": [
    "ex4.introduce()"
   ]
  },
  {
   "cell_type": "code",
   "execution_count": 36,
   "id": "35032959-d6c5-4405-a22e-6b90c3544ea6",
   "metadata": {},
   "outputs": [],
   "source": [
    "class Korea03(Country01):\n",
    "    def __init__(self, name):\n",
    "        self.name = name\n",
    "\n",
    "    def introduce(self):\n",
    "        res1 = super().introduce()\n",
    "        res2 = '국가 이름은 {} 입니다.'.format(self.name)\n",
    "        return res1, res2"
   ]
  },
  {
   "cell_type": "code",
   "execution_count": 37,
   "id": "84c6bdcf-90c7-485e-8cb6-a37ee0a62dd9",
   "metadata": {},
   "outputs": [],
   "source": [
    "ex5 = Korea03(name='한국')"
   ]
  },
  {
   "cell_type": "code",
   "execution_count": 38,
   "id": "2f4e79db-c029-4ff5-ad6c-f917d636cabf",
   "metadata": {},
   "outputs": [
    {
     "data": {
      "text/plain": [
       "'한국'"
      ]
     },
     "execution_count": 38,
     "metadata": {},
     "output_type": "execute_result"
    }
   ],
   "source": [
    "ex5.name"
   ]
  },
  {
   "cell_type": "code",
   "execution_count": 39,
   "id": "09fa37b2-321d-4c6f-a6d4-0d7f74363f68",
   "metadata": {},
   "outputs": [
    {
     "data": {
      "text/plain": [
       "'수도'"
      ]
     },
     "execution_count": 39,
     "metadata": {},
     "output_type": "execute_result"
    }
   ],
   "source": [
    "ex5.capital"
   ]
  },
  {
   "cell_type": "code",
   "execution_count": 40,
   "id": "857e39cc-b5b3-4cec-94ea-11a46fd89670",
   "metadata": {},
   "outputs": [
    {
     "data": {
      "text/plain": [
       "100"
      ]
     },
     "execution_count": 40,
     "metadata": {},
     "output_type": "execute_result"
    }
   ],
   "source": [
    "ex5.population"
   ]
  },
  {
   "cell_type": "code",
   "execution_count": 42,
   "id": "3acfbfdf-c6a6-46ce-b972-ce0715d63dc1",
   "metadata": {},
   "outputs": [
    {
     "name": "stdout",
     "output_type": "stream",
     "text": [
      "국가 소개 문장입니다.\n",
      "국가 이름은 한국 입니다.\n"
     ]
    }
   ],
   "source": [
    "a1, a2 = ex5.introduce()\n",
    "print(a1)\n",
    "print(a2)"
   ]
  },
  {
   "cell_type": "code",
   "execution_count": 43,
   "id": "bd9894c1-a056-442b-801a-2c0025ccb6a8",
   "metadata": {},
   "outputs": [],
   "source": [
    "class Korea04(Country01):\n",
    "    def __init__(self, name):\n",
    "        self.name = name\n",
    "\n",
    "    def introduce(self):\n",
    "        res1 = super(Korea04, self).introduce()\n",
    "        res2 = '국가 이름은 {} 입니다.'.format(self.name)\n",
    "        return res1, res2"
   ]
  },
  {
   "cell_type": "code",
   "execution_count": 44,
   "id": "c8d73da6-abb0-410e-a611-2b4e30fe99c2",
   "metadata": {},
   "outputs": [],
   "source": [
    "ex6 = Korea03(name='한국')"
   ]
  },
  {
   "cell_type": "code",
   "execution_count": 45,
   "id": "051fbbac-d50e-4946-bfdc-3f552cea826d",
   "metadata": {},
   "outputs": [
    {
     "data": {
      "text/plain": [
       "'한국'"
      ]
     },
     "execution_count": 45,
     "metadata": {},
     "output_type": "execute_result"
    }
   ],
   "source": [
    "ex6.name"
   ]
  },
  {
   "cell_type": "code",
   "execution_count": 46,
   "id": "456ef258-ba7a-494d-a862-c957bef7a356",
   "metadata": {},
   "outputs": [
    {
     "data": {
      "text/plain": [
       "'수도'"
      ]
     },
     "execution_count": 46,
     "metadata": {},
     "output_type": "execute_result"
    }
   ],
   "source": [
    "ex6.capital"
   ]
  },
  {
   "cell_type": "code",
   "execution_count": 47,
   "id": "bf68df6b-17bf-4d19-b9d3-450370ab8dbb",
   "metadata": {},
   "outputs": [
    {
     "data": {
      "text/plain": [
       "100"
      ]
     },
     "execution_count": 47,
     "metadata": {},
     "output_type": "execute_result"
    }
   ],
   "source": [
    "ex6.population"
   ]
  },
  {
   "cell_type": "code",
   "execution_count": 49,
   "id": "1f5202ee-a4bc-4a46-9d69-4f7340b178a8",
   "metadata": {},
   "outputs": [
    {
     "name": "stdout",
     "output_type": "stream",
     "text": [
      "국가 소개 문장입니다.\n",
      "국가 이름은 한국 입니다.\n"
     ]
    }
   ],
   "source": [
    "a3, a4 = ex6.introduce()\n",
    "print(a3)\n",
    "print(a4)"
   ]
  },
  {
   "cell_type": "code",
   "execution_count": 50,
   "id": "e223a3d1-731f-40e3-ac54-ad4797ebb756",
   "metadata": {},
   "outputs": [],
   "source": [
    "import numpy as np\n",
    "import torch"
   ]
  },
  {
   "cell_type": "code",
   "execution_count": 51,
   "id": "a020317c-2917-4ff0-aced-750dc9c13d9f",
   "metadata": {},
   "outputs": [
    {
     "name": "stdout",
     "output_type": "stream",
     "text": [
      "[1 2 3 4 5 6]\n"
     ]
    }
   ],
   "source": [
    "a1 = np.array([1,2,3,4,5,6])\n",
    "print(a1)"
   ]
  },
  {
   "cell_type": "code",
   "execution_count": 52,
   "id": "7575ccd2-a618-410d-bee9-9f823a13ed2a",
   "metadata": {},
   "outputs": [
    {
     "data": {
      "text/plain": [
       "1"
      ]
     },
     "execution_count": 52,
     "metadata": {},
     "output_type": "execute_result"
    }
   ],
   "source": [
    "a1.ndim"
   ]
  },
  {
   "cell_type": "code",
   "execution_count": 53,
   "id": "23795aeb-1660-42cc-ac3d-ca0870dbded0",
   "metadata": {},
   "outputs": [
    {
     "data": {
      "text/plain": [
       "(6,)"
      ]
     },
     "execution_count": 53,
     "metadata": {},
     "output_type": "execute_result"
    }
   ],
   "source": [
    "a1.shape"
   ]
  },
  {
   "cell_type": "code",
   "execution_count": 54,
   "id": "1b760c86-6b71-42f2-9c00-520504457733",
   "metadata": {},
   "outputs": [
    {
     "data": {
      "text/plain": [
       "1"
      ]
     },
     "execution_count": 54,
     "metadata": {},
     "output_type": "execute_result"
    }
   ],
   "source": [
    "a1[0]"
   ]
  },
  {
   "cell_type": "code",
   "execution_count": 55,
   "id": "3d8a6d30-07c0-4216-9d3c-0d9bbd75a9bd",
   "metadata": {},
   "outputs": [
    {
     "data": {
      "text/plain": [
       "2"
      ]
     },
     "execution_count": 55,
     "metadata": {},
     "output_type": "execute_result"
    }
   ],
   "source": [
    "a1[1]"
   ]
  },
  {
   "cell_type": "code",
   "execution_count": 56,
   "id": "28f80014-6298-44d1-b724-12b19abde6cf",
   "metadata": {},
   "outputs": [
    {
     "data": {
      "text/plain": [
       "6"
      ]
     },
     "execution_count": 56,
     "metadata": {},
     "output_type": "execute_result"
    }
   ],
   "source": [
    "a1[-1]"
   ]
  },
  {
   "cell_type": "code",
   "execution_count": 57,
   "id": "8c40a7b9-06d3-411b-8a43-6b402c0d8c0a",
   "metadata": {},
   "outputs": [
    {
     "data": {
      "text/plain": [
       "array([3, 4, 5])"
      ]
     },
     "execution_count": 57,
     "metadata": {},
     "output_type": "execute_result"
    }
   ],
   "source": [
    "a1[2:5]"
   ]
  },
  {
   "cell_type": "code",
   "execution_count": 58,
   "id": "90a1c688-d982-4bc4-b12e-38923b50f648",
   "metadata": {},
   "outputs": [
    {
     "data": {
      "text/plain": [
       "array([4, 5])"
      ]
     },
     "execution_count": 58,
     "metadata": {},
     "output_type": "execute_result"
    }
   ],
   "source": [
    "a1[3:-1]"
   ]
  },
  {
   "cell_type": "code",
   "execution_count": 60,
   "id": "62810eeb-3f08-4af7-99e6-77af3483f527",
   "metadata": {},
   "outputs": [
    {
     "data": {
      "text/plain": [
       "array([1, 2])"
      ]
     },
     "execution_count": 60,
     "metadata": {},
     "output_type": "execute_result"
    }
   ],
   "source": [
    "a1[:2]"
   ]
  },
  {
   "cell_type": "code",
   "execution_count": 61,
   "id": "8cb6aced-9dda-4ab2-a1c5-37c9df40ca7b",
   "metadata": {},
   "outputs": [
    {
     "data": {
      "text/plain": [
       "array([4, 5, 6])"
      ]
     },
     "execution_count": 61,
     "metadata": {},
     "output_type": "execute_result"
    }
   ],
   "source": [
    "a1[3:]"
   ]
  },
  {
   "cell_type": "code",
   "execution_count": 70,
   "id": "ce2e5c91-bb60-4593-8a08-9c613b0dd2ec",
   "metadata": {},
   "outputs": [
    {
     "name": "stdout",
     "output_type": "stream",
     "text": [
      "tensor([1., 2., 3., 4., 5., 6.])\n"
     ]
    }
   ],
   "source": [
    "a1_torch = torch.FloatTensor([1,2,3,4,5,6])\n",
    "print(a1_torch)"
   ]
  },
  {
   "cell_type": "code",
   "execution_count": 63,
   "id": "fd5f58b5-18bf-48ef-9596-0ff5cdb3cf55",
   "metadata": {},
   "outputs": [
    {
     "data": {
      "text/plain": [
       "1"
      ]
     },
     "execution_count": 63,
     "metadata": {},
     "output_type": "execute_result"
    }
   ],
   "source": [
    "a1_torch.dim()"
   ]
  },
  {
   "cell_type": "code",
   "execution_count": 64,
   "id": "3f0e6bda-2097-4d85-9536-69bb3fa9a3c0",
   "metadata": {},
   "outputs": [
    {
     "data": {
      "text/plain": [
       "torch.Size([6])"
      ]
     },
     "execution_count": 64,
     "metadata": {},
     "output_type": "execute_result"
    }
   ],
   "source": [
    "a1_torch.shape"
   ]
  },
  {
   "cell_type": "code",
   "execution_count": 65,
   "id": "25354cfc-1ffb-4b4b-8202-129532c254cb",
   "metadata": {},
   "outputs": [
    {
     "data": {
      "text/plain": [
       "torch.Size([6])"
      ]
     },
     "execution_count": 65,
     "metadata": {},
     "output_type": "execute_result"
    }
   ],
   "source": [
    "a1_torch.size()"
   ]
  },
  {
   "cell_type": "code",
   "execution_count": 66,
   "id": "6d670702-04ab-4f0e-8fa3-1c348ed992c5",
   "metadata": {},
   "outputs": [
    {
     "data": {
      "text/plain": [
       "tensor(1.)"
      ]
     },
     "execution_count": 66,
     "metadata": {},
     "output_type": "execute_result"
    }
   ],
   "source": [
    "a1_torch[0]"
   ]
  },
  {
   "cell_type": "code",
   "execution_count": 67,
   "id": "33722d6b-32ff-484f-9cc1-d49badb1e553",
   "metadata": {},
   "outputs": [
    {
     "data": {
      "text/plain": [
       "tensor(2.)"
      ]
     },
     "execution_count": 67,
     "metadata": {},
     "output_type": "execute_result"
    }
   ],
   "source": [
    "a1_torch[1]"
   ]
  },
  {
   "cell_type": "code",
   "execution_count": 68,
   "id": "19e1a23f-b63b-4361-b14b-32214a1e384f",
   "metadata": {},
   "outputs": [
    {
     "data": {
      "text/plain": [
       "tensor(6.)"
      ]
     },
     "execution_count": 68,
     "metadata": {},
     "output_type": "execute_result"
    }
   ],
   "source": [
    "a1_torch[-1]"
   ]
  },
  {
   "cell_type": "code",
   "execution_count": 71,
   "id": "3065d6b0-80c7-4203-8fab-71037e75a384",
   "metadata": {},
   "outputs": [
    {
     "data": {
      "text/plain": [
       "array([[ 1,  2,  3],\n",
       "       [ 4,  5,  6],\n",
       "       [ 7,  8,  9],\n",
       "       [10, 11, 12]])"
      ]
     },
     "execution_count": 71,
     "metadata": {},
     "output_type": "execute_result"
    }
   ],
   "source": [
    "a2 = np.array([[1,2,3],[4,5,6],[7,8,9],[10,11,12]])\n",
    "a2"
   ]
  },
  {
   "cell_type": "code",
   "execution_count": 72,
   "id": "44194cdb-e851-43e1-aaf7-ab309fa9ce1b",
   "metadata": {},
   "outputs": [
    {
     "data": {
      "text/plain": [
       "2"
      ]
     },
     "execution_count": 72,
     "metadata": {},
     "output_type": "execute_result"
    }
   ],
   "source": [
    "a2.ndim"
   ]
  },
  {
   "cell_type": "code",
   "execution_count": 73,
   "id": "442a81eb-f9e4-43c9-939e-291c523c5e0b",
   "metadata": {},
   "outputs": [
    {
     "data": {
      "text/plain": [
       "(4, 3)"
      ]
     },
     "execution_count": 73,
     "metadata": {},
     "output_type": "execute_result"
    }
   ],
   "source": [
    "a2.shape"
   ]
  },
  {
   "cell_type": "code",
   "execution_count": 74,
   "id": "91031393-8e5f-4193-80b1-25dc2f639505",
   "metadata": {},
   "outputs": [],
   "source": [
    "a2_torch = torch.FloatTensor([[1,2,3],[4,5,6],[7,8,9],[10,11,12]])"
   ]
  },
  {
   "cell_type": "code",
   "execution_count": 75,
   "id": "ec0e251f-7565-427f-8f46-ad5640190d5b",
   "metadata": {},
   "outputs": [
    {
     "data": {
      "text/plain": [
       "tensor([[ 1.,  2.,  3.],\n",
       "        [ 4.,  5.,  6.],\n",
       "        [ 7.,  8.,  9.],\n",
       "        [10., 11., 12.]])"
      ]
     },
     "execution_count": 75,
     "metadata": {},
     "output_type": "execute_result"
    }
   ],
   "source": [
    "a2_torch"
   ]
  },
  {
   "cell_type": "code",
   "execution_count": 76,
   "id": "f51ba49a-6fbd-421b-a19b-8d804a5fa201",
   "metadata": {},
   "outputs": [
    {
     "data": {
      "text/plain": [
       "2"
      ]
     },
     "execution_count": 76,
     "metadata": {},
     "output_type": "execute_result"
    }
   ],
   "source": [
    "a2_torch.dim()"
   ]
  },
  {
   "cell_type": "code",
   "execution_count": 78,
   "id": "4b37ecdf-ffdf-4951-9845-2b24c5cbb8e3",
   "metadata": {},
   "outputs": [
    {
     "data": {
      "text/plain": [
       "torch.Size([4, 3])"
      ]
     },
     "execution_count": 78,
     "metadata": {},
     "output_type": "execute_result"
    }
   ],
   "source": [
    "a2_torch.size()"
   ]
  },
  {
   "cell_type": "code",
   "execution_count": 79,
   "id": "0f49d880-1700-40e5-859f-2784ecb5d657",
   "metadata": {},
   "outputs": [
    {
     "data": {
      "text/plain": [
       "tensor([ 3.,  6.,  9., 12.])"
      ]
     },
     "execution_count": 79,
     "metadata": {},
     "output_type": "execute_result"
    }
   ],
   "source": [
    "a2_torch[:,-1]"
   ]
  },
  {
   "cell_type": "code",
   "execution_count": 80,
   "id": "bc1567f0-c905-4707-981c-3b6faa245bd2",
   "metadata": {},
   "outputs": [
    {
     "data": {
      "text/plain": [
       "torch.Size([4])"
      ]
     },
     "execution_count": 80,
     "metadata": {},
     "output_type": "execute_result"
    }
   ],
   "source": [
    "a2_torch[:,1].size()"
   ]
  },
  {
   "cell_type": "code",
   "execution_count": 81,
   "id": "9e58f1d5-3624-45c6-94cd-9a90c69dbc99",
   "metadata": {},
   "outputs": [
    {
     "data": {
      "text/plain": [
       "tensor([[ 1.,  2.],\n",
       "        [ 4.,  5.],\n",
       "        [ 7.,  8.],\n",
       "        [10., 11.]])"
      ]
     },
     "execution_count": 81,
     "metadata": {},
     "output_type": "execute_result"
    }
   ],
   "source": [
    "a2_torch[:,:-1]"
   ]
  },
  {
   "cell_type": "code",
   "execution_count": 82,
   "id": "ae0e2faa-011d-4b7d-91b9-fdf48efde47c",
   "metadata": {},
   "outputs": [
    {
     "name": "stdout",
     "output_type": "stream",
     "text": [
      "tensor([1., 2.])\n"
     ]
    }
   ],
   "source": [
    "a3 = torch.FloatTensor([1,2])\n",
    "print(a3)"
   ]
  },
  {
   "cell_type": "code",
   "execution_count": 83,
   "id": "fd17582f-05d1-4de6-b7fe-2a33cecfe2a1",
   "metadata": {},
   "outputs": [
    {
     "data": {
      "text/plain": [
       "1"
      ]
     },
     "execution_count": 83,
     "metadata": {},
     "output_type": "execute_result"
    }
   ],
   "source": [
    "a3.dim()"
   ]
  },
  {
   "cell_type": "code",
   "execution_count": 84,
   "id": "1b5ec827-d25c-4d91-9fe0-ad402b271480",
   "metadata": {},
   "outputs": [
    {
     "data": {
      "text/plain": [
       "torch.Size([2])"
      ]
     },
     "execution_count": 84,
     "metadata": {},
     "output_type": "execute_result"
    }
   ],
   "source": [
    "a3.size()"
   ]
  },
  {
   "cell_type": "code",
   "execution_count": 85,
   "id": "bc69b605-e2c5-4f16-aa79-01f244859b00",
   "metadata": {},
   "outputs": [
    {
     "name": "stdout",
     "output_type": "stream",
     "text": [
      "tensor([[1., 2.]])\n"
     ]
    }
   ],
   "source": [
    "a4 = torch.FloatTensor([[1,2]])\n",
    "print(a4)"
   ]
  },
  {
   "cell_type": "code",
   "execution_count": 86,
   "id": "1699c3ca-7da7-40ba-800e-187d787d4e45",
   "metadata": {},
   "outputs": [
    {
     "data": {
      "text/plain": [
       "2"
      ]
     },
     "execution_count": 86,
     "metadata": {},
     "output_type": "execute_result"
    }
   ],
   "source": [
    "a4.dim()"
   ]
  },
  {
   "cell_type": "code",
   "execution_count": 87,
   "id": "d50fca81-0d5e-4cb7-b47b-db4e419a4067",
   "metadata": {},
   "outputs": [
    {
     "data": {
      "text/plain": [
       "torch.Size([1, 2])"
      ]
     },
     "execution_count": 87,
     "metadata": {},
     "output_type": "execute_result"
    }
   ],
   "source": [
    "a4.size()"
   ]
  },
  {
   "cell_type": "code",
   "execution_count": 88,
   "id": "8dc90f82-8f8b-4c93-94b3-20759df9f37f",
   "metadata": {},
   "outputs": [],
   "source": [
    "v1 = torch.FloatTensor([[3,3]])"
   ]
  },
  {
   "cell_type": "code",
   "execution_count": 89,
   "id": "8fef2b22-d201-4674-a35e-e1dcaa8be431",
   "metadata": {},
   "outputs": [
    {
     "data": {
      "text/plain": [
       "tensor([[3., 3.]])"
      ]
     },
     "execution_count": 89,
     "metadata": {},
     "output_type": "execute_result"
    }
   ],
   "source": [
    "v1"
   ]
  },
  {
   "cell_type": "code",
   "execution_count": 90,
   "id": "6d8ddea6-1d32-49c3-be24-02ad40796e5e",
   "metadata": {},
   "outputs": [],
   "source": [
    "v2 = torch.FloatTensor([5,5])"
   ]
  },
  {
   "cell_type": "code",
   "execution_count": 91,
   "id": "1346af2d-9f87-4525-bc27-4793cb74272b",
   "metadata": {},
   "outputs": [
    {
     "data": {
      "text/plain": [
       "tensor([5., 5.])"
      ]
     },
     "execution_count": 91,
     "metadata": {},
     "output_type": "execute_result"
    }
   ],
   "source": [
    "v2"
   ]
  },
  {
   "cell_type": "code",
   "execution_count": 92,
   "id": "f8f6aba7-990c-4006-a39f-2ffb9cf7d542",
   "metadata": {},
   "outputs": [
    {
     "data": {
      "text/plain": [
       "tensor([[8., 8.]])"
      ]
     },
     "execution_count": 92,
     "metadata": {},
     "output_type": "execute_result"
    }
   ],
   "source": [
    "v1 + v2"
   ]
  },
  {
   "cell_type": "code",
   "execution_count": 94,
   "id": "26d11dd3-fa11-4ba5-ab73-1b5568848dfb",
   "metadata": {},
   "outputs": [],
   "source": [
    "v3 = torch.FloatTensor([[1,2]])\n",
    "v4 = torch.FloatTensor([3])"
   ]
  },
  {
   "cell_type": "code",
   "execution_count": 95,
   "id": "12ef590a-2b35-4f88-8fb2-2c9c7d17464d",
   "metadata": {},
   "outputs": [
    {
     "data": {
      "text/plain": [
       "tensor([[4., 5.]])"
      ]
     },
     "execution_count": 95,
     "metadata": {},
     "output_type": "execute_result"
    }
   ],
   "source": [
    "v3 + v4"
   ]
  },
  {
   "cell_type": "code",
   "execution_count": 96,
   "id": "6cbba730-9b64-4062-ac55-8f96c79c6756",
   "metadata": {},
   "outputs": [],
   "source": [
    "v5 = torch.FloatTensor([[1,2]])\n",
    "v6 = torch.FloatTensor([[3], [4]])"
   ]
  },
  {
   "cell_type": "code",
   "execution_count": 97,
   "id": "aa622cbc-ecdd-4903-a259-c215fbb9e3ac",
   "metadata": {},
   "outputs": [
    {
     "data": {
      "text/plain": [
       "tensor([[4., 5.],\n",
       "        [5., 6.]])"
      ]
     },
     "execution_count": 97,
     "metadata": {},
     "output_type": "execute_result"
    }
   ],
   "source": [
    "v5 + v6"
   ]
  },
  {
   "cell_type": "code",
   "execution_count": 98,
   "id": "5995bf7d-a58c-4687-b6f9-38d46fd6ca46",
   "metadata": {},
   "outputs": [],
   "source": [
    "m1 = torch.FloatTensor([[1,2],[3,4]])\n",
    "m2 = torch.FloatTensor([[5], [6]])"
   ]
  },
  {
   "cell_type": "code",
   "execution_count": 99,
   "id": "4dd5374c-e582-4f0f-8945-02b6d6fa903e",
   "metadata": {},
   "outputs": [
    {
     "data": {
      "text/plain": [
       "tensor([[17.],\n",
       "        [39.]])"
      ]
     },
     "execution_count": 99,
     "metadata": {},
     "output_type": "execute_result"
    }
   ],
   "source": [
    "m1.matmul(m2)"
   ]
  },
  {
   "cell_type": "code",
   "execution_count": 100,
   "id": "6189ad89-e6bc-426e-af09-decc26ee6763",
   "metadata": {},
   "outputs": [],
   "source": [
    "m3 = torch.FloatTensor([[1,2], [3,4]])\n",
    "m4 = torch.FloatTensor([[5], [6]])"
   ]
  },
  {
   "cell_type": "code",
   "execution_count": 101,
   "id": "a9e81476-948d-4f79-961e-2e5818e3bf77",
   "metadata": {},
   "outputs": [
    {
     "data": {
      "text/plain": [
       "tensor([[ 5., 10.],\n",
       "        [18., 24.]])"
      ]
     },
     "execution_count": 101,
     "metadata": {},
     "output_type": "execute_result"
    }
   ],
   "source": [
    "m3 * m4"
   ]
  },
  {
   "cell_type": "code",
   "execution_count": 102,
   "id": "9c5fb780-0f91-4e9c-adc9-808cf403fc59",
   "metadata": {},
   "outputs": [
    {
     "data": {
      "text/plain": [
       "tensor([[ 5., 10.],\n",
       "        [18., 24.]])"
      ]
     },
     "execution_count": 102,
     "metadata": {},
     "output_type": "execute_result"
    }
   ],
   "source": [
    "m3.mul(m4)"
   ]
  },
  {
   "cell_type": "code",
   "execution_count": 103,
   "id": "3a176a32-1717-4d2d-a66d-c257785cbd6a",
   "metadata": {},
   "outputs": [],
   "source": [
    "m1 = torch.FloatTensor([[1, 2], [3, 4]])"
   ]
  },
  {
   "cell_type": "code",
   "execution_count": 104,
   "id": "7d5d329d-b854-4b77-bdfc-9d0c32dcb0e7",
   "metadata": {},
   "outputs": [
    {
     "data": {
      "text/plain": [
       "tensor(2.5000)"
      ]
     },
     "execution_count": 104,
     "metadata": {},
     "output_type": "execute_result"
    }
   ],
   "source": [
    "m1.mean()"
   ]
  },
  {
   "cell_type": "code",
   "execution_count": 105,
   "id": "cbc91f75-4d9f-43a1-a92e-b1f3967ade30",
   "metadata": {},
   "outputs": [
    {
     "data": {
      "text/plain": [
       "tensor([2., 3.])"
      ]
     },
     "execution_count": 105,
     "metadata": {},
     "output_type": "execute_result"
    }
   ],
   "source": [
    "m1.mean(dim=0)"
   ]
  },
  {
   "cell_type": "code",
   "execution_count": 107,
   "id": "7f00da9d-02bb-4186-adaf-51405c28c712",
   "metadata": {},
   "outputs": [
    {
     "data": {
      "text/plain": [
       "tensor([1.5000, 3.5000])"
      ]
     },
     "execution_count": 107,
     "metadata": {},
     "output_type": "execute_result"
    }
   ],
   "source": [
    "m1.mean(dim=1)"
   ]
  },
  {
   "cell_type": "code",
   "execution_count": 108,
   "id": "367ec705-48b0-4a5c-822f-ac3f936bb274",
   "metadata": {},
   "outputs": [
    {
     "data": {
      "text/plain": [
       "tensor([1.5000, 3.5000])"
      ]
     },
     "execution_count": 108,
     "metadata": {},
     "output_type": "execute_result"
    }
   ],
   "source": [
    "m1.mean(dim=-1)"
   ]
  },
  {
   "cell_type": "code",
   "execution_count": 109,
   "id": "7e175a8b-2ab4-4ca9-b455-27b46391ad11",
   "metadata": {},
   "outputs": [],
   "source": [
    "m1 = torch.FloatTensor([[1, 2], [3, 4]])"
   ]
  },
  {
   "cell_type": "code",
   "execution_count": 110,
   "id": "4a774122-0005-4ce6-b3c8-5e8157739e59",
   "metadata": {},
   "outputs": [
    {
     "data": {
      "text/plain": [
       "tensor(10.)"
      ]
     },
     "execution_count": 110,
     "metadata": {},
     "output_type": "execute_result"
    }
   ],
   "source": [
    "m1.sum()"
   ]
  },
  {
   "cell_type": "code",
   "execution_count": 111,
   "id": "cf7973c5-d60d-4e77-bab6-7302df0a8891",
   "metadata": {},
   "outputs": [
    {
     "data": {
      "text/plain": [
       "tensor([4., 6.])"
      ]
     },
     "execution_count": 111,
     "metadata": {},
     "output_type": "execute_result"
    }
   ],
   "source": [
    "m1.sum(dim=0)"
   ]
  },
  {
   "cell_type": "code",
   "execution_count": 112,
   "id": "58c2f144-621f-4267-824b-e01623a0b0c7",
   "metadata": {},
   "outputs": [
    {
     "data": {
      "text/plain": [
       "tensor([3., 7.])"
      ]
     },
     "execution_count": 112,
     "metadata": {},
     "output_type": "execute_result"
    }
   ],
   "source": [
    "m1.sum(dim=1)"
   ]
  },
  {
   "cell_type": "code",
   "execution_count": 113,
   "id": "b16399da-6bff-4a98-b304-cc8e14e19252",
   "metadata": {},
   "outputs": [
    {
     "data": {
      "text/plain": [
       "tensor([3., 7.])"
      ]
     },
     "execution_count": 113,
     "metadata": {},
     "output_type": "execute_result"
    }
   ],
   "source": [
    "m1.sum(dim=-1)"
   ]
  },
  {
   "cell_type": "code",
   "execution_count": 114,
   "id": "49235f21-0515-4b1a-8d34-dda2e9163e2c",
   "metadata": {},
   "outputs": [],
   "source": [
    "m1 = torch.FloatTensor([[1, 2], [3, 4]])"
   ]
  },
  {
   "cell_type": "code",
   "execution_count": 115,
   "id": "1ba380a7-a569-4540-b813-76429e025d9b",
   "metadata": {},
   "outputs": [
    {
     "data": {
      "text/plain": [
       "tensor(4.)"
      ]
     },
     "execution_count": 115,
     "metadata": {},
     "output_type": "execute_result"
    }
   ],
   "source": [
    "m1.max()"
   ]
  },
  {
   "cell_type": "code",
   "execution_count": 116,
   "id": "ff93b913-1de2-43e3-a169-197911993c6e",
   "metadata": {},
   "outputs": [
    {
     "data": {
      "text/plain": [
       "torch.return_types.max(\n",
       "values=tensor([3., 4.]),\n",
       "indices=tensor([1, 1]))"
      ]
     },
     "execution_count": 116,
     "metadata": {},
     "output_type": "execute_result"
    }
   ],
   "source": [
    "m1.max(dim=0)"
   ]
  },
  {
   "cell_type": "code",
   "execution_count": 117,
   "id": "b82d84b2-705f-4cae-ada3-36b1677da024",
   "metadata": {},
   "outputs": [
    {
     "name": "stdout",
     "output_type": "stream",
     "text": [
      "max =  tensor([3., 4.])\n"
     ]
    }
   ],
   "source": [
    "print('max = ', m1.max(dim=0)[0])"
   ]
  },
  {
   "cell_type": "code",
   "execution_count": 118,
   "id": "91441ce8-d09b-4068-bdd7-0dc95f742ff9",
   "metadata": {},
   "outputs": [
    {
     "name": "stdout",
     "output_type": "stream",
     "text": [
      "argmax =  tensor([1, 1])\n"
     ]
    }
   ],
   "source": [
    "print('argmax = ', m1.max(dim=0)[1])"
   ]
  },
  {
   "cell_type": "code",
   "execution_count": 119,
   "id": "46724173-b382-4a38-8424-ff5062f674a4",
   "metadata": {},
   "outputs": [
    {
     "data": {
      "text/plain": [
       "torch.return_types.max(\n",
       "values=tensor([2., 4.]),\n",
       "indices=tensor([1, 1]))"
      ]
     },
     "execution_count": 119,
     "metadata": {},
     "output_type": "execute_result"
    }
   ],
   "source": [
    "m1.max(dim=1)"
   ]
  },
  {
   "cell_type": "code",
   "execution_count": 120,
   "id": "f0882e96-2d15-4c41-a46b-1561c96dfd8c",
   "metadata": {},
   "outputs": [
    {
     "name": "stdout",
     "output_type": "stream",
     "text": [
      "max =  tensor([2., 4.])\n"
     ]
    }
   ],
   "source": [
    "print('max = ', m1.max(dim=1)[0])"
   ]
  },
  {
   "cell_type": "code",
   "execution_count": 121,
   "id": "081abec2-c737-4907-85f2-58d999a27a67",
   "metadata": {},
   "outputs": [
    {
     "name": "stdout",
     "output_type": "stream",
     "text": [
      "argmax =  tensor([1, 1])\n"
     ]
    }
   ],
   "source": [
    "print('argmax = ', m1.max(dim=1)[1])"
   ]
  },
  {
   "cell_type": "code",
   "execution_count": 122,
   "id": "aea898e8-598d-4c5c-8cea-7cc8afb61edb",
   "metadata": {},
   "outputs": [
    {
     "data": {
      "text/plain": [
       "tensor(1.)"
      ]
     },
     "execution_count": 122,
     "metadata": {},
     "output_type": "execute_result"
    }
   ],
   "source": [
    "m1.min()"
   ]
  },
  {
   "cell_type": "code",
   "execution_count": 123,
   "id": "42bfdd6c-c50a-4e03-bc5f-a649d27d9b2e",
   "metadata": {},
   "outputs": [
    {
     "data": {
      "text/plain": [
       "torch.return_types.min(\n",
       "values=tensor([1., 3.]),\n",
       "indices=tensor([0, 0]))"
      ]
     },
     "execution_count": 123,
     "metadata": {},
     "output_type": "execute_result"
    }
   ],
   "source": [
    "m1.min(dim=1)"
   ]
  },
  {
   "cell_type": "code",
   "execution_count": 124,
   "id": "47122351-55c8-40c3-887a-d1dfa4d9a1e1",
   "metadata": {},
   "outputs": [
    {
     "data": {
      "text/plain": [
       "torch.return_types.min(\n",
       "values=tensor([1., 2.]),\n",
       "indices=tensor([0, 0]))"
      ]
     },
     "execution_count": 124,
     "metadata": {},
     "output_type": "execute_result"
    }
   ],
   "source": [
    "m1.min(dim=0)"
   ]
  },
  {
   "cell_type": "code",
   "execution_count": 130,
   "id": "5bf03b62-4ba1-42e2-8886-84b2e23503f0",
   "metadata": {},
   "outputs": [],
   "source": [
    "t = [[[1, 2, 3, 4], [5, 6, 7, 8], [9, 10, 11, 12]], [[13, 14, 15, 16], [17, 18, 19, 20], [21, 22, 23, 24]]]"
   ]
  },
  {
   "cell_type": "code",
   "execution_count": 131,
   "id": "df9e5473-ae6e-4bf9-9321-43d17a5620fd",
   "metadata": {},
   "outputs": [
    {
     "name": "stdout",
     "output_type": "stream",
     "text": [
      "torch.Size([2, 3, 4])\n"
     ]
    }
   ],
   "source": [
    "ft = torch.FloatTensor(t)\n",
    "print(ft.shape)"
   ]
  },
  {
   "cell_type": "code",
   "execution_count": 132,
   "id": "613843db-04d8-4633-8cc5-ed8331d1b707",
   "metadata": {},
   "outputs": [
    {
     "data": {
      "text/plain": [
       "torch.Size([2, 3, 4])"
      ]
     },
     "execution_count": 132,
     "metadata": {},
     "output_type": "execute_result"
    }
   ],
   "source": [
    "ft.size()"
   ]
  },
  {
   "cell_type": "code",
   "execution_count": 133,
   "id": "32102521-bf95-4aa9-89a6-c8d4204c388e",
   "metadata": {},
   "outputs": [
    {
     "data": {
      "text/plain": [
       "tensor([[ 1.,  2.,  3.],\n",
       "        [ 4.,  5.,  6.],\n",
       "        [ 7.,  8.,  9.],\n",
       "        [10., 11., 12.],\n",
       "        [13., 14., 15.],\n",
       "        [16., 17., 18.],\n",
       "        [19., 20., 21.],\n",
       "        [22., 23., 24.]])"
      ]
     },
     "execution_count": 133,
     "metadata": {},
     "output_type": "execute_result"
    }
   ],
   "source": [
    "ft.view([-1, 3])"
   ]
  },
  {
   "cell_type": "code",
   "execution_count": 134,
   "id": "8645ff9a-c906-43f8-a605-20db2688278c",
   "metadata": {},
   "outputs": [
    {
     "data": {
      "text/plain": [
       "torch.Size([8, 3])"
      ]
     },
     "execution_count": 134,
     "metadata": {},
     "output_type": "execute_result"
    }
   ],
   "source": [
    "ft.view([-1, 3]).shape"
   ]
  },
  {
   "cell_type": "code",
   "execution_count": 135,
   "id": "7854bfe6-194d-446d-981c-150e86efa958",
   "metadata": {},
   "outputs": [
    {
     "data": {
      "text/plain": [
       "tensor([[[ 1.,  2.,  3.]],\n",
       "\n",
       "        [[ 4.,  5.,  6.]],\n",
       "\n",
       "        [[ 7.,  8.,  9.]],\n",
       "\n",
       "        [[10., 11., 12.]],\n",
       "\n",
       "        [[13., 14., 15.]],\n",
       "\n",
       "        [[16., 17., 18.]],\n",
       "\n",
       "        [[19., 20., 21.]],\n",
       "\n",
       "        [[22., 23., 24.]]])"
      ]
     },
     "execution_count": 135,
     "metadata": {},
     "output_type": "execute_result"
    }
   ],
   "source": [
    "ft.view([-1, 1, 3])"
   ]
  },
  {
   "cell_type": "code",
   "execution_count": 136,
   "id": "139b70a2-8e5d-4e5d-983f-54231133387b",
   "metadata": {},
   "outputs": [
    {
     "data": {
      "text/plain": [
       "torch.Size([8, 1, 3])"
      ]
     },
     "execution_count": 136,
     "metadata": {},
     "output_type": "execute_result"
    }
   ],
   "source": [
    "ft.view([-1, 1, 3]).shape"
   ]
  },
  {
   "cell_type": "code",
   "execution_count": 137,
   "id": "ed7e0ae9-b512-4392-95f9-4015976693c7",
   "metadata": {},
   "outputs": [],
   "source": [
    "ft = torch.FloatTensor([[0], [1], [2]])"
   ]
  },
  {
   "cell_type": "code",
   "execution_count": 138,
   "id": "5eda3109-7b87-4d79-ab0e-8b02c3f1deb8",
   "metadata": {},
   "outputs": [
    {
     "data": {
      "text/plain": [
       "tensor([[0.],\n",
       "        [1.],\n",
       "        [2.]])"
      ]
     },
     "execution_count": 138,
     "metadata": {},
     "output_type": "execute_result"
    }
   ],
   "source": [
    "ft"
   ]
  },
  {
   "cell_type": "code",
   "execution_count": 139,
   "id": "69acaa15-9e17-49e0-b1bf-38690266b250",
   "metadata": {},
   "outputs": [
    {
     "data": {
      "text/plain": [
       "torch.Size([3, 1])"
      ]
     },
     "execution_count": 139,
     "metadata": {},
     "output_type": "execute_result"
    }
   ],
   "source": [
    "ft.shape"
   ]
  },
  {
   "cell_type": "code",
   "execution_count": 140,
   "id": "c1a6853f-5e2a-47d1-872b-96aabac2c33f",
   "metadata": {},
   "outputs": [
    {
     "data": {
      "text/plain": [
       "tensor([0., 1., 2.])"
      ]
     },
     "execution_count": 140,
     "metadata": {},
     "output_type": "execute_result"
    }
   ],
   "source": [
    "ft.squeeze()"
   ]
  },
  {
   "cell_type": "code",
   "execution_count": 141,
   "id": "6241e6f4-225a-49b1-8c90-ac0f28de4e24",
   "metadata": {},
   "outputs": [
    {
     "data": {
      "text/plain": [
       "torch.Size([3])"
      ]
     },
     "execution_count": 141,
     "metadata": {},
     "output_type": "execute_result"
    }
   ],
   "source": [
    "ft.squeeze().shape"
   ]
  },
  {
   "cell_type": "code",
   "execution_count": 143,
   "id": "566634f2-6e06-4cd3-8446-52e40f2f796f",
   "metadata": {},
   "outputs": [
    {
     "name": "stdout",
     "output_type": "stream",
     "text": [
      "tensor([1., 2., 3.])\n",
      "torch.Size([3])\n"
     ]
    }
   ],
   "source": [
    "ft = torch.Tensor([1, 2, 3])\n",
    "print(ft)\n",
    "print(ft.shape)"
   ]
  },
  {
   "cell_type": "code",
   "execution_count": 144,
   "id": "d5c5d91f-3d33-4884-a416-14ee999d92b1",
   "metadata": {},
   "outputs": [
    {
     "data": {
      "text/plain": [
       "tensor([[1., 2., 3.]])"
      ]
     },
     "execution_count": 144,
     "metadata": {},
     "output_type": "execute_result"
    }
   ],
   "source": [
    "ft.unsqueeze(0)"
   ]
  },
  {
   "cell_type": "code",
   "execution_count": 145,
   "id": "7558897d-731f-4a04-92fe-a38c9f84e368",
   "metadata": {},
   "outputs": [
    {
     "data": {
      "text/plain": [
       "torch.Size([1, 3])"
      ]
     },
     "execution_count": 145,
     "metadata": {},
     "output_type": "execute_result"
    }
   ],
   "source": [
    "ft.unsqueeze(0).shape"
   ]
  },
  {
   "cell_type": "code",
   "execution_count": 147,
   "id": "dcb6b791-48f0-4503-8c2f-9f6b4f738c80",
   "metadata": {},
   "outputs": [
    {
     "data": {
      "text/plain": [
       "tensor([[1., 2., 3.]])"
      ]
     },
     "execution_count": 147,
     "metadata": {},
     "output_type": "execute_result"
    }
   ],
   "source": [
    "ft.view(1, -1)"
   ]
  },
  {
   "cell_type": "code",
   "execution_count": 148,
   "id": "d753f347-2b83-439b-b344-135f6f31bb08",
   "metadata": {},
   "outputs": [
    {
     "data": {
      "text/plain": [
       "torch.Size([1, 3])"
      ]
     },
     "execution_count": 148,
     "metadata": {},
     "output_type": "execute_result"
    }
   ],
   "source": [
    "ft.view(1, -1).shape"
   ]
  },
  {
   "cell_type": "code",
   "execution_count": 149,
   "id": "28ad8a13-898c-4bd9-ad8a-2cb2439ce87b",
   "metadata": {},
   "outputs": [
    {
     "data": {
      "text/plain": [
       "tensor([[1.],\n",
       "        [2.],\n",
       "        [3.]])"
      ]
     },
     "execution_count": 149,
     "metadata": {},
     "output_type": "execute_result"
    }
   ],
   "source": [
    "ft.unsqueeze(1)"
   ]
  },
  {
   "cell_type": "code",
   "execution_count": 150,
   "id": "4aeeadfc-74f2-4967-a52e-f6e27c03266a",
   "metadata": {},
   "outputs": [
    {
     "data": {
      "text/plain": [
       "torch.Size([3, 1])"
      ]
     },
     "execution_count": 150,
     "metadata": {},
     "output_type": "execute_result"
    }
   ],
   "source": [
    "ft.unsqueeze(1).shape"
   ]
  },
  {
   "cell_type": "code",
   "execution_count": 151,
   "id": "43018c92-aa62-401d-9fc4-7422b80fc96a",
   "metadata": {},
   "outputs": [
    {
     "data": {
      "text/plain": [
       "tensor([[1.],\n",
       "        [2.],\n",
       "        [3.]])"
      ]
     },
     "execution_count": 151,
     "metadata": {},
     "output_type": "execute_result"
    }
   ],
   "source": [
    "ft.unsqueeze(-1)"
   ]
  },
  {
   "cell_type": "code",
   "execution_count": 152,
   "id": "b3dca3f8-e252-45c6-bf2e-ceba8848ea0a",
   "metadata": {},
   "outputs": [
    {
     "data": {
      "text/plain": [
       "torch.Size([3, 1])"
      ]
     },
     "execution_count": 152,
     "metadata": {},
     "output_type": "execute_result"
    }
   ],
   "source": [
    "ft.unsqueeze(-1).shape"
   ]
  },
  {
   "cell_type": "code",
   "execution_count": 153,
   "id": "887e9c54-1143-4a9c-be17-04768921e209",
   "metadata": {},
   "outputs": [
    {
     "name": "stdout",
     "output_type": "stream",
     "text": [
      "tensor([1, 2, 3, 4])\n"
     ]
    }
   ],
   "source": [
    "lt = torch.LongTensor([1,2,3,4])\n",
    "print(lt)"
   ]
  },
  {
   "cell_type": "code",
   "execution_count": 154,
   "id": "cb1f1f9d-1670-4fd9-ab75-2d8046d19a95",
   "metadata": {},
   "outputs": [
    {
     "data": {
      "text/plain": [
       "tensor([1., 2., 3., 4.])"
      ]
     },
     "execution_count": 154,
     "metadata": {},
     "output_type": "execute_result"
    }
   ],
   "source": [
    "lt.float()"
   ]
  },
  {
   "cell_type": "code",
   "execution_count": 155,
   "id": "ef956bca-fb23-4fe1-8cd0-c5bbe26097c5",
   "metadata": {},
   "outputs": [
    {
     "name": "stdout",
     "output_type": "stream",
     "text": [
      "tensor([1, 0, 0, 1], dtype=torch.uint8)\n"
     ]
    }
   ],
   "source": [
    "bt = torch.ByteTensor([True, False, False, True])\n",
    "print(bt)"
   ]
  },
  {
   "cell_type": "code",
   "execution_count": 156,
   "id": "e4faa8a3-df11-49f1-a1ea-b42cb9b5b0b7",
   "metadata": {},
   "outputs": [
    {
     "data": {
      "text/plain": [
       "tensor([1, 0, 0, 1])"
      ]
     },
     "execution_count": 156,
     "metadata": {},
     "output_type": "execute_result"
    }
   ],
   "source": [
    "bt.long()"
   ]
  },
  {
   "cell_type": "code",
   "execution_count": 157,
   "id": "e9f400f5-9231-498f-b93e-92507016b0b8",
   "metadata": {},
   "outputs": [
    {
     "data": {
      "text/plain": [
       "tensor([1., 0., 0., 1.])"
      ]
     },
     "execution_count": 157,
     "metadata": {},
     "output_type": "execute_result"
    }
   ],
   "source": [
    "bt.float()"
   ]
  },
  {
   "cell_type": "code",
   "execution_count": 158,
   "id": "f403f207-031d-4c66-91ac-34d0809b4a0e",
   "metadata": {},
   "outputs": [],
   "source": [
    "x = torch.FloatTensor([[1, 2], [3, 4]])\n",
    "y = torch.FloatTensor([[5, 6], [7, 8]])"
   ]
  },
  {
   "cell_type": "code",
   "execution_count": 159,
   "id": "af63c45d-eca9-4d9d-b474-b126e699b448",
   "metadata": {},
   "outputs": [
    {
     "data": {
      "text/plain": [
       "tensor([[1., 2.],\n",
       "        [3., 4.],\n",
       "        [5., 6.],\n",
       "        [7., 8.]])"
      ]
     },
     "execution_count": 159,
     "metadata": {},
     "output_type": "execute_result"
    }
   ],
   "source": [
    "torch.cat([x, y], dim=0)"
   ]
  },
  {
   "cell_type": "code",
   "execution_count": 160,
   "id": "f4ad3f03-d406-4268-8f67-b7a3cfe9bb33",
   "metadata": {},
   "outputs": [
    {
     "data": {
      "text/plain": [
       "tensor([[1., 2., 5., 6.],\n",
       "        [3., 4., 7., 8.]])"
      ]
     },
     "execution_count": 160,
     "metadata": {},
     "output_type": "execute_result"
    }
   ],
   "source": [
    "torch.cat([x, y], dim=1)"
   ]
  },
  {
   "cell_type": "code",
   "execution_count": 161,
   "id": "d1d28a89-b529-4253-9794-87ca8cae7b41",
   "metadata": {},
   "outputs": [],
   "source": [
    "x = torch.FloatTensor([1, 4])\n",
    "y = torch.FloatTensor([2, 5])\n",
    "z = torch.FloatTensor([3, 6])"
   ]
  },
  {
   "cell_type": "code",
   "execution_count": 162,
   "id": "cbf72f57-a62a-4ce2-a571-21003ffd4162",
   "metadata": {},
   "outputs": [
    {
     "data": {
      "text/plain": [
       "tensor([[1., 4.],\n",
       "        [2., 5.],\n",
       "        [3., 6.]])"
      ]
     },
     "execution_count": 162,
     "metadata": {},
     "output_type": "execute_result"
    }
   ],
   "source": [
    "torch.stack([x, y, z])"
   ]
  },
  {
   "cell_type": "code",
   "execution_count": 163,
   "id": "ce004a38-23df-4ea8-989c-ca1034584c2b",
   "metadata": {},
   "outputs": [
    {
     "data": {
      "text/plain": [
       "tensor([[1., 2., 3.],\n",
       "        [4., 5., 6.]])"
      ]
     },
     "execution_count": 163,
     "metadata": {},
     "output_type": "execute_result"
    }
   ],
   "source": [
    "torch.stack([x, y, z], dim=1)"
   ]
  },
  {
   "cell_type": "code",
   "execution_count": 164,
   "id": "b6479e29-925f-4429-b254-12a5cb531f39",
   "metadata": {},
   "outputs": [
    {
     "data": {
      "text/plain": [
       "tensor([[1., 4.],\n",
       "        [2., 5.],\n",
       "        [3., 6.]])"
      ]
     },
     "execution_count": 164,
     "metadata": {},
     "output_type": "execute_result"
    }
   ],
   "source": [
    "torch.cat([x.unsqueeze(0), y.unsqueeze(0), z.unsqueeze(0)], dim=0)"
   ]
  },
  {
   "cell_type": "code",
   "execution_count": 165,
   "id": "2ccc77b0-9121-4acc-a465-957f3580b2ea",
   "metadata": {},
   "outputs": [
    {
     "name": "stdout",
     "output_type": "stream",
     "text": [
      "tensor([[0., 1., 2.],\n",
      "        [2., 1., 0.]])\n"
     ]
    }
   ],
   "source": [
    "x = torch.FloatTensor([[0, 1, 2], [2, 1, 0]])\n",
    "print(x)"
   ]
  },
  {
   "cell_type": "code",
   "execution_count": 166,
   "id": "0655d26d-83fb-41fa-bc0d-7cb6e725cdce",
   "metadata": {},
   "outputs": [
    {
     "data": {
      "text/plain": [
       "tensor([[1., 1., 1.],\n",
       "        [1., 1., 1.]])"
      ]
     },
     "execution_count": 166,
     "metadata": {},
     "output_type": "execute_result"
    }
   ],
   "source": [
    "torch.ones_like(x)"
   ]
  },
  {
   "cell_type": "code",
   "execution_count": 167,
   "id": "b553ab56-fe1e-4ca7-a51b-76ce68a15736",
   "metadata": {},
   "outputs": [
    {
     "data": {
      "text/plain": [
       "tensor([[0., 0., 0.],\n",
       "        [0., 0., 0.]])"
      ]
     },
     "execution_count": 167,
     "metadata": {},
     "output_type": "execute_result"
    }
   ],
   "source": [
    "torch.zeros_like(x)"
   ]
  },
  {
   "cell_type": "code",
   "execution_count": 169,
   "id": "217b22b3-e794-4a53-a4b8-40dad20b392b",
   "metadata": {},
   "outputs": [
    {
     "data": {
      "text/plain": [
       "tensor([[2., 4.],\n",
       "        [6., 8.]])"
      ]
     },
     "execution_count": 169,
     "metadata": {},
     "output_type": "execute_result"
    }
   ],
   "source": [
    "x = torch.FloatTensor([[1, 2], [3, 4]])\n",
    "x.mul(2)"
   ]
  },
  {
   "cell_type": "code",
   "execution_count": 170,
   "id": "bedef85e-f395-4fae-b454-3970103d9d5e",
   "metadata": {},
   "outputs": [
    {
     "data": {
      "text/plain": [
       "tensor([[1., 2.],\n",
       "        [3., 4.]])"
      ]
     },
     "execution_count": 170,
     "metadata": {},
     "output_type": "execute_result"
    }
   ],
   "source": [
    "x"
   ]
  },
  {
   "cell_type": "code",
   "execution_count": 171,
   "id": "a42c0394-908e-4344-b3cd-0efd766f86d1",
   "metadata": {},
   "outputs": [
    {
     "data": {
      "text/plain": [
       "tensor([[2., 4.],\n",
       "        [6., 8.]])"
      ]
     },
     "execution_count": 171,
     "metadata": {},
     "output_type": "execute_result"
    }
   ],
   "source": [
    "x.mul_(2)"
   ]
  },
  {
   "cell_type": "code",
   "execution_count": 172,
   "id": "a702b96c-5bd7-4801-88fa-224498db2e5f",
   "metadata": {},
   "outputs": [
    {
     "data": {
      "text/plain": [
       "tensor([[2., 4.],\n",
       "        [6., 8.]])"
      ]
     },
     "execution_count": 172,
     "metadata": {},
     "output_type": "execute_result"
    }
   ],
   "source": [
    "x"
   ]
  },
  {
   "cell_type": "code",
   "execution_count": null,
   "id": "fbbecba3-022c-4ca5-a5bb-208c0324c09e",
   "metadata": {},
   "outputs": [],
   "source": []
  }
 ],
 "metadata": {
  "kernelspec": {
   "display_name": "Python 3 (ipykernel)",
   "language": "python",
   "name": "python3"
  },
  "language_info": {
   "codemirror_mode": {
    "name": "ipython",
    "version": 3
   },
   "file_extension": ".py",
   "mimetype": "text/x-python",
   "name": "python",
   "nbconvert_exporter": "python",
   "pygments_lexer": "ipython3",
   "version": "3.11.9"
  }
 },
 "nbformat": 4,
 "nbformat_minor": 5
}
