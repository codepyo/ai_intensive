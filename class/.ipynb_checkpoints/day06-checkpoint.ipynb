{
 "cells": [
  {
   "cell_type": "code",
   "execution_count": 2,
   "id": "2fade7e2-0632-4a61-ba30-c18b9f021d19",
   "metadata": {},
   "outputs": [],
   "source": [
    "import numpy as np\n",
    "import pandas as pd"
   ]
  },
  {
   "cell_type": "code",
   "execution_count": 3,
   "id": "3344b6eb-fbf2-4091-bb90-c0500c4b4593",
   "metadata": {},
   "outputs": [],
   "source": [
    "df1 = pd.read_csv('../data/sales1.csv')\n",
    "df2 = pd.read_csv('../data/sales2.csv')\n",
    "df3 = pd.read_csv('../data/sales3.csv')"
   ]
  },
  {
   "cell_type": "code",
   "execution_count": 4,
   "id": "e2c6354c-23e1-49f4-9c0f-8d14e508a3dd",
   "metadata": {},
   "outputs": [
    {
     "data": {
      "text/html": [
       "<div>\n",
       "<style scoped>\n",
       "    .dataframe tbody tr th:only-of-type {\n",
       "        vertical-align: middle;\n",
       "    }\n",
       "\n",
       "    .dataframe tbody tr th {\n",
       "        vertical-align: top;\n",
       "    }\n",
       "\n",
       "    .dataframe thead th {\n",
       "        text-align: right;\n",
       "    }\n",
       "</style>\n",
       "<table border=\"1\" class=\"dataframe\">\n",
       "  <thead>\n",
       "    <tr style=\"text-align: right;\">\n",
       "      <th></th>\n",
       "      <th>ORDERID</th>\n",
       "      <th>DATE</th>\n",
       "      <th>PURCHASE_TIME</th>\n",
       "      <th>PAYMENT</th>\n",
       "      <th>COGS</th>\n",
       "      <th>GROSS_MARGIN_PERCENTAGE</th>\n",
       "      <th>GROSS_INCOME</th>\n",
       "      <th>RATING</th>\n",
       "    </tr>\n",
       "  </thead>\n",
       "  <tbody>\n",
       "    <tr>\n",
       "      <th>0</th>\n",
       "      <td>750-67-8428</td>\n",
       "      <td>1/5/2019</td>\n",
       "      <td>13:08</td>\n",
       "      <td>Samsungpay</td>\n",
       "      <td>522.83</td>\n",
       "      <td>4.761905</td>\n",
       "      <td>26.1415</td>\n",
       "      <td>9.1</td>\n",
       "    </tr>\n",
       "    <tr>\n",
       "      <th>1</th>\n",
       "      <td>226-31-3081</td>\n",
       "      <td>3/8/2019</td>\n",
       "      <td>10:29</td>\n",
       "      <td>Naverpay</td>\n",
       "      <td>76.40</td>\n",
       "      <td>4.761905</td>\n",
       "      <td>3.8200</td>\n",
       "      <td>9.6</td>\n",
       "    </tr>\n",
       "    <tr>\n",
       "      <th>2</th>\n",
       "      <td>631-41-3108</td>\n",
       "      <td>3/3/2019</td>\n",
       "      <td>13:23</td>\n",
       "      <td>Credit card</td>\n",
       "      <td>324.31</td>\n",
       "      <td>4.761905</td>\n",
       "      <td>16.2155</td>\n",
       "      <td>7.4</td>\n",
       "    </tr>\n",
       "    <tr>\n",
       "      <th>3</th>\n",
       "      <td>123-19-1176</td>\n",
       "      <td>1/27/2019</td>\n",
       "      <td>20:33</td>\n",
       "      <td>Samsungpay</td>\n",
       "      <td>465.76</td>\n",
       "      <td>4.761905</td>\n",
       "      <td>23.2880</td>\n",
       "      <td>8.4</td>\n",
       "    </tr>\n",
       "    <tr>\n",
       "      <th>4</th>\n",
       "      <td>373-73-7910</td>\n",
       "      <td>2/8/2019</td>\n",
       "      <td>10:37</td>\n",
       "      <td>Samsungpay</td>\n",
       "      <td>604.17</td>\n",
       "      <td>4.761905</td>\n",
       "      <td>30.2085</td>\n",
       "      <td>NaN</td>\n",
       "    </tr>\n",
       "    <tr>\n",
       "      <th>...</th>\n",
       "      <td>...</td>\n",
       "      <td>...</td>\n",
       "      <td>...</td>\n",
       "      <td>...</td>\n",
       "      <td>...</td>\n",
       "      <td>...</td>\n",
       "      <td>...</td>\n",
       "      <td>...</td>\n",
       "    </tr>\n",
       "    <tr>\n",
       "      <th>995</th>\n",
       "      <td>233-67-5758</td>\n",
       "      <td>1/29/2019</td>\n",
       "      <td>13:46</td>\n",
       "      <td>Samsungpay</td>\n",
       "      <td>40.35</td>\n",
       "      <td>4.761905</td>\n",
       "      <td>2.0175</td>\n",
       "      <td>6.2</td>\n",
       "    </tr>\n",
       "    <tr>\n",
       "      <th>996</th>\n",
       "      <td>303-96-2227</td>\n",
       "      <td>3/2/2019</td>\n",
       "      <td>17:16</td>\n",
       "      <td>Samsungpay</td>\n",
       "      <td>973.80</td>\n",
       "      <td>4.761905</td>\n",
       "      <td>48.6900</td>\n",
       "      <td>4.4</td>\n",
       "    </tr>\n",
       "    <tr>\n",
       "      <th>997</th>\n",
       "      <td>727-02-1313</td>\n",
       "      <td>2/9/2019</td>\n",
       "      <td>13:22</td>\n",
       "      <td>Naverpay</td>\n",
       "      <td>31.84</td>\n",
       "      <td>4.761905</td>\n",
       "      <td>1.5920</td>\n",
       "      <td>7.7</td>\n",
       "    </tr>\n",
       "    <tr>\n",
       "      <th>998</th>\n",
       "      <td>347-56-2442</td>\n",
       "      <td>2/22/2019</td>\n",
       "      <td>15:33</td>\n",
       "      <td>Naverpay</td>\n",
       "      <td>65.82</td>\n",
       "      <td>4.761905</td>\n",
       "      <td>3.2910</td>\n",
       "      <td>4.1</td>\n",
       "    </tr>\n",
       "    <tr>\n",
       "      <th>999</th>\n",
       "      <td>849-09-3807</td>\n",
       "      <td>2/18/2019</td>\n",
       "      <td>13:28</td>\n",
       "      <td>Naverpay</td>\n",
       "      <td>618.38</td>\n",
       "      <td>4.761905</td>\n",
       "      <td>30.9190</td>\n",
       "      <td>6.6</td>\n",
       "    </tr>\n",
       "  </tbody>\n",
       "</table>\n",
       "<p>1000 rows × 8 columns</p>\n",
       "</div>"
      ],
      "text/plain": [
       "         ORDERID       DATE PURCHASE_TIME      PAYMENT    COGS  \\\n",
       "0    750-67-8428   1/5/2019         13:08   Samsungpay  522.83   \n",
       "1    226-31-3081   3/8/2019         10:29     Naverpay   76.40   \n",
       "2    631-41-3108   3/3/2019         13:23  Credit card  324.31   \n",
       "3    123-19-1176  1/27/2019         20:33  Samsungpay   465.76   \n",
       "4    373-73-7910   2/8/2019         10:37   Samsungpay  604.17   \n",
       "..           ...        ...           ...          ...     ...   \n",
       "995  233-67-5758  1/29/2019         13:46   Samsungpay   40.35   \n",
       "996  303-96-2227   3/2/2019         17:16   Samsungpay  973.80   \n",
       "997  727-02-1313   2/9/2019         13:22     Naverpay   31.84   \n",
       "998  347-56-2442  2/22/2019         15:33     Naverpay   65.82   \n",
       "999  849-09-3807  2/18/2019         13:28     Naverpay  618.38   \n",
       "\n",
       "     GROSS_MARGIN_PERCENTAGE  GROSS_INCOME  RATING  \n",
       "0                   4.761905       26.1415     9.1  \n",
       "1                   4.761905        3.8200     9.6  \n",
       "2                   4.761905       16.2155     7.4  \n",
       "3                   4.761905       23.2880     8.4  \n",
       "4                   4.761905       30.2085     NaN  \n",
       "..                       ...           ...     ...  \n",
       "995                 4.761905        2.0175     6.2  \n",
       "996                 4.761905       48.6900     4.4  \n",
       "997                 4.761905        1.5920     7.7  \n",
       "998                 4.761905        3.2910     4.1  \n",
       "999                 4.761905       30.9190     6.6  \n",
       "\n",
       "[1000 rows x 8 columns]"
      ]
     },
     "execution_count": 4,
     "metadata": {},
     "output_type": "execute_result"
    }
   ],
   "source": [
    "df3"
   ]
  },
  {
   "cell_type": "code",
   "execution_count": 5,
   "id": "43ff6739-fdb2-41a7-8476-2c94cdff1fca",
   "metadata": {},
   "outputs": [
    {
     "data": {
      "text/plain": [
       "Index(['ORDERID', 'PURCHASE_PAGE', 'CITY', 'CUSTOMER_TYPE', 'GENDER'], dtype='object')"
      ]
     },
     "execution_count": 5,
     "metadata": {},
     "output_type": "execute_result"
    }
   ],
   "source": [
    "df1.columns"
   ]
  },
  {
   "cell_type": "code",
   "execution_count": 7,
   "id": "4f26f065-b404-4d1c-897b-3ee06ad17917",
   "metadata": {},
   "outputs": [
    {
     "data": {
      "text/plain": [
       "array(['A', 'C', 'B'], dtype=object)"
      ]
     },
     "execution_count": 7,
     "metadata": {},
     "output_type": "execute_result"
    }
   ],
   "source": [
    "df1['PURCHASE_PAGE'].unique()"
   ]
  },
  {
   "cell_type": "code",
   "execution_count": 8,
   "id": "c6d779f8-2e21-414d-8f80-d7625497828d",
   "metadata": {},
   "outputs": [
    {
     "data": {
      "text/plain": [
       "array(['Seoul', 'Gyeonggi', 'Incheon'], dtype=object)"
      ]
     },
     "execution_count": 8,
     "metadata": {},
     "output_type": "execute_result"
    }
   ],
   "source": [
    "df1['CITY'].unique()"
   ]
  },
  {
   "cell_type": "code",
   "execution_count": 9,
   "id": "39b5bc63-8597-4ba0-af24-aecc421a229e",
   "metadata": {},
   "outputs": [
    {
     "data": {
      "text/plain": [
       "array(['Member', 'Normal'], dtype=object)"
      ]
     },
     "execution_count": 9,
     "metadata": {},
     "output_type": "execute_result"
    }
   ],
   "source": [
    "df1['CUSTOMER_TYPE'].unique()"
   ]
  },
  {
   "cell_type": "code",
   "execution_count": 10,
   "id": "65e643e9-5e02-43be-b5f5-fb05399e14e3",
   "metadata": {},
   "outputs": [
    {
     "data": {
      "text/plain": [
       "array(['Female', 'Male'], dtype=object)"
      ]
     },
     "execution_count": 10,
     "metadata": {},
     "output_type": "execute_result"
    }
   ],
   "source": [
    "df1['GENDER'].unique()"
   ]
  },
  {
   "cell_type": "code",
   "execution_count": 11,
   "id": "3c979027-e6c8-442e-b700-6793dedc0d84",
   "metadata": {},
   "outputs": [
    {
     "data": {
      "text/plain": [
       "array([ 9.1,  9.6,  7.4,  8.4,  nan,  4.1,  5.8,  8. ,  7.2,  5.9,  4.5,\n",
       "        6.8,  7.1,  8.2,  5.7,  4.6,  6.9,  8.6,  4.4,  4.8,  5.1,  9.9,\n",
       "        6. ,  8.5,  6.7,  7.7,  7.5,  7. ,  4.7,  7.6,  7.9,  6.3,  5.6,\n",
       "        9.5,  8.1,  6.5,  6.1,  6.6,  5.4,  9.3, 10. ,  6.4,  4.3,  4. ,\n",
       "        8.7,  9.4,  5.5,  8.3,  7.3,  4.9,  4.2,  9.2,  7.8,  5.3,  5.2,\n",
       "        9. ,  8.8,  6.2,  9.8,  9.7,  5. ,  8.9])"
      ]
     },
     "execution_count": 11,
     "metadata": {},
     "output_type": "execute_result"
    }
   ],
   "source": [
    "df3['RATING'].unique()"
   ]
  },
  {
   "cell_type": "code",
   "execution_count": 12,
   "id": "6d2c15a0-e2c5-4cf0-b23d-9870e36a27d7",
   "metadata": {},
   "outputs": [
    {
     "data": {
      "text/plain": [
       "2"
      ]
     },
     "execution_count": 12,
     "metadata": {},
     "output_type": "execute_result"
    }
   ],
   "source": [
    "df1['GENDER'].nunique()"
   ]
  },
  {
   "cell_type": "code",
   "execution_count": 13,
   "id": "264031c6-4963-4994-824f-b4516902cb7d",
   "metadata": {},
   "outputs": [
    {
     "data": {
      "text/plain": [
       "GENDER\n",
       "Female    501\n",
       "Male      499\n",
       "Name: count, dtype: int64"
      ]
     },
     "execution_count": 13,
     "metadata": {},
     "output_type": "execute_result"
    }
   ],
   "source": [
    "df1['GENDER'].value_counts()"
   ]
  },
  {
   "cell_type": "code",
   "execution_count": 15,
   "id": "8e7db5d8-fa80-47f0-8488-1a6348101889",
   "metadata": {},
   "outputs": [
    {
     "data": {
      "text/plain": [
       "ORDERID                    0\n",
       "DATE                       0\n",
       "PURCHASE_TIME              0\n",
       "PAYMENT                    0\n",
       "COGS                       0\n",
       "GROSS_MARGIN_PERCENTAGE    0\n",
       "GROSS_INCOME               0\n",
       "RATING                     4\n",
       "dtype: int64"
      ]
     },
     "execution_count": 15,
     "metadata": {},
     "output_type": "execute_result"
    }
   ],
   "source": [
    "df3.isnull().sum()"
   ]
  },
  {
   "cell_type": "code",
   "execution_count": 17,
   "id": "545b40dc-5fe2-4fda-9620-8ae09f23a083",
   "metadata": {},
   "outputs": [
    {
     "data": {
      "text/html": [
       "<div>\n",
       "<style scoped>\n",
       "    .dataframe tbody tr th:only-of-type {\n",
       "        vertical-align: middle;\n",
       "    }\n",
       "\n",
       "    .dataframe tbody tr th {\n",
       "        vertical-align: top;\n",
       "    }\n",
       "\n",
       "    .dataframe thead th {\n",
       "        text-align: right;\n",
       "    }\n",
       "</style>\n",
       "<table border=\"1\" class=\"dataframe\">\n",
       "  <thead>\n",
       "    <tr style=\"text-align: right;\">\n",
       "      <th></th>\n",
       "      <th>ORDERID</th>\n",
       "      <th>DATE</th>\n",
       "      <th>PURCHASE_TIME</th>\n",
       "      <th>PAYMENT</th>\n",
       "      <th>COGS</th>\n",
       "      <th>GROSS_MARGIN_PERCENTAGE</th>\n",
       "      <th>GROSS_INCOME</th>\n",
       "      <th>RATING</th>\n",
       "    </tr>\n",
       "  </thead>\n",
       "  <tbody>\n",
       "    <tr>\n",
       "      <th>4</th>\n",
       "      <td>373-73-7910</td>\n",
       "      <td>2/8/2019</td>\n",
       "      <td>10:37</td>\n",
       "      <td>Samsungpay</td>\n",
       "      <td>604.17</td>\n",
       "      <td>4.761905</td>\n",
       "      <td>30.2085</td>\n",
       "      <td>NaN</td>\n",
       "    </tr>\n",
       "    <tr>\n",
       "      <th>228</th>\n",
       "      <td>466-61-5506</td>\n",
       "      <td>2/26/2019</td>\n",
       "      <td>10:52</td>\n",
       "      <td>Naverpay</td>\n",
       "      <td>544.20</td>\n",
       "      <td>4.761905</td>\n",
       "      <td>27.2100</td>\n",
       "      <td>NaN</td>\n",
       "    </tr>\n",
       "    <tr>\n",
       "      <th>517</th>\n",
       "      <td>521-18-7827</td>\n",
       "      <td>1/22/2019</td>\n",
       "      <td>20:46</td>\n",
       "      <td>Credit card</td>\n",
       "      <td>196.95</td>\n",
       "      <td>4.761905</td>\n",
       "      <td>9.8475</td>\n",
       "      <td>NaN</td>\n",
       "    </tr>\n",
       "    <tr>\n",
       "      <th>701</th>\n",
       "      <td>176-64-7711</td>\n",
       "      <td>3/27/2019</td>\n",
       "      <td>19:11</td>\n",
       "      <td>Credit card</td>\n",
       "      <td>96.96</td>\n",
       "      <td>4.761905</td>\n",
       "      <td>4.8480</td>\n",
       "      <td>NaN</td>\n",
       "    </tr>\n",
       "  </tbody>\n",
       "</table>\n",
       "</div>"
      ],
      "text/plain": [
       "         ORDERID       DATE PURCHASE_TIME      PAYMENT    COGS  \\\n",
       "4    373-73-7910   2/8/2019         10:37   Samsungpay  604.17   \n",
       "228  466-61-5506  2/26/2019         10:52     Naverpay  544.20   \n",
       "517  521-18-7827  1/22/2019         20:46  Credit card  196.95   \n",
       "701  176-64-7711  3/27/2019         19:11  Credit card   96.96   \n",
       "\n",
       "     GROSS_MARGIN_PERCENTAGE  GROSS_INCOME  RATING  \n",
       "4                   4.761905       30.2085     NaN  \n",
       "228                 4.761905       27.2100     NaN  \n",
       "517                 4.761905        9.8475     NaN  \n",
       "701                 4.761905        4.8480     NaN  "
      ]
     },
     "execution_count": 17,
     "metadata": {},
     "output_type": "execute_result"
    }
   ],
   "source": [
    "df3[df3['RATING'].isnull()]"
   ]
  },
  {
   "cell_type": "code",
   "execution_count": 18,
   "id": "4ec3311d-abb6-46c8-b5af-c68121922179",
   "metadata": {},
   "outputs": [
    {
     "data": {
      "text/plain": [
       "10.0"
      ]
     },
     "execution_count": 18,
     "metadata": {},
     "output_type": "execute_result"
    }
   ],
   "source": [
    "max(df3['RATING'])"
   ]
  },
  {
   "cell_type": "code",
   "execution_count": 19,
   "id": "f2bf22a7-fd19-4824-9aa6-d38cd1cf5e98",
   "metadata": {},
   "outputs": [
    {
     "data": {
      "text/plain": [
       "4.0"
      ]
     },
     "execution_count": 19,
     "metadata": {},
     "output_type": "execute_result"
    }
   ],
   "source": [
    "min(df3['RATING'])"
   ]
  },
  {
   "cell_type": "code",
   "execution_count": 20,
   "id": "916d25f2-d8f1-4a0c-be86-ad8e03f68932",
   "metadata": {},
   "outputs": [],
   "source": [
    "df3 = df3.fillna(0)"
   ]
  },
  {
   "cell_type": "code",
   "execution_count": 21,
   "id": "41caa6ad-189c-4562-a1b1-d67c2971225e",
   "metadata": {},
   "outputs": [
    {
     "data": {
      "text/html": [
       "<div>\n",
       "<style scoped>\n",
       "    .dataframe tbody tr th:only-of-type {\n",
       "        vertical-align: middle;\n",
       "    }\n",
       "\n",
       "    .dataframe tbody tr th {\n",
       "        vertical-align: top;\n",
       "    }\n",
       "\n",
       "    .dataframe thead th {\n",
       "        text-align: right;\n",
       "    }\n",
       "</style>\n",
       "<table border=\"1\" class=\"dataframe\">\n",
       "  <thead>\n",
       "    <tr style=\"text-align: right;\">\n",
       "      <th></th>\n",
       "      <th>ORDERID</th>\n",
       "      <th>DATE</th>\n",
       "      <th>PURCHASE_TIME</th>\n",
       "      <th>PAYMENT</th>\n",
       "      <th>COGS</th>\n",
       "      <th>GROSS_MARGIN_PERCENTAGE</th>\n",
       "      <th>GROSS_INCOME</th>\n",
       "      <th>RATING</th>\n",
       "    </tr>\n",
       "  </thead>\n",
       "  <tbody>\n",
       "    <tr>\n",
       "      <th>0</th>\n",
       "      <td>750-67-8428</td>\n",
       "      <td>1/5/2019</td>\n",
       "      <td>13:08</td>\n",
       "      <td>Samsungpay</td>\n",
       "      <td>522.83</td>\n",
       "      <td>4.761905</td>\n",
       "      <td>26.1415</td>\n",
       "      <td>9.1</td>\n",
       "    </tr>\n",
       "    <tr>\n",
       "      <th>1</th>\n",
       "      <td>226-31-3081</td>\n",
       "      <td>3/8/2019</td>\n",
       "      <td>10:29</td>\n",
       "      <td>Naverpay</td>\n",
       "      <td>76.40</td>\n",
       "      <td>4.761905</td>\n",
       "      <td>3.8200</td>\n",
       "      <td>9.6</td>\n",
       "    </tr>\n",
       "    <tr>\n",
       "      <th>2</th>\n",
       "      <td>631-41-3108</td>\n",
       "      <td>3/3/2019</td>\n",
       "      <td>13:23</td>\n",
       "      <td>Credit card</td>\n",
       "      <td>324.31</td>\n",
       "      <td>4.761905</td>\n",
       "      <td>16.2155</td>\n",
       "      <td>7.4</td>\n",
       "    </tr>\n",
       "    <tr>\n",
       "      <th>3</th>\n",
       "      <td>123-19-1176</td>\n",
       "      <td>1/27/2019</td>\n",
       "      <td>20:33</td>\n",
       "      <td>Samsungpay</td>\n",
       "      <td>465.76</td>\n",
       "      <td>4.761905</td>\n",
       "      <td>23.2880</td>\n",
       "      <td>8.4</td>\n",
       "    </tr>\n",
       "    <tr>\n",
       "      <th>4</th>\n",
       "      <td>373-73-7910</td>\n",
       "      <td>2/8/2019</td>\n",
       "      <td>10:37</td>\n",
       "      <td>Samsungpay</td>\n",
       "      <td>604.17</td>\n",
       "      <td>4.761905</td>\n",
       "      <td>30.2085</td>\n",
       "      <td>0.0</td>\n",
       "    </tr>\n",
       "  </tbody>\n",
       "</table>\n",
       "</div>"
      ],
      "text/plain": [
       "       ORDERID       DATE PURCHASE_TIME      PAYMENT    COGS  \\\n",
       "0  750-67-8428   1/5/2019         13:08   Samsungpay  522.83   \n",
       "1  226-31-3081   3/8/2019         10:29     Naverpay   76.40   \n",
       "2  631-41-3108   3/3/2019         13:23  Credit card  324.31   \n",
       "3  123-19-1176  1/27/2019         20:33  Samsungpay   465.76   \n",
       "4  373-73-7910   2/8/2019         10:37   Samsungpay  604.17   \n",
       "\n",
       "   GROSS_MARGIN_PERCENTAGE  GROSS_INCOME  RATING  \n",
       "0                 4.761905       26.1415     9.1  \n",
       "1                 4.761905        3.8200     9.6  \n",
       "2                 4.761905       16.2155     7.4  \n",
       "3                 4.761905       23.2880     8.4  \n",
       "4                 4.761905       30.2085     0.0  "
      ]
     },
     "execution_count": 21,
     "metadata": {},
     "output_type": "execute_result"
    }
   ],
   "source": [
    "df3.head()"
   ]
  },
  {
   "cell_type": "code",
   "execution_count": 23,
   "id": "218c9bf6-d1d1-4c3d-9abf-280b087037d1",
   "metadata": {},
   "outputs": [
    {
     "data": {
      "text/plain": [
       "ORDERID                    0\n",
       "DATE                       0\n",
       "PURCHASE_TIME              0\n",
       "PAYMENT                    0\n",
       "COGS                       0\n",
       "GROSS_MARGIN_PERCENTAGE    0\n",
       "GROSS_INCOME               0\n",
       "RATING                     0\n",
       "dtype: int64"
      ]
     },
     "execution_count": 23,
     "metadata": {},
     "output_type": "execute_result"
    }
   ],
   "source": [
    "df3.isnull().sum()"
   ]
  },
  {
   "cell_type": "code",
   "execution_count": 24,
   "id": "c12170df-6a8d-45f1-9f79-47861cbf9ff8",
   "metadata": {},
   "outputs": [
    {
     "data": {
      "text/html": [
       "<div>\n",
       "<style scoped>\n",
       "    .dataframe tbody tr th:only-of-type {\n",
       "        vertical-align: middle;\n",
       "    }\n",
       "\n",
       "    .dataframe tbody tr th {\n",
       "        vertical-align: top;\n",
       "    }\n",
       "\n",
       "    .dataframe thead th {\n",
       "        text-align: right;\n",
       "    }\n",
       "</style>\n",
       "<table border=\"1\" class=\"dataframe\">\n",
       "  <thead>\n",
       "    <tr style=\"text-align: right;\">\n",
       "      <th></th>\n",
       "      <th>ORDERID</th>\n",
       "      <th>DATE</th>\n",
       "      <th>PURCHASE_TIME</th>\n",
       "      <th>PAYMENT</th>\n",
       "      <th>COGS</th>\n",
       "      <th>GROSS_MARGIN_PERCENTAGE</th>\n",
       "      <th>GROSS_INCOME</th>\n",
       "      <th>RATING</th>\n",
       "    </tr>\n",
       "  </thead>\n",
       "  <tbody>\n",
       "  </tbody>\n",
       "</table>\n",
       "</div>"
      ],
      "text/plain": [
       "Empty DataFrame\n",
       "Columns: [ORDERID, DATE, PURCHASE_TIME, PAYMENT, COGS, GROSS_MARGIN_PERCENTAGE, GROSS_INCOME, RATING]\n",
       "Index: []"
      ]
     },
     "execution_count": 24,
     "metadata": {},
     "output_type": "execute_result"
    }
   ],
   "source": [
    "df3[df3['RATING'].isnull()]"
   ]
  },
  {
   "cell_type": "code",
   "execution_count": 25,
   "id": "50fe1659-1a08-4f8f-ab54-651ede67d05f",
   "metadata": {},
   "outputs": [
    {
     "data": {
      "text/plain": [
       "array(['Samsungpay', 'Naverpay', 'Credit card', 'Samsungpay '],\n",
       "      dtype=object)"
      ]
     },
     "execution_count": 25,
     "metadata": {},
     "output_type": "execute_result"
    }
   ],
   "source": [
    "df3['PAYMENT'].unique()"
   ]
  },
  {
   "cell_type": "code",
   "execution_count": 26,
   "id": "a6b2317a-bed8-4dec-87b1-0599ef1da4e8",
   "metadata": {},
   "outputs": [],
   "source": [
    "df3['PAYMENT'] = df3['PAYMENT'].str.strip()"
   ]
  },
  {
   "cell_type": "code",
   "execution_count": 27,
   "id": "ebf3ec51-6a36-455f-bc36-7ed56c5d3aeb",
   "metadata": {},
   "outputs": [
    {
     "data": {
      "text/plain": [
       "array(['Samsungpay', 'Naverpay', 'Credit card'], dtype=object)"
      ]
     },
     "execution_count": 27,
     "metadata": {},
     "output_type": "execute_result"
    }
   ],
   "source": [
    "df3['PAYMENT'].unique()"
   ]
  },
  {
   "cell_type": "code",
   "execution_count": 28,
   "id": "374f628b-bb2e-4fe2-a31a-45fddb9b3adf",
   "metadata": {},
   "outputs": [],
   "source": [
    "df12_inner = pd.merge(df1, df2, on='ORDERID', how='inner')"
   ]
  },
  {
   "cell_type": "code",
   "execution_count": 29,
   "id": "cf185224-2d99-4792-848e-2e6e69cfd8e9",
   "metadata": {},
   "outputs": [
    {
     "data": {
      "text/html": [
       "<div>\n",
       "<style scoped>\n",
       "    .dataframe tbody tr th:only-of-type {\n",
       "        vertical-align: middle;\n",
       "    }\n",
       "\n",
       "    .dataframe tbody tr th {\n",
       "        vertical-align: top;\n",
       "    }\n",
       "\n",
       "    .dataframe thead th {\n",
       "        text-align: right;\n",
       "    }\n",
       "</style>\n",
       "<table border=\"1\" class=\"dataframe\">\n",
       "  <thead>\n",
       "    <tr style=\"text-align: right;\">\n",
       "      <th></th>\n",
       "      <th>ORDERID</th>\n",
       "      <th>PURCHASE_PAGE</th>\n",
       "      <th>CITY</th>\n",
       "      <th>CUSTOMER_TYPE</th>\n",
       "      <th>GENDER</th>\n",
       "      <th>PRODUCT_TYPE</th>\n",
       "      <th>UNIT_PRICE</th>\n",
       "      <th>QUANTITY</th>\n",
       "      <th>MILEAGE</th>\n",
       "      <th>TOTAL_PRICE</th>\n",
       "    </tr>\n",
       "  </thead>\n",
       "  <tbody>\n",
       "    <tr>\n",
       "      <th>0</th>\n",
       "      <td>750-67-8428</td>\n",
       "      <td>A</td>\n",
       "      <td>Seoul</td>\n",
       "      <td>Member</td>\n",
       "      <td>Female</td>\n",
       "      <td>Health and beauty</td>\n",
       "      <td>74.69</td>\n",
       "      <td>7</td>\n",
       "      <td>26.1415</td>\n",
       "      <td>548.9715</td>\n",
       "    </tr>\n",
       "    <tr>\n",
       "      <th>1</th>\n",
       "      <td>226-31-3081</td>\n",
       "      <td>C</td>\n",
       "      <td>Gyeonggi</td>\n",
       "      <td>Normal</td>\n",
       "      <td>Female</td>\n",
       "      <td>Electronic accessories</td>\n",
       "      <td>15.28</td>\n",
       "      <td>5</td>\n",
       "      <td>3.8200</td>\n",
       "      <td>80.2200</td>\n",
       "    </tr>\n",
       "    <tr>\n",
       "      <th>2</th>\n",
       "      <td>631-41-3108</td>\n",
       "      <td>A</td>\n",
       "      <td>Seoul</td>\n",
       "      <td>Normal</td>\n",
       "      <td>Male</td>\n",
       "      <td>Home and lifestyle</td>\n",
       "      <td>46.33</td>\n",
       "      <td>7</td>\n",
       "      <td>16.2155</td>\n",
       "      <td>340.5255</td>\n",
       "    </tr>\n",
       "    <tr>\n",
       "      <th>3</th>\n",
       "      <td>123-19-1176</td>\n",
       "      <td>A</td>\n",
       "      <td>Seoul</td>\n",
       "      <td>Member</td>\n",
       "      <td>Male</td>\n",
       "      <td>Health and beauty</td>\n",
       "      <td>58.22</td>\n",
       "      <td>8</td>\n",
       "      <td>23.2880</td>\n",
       "      <td>489.0480</td>\n",
       "    </tr>\n",
       "    <tr>\n",
       "      <th>4</th>\n",
       "      <td>373-73-7910</td>\n",
       "      <td>A</td>\n",
       "      <td>Seoul</td>\n",
       "      <td>Normal</td>\n",
       "      <td>Male</td>\n",
       "      <td>Sports and travel</td>\n",
       "      <td>86.31</td>\n",
       "      <td>7</td>\n",
       "      <td>30.2085</td>\n",
       "      <td>634.3785</td>\n",
       "    </tr>\n",
       "    <tr>\n",
       "      <th>...</th>\n",
       "      <td>...</td>\n",
       "      <td>...</td>\n",
       "      <td>...</td>\n",
       "      <td>...</td>\n",
       "      <td>...</td>\n",
       "      <td>...</td>\n",
       "      <td>...</td>\n",
       "      <td>...</td>\n",
       "      <td>...</td>\n",
       "      <td>...</td>\n",
       "    </tr>\n",
       "    <tr>\n",
       "      <th>995</th>\n",
       "      <td>233-67-5758</td>\n",
       "      <td>C</td>\n",
       "      <td>Gyeonggi</td>\n",
       "      <td>Normal</td>\n",
       "      <td>Male</td>\n",
       "      <td>Health and beauty</td>\n",
       "      <td>40.35</td>\n",
       "      <td>1</td>\n",
       "      <td>2.0175</td>\n",
       "      <td>42.3675</td>\n",
       "    </tr>\n",
       "    <tr>\n",
       "      <th>996</th>\n",
       "      <td>303-96-2227</td>\n",
       "      <td>B</td>\n",
       "      <td>Incheon</td>\n",
       "      <td>Normal</td>\n",
       "      <td>Female</td>\n",
       "      <td>Home and lifestyle</td>\n",
       "      <td>97.38</td>\n",
       "      <td>10</td>\n",
       "      <td>48.6900</td>\n",
       "      <td>1022.4900</td>\n",
       "    </tr>\n",
       "    <tr>\n",
       "      <th>997</th>\n",
       "      <td>727-02-1313</td>\n",
       "      <td>A</td>\n",
       "      <td>Seoul</td>\n",
       "      <td>Member</td>\n",
       "      <td>Male</td>\n",
       "      <td>Food and beverages</td>\n",
       "      <td>31.84</td>\n",
       "      <td>1</td>\n",
       "      <td>1.5920</td>\n",
       "      <td>33.4320</td>\n",
       "    </tr>\n",
       "    <tr>\n",
       "      <th>998</th>\n",
       "      <td>347-56-2442</td>\n",
       "      <td>A</td>\n",
       "      <td>Seoul</td>\n",
       "      <td>Normal</td>\n",
       "      <td>Male</td>\n",
       "      <td>Home and lifestyle</td>\n",
       "      <td>65.82</td>\n",
       "      <td>1</td>\n",
       "      <td>3.2910</td>\n",
       "      <td>69.1110</td>\n",
       "    </tr>\n",
       "    <tr>\n",
       "      <th>999</th>\n",
       "      <td>849-09-3807</td>\n",
       "      <td>A</td>\n",
       "      <td>Seoul</td>\n",
       "      <td>Member</td>\n",
       "      <td>Female</td>\n",
       "      <td>Fashion accessories</td>\n",
       "      <td>88.34</td>\n",
       "      <td>7</td>\n",
       "      <td>30.9190</td>\n",
       "      <td>649.2990</td>\n",
       "    </tr>\n",
       "  </tbody>\n",
       "</table>\n",
       "<p>1000 rows × 10 columns</p>\n",
       "</div>"
      ],
      "text/plain": [
       "         ORDERID PURCHASE_PAGE      CITY CUSTOMER_TYPE  GENDER  \\\n",
       "0    750-67-8428             A     Seoul        Member  Female   \n",
       "1    226-31-3081             C  Gyeonggi        Normal  Female   \n",
       "2    631-41-3108             A     Seoul        Normal    Male   \n",
       "3    123-19-1176             A     Seoul        Member    Male   \n",
       "4    373-73-7910             A     Seoul        Normal    Male   \n",
       "..           ...           ...       ...           ...     ...   \n",
       "995  233-67-5758             C  Gyeonggi        Normal    Male   \n",
       "996  303-96-2227             B   Incheon        Normal  Female   \n",
       "997  727-02-1313             A     Seoul        Member    Male   \n",
       "998  347-56-2442             A     Seoul        Normal    Male   \n",
       "999  849-09-3807             A     Seoul        Member  Female   \n",
       "\n",
       "               PRODUCT_TYPE  UNIT_PRICE  QUANTITY  MILEAGE  TOTAL_PRICE  \n",
       "0         Health and beauty       74.69         7  26.1415     548.9715  \n",
       "1    Electronic accessories       15.28         5   3.8200      80.2200  \n",
       "2        Home and lifestyle       46.33         7  16.2155     340.5255  \n",
       "3         Health and beauty       58.22         8  23.2880     489.0480  \n",
       "4         Sports and travel       86.31         7  30.2085     634.3785  \n",
       "..                      ...         ...       ...      ...          ...  \n",
       "995       Health and beauty       40.35         1   2.0175      42.3675  \n",
       "996      Home and lifestyle       97.38        10  48.6900    1022.4900  \n",
       "997      Food and beverages       31.84         1   1.5920      33.4320  \n",
       "998      Home and lifestyle       65.82         1   3.2910      69.1110  \n",
       "999     Fashion accessories       88.34         7  30.9190     649.2990  \n",
       "\n",
       "[1000 rows x 10 columns]"
      ]
     },
     "execution_count": 29,
     "metadata": {},
     "output_type": "execute_result"
    }
   ],
   "source": [
    "df12_inner"
   ]
  },
  {
   "cell_type": "code",
   "execution_count": 30,
   "id": "3b2c238a-93b5-493a-9ae5-3a4a2f81b012",
   "metadata": {},
   "outputs": [],
   "source": [
    "pd.merge(df1, df2, on='ORDERID', how='left').to_csv('../data/sales.csv', index=False)"
   ]
  },
  {
   "cell_type": "code",
   "execution_count": 54,
   "id": "5aed6047-c8cf-4c71-94ab-28823d4f41cf",
   "metadata": {},
   "outputs": [],
   "source": [
    "df = pd.read_csv('../data/sales.csv', encoding='cp949')"
   ]
  },
  {
   "cell_type": "code",
   "execution_count": 55,
   "id": "8e63875b-757c-4d76-b2fe-fcdd6c570597",
   "metadata": {},
   "outputs": [],
   "source": [
    "df001 = pd.DataFrame([['철원', 3], ['혁진', 7]], columns=['name', 'number'])"
   ]
  },
  {
   "cell_type": "code",
   "execution_count": 33,
   "id": "9fbee505-8f7e-4eb7-893b-f8eacaf29939",
   "metadata": {},
   "outputs": [],
   "source": [
    "df002 = pd.DataFrame([['예인', 9], ['슬이', 8]], columns=['name', 'number'])"
   ]
  },
  {
   "cell_type": "code",
   "execution_count": 34,
   "id": "cb6bbfac-1652-423a-bce1-9bffbdd57df9",
   "metadata": {},
   "outputs": [],
   "source": [
    "df003 = pd.concat([df001, df002])"
   ]
  },
  {
   "cell_type": "code",
   "execution_count": 35,
   "id": "ccbbe2ed-7711-418b-9fee-1387f0f68e3f",
   "metadata": {},
   "outputs": [
    {
     "data": {
      "text/html": [
       "<div>\n",
       "<style scoped>\n",
       "    .dataframe tbody tr th:only-of-type {\n",
       "        vertical-align: middle;\n",
       "    }\n",
       "\n",
       "    .dataframe tbody tr th {\n",
       "        vertical-align: top;\n",
       "    }\n",
       "\n",
       "    .dataframe thead th {\n",
       "        text-align: right;\n",
       "    }\n",
       "</style>\n",
       "<table border=\"1\" class=\"dataframe\">\n",
       "  <thead>\n",
       "    <tr style=\"text-align: right;\">\n",
       "      <th></th>\n",
       "      <th>name</th>\n",
       "      <th>number</th>\n",
       "    </tr>\n",
       "  </thead>\n",
       "  <tbody>\n",
       "    <tr>\n",
       "      <th>0</th>\n",
       "      <td>철원</td>\n",
       "      <td>3</td>\n",
       "    </tr>\n",
       "    <tr>\n",
       "      <th>1</th>\n",
       "      <td>혁진</td>\n",
       "      <td>7</td>\n",
       "    </tr>\n",
       "    <tr>\n",
       "      <th>0</th>\n",
       "      <td>예인</td>\n",
       "      <td>9</td>\n",
       "    </tr>\n",
       "    <tr>\n",
       "      <th>1</th>\n",
       "      <td>슬이</td>\n",
       "      <td>8</td>\n",
       "    </tr>\n",
       "  </tbody>\n",
       "</table>\n",
       "</div>"
      ],
      "text/plain": [
       "  name  number\n",
       "0   철원       3\n",
       "1   혁진       7\n",
       "0   예인       9\n",
       "1   슬이       8"
      ]
     },
     "execution_count": 35,
     "metadata": {},
     "output_type": "execute_result"
    }
   ],
   "source": [
    "df003"
   ]
  },
  {
   "cell_type": "code",
   "execution_count": 36,
   "id": "13f70e23-c057-4d22-97c8-0e7291ae096e",
   "metadata": {},
   "outputs": [],
   "source": [
    "df004 = df003.reset_index()"
   ]
  },
  {
   "cell_type": "code",
   "execution_count": 37,
   "id": "eb89f2ce-ea44-49c2-8076-f26d09c06c0b",
   "metadata": {},
   "outputs": [
    {
     "data": {
      "text/html": [
       "<div>\n",
       "<style scoped>\n",
       "    .dataframe tbody tr th:only-of-type {\n",
       "        vertical-align: middle;\n",
       "    }\n",
       "\n",
       "    .dataframe tbody tr th {\n",
       "        vertical-align: top;\n",
       "    }\n",
       "\n",
       "    .dataframe thead th {\n",
       "        text-align: right;\n",
       "    }\n",
       "</style>\n",
       "<table border=\"1\" class=\"dataframe\">\n",
       "  <thead>\n",
       "    <tr style=\"text-align: right;\">\n",
       "      <th></th>\n",
       "      <th>index</th>\n",
       "      <th>name</th>\n",
       "      <th>number</th>\n",
       "    </tr>\n",
       "  </thead>\n",
       "  <tbody>\n",
       "    <tr>\n",
       "      <th>0</th>\n",
       "      <td>0</td>\n",
       "      <td>철원</td>\n",
       "      <td>3</td>\n",
       "    </tr>\n",
       "    <tr>\n",
       "      <th>1</th>\n",
       "      <td>1</td>\n",
       "      <td>혁진</td>\n",
       "      <td>7</td>\n",
       "    </tr>\n",
       "    <tr>\n",
       "      <th>2</th>\n",
       "      <td>0</td>\n",
       "      <td>예인</td>\n",
       "      <td>9</td>\n",
       "    </tr>\n",
       "    <tr>\n",
       "      <th>3</th>\n",
       "      <td>1</td>\n",
       "      <td>슬이</td>\n",
       "      <td>8</td>\n",
       "    </tr>\n",
       "  </tbody>\n",
       "</table>\n",
       "</div>"
      ],
      "text/plain": [
       "   index name  number\n",
       "0      0   철원       3\n",
       "1      1   혁진       7\n",
       "2      0   예인       9\n",
       "3      1   슬이       8"
      ]
     },
     "execution_count": 37,
     "metadata": {},
     "output_type": "execute_result"
    }
   ],
   "source": [
    "df004"
   ]
  },
  {
   "cell_type": "code",
   "execution_count": 38,
   "id": "855a9e36-b3f4-4324-b8b5-7dc7fa8555e0",
   "metadata": {},
   "outputs": [],
   "source": [
    "df005 = pd.concat([df001, df002])"
   ]
  },
  {
   "cell_type": "code",
   "execution_count": 39,
   "id": "b284ef27-a516-4144-8bb7-c1b642e9afb1",
   "metadata": {},
   "outputs": [
    {
     "data": {
      "text/html": [
       "<div>\n",
       "<style scoped>\n",
       "    .dataframe tbody tr th:only-of-type {\n",
       "        vertical-align: middle;\n",
       "    }\n",
       "\n",
       "    .dataframe tbody tr th {\n",
       "        vertical-align: top;\n",
       "    }\n",
       "\n",
       "    .dataframe thead th {\n",
       "        text-align: right;\n",
       "    }\n",
       "</style>\n",
       "<table border=\"1\" class=\"dataframe\">\n",
       "  <thead>\n",
       "    <tr style=\"text-align: right;\">\n",
       "      <th></th>\n",
       "      <th>name</th>\n",
       "      <th>number</th>\n",
       "    </tr>\n",
       "  </thead>\n",
       "  <tbody>\n",
       "    <tr>\n",
       "      <th>0</th>\n",
       "      <td>철원</td>\n",
       "      <td>3</td>\n",
       "    </tr>\n",
       "    <tr>\n",
       "      <th>1</th>\n",
       "      <td>혁진</td>\n",
       "      <td>7</td>\n",
       "    </tr>\n",
       "    <tr>\n",
       "      <th>0</th>\n",
       "      <td>예인</td>\n",
       "      <td>9</td>\n",
       "    </tr>\n",
       "    <tr>\n",
       "      <th>1</th>\n",
       "      <td>슬이</td>\n",
       "      <td>8</td>\n",
       "    </tr>\n",
       "  </tbody>\n",
       "</table>\n",
       "</div>"
      ],
      "text/plain": [
       "  name  number\n",
       "0   철원       3\n",
       "1   혁진       7\n",
       "0   예인       9\n",
       "1   슬이       8"
      ]
     },
     "execution_count": 39,
     "metadata": {},
     "output_type": "execute_result"
    }
   ],
   "source": [
    "df005"
   ]
  },
  {
   "cell_type": "code",
   "execution_count": 40,
   "id": "0c5cf9bd-2ecc-47ac-bdad-36d8273ae0e0",
   "metadata": {},
   "outputs": [],
   "source": [
    "unit_seoul = df[(df['UNIT_PRICE']>50)&(df['CITY']=='Seoul')]"
   ]
  },
  {
   "cell_type": "code",
   "execution_count": 41,
   "id": "33b62fa4-ceec-4bc6-b982-211113c2b080",
   "metadata": {},
   "outputs": [
    {
     "data": {
      "text/html": [
       "<div>\n",
       "<style scoped>\n",
       "    .dataframe tbody tr th:only-of-type {\n",
       "        vertical-align: middle;\n",
       "    }\n",
       "\n",
       "    .dataframe tbody tr th {\n",
       "        vertical-align: top;\n",
       "    }\n",
       "\n",
       "    .dataframe thead th {\n",
       "        text-align: right;\n",
       "    }\n",
       "</style>\n",
       "<table border=\"1\" class=\"dataframe\">\n",
       "  <thead>\n",
       "    <tr style=\"text-align: right;\">\n",
       "      <th></th>\n",
       "      <th>ORDERID</th>\n",
       "      <th>PURCHASE_PAGE</th>\n",
       "      <th>CITY</th>\n",
       "      <th>CUSTOMER_TYPE</th>\n",
       "      <th>GENDER</th>\n",
       "      <th>PRODUCT_TYPE</th>\n",
       "      <th>UNIT_PRICE</th>\n",
       "      <th>QUANTITY</th>\n",
       "      <th>MILEAGE</th>\n",
       "      <th>TOTAL_PRICE</th>\n",
       "    </tr>\n",
       "  </thead>\n",
       "  <tbody>\n",
       "    <tr>\n",
       "      <th>0</th>\n",
       "      <td>750-67-8428</td>\n",
       "      <td>A</td>\n",
       "      <td>Seoul</td>\n",
       "      <td>Member</td>\n",
       "      <td>Female</td>\n",
       "      <td>Health and beauty</td>\n",
       "      <td>74.69</td>\n",
       "      <td>7</td>\n",
       "      <td>26.1415</td>\n",
       "      <td>548.9715</td>\n",
       "    </tr>\n",
       "    <tr>\n",
       "      <th>3</th>\n",
       "      <td>123-19-1176</td>\n",
       "      <td>A</td>\n",
       "      <td>Seoul</td>\n",
       "      <td>Member</td>\n",
       "      <td>Male</td>\n",
       "      <td>Health and beauty</td>\n",
       "      <td>58.22</td>\n",
       "      <td>8</td>\n",
       "      <td>23.2880</td>\n",
       "      <td>489.0480</td>\n",
       "    </tr>\n",
       "    <tr>\n",
       "      <th>4</th>\n",
       "      <td>373-73-7910</td>\n",
       "      <td>A</td>\n",
       "      <td>Seoul</td>\n",
       "      <td>Normal</td>\n",
       "      <td>Male</td>\n",
       "      <td>Sports and travel</td>\n",
       "      <td>86.31</td>\n",
       "      <td>7</td>\n",
       "      <td>30.2085</td>\n",
       "      <td>634.3785</td>\n",
       "    </tr>\n",
       "    <tr>\n",
       "      <th>6</th>\n",
       "      <td>355-53-5943</td>\n",
       "      <td>A</td>\n",
       "      <td>Seoul</td>\n",
       "      <td>Member</td>\n",
       "      <td>Female</td>\n",
       "      <td>Electronic accessories</td>\n",
       "      <td>68.84</td>\n",
       "      <td>6</td>\n",
       "      <td>20.6520</td>\n",
       "      <td>433.6920</td>\n",
       "    </tr>\n",
       "    <tr>\n",
       "      <th>14</th>\n",
       "      <td>829-34-3910</td>\n",
       "      <td>A</td>\n",
       "      <td>Seoul</td>\n",
       "      <td>Normal</td>\n",
       "      <td>Female</td>\n",
       "      <td>Health and beauty</td>\n",
       "      <td>71.38</td>\n",
       "      <td>10</td>\n",
       "      <td>35.6900</td>\n",
       "      <td>749.4900</td>\n",
       "    </tr>\n",
       "  </tbody>\n",
       "</table>\n",
       "</div>"
      ],
      "text/plain": [
       "        ORDERID PURCHASE_PAGE   CITY CUSTOMER_TYPE  GENDER  \\\n",
       "0   750-67-8428             A  Seoul        Member  Female   \n",
       "3   123-19-1176             A  Seoul        Member    Male   \n",
       "4   373-73-7910             A  Seoul        Normal    Male   \n",
       "6   355-53-5943             A  Seoul        Member  Female   \n",
       "14  829-34-3910             A  Seoul        Normal  Female   \n",
       "\n",
       "              PRODUCT_TYPE  UNIT_PRICE  QUANTITY  MILEAGE  TOTAL_PRICE  \n",
       "0        Health and beauty       74.69         7  26.1415     548.9715  \n",
       "3        Health and beauty       58.22         8  23.2880     489.0480  \n",
       "4        Sports and travel       86.31         7  30.2085     634.3785  \n",
       "6   Electronic accessories       68.84         6  20.6520     433.6920  \n",
       "14       Health and beauty       71.38        10  35.6900     749.4900  "
      ]
     },
     "execution_count": 41,
     "metadata": {},
     "output_type": "execute_result"
    }
   ],
   "source": [
    "unit_seoul.head()"
   ]
  },
  {
   "cell_type": "code",
   "execution_count": 42,
   "id": "c73782cd-d8e9-41b7-adee-0e7490ef0061",
   "metadata": {},
   "outputs": [
    {
     "data": {
      "text/plain": [
       "(189, 10)"
      ]
     },
     "execution_count": 42,
     "metadata": {},
     "output_type": "execute_result"
    }
   ],
   "source": [
    "unit_seoul.shape"
   ]
  },
  {
   "cell_type": "code",
   "execution_count": 43,
   "id": "35dff976-ce4b-49f7-80f8-314aa0859c38",
   "metadata": {},
   "outputs": [
    {
     "data": {
      "text/plain": [
       "0       548.9715\n",
       "1        80.2200\n",
       "2       340.5255\n",
       "3       489.0480\n",
       "4       634.3785\n",
       "         ...    \n",
       "995      42.3675\n",
       "996    1022.4900\n",
       "997      33.4320\n",
       "998      69.1110\n",
       "999     649.2990\n",
       "Name: TOTAL_PRICE, Length: 1000, dtype: float64"
      ]
     },
     "execution_count": 43,
     "metadata": {},
     "output_type": "execute_result"
    }
   ],
   "source": [
    "df.iloc[:, -1]"
   ]
  },
  {
   "cell_type": "code",
   "execution_count": 44,
   "id": "4a68d439-a465-4321-b8b6-b072fc668366",
   "metadata": {},
   "outputs": [
    {
     "data": {
      "text/html": [
       "<div>\n",
       "<style scoped>\n",
       "    .dataframe tbody tr th:only-of-type {\n",
       "        vertical-align: middle;\n",
       "    }\n",
       "\n",
       "    .dataframe tbody tr th {\n",
       "        vertical-align: top;\n",
       "    }\n",
       "\n",
       "    .dataframe thead th {\n",
       "        text-align: right;\n",
       "    }\n",
       "</style>\n",
       "<table border=\"1\" class=\"dataframe\">\n",
       "  <thead>\n",
       "    <tr style=\"text-align: right;\">\n",
       "      <th></th>\n",
       "      <th>UNIT_PRICE</th>\n",
       "      <th>QUANTITY</th>\n",
       "      <th>MILEAGE</th>\n",
       "    </tr>\n",
       "  </thead>\n",
       "  <tbody>\n",
       "    <tr>\n",
       "      <th>0</th>\n",
       "      <td>74.69</td>\n",
       "      <td>7</td>\n",
       "      <td>26.1415</td>\n",
       "    </tr>\n",
       "    <tr>\n",
       "      <th>1</th>\n",
       "      <td>15.28</td>\n",
       "      <td>5</td>\n",
       "      <td>3.8200</td>\n",
       "    </tr>\n",
       "    <tr>\n",
       "      <th>2</th>\n",
       "      <td>46.33</td>\n",
       "      <td>7</td>\n",
       "      <td>16.2155</td>\n",
       "    </tr>\n",
       "    <tr>\n",
       "      <th>3</th>\n",
       "      <td>58.22</td>\n",
       "      <td>8</td>\n",
       "      <td>23.2880</td>\n",
       "    </tr>\n",
       "    <tr>\n",
       "      <th>4</th>\n",
       "      <td>86.31</td>\n",
       "      <td>7</td>\n",
       "      <td>30.2085</td>\n",
       "    </tr>\n",
       "    <tr>\n",
       "      <th>...</th>\n",
       "      <td>...</td>\n",
       "      <td>...</td>\n",
       "      <td>...</td>\n",
       "    </tr>\n",
       "    <tr>\n",
       "      <th>995</th>\n",
       "      <td>40.35</td>\n",
       "      <td>1</td>\n",
       "      <td>2.0175</td>\n",
       "    </tr>\n",
       "    <tr>\n",
       "      <th>996</th>\n",
       "      <td>97.38</td>\n",
       "      <td>10</td>\n",
       "      <td>48.6900</td>\n",
       "    </tr>\n",
       "    <tr>\n",
       "      <th>997</th>\n",
       "      <td>31.84</td>\n",
       "      <td>1</td>\n",
       "      <td>1.5920</td>\n",
       "    </tr>\n",
       "    <tr>\n",
       "      <th>998</th>\n",
       "      <td>65.82</td>\n",
       "      <td>1</td>\n",
       "      <td>3.2910</td>\n",
       "    </tr>\n",
       "    <tr>\n",
       "      <th>999</th>\n",
       "      <td>88.34</td>\n",
       "      <td>7</td>\n",
       "      <td>30.9190</td>\n",
       "    </tr>\n",
       "  </tbody>\n",
       "</table>\n",
       "<p>1000 rows × 3 columns</p>\n",
       "</div>"
      ],
      "text/plain": [
       "     UNIT_PRICE  QUANTITY  MILEAGE\n",
       "0         74.69         7  26.1415\n",
       "1         15.28         5   3.8200\n",
       "2         46.33         7  16.2155\n",
       "3         58.22         8  23.2880\n",
       "4         86.31         7  30.2085\n",
       "..          ...       ...      ...\n",
       "995       40.35         1   2.0175\n",
       "996       97.38        10  48.6900\n",
       "997       31.84         1   1.5920\n",
       "998       65.82         1   3.2910\n",
       "999       88.34         7  30.9190\n",
       "\n",
       "[1000 rows x 3 columns]"
      ]
     },
     "execution_count": 44,
     "metadata": {},
     "output_type": "execute_result"
    }
   ],
   "source": [
    "df.iloc[:, -4:-1]"
   ]
  },
  {
   "cell_type": "code",
   "execution_count": 45,
   "id": "546f2071-d271-498d-887f-b7ea292807c0",
   "metadata": {},
   "outputs": [
    {
     "data": {
      "text/plain": [
       "0         Seoul\n",
       "1      Gyeonggi\n",
       "2         Seoul\n",
       "3         Seoul\n",
       "4         Seoul\n",
       "         ...   \n",
       "995    Gyeonggi\n",
       "996     Incheon\n",
       "997       Seoul\n",
       "998       Seoul\n",
       "999       Seoul\n",
       "Name: CITY, Length: 1000, dtype: object"
      ]
     },
     "execution_count": 45,
     "metadata": {},
     "output_type": "execute_result"
    }
   ],
   "source": [
    "df.loc[:, 'CITY']"
   ]
  },
  {
   "cell_type": "code",
   "execution_count": 46,
   "id": "35119d3e-d663-4e13-8be7-5b776cc64acb",
   "metadata": {},
   "outputs": [
    {
     "data": {
      "text/plain": [
       "0         Seoul\n",
       "3         Seoul\n",
       "4         Seoul\n",
       "5      Gyeonggi\n",
       "6         Seoul\n",
       "         ...   \n",
       "992       Seoul\n",
       "994    Gyeonggi\n",
       "996     Incheon\n",
       "998       Seoul\n",
       "999       Seoul\n",
       "Name: CITY, Length: 561, dtype: object"
      ]
     },
     "execution_count": 46,
     "metadata": {},
     "output_type": "execute_result"
    }
   ],
   "source": [
    "df.loc[df['UNIT_PRICE']>50, 'CITY']"
   ]
  },
  {
   "cell_type": "code",
   "execution_count": 56,
   "id": "a1b315c4-f378-44af-8631-e0d6ccf02303",
   "metadata": {},
   "outputs": [],
   "source": [
    "df['PRICE_N_MINLEAGE'] = df['TOTAL_PRICE'] + df['MILEAGE']"
   ]
  },
  {
   "cell_type": "code",
   "execution_count": 57,
   "id": "6b75b584-162b-410f-9c7b-4dac004d941d",
   "metadata": {},
   "outputs": [
    {
     "data": {
      "text/html": [
       "<div>\n",
       "<style scoped>\n",
       "    .dataframe tbody tr th:only-of-type {\n",
       "        vertical-align: middle;\n",
       "    }\n",
       "\n",
       "    .dataframe tbody tr th {\n",
       "        vertical-align: top;\n",
       "    }\n",
       "\n",
       "    .dataframe thead th {\n",
       "        text-align: right;\n",
       "    }\n",
       "</style>\n",
       "<table border=\"1\" class=\"dataframe\">\n",
       "  <thead>\n",
       "    <tr style=\"text-align: right;\">\n",
       "      <th></th>\n",
       "      <th>ORDERID</th>\n",
       "      <th>PURCHASE_PAGE</th>\n",
       "      <th>CITY</th>\n",
       "      <th>CUSTOMER_TYPE</th>\n",
       "      <th>GENDER</th>\n",
       "      <th>PRODUCT_TYPE</th>\n",
       "      <th>UNIT_PRICE</th>\n",
       "      <th>QUANTITY</th>\n",
       "      <th>MILEAGE</th>\n",
       "      <th>TOTAL_PRICE</th>\n",
       "      <th>PRICE_N_MINLEAGE</th>\n",
       "    </tr>\n",
       "  </thead>\n",
       "  <tbody>\n",
       "    <tr>\n",
       "      <th>0</th>\n",
       "      <td>750-67-8428</td>\n",
       "      <td>A</td>\n",
       "      <td>Seoul</td>\n",
       "      <td>Member</td>\n",
       "      <td>Female</td>\n",
       "      <td>Health and beauty</td>\n",
       "      <td>74.69</td>\n",
       "      <td>7</td>\n",
       "      <td>26.1415</td>\n",
       "      <td>548.9715</td>\n",
       "      <td>575.113</td>\n",
       "    </tr>\n",
       "    <tr>\n",
       "      <th>1</th>\n",
       "      <td>226-31-3081</td>\n",
       "      <td>C</td>\n",
       "      <td>Gyeonggi</td>\n",
       "      <td>Normal</td>\n",
       "      <td>Female</td>\n",
       "      <td>Electronic accessories</td>\n",
       "      <td>15.28</td>\n",
       "      <td>5</td>\n",
       "      <td>3.8200</td>\n",
       "      <td>80.2200</td>\n",
       "      <td>84.040</td>\n",
       "    </tr>\n",
       "    <tr>\n",
       "      <th>2</th>\n",
       "      <td>631-41-3108</td>\n",
       "      <td>A</td>\n",
       "      <td>Seoul</td>\n",
       "      <td>Normal</td>\n",
       "      <td>Male</td>\n",
       "      <td>Home and lifestyle</td>\n",
       "      <td>46.33</td>\n",
       "      <td>7</td>\n",
       "      <td>16.2155</td>\n",
       "      <td>340.5255</td>\n",
       "      <td>356.741</td>\n",
       "    </tr>\n",
       "    <tr>\n",
       "      <th>3</th>\n",
       "      <td>123-19-1176</td>\n",
       "      <td>A</td>\n",
       "      <td>Seoul</td>\n",
       "      <td>Member</td>\n",
       "      <td>Male</td>\n",
       "      <td>Health and beauty</td>\n",
       "      <td>58.22</td>\n",
       "      <td>8</td>\n",
       "      <td>23.2880</td>\n",
       "      <td>489.0480</td>\n",
       "      <td>512.336</td>\n",
       "    </tr>\n",
       "    <tr>\n",
       "      <th>4</th>\n",
       "      <td>373-73-7910</td>\n",
       "      <td>A</td>\n",
       "      <td>Seoul</td>\n",
       "      <td>Normal</td>\n",
       "      <td>Male</td>\n",
       "      <td>Sports and travel</td>\n",
       "      <td>86.31</td>\n",
       "      <td>7</td>\n",
       "      <td>30.2085</td>\n",
       "      <td>634.3785</td>\n",
       "      <td>664.587</td>\n",
       "    </tr>\n",
       "  </tbody>\n",
       "</table>\n",
       "</div>"
      ],
      "text/plain": [
       "       ORDERID PURCHASE_PAGE      CITY CUSTOMER_TYPE  GENDER  \\\n",
       "0  750-67-8428             A     Seoul        Member  Female   \n",
       "1  226-31-3081             C  Gyeonggi        Normal  Female   \n",
       "2  631-41-3108             A     Seoul        Normal    Male   \n",
       "3  123-19-1176             A     Seoul        Member    Male   \n",
       "4  373-73-7910             A     Seoul        Normal    Male   \n",
       "\n",
       "             PRODUCT_TYPE  UNIT_PRICE  QUANTITY  MILEAGE  TOTAL_PRICE  \\\n",
       "0       Health and beauty       74.69         7  26.1415     548.9715   \n",
       "1  Electronic accessories       15.28         5   3.8200      80.2200   \n",
       "2      Home and lifestyle       46.33         7  16.2155     340.5255   \n",
       "3       Health and beauty       58.22         8  23.2880     489.0480   \n",
       "4       Sports and travel       86.31         7  30.2085     634.3785   \n",
       "\n",
       "   PRICE_N_MINLEAGE  \n",
       "0           575.113  \n",
       "1            84.040  \n",
       "2           356.741  \n",
       "3           512.336  \n",
       "4           664.587  "
      ]
     },
     "execution_count": 57,
     "metadata": {},
     "output_type": "execute_result"
    }
   ],
   "source": [
    "df.head()"
   ]
  },
  {
   "cell_type": "code",
   "execution_count": 63,
   "id": "6fdfe4da-cba2-4f65-994c-ead620bc8d7c",
   "metadata": {},
   "outputs": [],
   "source": [
    "df.drop('PRICE_N_MINLEAGE', axis='columns', inplace=True)"
   ]
  },
  {
   "cell_type": "code",
   "execution_count": 64,
   "id": "21670b96-fc69-451a-820b-448cc1270bc6",
   "metadata": {},
   "outputs": [
    {
     "data": {
      "text/html": [
       "<div>\n",
       "<style scoped>\n",
       "    .dataframe tbody tr th:only-of-type {\n",
       "        vertical-align: middle;\n",
       "    }\n",
       "\n",
       "    .dataframe tbody tr th {\n",
       "        vertical-align: top;\n",
       "    }\n",
       "\n",
       "    .dataframe thead th {\n",
       "        text-align: right;\n",
       "    }\n",
       "</style>\n",
       "<table border=\"1\" class=\"dataframe\">\n",
       "  <thead>\n",
       "    <tr style=\"text-align: right;\">\n",
       "      <th></th>\n",
       "      <th>ORDERID</th>\n",
       "      <th>PURCHASE_PAGE</th>\n",
       "      <th>CITY</th>\n",
       "      <th>CUSTOMER_TYPE</th>\n",
       "      <th>GENDER</th>\n",
       "      <th>PRODUCT_TYPE</th>\n",
       "      <th>UNIT_PRICE</th>\n",
       "      <th>QUANTITY</th>\n",
       "      <th>MILEAGE</th>\n",
       "      <th>TOTAL_PRICE</th>\n",
       "    </tr>\n",
       "  </thead>\n",
       "  <tbody>\n",
       "    <tr>\n",
       "      <th>0</th>\n",
       "      <td>750-67-8428</td>\n",
       "      <td>A</td>\n",
       "      <td>Seoul</td>\n",
       "      <td>Member</td>\n",
       "      <td>Female</td>\n",
       "      <td>Health and beauty</td>\n",
       "      <td>74.69</td>\n",
       "      <td>7</td>\n",
       "      <td>26.1415</td>\n",
       "      <td>548.9715</td>\n",
       "    </tr>\n",
       "    <tr>\n",
       "      <th>1</th>\n",
       "      <td>226-31-3081</td>\n",
       "      <td>C</td>\n",
       "      <td>Gyeonggi</td>\n",
       "      <td>Normal</td>\n",
       "      <td>Female</td>\n",
       "      <td>Electronic accessories</td>\n",
       "      <td>15.28</td>\n",
       "      <td>5</td>\n",
       "      <td>3.8200</td>\n",
       "      <td>80.2200</td>\n",
       "    </tr>\n",
       "    <tr>\n",
       "      <th>2</th>\n",
       "      <td>631-41-3108</td>\n",
       "      <td>A</td>\n",
       "      <td>Seoul</td>\n",
       "      <td>Normal</td>\n",
       "      <td>Male</td>\n",
       "      <td>Home and lifestyle</td>\n",
       "      <td>46.33</td>\n",
       "      <td>7</td>\n",
       "      <td>16.2155</td>\n",
       "      <td>340.5255</td>\n",
       "    </tr>\n",
       "    <tr>\n",
       "      <th>3</th>\n",
       "      <td>123-19-1176</td>\n",
       "      <td>A</td>\n",
       "      <td>Seoul</td>\n",
       "      <td>Member</td>\n",
       "      <td>Male</td>\n",
       "      <td>Health and beauty</td>\n",
       "      <td>58.22</td>\n",
       "      <td>8</td>\n",
       "      <td>23.2880</td>\n",
       "      <td>489.0480</td>\n",
       "    </tr>\n",
       "    <tr>\n",
       "      <th>4</th>\n",
       "      <td>373-73-7910</td>\n",
       "      <td>A</td>\n",
       "      <td>Seoul</td>\n",
       "      <td>Normal</td>\n",
       "      <td>Male</td>\n",
       "      <td>Sports and travel</td>\n",
       "      <td>86.31</td>\n",
       "      <td>7</td>\n",
       "      <td>30.2085</td>\n",
       "      <td>634.3785</td>\n",
       "    </tr>\n",
       "  </tbody>\n",
       "</table>\n",
       "</div>"
      ],
      "text/plain": [
       "       ORDERID PURCHASE_PAGE      CITY CUSTOMER_TYPE  GENDER  \\\n",
       "0  750-67-8428             A     Seoul        Member  Female   \n",
       "1  226-31-3081             C  Gyeonggi        Normal  Female   \n",
       "2  631-41-3108             A     Seoul        Normal    Male   \n",
       "3  123-19-1176             A     Seoul        Member    Male   \n",
       "4  373-73-7910             A     Seoul        Normal    Male   \n",
       "\n",
       "             PRODUCT_TYPE  UNIT_PRICE  QUANTITY  MILEAGE  TOTAL_PRICE  \n",
       "0       Health and beauty       74.69         7  26.1415     548.9715  \n",
       "1  Electronic accessories       15.28         5   3.8200      80.2200  \n",
       "2      Home and lifestyle       46.33         7  16.2155     340.5255  \n",
       "3       Health and beauty       58.22         8  23.2880     489.0480  \n",
       "4       Sports and travel       86.31         7  30.2085     634.3785  "
      ]
     },
     "execution_count": 64,
     "metadata": {},
     "output_type": "execute_result"
    }
   ],
   "source": [
    "df.head()"
   ]
  },
  {
   "cell_type": "code",
   "execution_count": 65,
   "id": "6ae9b45a-86e9-4218-8f08-561f2dc53226",
   "metadata": {},
   "outputs": [
    {
     "data": {
      "text/html": [
       "<div>\n",
       "<style scoped>\n",
       "    .dataframe tbody tr th:only-of-type {\n",
       "        vertical-align: middle;\n",
       "    }\n",
       "\n",
       "    .dataframe tbody tr th {\n",
       "        vertical-align: top;\n",
       "    }\n",
       "\n",
       "    .dataframe thead th {\n",
       "        text-align: right;\n",
       "    }\n",
       "</style>\n",
       "<table border=\"1\" class=\"dataframe\">\n",
       "  <thead>\n",
       "    <tr style=\"text-align: right;\">\n",
       "      <th></th>\n",
       "      <th>UNIT_PRICE</th>\n",
       "      <th>QUANTITY</th>\n",
       "      <th>MILEAGE</th>\n",
       "      <th>TOTAL_PRICE</th>\n",
       "    </tr>\n",
       "  </thead>\n",
       "  <tbody>\n",
       "    <tr>\n",
       "      <th>count</th>\n",
       "      <td>1000.000000</td>\n",
       "      <td>1000.000000</td>\n",
       "      <td>1000.000000</td>\n",
       "      <td>1000.000000</td>\n",
       "    </tr>\n",
       "    <tr>\n",
       "      <th>mean</th>\n",
       "      <td>55.672130</td>\n",
       "      <td>5.510000</td>\n",
       "      <td>15.379369</td>\n",
       "      <td>322.966749</td>\n",
       "    </tr>\n",
       "    <tr>\n",
       "      <th>std</th>\n",
       "      <td>26.494628</td>\n",
       "      <td>2.923431</td>\n",
       "      <td>11.708825</td>\n",
       "      <td>245.885335</td>\n",
       "    </tr>\n",
       "    <tr>\n",
       "      <th>min</th>\n",
       "      <td>10.080000</td>\n",
       "      <td>1.000000</td>\n",
       "      <td>0.508500</td>\n",
       "      <td>10.678500</td>\n",
       "    </tr>\n",
       "    <tr>\n",
       "      <th>25%</th>\n",
       "      <td>32.875000</td>\n",
       "      <td>3.000000</td>\n",
       "      <td>5.924875</td>\n",
       "      <td>124.422375</td>\n",
       "    </tr>\n",
       "    <tr>\n",
       "      <th>50%</th>\n",
       "      <td>55.230000</td>\n",
       "      <td>5.000000</td>\n",
       "      <td>12.088000</td>\n",
       "      <td>253.848000</td>\n",
       "    </tr>\n",
       "    <tr>\n",
       "      <th>75%</th>\n",
       "      <td>77.935000</td>\n",
       "      <td>8.000000</td>\n",
       "      <td>22.445250</td>\n",
       "      <td>471.350250</td>\n",
       "    </tr>\n",
       "    <tr>\n",
       "      <th>max</th>\n",
       "      <td>99.960000</td>\n",
       "      <td>10.000000</td>\n",
       "      <td>49.650000</td>\n",
       "      <td>1042.650000</td>\n",
       "    </tr>\n",
       "  </tbody>\n",
       "</table>\n",
       "</div>"
      ],
      "text/plain": [
       "        UNIT_PRICE     QUANTITY      MILEAGE  TOTAL_PRICE\n",
       "count  1000.000000  1000.000000  1000.000000  1000.000000\n",
       "mean     55.672130     5.510000    15.379369   322.966749\n",
       "std      26.494628     2.923431    11.708825   245.885335\n",
       "min      10.080000     1.000000     0.508500    10.678500\n",
       "25%      32.875000     3.000000     5.924875   124.422375\n",
       "50%      55.230000     5.000000    12.088000   253.848000\n",
       "75%      77.935000     8.000000    22.445250   471.350250\n",
       "max      99.960000    10.000000    49.650000  1042.650000"
      ]
     },
     "execution_count": 65,
     "metadata": {},
     "output_type": "execute_result"
    }
   ],
   "source": [
    "df.describe()"
   ]
  },
  {
   "cell_type": "code",
   "execution_count": 69,
   "id": "950c8183-3483-4832-8b45-9b3dba84628a",
   "metadata": {},
   "outputs": [],
   "source": [
    "n = len(df)"
   ]
  },
  {
   "cell_type": "code",
   "execution_count": 70,
   "id": "ce26d55f-223a-4ca7-a1ce-ec153d5778c4",
   "metadata": {},
   "outputs": [],
   "source": [
    "df['GRADE']=''"
   ]
  },
  {
   "cell_type": "code",
   "execution_count": 71,
   "id": "60fc95b4-bfaa-4c14-ae2f-58fafb88873c",
   "metadata": {},
   "outputs": [],
   "source": [
    "for i in range(n):\n",
    "    total_price = df['TOTAL_PRICE'][i]\n",
    "    \n",
    "    if total_price < 200:\n",
    "        df.loc[i, 'GRADE'] = 'NORMAL'\n",
    "    elif 200 <- total_price < 500:\n",
    "        df.loc[i, 'GRADE'] = 'VIP'\n",
    "    else:\n",
    "        df.loc[i, 'GRADE'] = 'VVIP'"
   ]
  },
  {
   "cell_type": "code",
   "execution_count": 72,
   "id": "6857cdb2-9ac6-4bda-82f9-6e7e18b4d8ef",
   "metadata": {},
   "outputs": [
    {
     "data": {
      "text/html": [
       "<div>\n",
       "<style scoped>\n",
       "    .dataframe tbody tr th:only-of-type {\n",
       "        vertical-align: middle;\n",
       "    }\n",
       "\n",
       "    .dataframe tbody tr th {\n",
       "        vertical-align: top;\n",
       "    }\n",
       "\n",
       "    .dataframe thead th {\n",
       "        text-align: right;\n",
       "    }\n",
       "</style>\n",
       "<table border=\"1\" class=\"dataframe\">\n",
       "  <thead>\n",
       "    <tr style=\"text-align: right;\">\n",
       "      <th></th>\n",
       "      <th>ORDERID</th>\n",
       "      <th>PURCHASE_PAGE</th>\n",
       "      <th>CITY</th>\n",
       "      <th>CUSTOMER_TYPE</th>\n",
       "      <th>GENDER</th>\n",
       "      <th>PRODUCT_TYPE</th>\n",
       "      <th>UNIT_PRICE</th>\n",
       "      <th>QUANTITY</th>\n",
       "      <th>MILEAGE</th>\n",
       "      <th>TOTAL_PRICE</th>\n",
       "      <th>GRADE</th>\n",
       "    </tr>\n",
       "  </thead>\n",
       "  <tbody>\n",
       "    <tr>\n",
       "      <th>0</th>\n",
       "      <td>750-67-8428</td>\n",
       "      <td>A</td>\n",
       "      <td>Seoul</td>\n",
       "      <td>Member</td>\n",
       "      <td>Female</td>\n",
       "      <td>Health and beauty</td>\n",
       "      <td>74.69</td>\n",
       "      <td>7</td>\n",
       "      <td>26.1415</td>\n",
       "      <td>548.9715</td>\n",
       "      <td>VVIP</td>\n",
       "    </tr>\n",
       "    <tr>\n",
       "      <th>1</th>\n",
       "      <td>226-31-3081</td>\n",
       "      <td>C</td>\n",
       "      <td>Gyeonggi</td>\n",
       "      <td>Normal</td>\n",
       "      <td>Female</td>\n",
       "      <td>Electronic accessories</td>\n",
       "      <td>15.28</td>\n",
       "      <td>5</td>\n",
       "      <td>3.8200</td>\n",
       "      <td>80.2200</td>\n",
       "      <td>NORMAL</td>\n",
       "    </tr>\n",
       "    <tr>\n",
       "      <th>2</th>\n",
       "      <td>631-41-3108</td>\n",
       "      <td>A</td>\n",
       "      <td>Seoul</td>\n",
       "      <td>Normal</td>\n",
       "      <td>Male</td>\n",
       "      <td>Home and lifestyle</td>\n",
       "      <td>46.33</td>\n",
       "      <td>7</td>\n",
       "      <td>16.2155</td>\n",
       "      <td>340.5255</td>\n",
       "      <td>VVIP</td>\n",
       "    </tr>\n",
       "    <tr>\n",
       "      <th>3</th>\n",
       "      <td>123-19-1176</td>\n",
       "      <td>A</td>\n",
       "      <td>Seoul</td>\n",
       "      <td>Member</td>\n",
       "      <td>Male</td>\n",
       "      <td>Health and beauty</td>\n",
       "      <td>58.22</td>\n",
       "      <td>8</td>\n",
       "      <td>23.2880</td>\n",
       "      <td>489.0480</td>\n",
       "      <td>VVIP</td>\n",
       "    </tr>\n",
       "    <tr>\n",
       "      <th>4</th>\n",
       "      <td>373-73-7910</td>\n",
       "      <td>A</td>\n",
       "      <td>Seoul</td>\n",
       "      <td>Normal</td>\n",
       "      <td>Male</td>\n",
       "      <td>Sports and travel</td>\n",
       "      <td>86.31</td>\n",
       "      <td>7</td>\n",
       "      <td>30.2085</td>\n",
       "      <td>634.3785</td>\n",
       "      <td>VVIP</td>\n",
       "    </tr>\n",
       "  </tbody>\n",
       "</table>\n",
       "</div>"
      ],
      "text/plain": [
       "       ORDERID PURCHASE_PAGE      CITY CUSTOMER_TYPE  GENDER  \\\n",
       "0  750-67-8428             A     Seoul        Member  Female   \n",
       "1  226-31-3081             C  Gyeonggi        Normal  Female   \n",
       "2  631-41-3108             A     Seoul        Normal    Male   \n",
       "3  123-19-1176             A     Seoul        Member    Male   \n",
       "4  373-73-7910             A     Seoul        Normal    Male   \n",
       "\n",
       "             PRODUCT_TYPE  UNIT_PRICE  QUANTITY  MILEAGE  TOTAL_PRICE   GRADE  \n",
       "0       Health and beauty       74.69         7  26.1415     548.9715    VVIP  \n",
       "1  Electronic accessories       15.28         5   3.8200      80.2200  NORMAL  \n",
       "2      Home and lifestyle       46.33         7  16.2155     340.5255    VVIP  \n",
       "3       Health and beauty       58.22         8  23.2880     489.0480    VVIP  \n",
       "4       Sports and travel       86.31         7  30.2085     634.3785    VVIP  "
      ]
     },
     "execution_count": 72,
     "metadata": {},
     "output_type": "execute_result"
    }
   ],
   "source": [
    "df.head()"
   ]
  },
  {
   "cell_type": "code",
   "execution_count": 78,
   "id": "8d175611-8664-42e6-9259-94723ce3b327",
   "metadata": {},
   "outputs": [],
   "source": [
    "import datetime"
   ]
  },
  {
   "cell_type": "code",
   "execution_count": 79,
   "id": "f548cbdd-c351-4f88-b7b1-2cd51768785a",
   "metadata": {},
   "outputs": [],
   "source": [
    "now = datetime.datetime.now()"
   ]
  },
  {
   "cell_type": "code",
   "execution_count": 84,
   "id": "2c23fc44-31eb-4182-a33a-24ecdcaf6d78",
   "metadata": {},
   "outputs": [
    {
     "data": {
      "text/plain": [
       "datetime.time(10, 43, 45, 574891)"
      ]
     },
     "execution_count": 84,
     "metadata": {},
     "output_type": "execute_result"
    }
   ],
   "source": [
    "now.date()\n",
    "now.time()"
   ]
  },
  {
   "cell_type": "code",
   "execution_count": 85,
   "id": "4bdf5e3c-e2a8-4bc7-aa90-900d5b237b06",
   "metadata": {},
   "outputs": [
    {
     "data": {
      "text/plain": [
       "'2024-06-14 10:43:45.574891'"
      ]
     },
     "execution_count": 85,
     "metadata": {},
     "output_type": "execute_result"
    }
   ],
   "source": [
    "now.strftime('%Y-%m-%d %H:%M:%S.%f')"
   ]
  },
  {
   "cell_type": "code",
   "execution_count": 87,
   "id": "c19f9623-7893-46f5-8fce-0f9cbaf62ff7",
   "metadata": {},
   "outputs": [
    {
     "data": {
      "text/plain": [
       "'2024-06-14 10:43:45'"
      ]
     },
     "execution_count": 87,
     "metadata": {},
     "output_type": "execute_result"
    }
   ],
   "source": [
    "now.strftime('%Y-%m-%d %H:%M:%S')"
   ]
  },
  {
   "cell_type": "code",
   "execution_count": 88,
   "id": "37c7a510-70d2-42be-8687-d862b8d794e2",
   "metadata": {},
   "outputs": [
    {
     "data": {
      "text/plain": [
       "'2024-06-14'"
      ]
     },
     "execution_count": 88,
     "metadata": {},
     "output_type": "execute_result"
    }
   ],
   "source": [
    "now.strftime('%Y-%m-%d')"
   ]
  },
  {
   "cell_type": "code",
   "execution_count": 233,
   "id": "20ea5860-6836-4232-9f14-2df709e4ab7d",
   "metadata": {},
   "outputs": [
    {
     "data": {
      "text/plain": [
       "'10:43'"
      ]
     },
     "execution_count": 233,
     "metadata": {},
     "output_type": "execute_result"
    }
   ],
   "source": [
    "now.strftime('%H:%M')"
   ]
  },
  {
   "cell_type": "code",
   "execution_count": 91,
   "id": "eb96fc92-b760-4ec5-9f23-c3ca27325d62",
   "metadata": {},
   "outputs": [
    {
     "data": {
      "text/plain": [
       "'1043'"
      ]
     },
     "execution_count": 91,
     "metadata": {},
     "output_type": "execute_result"
    }
   ],
   "source": [
    "now.strftime('%H%M')"
   ]
  },
  {
   "cell_type": "code",
   "execution_count": 100,
   "id": "a1d7ef96-0fcf-4aec-ad62-95361590aabc",
   "metadata": {},
   "outputs": [],
   "source": [
    "dt = now - datetime.timedelta(minutes=20)"
   ]
  },
  {
   "cell_type": "code",
   "execution_count": 102,
   "id": "49038a55-90cb-482f-a054-35a4e66b1ac9",
   "metadata": {},
   "outputs": [
    {
     "data": {
      "text/plain": [
       "'2024-06-14 10:23:45.574891'"
      ]
     },
     "execution_count": 102,
     "metadata": {},
     "output_type": "execute_result"
    }
   ],
   "source": [
    "dt.strftime('%Y-%m-%d %H:%M:%S.%f')"
   ]
  },
  {
   "cell_type": "code",
   "execution_count": 105,
   "id": "07d0f684-0b5f-462d-a23b-05f6a19e0f8d",
   "metadata": {},
   "outputs": [],
   "source": [
    "df = pd.merge(df, df3, on='ORDERID', how='left')"
   ]
  },
  {
   "cell_type": "code",
   "execution_count": 106,
   "id": "f362937f-38ff-4c1d-8cd1-145bfe43bd3f",
   "metadata": {},
   "outputs": [],
   "source": [
    "df['DATE'] = pd.to_datetime(df['DATE'], format='%m/%d/%Y')"
   ]
  },
  {
   "cell_type": "code",
   "execution_count": 111,
   "id": "193d4d58-a8aa-42b5-98dc-7fb8d93bfa99",
   "metadata": {},
   "outputs": [],
   "source": [
    "from datetime import datetime\n",
    "xmas = datetime.strptime('2024-12-25', '%Y-%m-%d').date()\n",
    "df['TO_XMAS'] = (xmas - df['DATE'].dt.date).astype(str).str[:5].astype(int)"
   ]
  },
  {
   "cell_type": "code",
   "execution_count": 112,
   "id": "fd5af59a-c205-4441-9f7f-50e78f6fd35b",
   "metadata": {},
   "outputs": [
    {
     "data": {
      "text/plain": [
       "datetime.date"
      ]
     },
     "execution_count": 112,
     "metadata": {},
     "output_type": "execute_result"
    }
   ],
   "source": [
    "type(xmas)"
   ]
  },
  {
   "cell_type": "code",
   "execution_count": 113,
   "id": "50a12f09-adc4-4532-b18a-323b01b94746",
   "metadata": {},
   "outputs": [
    {
     "data": {
      "text/html": [
       "<div>\n",
       "<style scoped>\n",
       "    .dataframe tbody tr th:only-of-type {\n",
       "        vertical-align: middle;\n",
       "    }\n",
       "\n",
       "    .dataframe tbody tr th {\n",
       "        vertical-align: top;\n",
       "    }\n",
       "\n",
       "    .dataframe thead th {\n",
       "        text-align: right;\n",
       "    }\n",
       "</style>\n",
       "<table border=\"1\" class=\"dataframe\">\n",
       "  <thead>\n",
       "    <tr style=\"text-align: right;\">\n",
       "      <th></th>\n",
       "      <th>ORDERID</th>\n",
       "      <th>PURCHASE_PAGE</th>\n",
       "      <th>CITY</th>\n",
       "      <th>CUSTOMER_TYPE</th>\n",
       "      <th>GENDER</th>\n",
       "      <th>PRODUCT_TYPE</th>\n",
       "      <th>UNIT_PRICE</th>\n",
       "      <th>QUANTITY</th>\n",
       "      <th>MILEAGE</th>\n",
       "      <th>TOTAL_PRICE</th>\n",
       "      <th>GRADE</th>\n",
       "      <th>DATE</th>\n",
       "      <th>PURCHASE_TIME</th>\n",
       "      <th>PAYMENT</th>\n",
       "      <th>COGS</th>\n",
       "      <th>GROSS_MARGIN_PERCENTAGE</th>\n",
       "      <th>GROSS_INCOME</th>\n",
       "      <th>RATING</th>\n",
       "      <th>TO_XMAS</th>\n",
       "    </tr>\n",
       "  </thead>\n",
       "  <tbody>\n",
       "    <tr>\n",
       "      <th>0</th>\n",
       "      <td>750-67-8428</td>\n",
       "      <td>A</td>\n",
       "      <td>Seoul</td>\n",
       "      <td>Member</td>\n",
       "      <td>Female</td>\n",
       "      <td>Health and beauty</td>\n",
       "      <td>74.69</td>\n",
       "      <td>7</td>\n",
       "      <td>26.1415</td>\n",
       "      <td>548.9715</td>\n",
       "      <td>VVIP</td>\n",
       "      <td>2019-01-05</td>\n",
       "      <td>13:08</td>\n",
       "      <td>Samsungpay</td>\n",
       "      <td>522.83</td>\n",
       "      <td>4.761905</td>\n",
       "      <td>26.1415</td>\n",
       "      <td>9.1</td>\n",
       "      <td>2181</td>\n",
       "    </tr>\n",
       "    <tr>\n",
       "      <th>1</th>\n",
       "      <td>226-31-3081</td>\n",
       "      <td>C</td>\n",
       "      <td>Gyeonggi</td>\n",
       "      <td>Normal</td>\n",
       "      <td>Female</td>\n",
       "      <td>Electronic accessories</td>\n",
       "      <td>15.28</td>\n",
       "      <td>5</td>\n",
       "      <td>3.8200</td>\n",
       "      <td>80.2200</td>\n",
       "      <td>NORMAL</td>\n",
       "      <td>2019-03-08</td>\n",
       "      <td>10:29</td>\n",
       "      <td>Naverpay</td>\n",
       "      <td>76.40</td>\n",
       "      <td>4.761905</td>\n",
       "      <td>3.8200</td>\n",
       "      <td>9.6</td>\n",
       "      <td>2119</td>\n",
       "    </tr>\n",
       "    <tr>\n",
       "      <th>2</th>\n",
       "      <td>631-41-3108</td>\n",
       "      <td>A</td>\n",
       "      <td>Seoul</td>\n",
       "      <td>Normal</td>\n",
       "      <td>Male</td>\n",
       "      <td>Home and lifestyle</td>\n",
       "      <td>46.33</td>\n",
       "      <td>7</td>\n",
       "      <td>16.2155</td>\n",
       "      <td>340.5255</td>\n",
       "      <td>VVIP</td>\n",
       "      <td>2019-03-03</td>\n",
       "      <td>13:23</td>\n",
       "      <td>Credit card</td>\n",
       "      <td>324.31</td>\n",
       "      <td>4.761905</td>\n",
       "      <td>16.2155</td>\n",
       "      <td>7.4</td>\n",
       "      <td>2124</td>\n",
       "    </tr>\n",
       "    <tr>\n",
       "      <th>3</th>\n",
       "      <td>123-19-1176</td>\n",
       "      <td>A</td>\n",
       "      <td>Seoul</td>\n",
       "      <td>Member</td>\n",
       "      <td>Male</td>\n",
       "      <td>Health and beauty</td>\n",
       "      <td>58.22</td>\n",
       "      <td>8</td>\n",
       "      <td>23.2880</td>\n",
       "      <td>489.0480</td>\n",
       "      <td>VVIP</td>\n",
       "      <td>2019-01-27</td>\n",
       "      <td>20:33</td>\n",
       "      <td>Samsungpay</td>\n",
       "      <td>465.76</td>\n",
       "      <td>4.761905</td>\n",
       "      <td>23.2880</td>\n",
       "      <td>8.4</td>\n",
       "      <td>2159</td>\n",
       "    </tr>\n",
       "    <tr>\n",
       "      <th>4</th>\n",
       "      <td>373-73-7910</td>\n",
       "      <td>A</td>\n",
       "      <td>Seoul</td>\n",
       "      <td>Normal</td>\n",
       "      <td>Male</td>\n",
       "      <td>Sports and travel</td>\n",
       "      <td>86.31</td>\n",
       "      <td>7</td>\n",
       "      <td>30.2085</td>\n",
       "      <td>634.3785</td>\n",
       "      <td>VVIP</td>\n",
       "      <td>2019-02-08</td>\n",
       "      <td>10:37</td>\n",
       "      <td>Samsungpay</td>\n",
       "      <td>604.17</td>\n",
       "      <td>4.761905</td>\n",
       "      <td>30.2085</td>\n",
       "      <td>0.0</td>\n",
       "      <td>2147</td>\n",
       "    </tr>\n",
       "  </tbody>\n",
       "</table>\n",
       "</div>"
      ],
      "text/plain": [
       "       ORDERID PURCHASE_PAGE      CITY CUSTOMER_TYPE  GENDER  \\\n",
       "0  750-67-8428             A     Seoul        Member  Female   \n",
       "1  226-31-3081             C  Gyeonggi        Normal  Female   \n",
       "2  631-41-3108             A     Seoul        Normal    Male   \n",
       "3  123-19-1176             A     Seoul        Member    Male   \n",
       "4  373-73-7910             A     Seoul        Normal    Male   \n",
       "\n",
       "             PRODUCT_TYPE  UNIT_PRICE  QUANTITY  MILEAGE  TOTAL_PRICE   GRADE  \\\n",
       "0       Health and beauty       74.69         7  26.1415     548.9715    VVIP   \n",
       "1  Electronic accessories       15.28         5   3.8200      80.2200  NORMAL   \n",
       "2      Home and lifestyle       46.33         7  16.2155     340.5255    VVIP   \n",
       "3       Health and beauty       58.22         8  23.2880     489.0480    VVIP   \n",
       "4       Sports and travel       86.31         7  30.2085     634.3785    VVIP   \n",
       "\n",
       "        DATE PURCHASE_TIME      PAYMENT    COGS  GROSS_MARGIN_PERCENTAGE  \\\n",
       "0 2019-01-05         13:08   Samsungpay  522.83                 4.761905   \n",
       "1 2019-03-08         10:29     Naverpay   76.40                 4.761905   \n",
       "2 2019-03-03         13:23  Credit card  324.31                 4.761905   \n",
       "3 2019-01-27         20:33   Samsungpay  465.76                 4.761905   \n",
       "4 2019-02-08         10:37   Samsungpay  604.17                 4.761905   \n",
       "\n",
       "   GROSS_INCOME  RATING  TO_XMAS  \n",
       "0       26.1415     9.1     2181  \n",
       "1        3.8200     9.6     2119  \n",
       "2       16.2155     7.4     2124  \n",
       "3       23.2880     8.4     2159  \n",
       "4       30.2085     0.0     2147  "
      ]
     },
     "execution_count": 113,
     "metadata": {},
     "output_type": "execute_result"
    }
   ],
   "source": [
    "df.head(5)"
   ]
  },
  {
   "cell_type": "code",
   "execution_count": 115,
   "id": "da9be9e2-c192-474a-b02d-3370516f272e",
   "metadata": {},
   "outputs": [],
   "source": [
    "df011 = df.sort_values('PURCHASE_TIME', ascending=False)"
   ]
  },
  {
   "cell_type": "code",
   "execution_count": 116,
   "id": "997adae9-fe9c-4d65-bec5-d4c36a2f4800",
   "metadata": {},
   "outputs": [
    {
     "data": {
      "text/html": [
       "<div>\n",
       "<style scoped>\n",
       "    .dataframe tbody tr th:only-of-type {\n",
       "        vertical-align: middle;\n",
       "    }\n",
       "\n",
       "    .dataframe tbody tr th {\n",
       "        vertical-align: top;\n",
       "    }\n",
       "\n",
       "    .dataframe thead th {\n",
       "        text-align: right;\n",
       "    }\n",
       "</style>\n",
       "<table border=\"1\" class=\"dataframe\">\n",
       "  <thead>\n",
       "    <tr style=\"text-align: right;\">\n",
       "      <th></th>\n",
       "      <th>ORDERID</th>\n",
       "      <th>PURCHASE_PAGE</th>\n",
       "      <th>CITY</th>\n",
       "      <th>CUSTOMER_TYPE</th>\n",
       "      <th>GENDER</th>\n",
       "      <th>PRODUCT_TYPE</th>\n",
       "      <th>UNIT_PRICE</th>\n",
       "      <th>QUANTITY</th>\n",
       "      <th>MILEAGE</th>\n",
       "      <th>TOTAL_PRICE</th>\n",
       "      <th>GRADE</th>\n",
       "      <th>DATE</th>\n",
       "      <th>PURCHASE_TIME</th>\n",
       "      <th>PAYMENT</th>\n",
       "      <th>COGS</th>\n",
       "      <th>GROSS_MARGIN_PERCENTAGE</th>\n",
       "      <th>GROSS_INCOME</th>\n",
       "      <th>RATING</th>\n",
       "      <th>TO_XMAS</th>\n",
       "    </tr>\n",
       "  </thead>\n",
       "  <tbody>\n",
       "    <tr>\n",
       "      <th>935</th>\n",
       "      <td>235-06-8510</td>\n",
       "      <td>C</td>\n",
       "      <td>Gyeonggi</td>\n",
       "      <td>Member</td>\n",
       "      <td>Male</td>\n",
       "      <td>Home and lifestyle</td>\n",
       "      <td>85.72</td>\n",
       "      <td>3</td>\n",
       "      <td>12.8580</td>\n",
       "      <td>270.0180</td>\n",
       "      <td>VVIP</td>\n",
       "      <td>2019-01-24</td>\n",
       "      <td>20:59</td>\n",
       "      <td>Samsungpay</td>\n",
       "      <td>257.16</td>\n",
       "      <td>4.761905</td>\n",
       "      <td>12.8580</td>\n",
       "      <td>5.1</td>\n",
       "      <td>2162</td>\n",
       "    </tr>\n",
       "    <tr>\n",
       "      <th>136</th>\n",
       "      <td>700-81-1757</td>\n",
       "      <td>A</td>\n",
       "      <td>Seoul</td>\n",
       "      <td>Normal</td>\n",
       "      <td>Female</td>\n",
       "      <td>Electronic accessories</td>\n",
       "      <td>26.31</td>\n",
       "      <td>5</td>\n",
       "      <td>6.5775</td>\n",
       "      <td>138.1275</td>\n",
       "      <td>NORMAL</td>\n",
       "      <td>2019-01-18</td>\n",
       "      <td>20:59</td>\n",
       "      <td>Credit card</td>\n",
       "      <td>131.55</td>\n",
       "      <td>4.761905</td>\n",
       "      <td>6.5775</td>\n",
       "      <td>8.8</td>\n",
       "      <td>2168</td>\n",
       "    </tr>\n",
       "    <tr>\n",
       "      <th>893</th>\n",
       "      <td>715-20-1673</td>\n",
       "      <td>B</td>\n",
       "      <td>Incheon</td>\n",
       "      <td>Normal</td>\n",
       "      <td>Male</td>\n",
       "      <td>Electronic accessories</td>\n",
       "      <td>28.38</td>\n",
       "      <td>5</td>\n",
       "      <td>7.0950</td>\n",
       "      <td>148.9950</td>\n",
       "      <td>NORMAL</td>\n",
       "      <td>2019-03-06</td>\n",
       "      <td>20:57</td>\n",
       "      <td>Naverpay</td>\n",
       "      <td>141.90</td>\n",
       "      <td>4.761905</td>\n",
       "      <td>7.0950</td>\n",
       "      <td>9.4</td>\n",
       "      <td>2121</td>\n",
       "    </tr>\n",
       "    <tr>\n",
       "      <th>267</th>\n",
       "      <td>571-94-0759</td>\n",
       "      <td>B</td>\n",
       "      <td>Incheon</td>\n",
       "      <td>Member</td>\n",
       "      <td>Female</td>\n",
       "      <td>Food and beverages</td>\n",
       "      <td>74.60</td>\n",
       "      <td>10</td>\n",
       "      <td>37.3000</td>\n",
       "      <td>783.3000</td>\n",
       "      <td>VVIP</td>\n",
       "      <td>2019-01-08</td>\n",
       "      <td>20:55</td>\n",
       "      <td>Naverpay</td>\n",
       "      <td>746.00</td>\n",
       "      <td>4.761905</td>\n",
       "      <td>37.3000</td>\n",
       "      <td>9.5</td>\n",
       "      <td>2178</td>\n",
       "    </tr>\n",
       "    <tr>\n",
       "      <th>505</th>\n",
       "      <td>726-29-6793</td>\n",
       "      <td>A</td>\n",
       "      <td>Seoul</td>\n",
       "      <td>Member</td>\n",
       "      <td>Male</td>\n",
       "      <td>Electronic accessories</td>\n",
       "      <td>24.18</td>\n",
       "      <td>8</td>\n",
       "      <td>9.6720</td>\n",
       "      <td>203.1120</td>\n",
       "      <td>VVIP</td>\n",
       "      <td>2019-01-28</td>\n",
       "      <td>20:54</td>\n",
       "      <td>Samsungpay</td>\n",
       "      <td>193.44</td>\n",
       "      <td>4.761905</td>\n",
       "      <td>9.6720</td>\n",
       "      <td>9.8</td>\n",
       "      <td>2158</td>\n",
       "    </tr>\n",
       "    <tr>\n",
       "      <th>...</th>\n",
       "      <td>...</td>\n",
       "      <td>...</td>\n",
       "      <td>...</td>\n",
       "      <td>...</td>\n",
       "      <td>...</td>\n",
       "      <td>...</td>\n",
       "      <td>...</td>\n",
       "      <td>...</td>\n",
       "      <td>...</td>\n",
       "      <td>...</td>\n",
       "      <td>...</td>\n",
       "      <td>...</td>\n",
       "      <td>...</td>\n",
       "      <td>...</td>\n",
       "      <td>...</td>\n",
       "      <td>...</td>\n",
       "      <td>...</td>\n",
       "      <td>...</td>\n",
       "      <td>...</td>\n",
       "    </tr>\n",
       "    <tr>\n",
       "      <th>200</th>\n",
       "      <td>606-80-4905</td>\n",
       "      <td>C</td>\n",
       "      <td>Gyeonggi</td>\n",
       "      <td>Member</td>\n",
       "      <td>Female</td>\n",
       "      <td>Sports and travel</td>\n",
       "      <td>19.15</td>\n",
       "      <td>6</td>\n",
       "      <td>5.7450</td>\n",
       "      <td>120.6450</td>\n",
       "      <td>NORMAL</td>\n",
       "      <td>2019-01-29</td>\n",
       "      <td>10:01</td>\n",
       "      <td>Credit card</td>\n",
       "      <td>114.90</td>\n",
       "      <td>4.761905</td>\n",
       "      <td>5.7450</td>\n",
       "      <td>6.8</td>\n",
       "      <td>2157</td>\n",
       "    </tr>\n",
       "    <tr>\n",
       "      <th>669</th>\n",
       "      <td>679-22-6530</td>\n",
       "      <td>B</td>\n",
       "      <td>Incheon</td>\n",
       "      <td>Normal</td>\n",
       "      <td>Female</td>\n",
       "      <td>Sports and travel</td>\n",
       "      <td>40.62</td>\n",
       "      <td>2</td>\n",
       "      <td>4.0620</td>\n",
       "      <td>85.3020</td>\n",
       "      <td>NORMAL</td>\n",
       "      <td>2019-01-17</td>\n",
       "      <td>10:01</td>\n",
       "      <td>Credit card</td>\n",
       "      <td>81.24</td>\n",
       "      <td>4.761905</td>\n",
       "      <td>4.0620</td>\n",
       "      <td>4.1</td>\n",
       "      <td>2169</td>\n",
       "    </tr>\n",
       "    <tr>\n",
       "      <th>180</th>\n",
       "      <td>130-98-8941</td>\n",
       "      <td>C</td>\n",
       "      <td>Gyeonggi</td>\n",
       "      <td>Normal</td>\n",
       "      <td>Male</td>\n",
       "      <td>Fashion accessories</td>\n",
       "      <td>64.26</td>\n",
       "      <td>7</td>\n",
       "      <td>22.4910</td>\n",
       "      <td>472.3110</td>\n",
       "      <td>VVIP</td>\n",
       "      <td>2019-02-09</td>\n",
       "      <td>10:00</td>\n",
       "      <td>Naverpay</td>\n",
       "      <td>449.82</td>\n",
       "      <td>4.761905</td>\n",
       "      <td>22.4910</td>\n",
       "      <td>5.7</td>\n",
       "      <td>2146</td>\n",
       "    </tr>\n",
       "    <tr>\n",
       "      <th>913</th>\n",
       "      <td>522-57-8364</td>\n",
       "      <td>A</td>\n",
       "      <td>Seoul</td>\n",
       "      <td>Member</td>\n",
       "      <td>Male</td>\n",
       "      <td>Fashion accessories</td>\n",
       "      <td>51.34</td>\n",
       "      <td>8</td>\n",
       "      <td>20.5360</td>\n",
       "      <td>431.2560</td>\n",
       "      <td>VVIP</td>\n",
       "      <td>2019-01-31</td>\n",
       "      <td>10:00</td>\n",
       "      <td>Samsungpay</td>\n",
       "      <td>410.72</td>\n",
       "      <td>4.761905</td>\n",
       "      <td>20.5360</td>\n",
       "      <td>7.6</td>\n",
       "      <td>2155</td>\n",
       "    </tr>\n",
       "    <tr>\n",
       "      <th>293</th>\n",
       "      <td>316-68-6352</td>\n",
       "      <td>A</td>\n",
       "      <td>Seoul</td>\n",
       "      <td>Member</td>\n",
       "      <td>Female</td>\n",
       "      <td>Food and beverages</td>\n",
       "      <td>36.36</td>\n",
       "      <td>2</td>\n",
       "      <td>3.6360</td>\n",
       "      <td>76.3560</td>\n",
       "      <td>NORMAL</td>\n",
       "      <td>2019-01-21</td>\n",
       "      <td>10:00</td>\n",
       "      <td>Naverpay</td>\n",
       "      <td>72.72</td>\n",
       "      <td>4.761905</td>\n",
       "      <td>3.6360</td>\n",
       "      <td>7.1</td>\n",
       "      <td>2165</td>\n",
       "    </tr>\n",
       "  </tbody>\n",
       "</table>\n",
       "<p>1000 rows × 19 columns</p>\n",
       "</div>"
      ],
      "text/plain": [
       "         ORDERID PURCHASE_PAGE      CITY CUSTOMER_TYPE  GENDER  \\\n",
       "935  235-06-8510             C  Gyeonggi        Member    Male   \n",
       "136  700-81-1757             A     Seoul        Normal  Female   \n",
       "893  715-20-1673             B   Incheon        Normal    Male   \n",
       "267  571-94-0759             B   Incheon        Member  Female   \n",
       "505  726-29-6793             A     Seoul        Member    Male   \n",
       "..           ...           ...       ...           ...     ...   \n",
       "200  606-80-4905             C  Gyeonggi        Member  Female   \n",
       "669  679-22-6530             B   Incheon        Normal  Female   \n",
       "180  130-98-8941             C  Gyeonggi        Normal    Male   \n",
       "913  522-57-8364             A     Seoul        Member    Male   \n",
       "293  316-68-6352             A     Seoul        Member  Female   \n",
       "\n",
       "               PRODUCT_TYPE  UNIT_PRICE  QUANTITY  MILEAGE  TOTAL_PRICE  \\\n",
       "935      Home and lifestyle       85.72         3  12.8580     270.0180   \n",
       "136  Electronic accessories       26.31         5   6.5775     138.1275   \n",
       "893  Electronic accessories       28.38         5   7.0950     148.9950   \n",
       "267      Food and beverages       74.60        10  37.3000     783.3000   \n",
       "505  Electronic accessories       24.18         8   9.6720     203.1120   \n",
       "..                      ...         ...       ...      ...          ...   \n",
       "200       Sports and travel       19.15         6   5.7450     120.6450   \n",
       "669       Sports and travel       40.62         2   4.0620      85.3020   \n",
       "180     Fashion accessories       64.26         7  22.4910     472.3110   \n",
       "913     Fashion accessories       51.34         8  20.5360     431.2560   \n",
       "293      Food and beverages       36.36         2   3.6360      76.3560   \n",
       "\n",
       "      GRADE       DATE PURCHASE_TIME      PAYMENT    COGS  \\\n",
       "935    VVIP 2019-01-24         20:59   Samsungpay  257.16   \n",
       "136  NORMAL 2019-01-18         20:59  Credit card  131.55   \n",
       "893  NORMAL 2019-03-06         20:57     Naverpay  141.90   \n",
       "267    VVIP 2019-01-08         20:55     Naverpay  746.00   \n",
       "505    VVIP 2019-01-28         20:54   Samsungpay  193.44   \n",
       "..      ...        ...           ...          ...     ...   \n",
       "200  NORMAL 2019-01-29         10:01  Credit card  114.90   \n",
       "669  NORMAL 2019-01-17         10:01  Credit card   81.24   \n",
       "180    VVIP 2019-02-09         10:00     Naverpay  449.82   \n",
       "913    VVIP 2019-01-31         10:00   Samsungpay  410.72   \n",
       "293  NORMAL 2019-01-21         10:00     Naverpay   72.72   \n",
       "\n",
       "     GROSS_MARGIN_PERCENTAGE  GROSS_INCOME  RATING  TO_XMAS  \n",
       "935                 4.761905       12.8580     5.1     2162  \n",
       "136                 4.761905        6.5775     8.8     2168  \n",
       "893                 4.761905        7.0950     9.4     2121  \n",
       "267                 4.761905       37.3000     9.5     2178  \n",
       "505                 4.761905        9.6720     9.8     2158  \n",
       "..                       ...           ...     ...      ...  \n",
       "200                 4.761905        5.7450     6.8     2157  \n",
       "669                 4.761905        4.0620     4.1     2169  \n",
       "180                 4.761905       22.4910     5.7     2146  \n",
       "913                 4.761905       20.5360     7.6     2155  \n",
       "293                 4.761905        3.6360     7.1     2165  \n",
       "\n",
       "[1000 rows x 19 columns]"
      ]
     },
     "execution_count": 116,
     "metadata": {},
     "output_type": "execute_result"
    }
   ],
   "source": [
    "df011"
   ]
  },
  {
   "cell_type": "code",
   "execution_count": 117,
   "id": "f9472ded-ef0f-48bd-852d-0793a7dff994",
   "metadata": {},
   "outputs": [
    {
     "data": {
      "text/plain": [
       "GENDER\n",
       "Female    335.095659\n",
       "Male      310.789226\n",
       "Name: TOTAL_PRICE, dtype: float64"
      ]
     },
     "execution_count": 117,
     "metadata": {},
     "output_type": "execute_result"
    }
   ],
   "source": [
    "df.groupby('GENDER')['TOTAL_PRICE'].mean()"
   ]
  },
  {
   "cell_type": "code",
   "execution_count": 118,
   "id": "5273466d-9d9b-4a88-ba20-5734566cc8e6",
   "metadata": {},
   "outputs": [
    {
     "data": {
      "text/plain": [
       "GENDER\n",
       "Female    272.58\n",
       "Male      244.23\n",
       "Name: TOTAL_PRICE, dtype: float64"
      ]
     },
     "execution_count": 118,
     "metadata": {},
     "output_type": "execute_result"
    }
   ],
   "source": [
    "df.groupby('GENDER')['TOTAL_PRICE'].median()"
   ]
  },
  {
   "cell_type": "code",
   "execution_count": 119,
   "id": "861857f5-f02f-4c80-ab9b-2c5a76be4888",
   "metadata": {},
   "outputs": [
    {
     "data": {
      "text/html": [
       "<div>\n",
       "<style scoped>\n",
       "    .dataframe tbody tr th:only-of-type {\n",
       "        vertical-align: middle;\n",
       "    }\n",
       "\n",
       "    .dataframe tbody tr th {\n",
       "        vertical-align: top;\n",
       "    }\n",
       "\n",
       "    .dataframe thead th {\n",
       "        text-align: right;\n",
       "    }\n",
       "</style>\n",
       "<table border=\"1\" class=\"dataframe\">\n",
       "  <thead>\n",
       "    <tr style=\"text-align: right;\">\n",
       "      <th></th>\n",
       "      <th>GENDER</th>\n",
       "      <th>TOTAL_PRICE</th>\n",
       "    </tr>\n",
       "  </thead>\n",
       "  <tbody>\n",
       "    <tr>\n",
       "      <th>0</th>\n",
       "      <td>Female</td>\n",
       "      <td>335.095659</td>\n",
       "    </tr>\n",
       "    <tr>\n",
       "      <th>1</th>\n",
       "      <td>Male</td>\n",
       "      <td>310.789226</td>\n",
       "    </tr>\n",
       "  </tbody>\n",
       "</table>\n",
       "</div>"
      ],
      "text/plain": [
       "   GENDER  TOTAL_PRICE\n",
       "0  Female   335.095659\n",
       "1    Male   310.789226"
      ]
     },
     "execution_count": 119,
     "metadata": {},
     "output_type": "execute_result"
    }
   ],
   "source": [
    "df.groupby('GENDER', as_index=False)['TOTAL_PRICE'].mean()"
   ]
  },
  {
   "cell_type": "code",
   "execution_count": 120,
   "id": "1f274b38-348a-4b6e-85da-9bf84d72dd8b",
   "metadata": {},
   "outputs": [
    {
     "data": {
      "text/html": [
       "<div>\n",
       "<style scoped>\n",
       "    .dataframe tbody tr th:only-of-type {\n",
       "        vertical-align: middle;\n",
       "    }\n",
       "\n",
       "    .dataframe tbody tr th {\n",
       "        vertical-align: top;\n",
       "    }\n",
       "\n",
       "    .dataframe thead th {\n",
       "        text-align: right;\n",
       "    }\n",
       "</style>\n",
       "<table border=\"1\" class=\"dataframe\">\n",
       "  <thead>\n",
       "    <tr style=\"text-align: right;\">\n",
       "      <th></th>\n",
       "      <th>GENDER</th>\n",
       "      <th>TOTAL_PRICE</th>\n",
       "    </tr>\n",
       "  </thead>\n",
       "  <tbody>\n",
       "    <tr>\n",
       "      <th>0</th>\n",
       "      <td>Female</td>\n",
       "      <td>272.58</td>\n",
       "    </tr>\n",
       "    <tr>\n",
       "      <th>1</th>\n",
       "      <td>Male</td>\n",
       "      <td>244.23</td>\n",
       "    </tr>\n",
       "  </tbody>\n",
       "</table>\n",
       "</div>"
      ],
      "text/plain": [
       "   GENDER  TOTAL_PRICE\n",
       "0  Female       272.58\n",
       "1    Male       244.23"
      ]
     },
     "execution_count": 120,
     "metadata": {},
     "output_type": "execute_result"
    }
   ],
   "source": [
    "df.groupby('GENDER', as_index=False)['TOTAL_PRICE'].median()"
   ]
  },
  {
   "cell_type": "code",
   "execution_count": 121,
   "id": "b5005753-93a9-4126-9493-172ac0850201",
   "metadata": {},
   "outputs": [
    {
     "data": {
      "text/html": [
       "<div>\n",
       "<style scoped>\n",
       "    .dataframe tbody tr th:only-of-type {\n",
       "        vertical-align: middle;\n",
       "    }\n",
       "\n",
       "    .dataframe tbody tr th {\n",
       "        vertical-align: top;\n",
       "    }\n",
       "\n",
       "    .dataframe thead th {\n",
       "        text-align: right;\n",
       "    }\n",
       "</style>\n",
       "<table border=\"1\" class=\"dataframe\">\n",
       "  <thead>\n",
       "    <tr style=\"text-align: right;\">\n",
       "      <th>CITY</th>\n",
       "      <th>Gyeonggi</th>\n",
       "      <th>Incheon</th>\n",
       "      <th>Seoul</th>\n",
       "    </tr>\n",
       "    <tr>\n",
       "      <th>GENDER</th>\n",
       "      <th></th>\n",
       "      <th></th>\n",
       "      <th></th>\n",
       "    </tr>\n",
       "  </thead>\n",
       "  <tbody>\n",
       "    <tr>\n",
       "      <th>Female</th>\n",
       "      <td>0.355289</td>\n",
       "      <td>0.323353</td>\n",
       "      <td>0.321357</td>\n",
       "    </tr>\n",
       "    <tr>\n",
       "      <th>Male</th>\n",
       "      <td>0.300601</td>\n",
       "      <td>0.340681</td>\n",
       "      <td>0.358717</td>\n",
       "    </tr>\n",
       "  </tbody>\n",
       "</table>\n",
       "</div>"
      ],
      "text/plain": [
       "CITY    Gyeonggi   Incheon     Seoul\n",
       "GENDER                              \n",
       "Female  0.355289  0.323353  0.321357\n",
       "Male    0.300601  0.340681  0.358717"
      ]
     },
     "execution_count": 121,
     "metadata": {},
     "output_type": "execute_result"
    }
   ],
   "source": [
    "table2 = pd.crosstab(df['GENDER'], df['CITY'], normalize='index')\n",
    "table2"
   ]
  },
  {
   "cell_type": "code",
   "execution_count": 122,
   "id": "16947e20-e610-452b-9679-1a86adaff46e",
   "metadata": {},
   "outputs": [
    {
     "data": {
      "text/html": [
       "<div>\n",
       "<style scoped>\n",
       "    .dataframe tbody tr th:only-of-type {\n",
       "        vertical-align: middle;\n",
       "    }\n",
       "\n",
       "    .dataframe tbody tr th {\n",
       "        vertical-align: top;\n",
       "    }\n",
       "\n",
       "    .dataframe thead th {\n",
       "        text-align: right;\n",
       "    }\n",
       "</style>\n",
       "<table border=\"1\" class=\"dataframe\">\n",
       "  <thead>\n",
       "    <tr style=\"text-align: right;\">\n",
       "      <th>CITY</th>\n",
       "      <th>Gyeonggi</th>\n",
       "      <th>Incheon</th>\n",
       "      <th>Seoul</th>\n",
       "    </tr>\n",
       "    <tr>\n",
       "      <th>GENDER</th>\n",
       "      <th></th>\n",
       "      <th></th>\n",
       "      <th></th>\n",
       "    </tr>\n",
       "  </thead>\n",
       "  <tbody>\n",
       "    <tr>\n",
       "      <th>Female</th>\n",
       "      <td>178</td>\n",
       "      <td>162</td>\n",
       "      <td>161</td>\n",
       "    </tr>\n",
       "    <tr>\n",
       "      <th>Male</th>\n",
       "      <td>150</td>\n",
       "      <td>170</td>\n",
       "      <td>179</td>\n",
       "    </tr>\n",
       "  </tbody>\n",
       "</table>\n",
       "</div>"
      ],
      "text/plain": [
       "CITY    Gyeonggi  Incheon  Seoul\n",
       "GENDER                          \n",
       "Female       178      162    161\n",
       "Male         150      170    179"
      ]
     },
     "execution_count": 122,
     "metadata": {},
     "output_type": "execute_result"
    }
   ],
   "source": [
    "table1 = pd.crosstab(df['GENDER'], df['CITY'])\n",
    "table1"
   ]
  },
  {
   "cell_type": "code",
   "execution_count": 123,
   "id": "8a909da6-da6f-4881-9939-3c8f752e6034",
   "metadata": {},
   "outputs": [
    {
     "data": {
      "text/html": [
       "<div>\n",
       "<style scoped>\n",
       "    .dataframe tbody tr th:only-of-type {\n",
       "        vertical-align: middle;\n",
       "    }\n",
       "\n",
       "    .dataframe tbody tr th {\n",
       "        vertical-align: top;\n",
       "    }\n",
       "\n",
       "    .dataframe thead th {\n",
       "        text-align: right;\n",
       "    }\n",
       "</style>\n",
       "<table border=\"1\" class=\"dataframe\">\n",
       "  <thead>\n",
       "    <tr style=\"text-align: right;\">\n",
       "      <th>CITY</th>\n",
       "      <th>Gyeonggi</th>\n",
       "      <th>Incheon</th>\n",
       "      <th>Seoul</th>\n",
       "    </tr>\n",
       "    <tr>\n",
       "      <th>GENDER</th>\n",
       "      <th></th>\n",
       "      <th></th>\n",
       "      <th></th>\n",
       "    </tr>\n",
       "  </thead>\n",
       "  <tbody>\n",
       "    <tr>\n",
       "      <th>Female</th>\n",
       "      <td>0.542683</td>\n",
       "      <td>0.487952</td>\n",
       "      <td>0.473529</td>\n",
       "    </tr>\n",
       "    <tr>\n",
       "      <th>Male</th>\n",
       "      <td>0.457317</td>\n",
       "      <td>0.512048</td>\n",
       "      <td>0.526471</td>\n",
       "    </tr>\n",
       "  </tbody>\n",
       "</table>\n",
       "</div>"
      ],
      "text/plain": [
       "CITY    Gyeonggi   Incheon     Seoul\n",
       "GENDER                              \n",
       "Female  0.542683  0.487952  0.473529\n",
       "Male    0.457317  0.512048  0.526471"
      ]
     },
     "execution_count": 123,
     "metadata": {},
     "output_type": "execute_result"
    }
   ],
   "source": [
    "table2 = pd.crosstab(df['GENDER'], df['CITY'], normalize='columns')\n",
    "table2"
   ]
  },
  {
   "cell_type": "code",
   "execution_count": 124,
   "id": "d486d74a-1981-4f30-b967-a5bcaec36738",
   "metadata": {},
   "outputs": [],
   "source": [
    "pivot1 = df.pivot_table(index='GENDER', columns='CITY', values='TOTAL_PRICE', aggfunc='sum')"
   ]
  },
  {
   "cell_type": "code",
   "execution_count": 125,
   "id": "15b2cd69-8a64-49b3-aa55-cdbdfc2d03f6",
   "metadata": {},
   "outputs": [
    {
     "data": {
      "text/html": [
       "<div>\n",
       "<style scoped>\n",
       "    .dataframe tbody tr th:only-of-type {\n",
       "        vertical-align: middle;\n",
       "    }\n",
       "\n",
       "    .dataframe tbody tr th {\n",
       "        vertical-align: top;\n",
       "    }\n",
       "\n",
       "    .dataframe thead th {\n",
       "        text-align: right;\n",
       "    }\n",
       "</style>\n",
       "<table border=\"1\" class=\"dataframe\">\n",
       "  <thead>\n",
       "    <tr style=\"text-align: right;\">\n",
       "      <th>CITY</th>\n",
       "      <th>Gyeonggi</th>\n",
       "      <th>Incheon</th>\n",
       "      <th>Seoul</th>\n",
       "    </tr>\n",
       "    <tr>\n",
       "      <th>GENDER</th>\n",
       "      <th></th>\n",
       "      <th></th>\n",
       "      <th></th>\n",
       "    </tr>\n",
       "  </thead>\n",
       "  <tbody>\n",
       "    <tr>\n",
       "      <th>Female</th>\n",
       "      <td>61685.4630</td>\n",
       "      <td>52928.295</td>\n",
       "      <td>53269.1670</td>\n",
       "    </tr>\n",
       "    <tr>\n",
       "      <th>Male</th>\n",
       "      <td>48883.2435</td>\n",
       "      <td>53269.377</td>\n",
       "      <td>52931.2035</td>\n",
       "    </tr>\n",
       "  </tbody>\n",
       "</table>\n",
       "</div>"
      ],
      "text/plain": [
       "CITY      Gyeonggi    Incheon       Seoul\n",
       "GENDER                                   \n",
       "Female  61685.4630  52928.295  53269.1670\n",
       "Male    48883.2435  53269.377  52931.2035"
      ]
     },
     "execution_count": 125,
     "metadata": {},
     "output_type": "execute_result"
    }
   ],
   "source": [
    "pivot1"
   ]
  },
  {
   "cell_type": "code",
   "execution_count": 126,
   "id": "a55f29c4-868f-4d89-9139-bf61f9d865b3",
   "metadata": {},
   "outputs": [],
   "source": [
    "pivot2 = df.pivot_table(index='GENDER', columns='CITY', values='TOTAL_PRICE', aggfunc='mean')"
   ]
  },
  {
   "cell_type": "code",
   "execution_count": 127,
   "id": "2e93143d-cdf1-4631-a071-8e4c7423f550",
   "metadata": {},
   "outputs": [
    {
     "data": {
      "text/html": [
       "<div>\n",
       "<style scoped>\n",
       "    .dataframe tbody tr th:only-of-type {\n",
       "        vertical-align: middle;\n",
       "    }\n",
       "\n",
       "    .dataframe tbody tr th {\n",
       "        vertical-align: top;\n",
       "    }\n",
       "\n",
       "    .dataframe thead th {\n",
       "        text-align: right;\n",
       "    }\n",
       "</style>\n",
       "<table border=\"1\" class=\"dataframe\">\n",
       "  <thead>\n",
       "    <tr style=\"text-align: right;\">\n",
       "      <th>CITY</th>\n",
       "      <th>Gyeonggi</th>\n",
       "      <th>Incheon</th>\n",
       "      <th>Seoul</th>\n",
       "    </tr>\n",
       "    <tr>\n",
       "      <th>GENDER</th>\n",
       "      <th></th>\n",
       "      <th></th>\n",
       "      <th></th>\n",
       "    </tr>\n",
       "  </thead>\n",
       "  <tbody>\n",
       "    <tr>\n",
       "      <th>Female</th>\n",
       "      <td>346.547545</td>\n",
       "      <td>326.717870</td>\n",
       "      <td>330.864391</td>\n",
       "    </tr>\n",
       "    <tr>\n",
       "      <th>Male</th>\n",
       "      <td>325.888290</td>\n",
       "      <td>313.349276</td>\n",
       "      <td>295.705047</td>\n",
       "    </tr>\n",
       "  </tbody>\n",
       "</table>\n",
       "</div>"
      ],
      "text/plain": [
       "CITY      Gyeonggi     Incheon       Seoul\n",
       "GENDER                                    \n",
       "Female  346.547545  326.717870  330.864391\n",
       "Male    325.888290  313.349276  295.705047"
      ]
     },
     "execution_count": 127,
     "metadata": {},
     "output_type": "execute_result"
    }
   ],
   "source": [
    "pivot2"
   ]
  },
  {
   "cell_type": "code",
   "execution_count": 128,
   "id": "c7dd14d2-92b5-4d33-a751-85346f60bda0",
   "metadata": {},
   "outputs": [],
   "source": [
    "pivot3 = df.pivot_table(index='GENDER', columns='CITY', values='TOTAL_PRICE', aggfunc='median')"
   ]
  },
  {
   "cell_type": "code",
   "execution_count": 129,
   "id": "b655548e-b4dc-4355-892a-8d07b7dc2bd5",
   "metadata": {},
   "outputs": [
    {
     "data": {
      "text/html": [
       "<div>\n",
       "<style scoped>\n",
       "    .dataframe tbody tr th:only-of-type {\n",
       "        vertical-align: middle;\n",
       "    }\n",
       "\n",
       "    .dataframe tbody tr th {\n",
       "        vertical-align: top;\n",
       "    }\n",
       "\n",
       "    .dataframe thead th {\n",
       "        text-align: right;\n",
       "    }\n",
       "</style>\n",
       "<table border=\"1\" class=\"dataframe\">\n",
       "  <thead>\n",
       "    <tr style=\"text-align: right;\">\n",
       "      <th>CITY</th>\n",
       "      <th>Gyeonggi</th>\n",
       "      <th>Incheon</th>\n",
       "      <th>Seoul</th>\n",
       "    </tr>\n",
       "    <tr>\n",
       "      <th>GENDER</th>\n",
       "      <th></th>\n",
       "      <th></th>\n",
       "      <th></th>\n",
       "    </tr>\n",
       "  </thead>\n",
       "  <tbody>\n",
       "    <tr>\n",
       "      <th>Female</th>\n",
       "      <td>292.32000</td>\n",
       "      <td>261.32400</td>\n",
       "      <td>257.145</td>\n",
       "    </tr>\n",
       "    <tr>\n",
       "      <th>Male</th>\n",
       "      <td>255.39675</td>\n",
       "      <td>249.65325</td>\n",
       "      <td>233.100</td>\n",
       "    </tr>\n",
       "  </tbody>\n",
       "</table>\n",
       "</div>"
      ],
      "text/plain": [
       "CITY     Gyeonggi    Incheon    Seoul\n",
       "GENDER                               \n",
       "Female  292.32000  261.32400  257.145\n",
       "Male    255.39675  249.65325  233.100"
      ]
     },
     "execution_count": 129,
     "metadata": {},
     "output_type": "execute_result"
    }
   ],
   "source": [
    "pivot3"
   ]
  },
  {
   "cell_type": "code",
   "execution_count": 130,
   "id": "2de14c59-812e-402c-ba1d-ceafefefbf2a",
   "metadata": {},
   "outputs": [],
   "source": [
    "df = pd.DataFrame([\n",
    "    [42, 'male', 12, 'reading', 1],\n",
    "    [35, 'female', 3, 'cooking', 0],\n",
    "    [27, 'female', 7, 'cycling', 2],\n",
    "    [56, 'male', 21, 'swimming', 0]\n",
    "])\n",
    "\n",
    "df.columns=['age', 'gender', 'month_birth', 'hobby', 'target']"
   ]
  },
  {
   "cell_type": "code",
   "execution_count": 131,
   "id": "e4b0944f-e188-49be-a3aa-453892236b04",
   "metadata": {},
   "outputs": [
    {
     "data": {
      "text/html": [
       "<div>\n",
       "<style scoped>\n",
       "    .dataframe tbody tr th:only-of-type {\n",
       "        vertical-align: middle;\n",
       "    }\n",
       "\n",
       "    .dataframe tbody tr th {\n",
       "        vertical-align: top;\n",
       "    }\n",
       "\n",
       "    .dataframe thead th {\n",
       "        text-align: right;\n",
       "    }\n",
       "</style>\n",
       "<table border=\"1\" class=\"dataframe\">\n",
       "  <thead>\n",
       "    <tr style=\"text-align: right;\">\n",
       "      <th></th>\n",
       "      <th>age</th>\n",
       "      <th>gender</th>\n",
       "      <th>month_birth</th>\n",
       "      <th>hobby</th>\n",
       "      <th>target</th>\n",
       "    </tr>\n",
       "  </thead>\n",
       "  <tbody>\n",
       "    <tr>\n",
       "      <th>0</th>\n",
       "      <td>42</td>\n",
       "      <td>male</td>\n",
       "      <td>12</td>\n",
       "      <td>reading</td>\n",
       "      <td>1</td>\n",
       "    </tr>\n",
       "    <tr>\n",
       "      <th>1</th>\n",
       "      <td>35</td>\n",
       "      <td>female</td>\n",
       "      <td>3</td>\n",
       "      <td>cooking</td>\n",
       "      <td>0</td>\n",
       "    </tr>\n",
       "    <tr>\n",
       "      <th>2</th>\n",
       "      <td>27</td>\n",
       "      <td>female</td>\n",
       "      <td>7</td>\n",
       "      <td>cycling</td>\n",
       "      <td>2</td>\n",
       "    </tr>\n",
       "    <tr>\n",
       "      <th>3</th>\n",
       "      <td>56</td>\n",
       "      <td>male</td>\n",
       "      <td>21</td>\n",
       "      <td>swimming</td>\n",
       "      <td>0</td>\n",
       "    </tr>\n",
       "  </tbody>\n",
       "</table>\n",
       "</div>"
      ],
      "text/plain": [
       "   age  gender  month_birth     hobby  target\n",
       "0   42    male           12   reading       1\n",
       "1   35  female            3   cooking       0\n",
       "2   27  female            7   cycling       2\n",
       "3   56    male           21  swimming       0"
      ]
     },
     "execution_count": 131,
     "metadata": {},
     "output_type": "execute_result"
    }
   ],
   "source": [
    "df"
   ]
  },
  {
   "cell_type": "code",
   "execution_count": 132,
   "id": "ffa1ac39-8e10-4999-84b1-b17405bbb2ae",
   "metadata": {},
   "outputs": [],
   "source": [
    "df_oh = pd.get_dummies(df, dtype=float)"
   ]
  },
  {
   "cell_type": "code",
   "execution_count": 133,
   "id": "a47aad80-f966-4429-95ff-8e914397972b",
   "metadata": {},
   "outputs": [
    {
     "data": {
      "text/html": [
       "<div>\n",
       "<style scoped>\n",
       "    .dataframe tbody tr th:only-of-type {\n",
       "        vertical-align: middle;\n",
       "    }\n",
       "\n",
       "    .dataframe tbody tr th {\n",
       "        vertical-align: top;\n",
       "    }\n",
       "\n",
       "    .dataframe thead th {\n",
       "        text-align: right;\n",
       "    }\n",
       "</style>\n",
       "<table border=\"1\" class=\"dataframe\">\n",
       "  <thead>\n",
       "    <tr style=\"text-align: right;\">\n",
       "      <th></th>\n",
       "      <th>age</th>\n",
       "      <th>month_birth</th>\n",
       "      <th>target</th>\n",
       "      <th>gender_female</th>\n",
       "      <th>gender_male</th>\n",
       "      <th>hobby_cooking</th>\n",
       "      <th>hobby_cycling</th>\n",
       "      <th>hobby_reading</th>\n",
       "      <th>hobby_swimming</th>\n",
       "    </tr>\n",
       "  </thead>\n",
       "  <tbody>\n",
       "    <tr>\n",
       "      <th>0</th>\n",
       "      <td>42</td>\n",
       "      <td>12</td>\n",
       "      <td>1</td>\n",
       "      <td>0.0</td>\n",
       "      <td>1.0</td>\n",
       "      <td>0.0</td>\n",
       "      <td>0.0</td>\n",
       "      <td>1.0</td>\n",
       "      <td>0.0</td>\n",
       "    </tr>\n",
       "    <tr>\n",
       "      <th>1</th>\n",
       "      <td>35</td>\n",
       "      <td>3</td>\n",
       "      <td>0</td>\n",
       "      <td>1.0</td>\n",
       "      <td>0.0</td>\n",
       "      <td>1.0</td>\n",
       "      <td>0.0</td>\n",
       "      <td>0.0</td>\n",
       "      <td>0.0</td>\n",
       "    </tr>\n",
       "    <tr>\n",
       "      <th>2</th>\n",
       "      <td>27</td>\n",
       "      <td>7</td>\n",
       "      <td>2</td>\n",
       "      <td>1.0</td>\n",
       "      <td>0.0</td>\n",
       "      <td>0.0</td>\n",
       "      <td>1.0</td>\n",
       "      <td>0.0</td>\n",
       "      <td>0.0</td>\n",
       "    </tr>\n",
       "    <tr>\n",
       "      <th>3</th>\n",
       "      <td>56</td>\n",
       "      <td>21</td>\n",
       "      <td>0</td>\n",
       "      <td>0.0</td>\n",
       "      <td>1.0</td>\n",
       "      <td>0.0</td>\n",
       "      <td>0.0</td>\n",
       "      <td>0.0</td>\n",
       "      <td>1.0</td>\n",
       "    </tr>\n",
       "  </tbody>\n",
       "</table>\n",
       "</div>"
      ],
      "text/plain": [
       "   age  month_birth  target  gender_female  gender_male  hobby_cooking  \\\n",
       "0   42           12       1            0.0          1.0            0.0   \n",
       "1   35            3       0            1.0          0.0            1.0   \n",
       "2   27            7       2            1.0          0.0            0.0   \n",
       "3   56           21       0            0.0          1.0            0.0   \n",
       "\n",
       "   hobby_cycling  hobby_reading  hobby_swimming  \n",
       "0            0.0            1.0             0.0  \n",
       "1            0.0            0.0             0.0  \n",
       "2            1.0            0.0             0.0  \n",
       "3            0.0            0.0             1.0  "
      ]
     },
     "execution_count": 133,
     "metadata": {},
     "output_type": "execute_result"
    }
   ],
   "source": [
    "df_oh"
   ]
  },
  {
   "cell_type": "code",
   "execution_count": 134,
   "id": "1df50886-8996-436b-8318-e4993900caf2",
   "metadata": {},
   "outputs": [
    {
     "data": {
      "text/html": [
       "<div>\n",
       "<style scoped>\n",
       "    .dataframe tbody tr th:only-of-type {\n",
       "        vertical-align: middle;\n",
       "    }\n",
       "\n",
       "    .dataframe tbody tr th {\n",
       "        vertical-align: top;\n",
       "    }\n",
       "\n",
       "    .dataframe thead th {\n",
       "        text-align: right;\n",
       "    }\n",
       "</style>\n",
       "<table border=\"1\" class=\"dataframe\">\n",
       "  <thead>\n",
       "    <tr style=\"text-align: right;\">\n",
       "      <th></th>\n",
       "      <th>cooking</th>\n",
       "      <th>cycling</th>\n",
       "      <th>reading</th>\n",
       "      <th>swimming</th>\n",
       "    </tr>\n",
       "  </thead>\n",
       "  <tbody>\n",
       "    <tr>\n",
       "      <th>0</th>\n",
       "      <td>0.0</td>\n",
       "      <td>0.0</td>\n",
       "      <td>1.0</td>\n",
       "      <td>0.0</td>\n",
       "    </tr>\n",
       "    <tr>\n",
       "      <th>1</th>\n",
       "      <td>1.0</td>\n",
       "      <td>0.0</td>\n",
       "      <td>0.0</td>\n",
       "      <td>0.0</td>\n",
       "    </tr>\n",
       "    <tr>\n",
       "      <th>2</th>\n",
       "      <td>0.0</td>\n",
       "      <td>1.0</td>\n",
       "      <td>0.0</td>\n",
       "      <td>0.0</td>\n",
       "    </tr>\n",
       "    <tr>\n",
       "      <th>3</th>\n",
       "      <td>0.0</td>\n",
       "      <td>0.0</td>\n",
       "      <td>0.0</td>\n",
       "      <td>1.0</td>\n",
       "    </tr>\n",
       "  </tbody>\n",
       "</table>\n",
       "</div>"
      ],
      "text/plain": [
       "   cooking  cycling  reading  swimming\n",
       "0      0.0      0.0      1.0       0.0\n",
       "1      1.0      0.0      0.0       0.0\n",
       "2      0.0      1.0      0.0       0.0\n",
       "3      0.0      0.0      0.0       1.0"
      ]
     },
     "execution_count": 134,
     "metadata": {},
     "output_type": "execute_result"
    }
   ],
   "source": [
    "pd.get_dummies(df['hobby'], dtype=float)"
   ]
  },
  {
   "cell_type": "code",
   "execution_count": 136,
   "id": "daf00d14-bc53-4bd9-b9a1-30e227f301dd",
   "metadata": {},
   "outputs": [
    {
     "data": {
      "image/png": "[encoded data removed]",
      "text/plain": [
       "<Figure size 640x480 with 1 Axes>"
      ]
     },
     "metadata": {},
     "output_type": "display_data"
    }
   ],
   "source": [
    "import matplotlib.pyplot as plt\n",
    "df = pd.read_csv('../data/sales.csv', encoding='cp949')\n",
    "plt.hist(df['TOTAL_PRICE'])\n",
    "plt.show()"
   ]
  },
  {
   "cell_type": "code",
   "execution_count": 138,
   "id": "98ccfa39-c0bd-493a-8e9e-ece5127b24a3",
   "metadata": {},
   "outputs": [
    {
     "data": {
      "image/png": "[encoded data removed]",
      "text/plain": [
       "<Figure size 640x480 with 1 Axes>"
      ]
     },
     "metadata": {},
     "output_type": "display_data"
    }
   ],
   "source": [
    "plt.hist(df['TOTAL_PRICE'], bins=20, color='green')\n",
    "plt.show()"
   ]
  },
  {
   "cell_type": "code",
   "execution_count": 139,
   "id": "a6c7e96f-464d-4916-9045-cc270fa20681",
   "metadata": {},
   "outputs": [],
   "source": [
    "man_price = df[df['GENDER']=='Male']['TOTAL_PRICE']\n",
    "woman_price = df[df['GENDER']=='Female']['TOTAL_PRICE']"
   ]
  },
  {
   "cell_type": "code",
   "execution_count": 142,
   "id": "32996ea9-9907-4097-855c-699b93bf7e76",
   "metadata": {},
   "outputs": [
    {
     "data": {
      "image/png": "[encoded data removed]",
      "text/plain": [
       "<Figure size 640x480 with 1 Axes>"
      ]
     },
     "metadata": {},
     "output_type": "display_data"
    }
   ],
   "source": [
    "plt.hist(man_price, bins=20, color='cornflowerblue', alpha=0.4, edgecolor='black', linewidth=1, label='man')\n",
    "plt.hist(woman_price, bins=20, color='coral', alpha=0.4, edgecolor='black', linewidth=1, label='woman')\n",
    "plt.xlabel('Total price')\n",
    "plt.ylabel('Count')\n",
    "plt.legend()\n",
    "plt.show()"
   ]
  },
  {
   "cell_type": "code",
   "execution_count": 143,
   "id": "89169561-7d46-4207-8bd6-dd43c8d2a0bb",
   "metadata": {},
   "outputs": [
    {
     "name": "stdout",
     "output_type": "stream",
     "text": [
      "CITY\n",
      "Seoul       340\n",
      "Incheon     332\n",
      "Gyeonggi    328\n",
      "Name: count, dtype: int64\n"
     ]
    }
   ],
   "source": [
    "category_counts = df['CITY'].value_counts()\n",
    "print(category_counts)"
   ]
  },
  {
   "cell_type": "code",
   "execution_count": 144,
   "id": "a27e1bbd-89f6-4d14-a53e-37e8b62c7679",
   "metadata": {},
   "outputs": [
    {
     "name": "stdout",
     "output_type": "stream",
     "text": [
      "Index(['Seoul', 'Incheon', 'Gyeonggi'], dtype='object', name='CITY')\n"
     ]
    }
   ],
   "source": [
    "city_idx = category_counts.index\n",
    "print(city_idx)"
   ]
  },
  {
   "cell_type": "code",
   "execution_count": 145,
   "id": "de8f9689-ba13-470a-8bb4-5d7124f03429",
   "metadata": {},
   "outputs": [],
   "source": [
    "colors = ['red', 'blue', 'orange']"
   ]
  },
  {
   "cell_type": "code",
   "execution_count": 146,
   "id": "cb8b406a-d199-4f5b-8c63-d3fb6300db53",
   "metadata": {},
   "outputs": [
    {
     "data": {
      "image/png": "[encoded data removed]",
      "text/plain": [
       "<Figure size 640x480 with 1 Axes>"
      ]
     },
     "metadata": {},
     "output_type": "display_data"
    }
   ],
   "source": [
    "plt.bar(x=city_idx, height=category_counts, color=colors)\n",
    "plt.show()"
   ]
  },
  {
   "cell_type": "code",
   "execution_count": 147,
   "id": "d02fe0fe-1b7c-4397-9792-54b2a5be5d1d",
   "metadata": {},
   "outputs": [
    {
     "data": {
      "text/html": [
       "<div>\n",
       "<style scoped>\n",
       "    .dataframe tbody tr th:only-of-type {\n",
       "        vertical-align: middle;\n",
       "    }\n",
       "\n",
       "    .dataframe tbody tr th {\n",
       "        vertical-align: top;\n",
       "    }\n",
       "\n",
       "    .dataframe thead th {\n",
       "        text-align: right;\n",
       "    }\n",
       "</style>\n",
       "<table border=\"1\" class=\"dataframe\">\n",
       "  <thead>\n",
       "    <tr style=\"text-align: right;\">\n",
       "      <th>GENDER</th>\n",
       "      <th>Female</th>\n",
       "      <th>Male</th>\n",
       "    </tr>\n",
       "    <tr>\n",
       "      <th>CITY</th>\n",
       "      <th></th>\n",
       "      <th></th>\n",
       "    </tr>\n",
       "  </thead>\n",
       "  <tbody>\n",
       "    <tr>\n",
       "      <th>Gyeonggi</th>\n",
       "      <td>178</td>\n",
       "      <td>150</td>\n",
       "    </tr>\n",
       "    <tr>\n",
       "      <th>Incheon</th>\n",
       "      <td>162</td>\n",
       "      <td>170</td>\n",
       "    </tr>\n",
       "    <tr>\n",
       "      <th>Seoul</th>\n",
       "      <td>161</td>\n",
       "      <td>179</td>\n",
       "    </tr>\n",
       "  </tbody>\n",
       "</table>\n",
       "</div>"
      ],
      "text/plain": [
       "GENDER    Female  Male\n",
       "CITY                  \n",
       "Gyeonggi     178   150\n",
       "Incheon      162   170\n",
       "Seoul        161   179"
      ]
     },
     "execution_count": 147,
     "metadata": {},
     "output_type": "execute_result"
    }
   ],
   "source": [
    "city_gender = pd.crosstab(df['CITY'], df['GENDER'])\n",
    "city_gender"
   ]
  },
  {
   "cell_type": "code",
   "execution_count": 148,
   "id": "d0868e74-87ec-4b2b-adf7-086c5b372a81",
   "metadata": {},
   "outputs": [
    {
     "data": {
      "text/plain": [
       "Index(['Gyeonggi', 'Incheon', 'Seoul'], dtype='object', name='CITY')"
      ]
     },
     "execution_count": 148,
     "metadata": {},
     "output_type": "execute_result"
    }
   ],
   "source": [
    "city_gender.index"
   ]
  },
  {
   "cell_type": "code",
   "execution_count": 149,
   "id": "9a7456b8-49b4-4e84-b6e9-37c3914e7ed5",
   "metadata": {},
   "outputs": [
    {
     "data": {
      "text/plain": [
       "Index(['Female', 'Male'], dtype='object', name='GENDER')"
      ]
     },
     "execution_count": 149,
     "metadata": {},
     "output_type": "execute_result"
    }
   ],
   "source": [
    "city_gender.columns"
   ]
  },
  {
   "cell_type": "code",
   "execution_count": 150,
   "id": "e7ce713f-3d67-4d8c-838c-8d75b6f60bd4",
   "metadata": {},
   "outputs": [
    {
     "data": {
      "text/plain": [
       "CITY\n",
       "Gyeonggi    150\n",
       "Incheon     170\n",
       "Seoul       179\n",
       "Name: Male, dtype: int64"
      ]
     },
     "execution_count": 150,
     "metadata": {},
     "output_type": "execute_result"
    }
   ],
   "source": [
    "city_gender['Male']"
   ]
  },
  {
   "cell_type": "code",
   "execution_count": 151,
   "id": "bf7eba87-c9f0-46b4-a6ca-27826b000560",
   "metadata": {},
   "outputs": [
    {
     "data": {
      "text/plain": [
       "CITY\n",
       "Gyeonggi    178\n",
       "Incheon     162\n",
       "Seoul       161\n",
       "Name: Female, dtype: int64"
      ]
     },
     "execution_count": 151,
     "metadata": {},
     "output_type": "execute_result"
    }
   ],
   "source": [
    "city_gender['Female']"
   ]
  },
  {
   "cell_type": "code",
   "execution_count": 154,
   "id": "e480a97e-00a6-4175-9b28-d03a4a923359",
   "metadata": {
    "scrolled": true
   },
   "outputs": [
    {
     "data": {
      "image/png": "[encoded data removed]",
      "text/plain": [
       "<Figure size 640x480 with 1 Axes>"
      ]
     },
     "metadata": {},
     "output_type": "display_data"
    }
   ],
   "source": [
    "plt.bar(x=city_gender.index, height=city_gender['Male'], color='paleturquoise', label='Male')\n",
    "plt.bar(x=city_gender.index, height=city_gender['Female'], bottom=city_gender['Male'], color='lightcoral', label='Female')\n",
    "plt.ylim(0, 500)\n",
    "plt.xticks(rotation=45)\n",
    "plt.legend()\n",
    "plt.show()"
   ]
  },
  {
   "cell_type": "code",
   "execution_count": 155,
   "id": "9f4afeb7-6e95-40ed-a3f6-8aaf93fc507d",
   "metadata": {},
   "outputs": [
    {
     "data": {
      "image/png": "[encoded data removed]",
      "text/plain": [
       "<Figure size 640x480 with 1 Axes>"
      ]
     },
     "metadata": {},
     "output_type": "display_data"
    }
   ],
   "source": [
    "city_price = df.groupby('CITY')['TOTAL_PRICE'].mean()\n",
    "plt.bar(x=city_gender.index, height=city_gender['Male'], color='paleturquoise', label='Male')\n",
    "plt.bar(x=city_gender.index, height=city_gender['Female'], bottom=city_gender['Male'], color='lightcoral', label='Female')\n",
    "plt.plot(city_gender.index, city_price, '^-')\n",
    "plt.ylim(0, 500)\n",
    "plt.xticks(rotation=45)\n",
    "plt.legend()\n",
    "plt.show()"
   ]
  },
  {
   "cell_type": "code",
   "execution_count": 169,
   "id": "77f150e1-8cd1-4555-8121-cd1e80cc0a16",
   "metadata": {},
   "outputs": [
    {
     "data": {
      "image/png": "[encoded data removed]",
      "text/plain": [
       "<Figure size 640x480 with 1 Axes>"
      ]
     },
     "metadata": {},
     "output_type": "display_data"
    }
   ],
   "source": [
    "fig, ax = plt.subplots()\n",
    "bar1 = ax.bar(x=city_gender.index, height=city_gender['Male'], color='paleturquoise', label='Male')\n",
    "bar2 = ax.bar(x=city_gender.index, height=city_gender['Female'], bottom=city_gender['Male'], color='lightcoral', label='Female')\n",
    "ax.bar_label(bar1, label_type='center')\n",
    "ax.bar_label(bar2, label_type='center')\n",
    "plt.ylim(0, 500)\n",
    "plt.xticks(rotation=45)\n",
    "plt.legend()\n",
    "plt.show()"
   ]
  },
  {
   "cell_type": "code",
   "execution_count": 170,
   "id": "516c3474-61a1-48ac-b9d4-04d802081738",
   "metadata": {},
   "outputs": [
    {
     "data": {
      "text/html": [
       "<div>\n",
       "<style scoped>\n",
       "    .dataframe tbody tr th:only-of-type {\n",
       "        vertical-align: middle;\n",
       "    }\n",
       "\n",
       "    .dataframe tbody tr th {\n",
       "        vertical-align: top;\n",
       "    }\n",
       "\n",
       "    .dataframe thead th {\n",
       "        text-align: right;\n",
       "    }\n",
       "</style>\n",
       "<table border=\"1\" class=\"dataframe\">\n",
       "  <thead>\n",
       "    <tr style=\"text-align: right;\">\n",
       "      <th>GENDER</th>\n",
       "      <th>Female</th>\n",
       "      <th>Male</th>\n",
       "    </tr>\n",
       "    <tr>\n",
       "      <th>CITY</th>\n",
       "      <th></th>\n",
       "      <th></th>\n",
       "    </tr>\n",
       "  </thead>\n",
       "  <tbody>\n",
       "    <tr>\n",
       "      <th>Gyeonggi</th>\n",
       "      <td>54.3</td>\n",
       "      <td>45.7</td>\n",
       "    </tr>\n",
       "    <tr>\n",
       "      <th>Incheon</th>\n",
       "      <td>48.8</td>\n",
       "      <td>51.2</td>\n",
       "    </tr>\n",
       "    <tr>\n",
       "      <th>Seoul</th>\n",
       "      <td>47.4</td>\n",
       "      <td>52.6</td>\n",
       "    </tr>\n",
       "  </tbody>\n",
       "</table>\n",
       "</div>"
      ],
      "text/plain": [
       "GENDER    Female  Male\n",
       "CITY                  \n",
       "Gyeonggi    54.3  45.7\n",
       "Incheon     48.8  51.2\n",
       "Seoul       47.4  52.6"
      ]
     },
     "execution_count": 170,
     "metadata": {},
     "output_type": "execute_result"
    }
   ],
   "source": [
    "city_gender2 = pd.crosstab(df['CITY'], df['GENDER'], normalize='index')\n",
    "city_gender2 = city_gender2.round(decimals=3)*100\n",
    "city_gender2"
   ]
  },
  {
   "cell_type": "code",
   "execution_count": 171,
   "id": "16296545-c4d9-49af-bbc7-ff21699d69c3",
   "metadata": {},
   "outputs": [
    {
     "data": {
      "text/plain": [
       "Index(['Gyeonggi', 'Incheon', 'Seoul'], dtype='object', name='CITY')"
      ]
     },
     "execution_count": 171,
     "metadata": {},
     "output_type": "execute_result"
    }
   ],
   "source": [
    "city_gender2.index"
   ]
  },
  {
   "cell_type": "code",
   "execution_count": 172,
   "id": "98745037-8b05-478a-8bb6-25ac496e7d5c",
   "metadata": {},
   "outputs": [
    {
     "data": {
      "text/plain": [
       "Index(['Female', 'Male'], dtype='object', name='GENDER')"
      ]
     },
     "execution_count": 172,
     "metadata": {},
     "output_type": "execute_result"
    }
   ],
   "source": [
    "city_gender2.columns"
   ]
  },
  {
   "cell_type": "code",
   "execution_count": 173,
   "id": "c6d0014f-3736-4e62-bd16-9fc562674460",
   "metadata": {},
   "outputs": [
    {
     "data": {
      "text/plain": [
       "CITY\n",
       "Gyeonggi    45.7\n",
       "Incheon     51.2\n",
       "Seoul       52.6\n",
       "Name: Male, dtype: float64"
      ]
     },
     "execution_count": 173,
     "metadata": {},
     "output_type": "execute_result"
    }
   ],
   "source": [
    "city_gender2['Male']"
   ]
  },
  {
   "cell_type": "code",
   "execution_count": 174,
   "id": "a18d5166-c072-49dd-b094-235faef4db6d",
   "metadata": {},
   "outputs": [
    {
     "data": {
      "text/plain": [
       "CITY\n",
       "Gyeonggi    54.3\n",
       "Incheon     48.8\n",
       "Seoul       47.4\n",
       "Name: Female, dtype: float64"
      ]
     },
     "execution_count": 174,
     "metadata": {},
     "output_type": "execute_result"
    }
   ],
   "source": [
    "city_gender2['Female']"
   ]
  },
  {
   "cell_type": "code",
   "execution_count": 176,
   "id": "0ee78e91-71d6-45db-b046-4b2cce57676c",
   "metadata": {},
   "outputs": [
    {
     "data": {
      "image/png": "[encoded data removed]",
      "text/plain": [
       "<Figure size 640x480 with 1 Axes>"
      ]
     },
     "metadata": {},
     "output_type": "display_data"
    }
   ],
   "source": [
    "fig, ax = plt.subplots()\n",
    "bar3 = ax.bar(x=city_gender2.index, height=city_gender2['Male'], color='paleturquoise', label='Male')\n",
    "bar4 = ax.bar(x=city_gender2.index, height=city_gender2['Female'], bottom=city_gender2['Male'], color='lightcoral', label='Female')\n",
    "ax.bar_label(bar3, label_type='center')\n",
    "ax.bar_label(bar4, label_type='center')\n",
    "plt.xticks(rotation=45)\n",
    "plt.legend()\n",
    "plt.show()"
   ]
  },
  {
   "cell_type": "code",
   "execution_count": 178,
   "id": "2ecd4dd5-3f94-4d36-a910-b561fd81e60b",
   "metadata": {},
   "outputs": [
    {
     "data": {
      "image/png": "[encoded data removed]",
      "text/plain": [
       "<Figure size 640x480 with 1 Axes>"
      ]
     },
     "metadata": {},
     "output_type": "display_data"
    }
   ],
   "source": [
    "plt.boxplot(df['TOTAL_PRICE'])\n",
    "plt.show()"
   ]
  },
  {
   "cell_type": "code",
   "execution_count": 181,
   "id": "cfa75d7b-4999-48df-ae81-3fe0fd1ee1e1",
   "metadata": {},
   "outputs": [
    {
     "data": {
      "image/png": "[encoded data removed]",
      "text/plain": [
       "<Figure size 640x480 with 1 Axes>"
      ]
     },
     "metadata": {},
     "output_type": "display_data"
    }
   ],
   "source": [
    "plt.scatter(df['UNIT_PRICE'], df['TOTAL_PRICE'])\n",
    "plt.show()"
   ]
  },
  {
   "cell_type": "code",
   "execution_count": 184,
   "id": "263f3130-3992-4ded-96df-717b0848570e",
   "metadata": {},
   "outputs": [],
   "source": [
    "man = df[df['GENDER']=='Male']\n",
    "woman = df[df['GENDER']=='Female']"
   ]
  },
  {
   "cell_type": "code",
   "execution_count": 186,
   "id": "f139607e-cff1-42b0-8458-93ad9f83659a",
   "metadata": {},
   "outputs": [
    {
     "data": {
      "image/png": "[encoded data removed]",
      "text/plain": [
       "<Figure size 640x480 with 1 Axes>"
      ]
     },
     "metadata": {},
     "output_type": "display_data"
    }
   ],
   "source": [
    "plt.scatter(man['UNIT_PRICE'], man['TOTAL_PRICE'], color='cornflowerblue', label='man')\n",
    "plt.scatter(woman['UNIT_PRICE'], woman['TOTAL_PRICE'], color='coral', label='woman')\n",
    "plt.legend(title='GENDER')\n",
    "plt.xlabel('unit price')\n",
    "plt.ylabel('Total price')\n",
    "plt.show()"
   ]
  },
  {
   "cell_type": "code",
   "execution_count": 187,
   "id": "27ee1e4b-a7b5-4a94-8e8f-6dd3a0ced1ea",
   "metadata": {},
   "outputs": [
    {
     "name": "stdout",
     "output_type": "stream",
     "text": [
      "CITY\n",
      "Seoul       340\n",
      "Incheon     332\n",
      "Gyeonggi    328\n",
      "Name: count, dtype: int64\n"
     ]
    }
   ],
   "source": [
    "category_counts = df['CITY'].value_counts()\n",
    "print(category_counts)\n"
   ]
  },
  {
   "cell_type": "code",
   "execution_count": 188,
   "id": "62635593-6207-4ea1-91d1-c97c8019bdda",
   "metadata": {},
   "outputs": [
    {
     "name": "stdout",
     "output_type": "stream",
     "text": [
      "Index(['Seoul', 'Incheon', 'Gyeonggi'], dtype='object', name='CITY')\n"
     ]
    }
   ],
   "source": [
    "city_idx = category_counts.index\n",
    "print(city_idx)"
   ]
  },
  {
   "cell_type": "code",
   "execution_count": 200,
   "id": "a1b4f768-1e70-43ee-b9cc-531cf06b9828",
   "metadata": {},
   "outputs": [
    {
     "data": {
      "image/png": "[encoded data removed]",
      "text/plain": [
       "<Figure size 640x480 with 1 Axes>"
      ]
     },
     "metadata": {},
     "output_type": "display_data"
    }
   ],
   "source": [
    "#startangle 각도 - 시작 x축방향 0도 / counterclock 반시계\n",
    "plt.pie(category_counts, labels=city_idx, autopct='%.1f%%', startangle=33, counterclock=False)\n",
    "plt.show()"
   ]
  },
  {
   "cell_type": "code",
   "execution_count": 208,
   "id": "4e543c2b-b9cd-422e-b7b1-d38fdfb87e8b",
   "metadata": {},
   "outputs": [
    {
     "data": {
      "image/png": "[encoded data removed]",
      "text/plain": [
       "<Figure size 640x480 with 1 Axes>"
      ]
     },
     "metadata": {},
     "output_type": "display_data"
    }
   ],
   "source": [
    "expl=[0.1,0,0]\n",
    "pie_color = ['moccasin', 'darkkhaki', 'seagreen']\n",
    "plt.pie(category_counts, labels=city_idx, autopct='%.1f%%', startangle=33, counterclock=False, explode=expl, colors=pie_color)\n",
    "plt.show()"
   ]
  },
  {
   "cell_type": "code",
   "execution_count": 209,
   "id": "8e9dca6a-7eb1-4aa5-8d95-fa6a23944fcf",
   "metadata": {},
   "outputs": [
    {
     "name": "stderr",
     "output_type": "stream",
     "text": [
      "C:\\Users\\User\\miniconda3\\envs\\intensive\\Lib\\site-packages\\seaborn\\_oldcore.py:1119: FutureWarning: use_inf_as_na option is deprecated and will be removed in a future version. Convert inf values to NaN before operating instead.\n",
      "  with pd.option_context('mode.use_inf_as_na', True):\n"
     ]
    },
    {
     "data": {
      "text/plain": [
       "<Axes: xlabel='TOTAL_PRICE', ylabel='Count'>"
      ]
     },
     "execution_count": 209,
     "metadata": {},
     "output_type": "execute_result"
    },
    {
     "data": {
      "image/png": "[encoded data removed]",
      "text/plain": [
       "<Figure size 640x480 with 1 Axes>"
      ]
     },
     "metadata": {},
     "output_type": "display_data"
    }
   ],
   "source": [
    "import seaborn as sns\n",
    "sns.histplot(data=df, x='TOTAL_PRICE')"
   ]
  },
  {
   "cell_type": "code",
   "execution_count": 210,
   "id": "55dab9f8-15e5-4ce7-867c-f036c1aebf6c",
   "metadata": {},
   "outputs": [
    {
     "name": "stderr",
     "output_type": "stream",
     "text": [
      "C:\\Users\\User\\miniconda3\\envs\\intensive\\Lib\\site-packages\\seaborn\\_oldcore.py:1119: FutureWarning: use_inf_as_na option is deprecated and will be removed in a future version. Convert inf values to NaN before operating instead.\n",
      "  with pd.option_context('mode.use_inf_as_na', True):\n"
     ]
    },
    {
     "data": {
      "text/plain": [
       "<Axes: xlabel='TOTAL_PRICE', ylabel='Percent'>"
      ]
     },
     "execution_count": 210,
     "metadata": {},
     "output_type": "execute_result"
    },
    {
     "data": {
      "image/png": "[encoded data removed]",
      "text/plain": [
       "<Figure size 640x480 with 1 Axes>"
      ]
     },
     "metadata": {},
     "output_type": "display_data"
    }
   ],
   "source": [
    "sns.histplot(data=df, x='TOTAL_PRICE', stat='percent', color='purple')"
   ]
  },
  {
   "cell_type": "code",
   "execution_count": 211,
   "id": "cac03e2c-2f27-4972-958f-25a16938dd26",
   "metadata": {},
   "outputs": [
    {
     "name": "stderr",
     "output_type": "stream",
     "text": [
      "C:\\Users\\User\\miniconda3\\envs\\intensive\\Lib\\site-packages\\seaborn\\_oldcore.py:1119: FutureWarning: use_inf_as_na option is deprecated and will be removed in a future version. Convert inf values to NaN before operating instead.\n",
      "  with pd.option_context('mode.use_inf_as_na', True):\n",
      "C:\\Users\\User\\miniconda3\\envs\\intensive\\Lib\\site-packages\\seaborn\\_oldcore.py:1075: FutureWarning: When grouping with a length-1 list-like, you will need to pass a length-1 tuple to get_group in a future version of pandas. Pass `(name,)` instead of `name` to silence this warning.\n",
      "  data_subset = grouped_data.get_group(pd_key)\n",
      "C:\\Users\\User\\miniconda3\\envs\\intensive\\Lib\\site-packages\\seaborn\\_oldcore.py:1075: FutureWarning: When grouping with a length-1 list-like, you will need to pass a length-1 tuple to get_group in a future version of pandas. Pass `(name,)` instead of `name` to silence this warning.\n",
      "  data_subset = grouped_data.get_group(pd_key)\n",
      "C:\\Users\\User\\miniconda3\\envs\\intensive\\Lib\\site-packages\\seaborn\\_oldcore.py:1075: FutureWarning: When grouping with a length-1 list-like, you will need to pass a length-1 tuple to get_group in a future version of pandas. Pass `(name,)` instead of `name` to silence this warning.\n",
      "  data_subset = grouped_data.get_group(pd_key)\n"
     ]
    },
    {
     "data": {
      "text/plain": [
       "<Axes: xlabel='TOTAL_PRICE', ylabel='Count'>"
      ]
     },
     "execution_count": 211,
     "metadata": {},
     "output_type": "execute_result"
    },
    {
     "data": {
      "image/png": "[encoded data removed]",
      "text/plain": [
       "<Figure size 640x480 with 1 Axes>"
      ]
     },
     "metadata": {},
     "output_type": "display_data"
    }
   ],
   "source": [
    "sns.histplot(data=df, x='TOTAL_PRICE', hue='GENDER')"
   ]
  },
  {
   "cell_type": "code",
   "execution_count": 219,
   "id": "9ba5d47b-8514-49ba-b700-9bcca09a00e8",
   "metadata": {},
   "outputs": [
    {
     "name": "stderr",
     "output_type": "stream",
     "text": [
      "C:\\Users\\User\\miniconda3\\envs\\intensive\\Lib\\site-packages\\seaborn\\_oldcore.py:1119: FutureWarning: use_inf_as_na option is deprecated and will be removed in a future version. Convert inf values to NaN before operating instead.\n",
      "  with pd.option_context('mode.use_inf_as_na', True):\n"
     ]
    },
    {
     "data": {
      "text/plain": [
       "<Axes: xlabel='CITY', ylabel='Count'>"
      ]
     },
     "execution_count": 219,
     "metadata": {},
     "output_type": "execute_result"
    },
    {
     "data": {
      "image/png": "[encoded data removed]",
      "text/plain": [
       "<Figure size 640x480 with 1 Axes>"
      ]
     },
     "metadata": {},
     "output_type": "display_data"
    }
   ],
   "source": [
    "sns.histplot(data=df, x='CITY')"
   ]
  },
  {
   "cell_type": "code",
   "execution_count": 220,
   "id": "f3c2f6fa-cc60-4a3c-8fff-d2835f724db3",
   "metadata": {},
   "outputs": [
    {
     "data": {
      "text/plain": [
       "<Axes: xlabel='CITY', ylabel='count'>"
      ]
     },
     "execution_count": 220,
     "metadata": {},
     "output_type": "execute_result"
    },
    {
     "data": {
      "image/png": "[encoded data removed]",
      "text/plain": [
       "<Figure size 640x480 with 1 Axes>"
      ]
     },
     "metadata": {},
     "output_type": "display_data"
    }
   ],
   "source": [
    "sns.countplot(data=df, x=\"CITY\", hue='GENDER')"
   ]
  },
  {
   "cell_type": "code",
   "execution_count": 225,
   "id": "9de1fa7d-4b13-42e7-922f-f4655dee74ed",
   "metadata": {},
   "outputs": [
    {
     "data": {
      "text/plain": [
       "<Axes: xlabel='CITY', ylabel='count'>"
      ]
     },
     "execution_count": 225,
     "metadata": {},
     "output_type": "execute_result"
    },
    {
     "data": {
      "image/png": "[encoded data removed]",
      "text/plain": [
       "<Figure size 640x480 with 1 Axes>"
      ]
     },
     "metadata": {},
     "output_type": "display_data"
    }
   ],
   "source": [
    "colors = [\"#000000\", '#22AA33', '#AAAAAA']\n",
    "palette1 = sns.color_palette(colors)\n",
    "sns.countplot(data=df, x=\"CITY\", hue='GENDER', palette=palette1)"
   ]
  },
  {
   "cell_type": "code",
   "execution_count": 226,
   "id": "3ea37325-015c-40a2-a849-1d17c2d2ffaa",
   "metadata": {},
   "outputs": [
    {
     "data": {
      "text/plain": [
       "<Axes: ylabel='TOTAL_PRICE'>"
      ]
     },
     "execution_count": 226,
     "metadata": {},
     "output_type": "execute_result"
    },
    {
     "data": {
      "image/png": "[encoded data removed]",
      "text/plain": [
       "<Figure size 640x480 with 1 Axes>"
      ]
     },
     "metadata": {},
     "output_type": "display_data"
    }
   ],
   "source": [
    "sns.boxplot(data=df, y='TOTAL_PRICE')"
   ]
  },
  {
   "cell_type": "code",
   "execution_count": 227,
   "id": "4f8856ed-eb2f-49d7-9f49-bb81d253defa",
   "metadata": {},
   "outputs": [
    {
     "data": {
      "text/plain": [
       "<Axes: xlabel='GENDER', ylabel='TOTAL_PRICE'>"
      ]
     },
     "execution_count": 227,
     "metadata": {},
     "output_type": "execute_result"
    },
    {
     "data": {
      "image/png": "[encoded data removed]",
      "text/plain": [
       "<Figure size 640x480 with 1 Axes>"
      ]
     },
     "metadata": {},
     "output_type": "display_data"
    }
   ],
   "source": [
    "sns.boxplot(data=df, x='GENDER', y='TOTAL_PRICE')"
   ]
  },
  {
   "cell_type": "code",
   "execution_count": 228,
   "id": "21ee1266-74eb-40b5-b7db-45c0e34b0cd8",
   "metadata": {},
   "outputs": [
    {
     "data": {
      "text/plain": [
       "<Axes: xlabel='UNIT_PRICE', ylabel='TOTAL_PRICE'>"
      ]
     },
     "execution_count": 228,
     "metadata": {},
     "output_type": "execute_result"
    },
    {
     "data": {
      "image/png": "[encoded data removed]",
      "text/plain": [
       "<Figure size 640x480 with 1 Axes>"
      ]
     },
     "metadata": {},
     "output_type": "display_data"
    }
   ],
   "source": [
    "sns.scatterplot(data=df, x='UNIT_PRICE', y='TOTAL_PRICE')"
   ]
  },
  {
   "cell_type": "code",
   "execution_count": 229,
   "id": "7dc766da-bfcd-4208-addc-e0ae09e2c14c",
   "metadata": {},
   "outputs": [
    {
     "data": {
      "text/plain": [
       "<Axes: xlabel='UNIT_PRICE', ylabel='TOTAL_PRICE'>"
      ]
     },
     "execution_count": 229,
     "metadata": {},
     "output_type": "execute_result"
    },
    {
     "data": {
      "image/png": "[encoded data removed]",
      "text/plain": [
       "<Figure size 640x480 with 1 Axes>"
      ]
     },
     "metadata": {},
     "output_type": "display_data"
    }
   ],
   "source": [
    "sns.scatterplot(data=df, x='UNIT_PRICE', y='TOTAL_PRICE', hue='GENDER')"
   ]
  },
  {
   "cell_type": "code",
   "execution_count": 231,
   "id": "577bb505-992b-43fc-b943-00d276d168ab",
   "metadata": {},
   "outputs": [
    {
     "data": {
      "text/plain": [
       "<Axes: xlabel='UNIT_PRICE', ylabel='TOTAL_PRICE'>"
      ]
     },
     "execution_count": 231,
     "metadata": {},
     "output_type": "execute_result"
    },
    {
     "data": {
      "image/png": "[encoded data removed]",
      "text/plain": [
       "<Figure size 640x480 with 1 Axes>"
      ]
     },
     "metadata": {},
     "output_type": "display_data"
    }
   ],
   "source": [
    "sns.scatterplot(data=df, x='UNIT_PRICE', y='TOTAL_PRICE', hue='GENDER', size='CITY')"
   ]
  },
  {
   "cell_type": "code",
   "execution_count": null,
   "id": "2048aa5b-ef78-4b79-9a1b-139b04e438e9",
   "metadata": {},
   "outputs": [],
   "source": []
  }
 ],
 "metadata": {
  "kernelspec": {
   "display_name": "Python 3 (ipykernel)",
   "language": "python",
   "name": "python3"
  },
  "language_info": {
   "codemirror_mode": {
    "name": "ipython",
    "version": 3
   },
   "file_extension": ".py",
   "mimetype": "text/x-python",
   "name": "python",
   "nbconvert_exporter": "python",
   "pygments_lexer": "ipython3",
   "version": "3.11.9"
  }
 },
 "nbformat": 4,
 "nbformat_minor": 5
}
