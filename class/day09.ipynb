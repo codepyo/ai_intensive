{
 "cells": [
  {
   "cell_type": "code",
   "execution_count": 1,
   "id": "bffd2ca1-34b6-48fb-892e-96724cc33941",
   "metadata": {},
   "outputs": [],
   "source": [
    "import numpy as np\n",
    "import pandas as pd\n",
    "import scipy as sp\n",
    "df = pd.read_csv('../data/performance.csv', encoding='cp949')"
   ]
  },
  {
   "cell_type": "code",
   "execution_count": 2,
   "id": "5a8e6804-78f4-49e2-a300-9e8227e6a312",
   "metadata": {},
   "outputs": [
    {
     "data": {
      "text/html": [
       "<div>\n",
       "<style scoped>\n",
       "    .dataframe tbody tr th:only-of-type {\n",
       "        vertical-align: middle;\n",
       "    }\n",
       "\n",
       "    .dataframe tbody tr th {\n",
       "        vertical-align: top;\n",
       "    }\n",
       "\n",
       "    .dataframe thead th {\n",
       "        text-align: right;\n",
       "    }\n",
       "</style>\n",
       "<table border=\"1\" class=\"dataframe\">\n",
       "  <thead>\n",
       "    <tr style=\"text-align: right;\">\n",
       "      <th></th>\n",
       "      <th>GENDER</th>\n",
       "      <th>TEAM</th>\n",
       "      <th>EDUCATION</th>\n",
       "      <th>TRAINING</th>\n",
       "      <th>ACHIEVEMENT</th>\n",
       "      <th>ABILITY</th>\n",
       "      <th>ATTITUDE</th>\n",
       "    </tr>\n",
       "  </thead>\n",
       "  <tbody>\n",
       "    <tr>\n",
       "      <th>0</th>\n",
       "      <td>female</td>\n",
       "      <td>B</td>\n",
       "      <td>bachelor's degree</td>\n",
       "      <td>none</td>\n",
       "      <td>72</td>\n",
       "      <td>72</td>\n",
       "      <td>74</td>\n",
       "    </tr>\n",
       "    <tr>\n",
       "      <th>1</th>\n",
       "      <td>female</td>\n",
       "      <td>C</td>\n",
       "      <td>some college</td>\n",
       "      <td>completed</td>\n",
       "      <td>69</td>\n",
       "      <td>90</td>\n",
       "      <td>88</td>\n",
       "    </tr>\n",
       "    <tr>\n",
       "      <th>2</th>\n",
       "      <td>female</td>\n",
       "      <td>B</td>\n",
       "      <td>master's degree</td>\n",
       "      <td>none</td>\n",
       "      <td>90</td>\n",
       "      <td>95</td>\n",
       "      <td>93</td>\n",
       "    </tr>\n",
       "  </tbody>\n",
       "</table>\n",
       "</div>"
      ],
      "text/plain": [
       "   GENDER TEAM          EDUCATION   TRAINING  ACHIEVEMENT  ABILITY  ATTITUDE\n",
       "0  female    B  bachelor's degree       none           72       72        74\n",
       "1  female    C       some college  completed           69       90        88\n",
       "2  female    B    master's degree       none           90       95        93"
      ]
     },
     "execution_count": 2,
     "metadata": {},
     "output_type": "execute_result"
    }
   ],
   "source": [
    "df.head(3)"
   ]
  },
  {
   "cell_type": "code",
   "execution_count": 3,
   "id": "724a925f-1b1f-43e9-bd3c-50191264b913",
   "metadata": {},
   "outputs": [
    {
     "data": {
      "text/plain": [
       "array(['B', 'C', 'A', 'D', 'E'], dtype=object)"
      ]
     },
     "execution_count": 3,
     "metadata": {},
     "output_type": "execute_result"
    }
   ],
   "source": [
    "df['TEAM'].unique()"
   ]
  },
  {
   "cell_type": "code",
   "execution_count": 5,
   "id": "a9e5a399-8a02-4942-ae8f-281d4f7a52fa",
   "metadata": {},
   "outputs": [],
   "source": [
    "df_a = df[df['TEAM']=='A']\n",
    "df_b = df[df['TEAM']=='B']\n",
    "df_c = df[df['TEAM']=='C']\n",
    "df_d = df[df['TEAM']=='D']\n",
    "df_e = df[df['TEAM']=='E']"
   ]
  },
  {
   "cell_type": "code",
   "execution_count": 7,
   "id": "77e4f311-b874-45e3-80f3-9170cc17a596",
   "metadata": {},
   "outputs": [],
   "source": [
    "df_a_ach = df_a['ACHIEVEMENT']\n",
    "df_b_ach = df_b['ACHIEVEMENT']\n",
    "df_c_ach = df_c['ACHIEVEMENT']\n",
    "df_d_ach = df_d['ACHIEVEMENT']\n",
    "df_e_ach = df_e['ACHIEVEMENT']"
   ]
  },
  {
   "cell_type": "code",
   "execution_count": 13,
   "id": "d0f3ca5c-accc-4f67-94ac-6b7f0cd14793",
   "metadata": {},
   "outputs": [
    {
     "data": {
      "text/plain": [
       "3      47\n",
       "13     78\n",
       "14     50\n",
       "25     73\n",
       "46     55\n",
       "       ..\n",
       "974    54\n",
       "983    78\n",
       "985    57\n",
       "988    44\n",
       "994    63\n",
       "Name: ACHIEVEMENT, Length: 89, dtype: int64"
      ]
     },
     "execution_count": 13,
     "metadata": {},
     "output_type": "execute_result"
    }
   ],
   "source": [
    "df_a_ach"
   ]
  },
  {
   "cell_type": "code",
   "execution_count": 9,
   "id": "c8c2dc14-2caf-467e-a0bb-f33082fc4dee",
   "metadata": {},
   "outputs": [
    {
     "name": "stdout",
     "output_type": "stream",
     "text": [
      "61.62921348314607\n"
     ]
    }
   ],
   "source": [
    "df_a_mean = np.mean(df_a_ach)\n",
    "print(df_a_mean)"
   ]
  },
  {
   "cell_type": "code",
   "execution_count": 10,
   "id": "2b8c5bfe-704f-4201-a8eb-3320fb6be23c",
   "metadata": {},
   "outputs": [
    {
     "name": "stdout",
     "output_type": "stream",
     "text": [
      "63.45263157894737\n"
     ]
    }
   ],
   "source": [
    "df_b_mean = np.mean(df_b_ach)\n",
    "print(df_b_mean)"
   ]
  },
  {
   "cell_type": "code",
   "execution_count": 11,
   "id": "869c7da0-6e1d-4fce-ac00-400e914115f1",
   "metadata": {},
   "outputs": [
    {
     "name": "stdout",
     "output_type": "stream",
     "text": [
      "검정통계량: 0.9917360440600248, p-value: 0.8545319451007725\n"
     ]
    }
   ],
   "source": [
    "test_stat, p = sp.stats.shapiro(df_a_ach)\n",
    "print(\"검정통계량: {}, p-value: {}\".format(test_stat, p))"
   ]
  },
  {
   "cell_type": "code",
   "execution_count": 12,
   "id": "ae2261f1-db7d-48a8-a188-b92871082e04",
   "metadata": {},
   "outputs": [
    {
     "name": "stdout",
     "output_type": "stream",
     "text": [
      "검정통계량: 0.9808056990812756, p-value: 0.010389426534438832\n"
     ]
    }
   ],
   "source": [
    "test_stat, p = sp.stats.shapiro(df_b_ach)\n",
    "print(\"검정통계량: {}, p-value: {}\".format(test_stat, p))"
   ]
  },
  {
   "cell_type": "code",
   "execution_count": 14,
   "id": "12c7d0dd-aca6-4cf7-b205-936858c6ae6d",
   "metadata": {},
   "outputs": [
    {
     "name": "stdout",
     "output_type": "stream",
     "text": [
      "208.5479106173464\n"
     ]
    }
   ],
   "source": [
    "df_a_var = np.var(df_a_ach)\n",
    "print(df_a_var)"
   ]
  },
  {
   "cell_type": "code",
   "execution_count": 16,
   "id": "878a5da5-37db-47ed-8a27-3ecc4be5fd32",
   "metadata": {},
   "outputs": [
    {
     "name": "stdout",
     "output_type": "stream",
     "text": [
      "238.0056509695291\n"
     ]
    }
   ],
   "source": [
    "df_b_var = np.var(df_b_ach)\n",
    "print(df_b_var)"
   ]
  },
  {
   "cell_type": "code",
   "execution_count": 17,
   "id": "b30da6d4-d1a8-41ff-8748-39f2bdb8f90f",
   "metadata": {},
   "outputs": [
    {
     "name": "stdout",
     "output_type": "stream",
     "text": [
      "89\n"
     ]
    }
   ],
   "source": [
    "n1 = len(df_a_ach)\n",
    "print(n1)"
   ]
  },
  {
   "cell_type": "code",
   "execution_count": 18,
   "id": "d4d1faeb-2c33-4ee6-bbe1-4305cd427259",
   "metadata": {},
   "outputs": [
    {
     "name": "stdout",
     "output_type": "stream",
     "text": [
      "190\n"
     ]
    }
   ],
   "source": [
    "n2 = len(df_b_ach)\n",
    "print(n2)"
   ]
  },
  {
   "cell_type": "code",
   "execution_count": 22,
   "id": "f261ceda-bb23-4e13-9f5f-72adac5fff9b",
   "metadata": {},
   "outputs": [
    {
     "name": "stdout",
     "output_type": "stream",
     "text": [
      "1.8962848603648557\n"
     ]
    }
   ],
   "source": [
    "s = ((df_a_var/n1)+(df_b_var/n2))**0.5\n",
    "print(s)"
   ]
  },
  {
   "cell_type": "code",
   "execution_count": 24,
   "id": "0adc67bd-9752-4ab6-993c-d8884bf1ff08",
   "metadata": {},
   "outputs": [
    {
     "name": "stdout",
     "output_type": "stream",
     "text": [
      "0.9615739353898894\n"
     ]
    }
   ],
   "source": [
    "z_value = (df_b_mean - df_a_mean)/s\n",
    "print(z_value)"
   ]
  },
  {
   "cell_type": "code",
   "execution_count": 25,
   "id": "5f7922aa-e26c-403f-8e68-07893841b4c5",
   "metadata": {},
   "outputs": [
    {
     "name": "stdout",
     "output_type": "stream",
     "text": [
      "0.16813183477339477\n"
     ]
    }
   ],
   "source": [
    "z_dist = sp.stats.norm(0, 1)\n",
    "p_value = 1 - z_dist.cdf(z_value)\n",
    "print(p_value)"
   ]
  },
  {
   "cell_type": "code",
   "execution_count": 30,
   "id": "4a0cbbd1-f984-44f8-86d3-2a2331c1f9c8",
   "metadata": {},
   "outputs": [
    {
     "name": "stdout",
     "output_type": "stream",
     "text": [
      "검정통계량: 0.9355076279747488, p-value: 0.17517079808299785\n"
     ]
    }
   ],
   "source": [
    "test_stat, p = sp.stats.ttest_ind(df_b_ach, df_a_ach, alternative='greater')\n",
    "print(\"검정통계량: {}, p-value: {}\".format(test_stat, p))"
   ]
  },
  {
   "cell_type": "code",
   "execution_count": 35,
   "id": "2c1ed0df-c998-4176-bafe-97f087b1ce42",
   "metadata": {},
   "outputs": [
    {
     "name": "stdout",
     "output_type": "stream",
     "text": [
      "H0: 팀C의 평균 성과 점수와 팀A의 평균 성과 점수는 차이가 없다\n",
      "H1: 팀C의 평균 성과 점수는 팀A의 평균 성과 점수보다 크다\n"
     ]
    }
   ],
   "source": [
    "print('H0: 팀C의 평균 성과 점수와 팀A의 평균 성과 점수는 차이가 없다')\n",
    "print('H1: 팀C의 평균 성과 점수는 팀A의 평균 성과 점수보다 크다')"
   ]
  },
  {
   "cell_type": "code",
   "execution_count": 36,
   "id": "7d7d1b12-83c9-4089-a6eb-555997dd0db7",
   "metadata": {},
   "outputs": [
    {
     "name": "stdout",
     "output_type": "stream",
     "text": [
      "0.9891068965131897 0.017414767041862515\n"
     ]
    }
   ],
   "source": [
    "df_c_mean = np.mean(df_c_ach)\n",
    "df_c_var = np.var(df_c_ach)\n",
    "test_stat, p = sp.stats.shapiro(df_c_ach)\n",
    "print(test_stat, p)"
   ]
  },
  {
   "cell_type": "code",
   "execution_count": 37,
   "id": "f11fe46e-d608-402b-a052-563ddc258b82",
   "metadata": {},
   "outputs": [
    {
     "name": "stdout",
     "output_type": "stream",
     "text": [
      "1.5997220303217299 0.05521905372794021\n"
     ]
    }
   ],
   "source": [
    "test_stat, p = sp.stats.ttest_ind(df_c_ach, df_a_ach, alternative='greater')\n",
    "print(test_stat, p)"
   ]
  },
  {
   "cell_type": "code",
   "execution_count": null,
   "id": "72c708a3-761e-45ec-a5e9-dfa0de082e0c",
   "metadata": {},
   "outputs": [],
   "source": []
  }
 ],
 "metadata": {
  "kernelspec": {
   "display_name": "Python 3 (ipykernel)",
   "language": "python",
   "name": "python3"
  },
  "language_info": {
   "codemirror_mode": {
    "name": "ipython",
    "version": 3
   },
   "file_extension": ".py",
   "mimetype": "text/x-python",
   "name": "python",
   "nbconvert_exporter": "python",
   "pygments_lexer": "ipython3",
   "version": "3.11.9"
  }
 },
 "nbformat": 4,
 "nbformat_minor": 5
}
