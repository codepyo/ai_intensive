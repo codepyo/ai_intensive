{
 "cells": [
  {
   "cell_type": "code",
   "execution_count": 1,
   "id": "8331af0f-1007-4b63-a455-c97c6dafe89d",
   "metadata": {},
   "outputs": [],
   "source": [
    "import numpy as np\n",
    "import pyarrow as pa\n",
    "import pandas as pd\n",
    "import scipy as sp\n",
    "import matplotlib\n",
    "import seaborn as sns\n",
    "import plotly as px\n",
    "import sklearn as sk\n",
    "import torch, torchvision, torchaudio\n",
    "import matplotlib.pyplot as plt\n"
   ]
  },
  {
   "cell_type": "code",
   "execution_count": 6,
   "id": "943e21ea-00e3-4478-b794-a4db50d57c9e",
   "metadata": {},
   "outputs": [],
   "source": [
    "df=pd.read_csv(\"./training_1.csv\", encoding='cp949', sep=';')"
   ]
  },
  {
   "cell_type": "code",
   "execution_count": 7,
   "id": "5fc61f73-db89-419d-b7f4-d86293aaa39f",
   "metadata": {},
   "outputs": [
    {
     "data": {
      "text/html": [
       "<div>\n",
       "<style scoped>\n",
       "    .dataframe tbody tr th:only-of-type {\n",
       "        vertical-align: middle;\n",
       "    }\n",
       "\n",
       "    .dataframe tbody tr th {\n",
       "        vertical-align: top;\n",
       "    }\n",
       "\n",
       "    .dataframe thead th {\n",
       "        text-align: right;\n",
       "    }\n",
       "</style>\n",
       "<table border=\"1\" class=\"dataframe\">\n",
       "  <thead>\n",
       "    <tr style=\"text-align: right;\">\n",
       "      <th></th>\n",
       "      <th>lot</th>\n",
       "      <th>wafer</th>\n",
       "      <th>x</th>\n",
       "      <th>y</th>\n",
       "      <th>ring</th>\n",
       "      <th>spot</th>\n",
       "      <th>trend</th>\n",
       "      <th>twospots</th>\n",
       "      <th>crescent</th>\n",
       "      <th>ring_pure</th>\n",
       "      <th>spot_pure</th>\n",
       "      <th>trend_pure</th>\n",
       "      <th>twospots_pure</th>\n",
       "      <th>crescent_pure</th>\n",
       "    </tr>\n",
       "  </thead>\n",
       "  <tbody>\n",
       "    <tr>\n",
       "      <th>0</th>\n",
       "      <td>Lot_1</td>\n",
       "      <td>1</td>\n",
       "      <td>1</td>\n",
       "      <td>67</td>\n",
       "      <td>0,0332031730845769</td>\n",
       "      <td>6,48519201883132e-05</td>\n",
       "      <td>0,312294593060493</td>\n",
       "      <td>0,0390430665764935</td>\n",
       "      <td>0,00771987128577758</td>\n",
       "      <td>0,0325758284622229</td>\n",
       "      <td>6,54906689829159e-10</td>\n",
       "      <td>0,285687707722175</td>\n",
       "      <td>0,0395706499953045</td>\n",
       "      <td>-4,84314598172959e-17</td>\n",
       "    </tr>\n",
       "    <tr>\n",
       "      <th>1</th>\n",
       "      <td>Lot_1</td>\n",
       "      <td>1</td>\n",
       "      <td>1</td>\n",
       "      <td>68</td>\n",
       "      <td>0,0328173889580282</td>\n",
       "      <td>-4,66246954348572e-06</td>\n",
       "      <td>0,288024790081015</td>\n",
       "      <td>0,0405631417212302</td>\n",
       "      <td>0,00263633379698886</td>\n",
       "      <td>0,0327267641746118</td>\n",
       "      <td>8,76695244240241e-10</td>\n",
       "      <td>0,281496623060313</td>\n",
       "      <td>0,0404069156343969</td>\n",
       "      <td>-5,07606418493978e-17</td>\n",
       "    </tr>\n",
       "    <tr>\n",
       "      <th>2</th>\n",
       "      <td>Lot_1</td>\n",
       "      <td>1</td>\n",
       "      <td>1</td>\n",
       "      <td>69</td>\n",
       "      <td>0,0333211682053133</td>\n",
       "      <td>2,47580311665707e-05</td>\n",
       "      <td>0,261521426704379</td>\n",
       "      <td>0,0416022202035901</td>\n",
       "      <td>-0,000592417759195467</td>\n",
       "      <td>0,0328494417424522</td>\n",
       "      <td>1,16997736424868e-09</td>\n",
       "      <td>0,277305538398452</td>\n",
       "      <td>0,0411276544095511</td>\n",
       "      <td>-5,29028513056874e-17</td>\n",
       "    </tr>\n",
       "    <tr>\n",
       "      <th>3</th>\n",
       "      <td>Lot_1</td>\n",
       "      <td>1</td>\n",
       "      <td>1</td>\n",
       "      <td>70</td>\n",
       "      <td>0,0327066816529719</td>\n",
       "      <td>-1,41399015151066e-05</td>\n",
       "      <td>0,290740671081819</td>\n",
       "      <td>0,0408216721611609</td>\n",
       "      <td>0,00851014186519874</td>\n",
       "      <td>0,0329476626926438</td>\n",
       "      <td>1,55655995468072e-09</td>\n",
       "      <td>0,27311445373659</td>\n",
       "      <td>0,0417415065091455</td>\n",
       "      <td>-5,56129609519792e-17</td>\n",
       "    </tr>\n",
       "    <tr>\n",
       "      <th>4</th>\n",
       "      <td>Lot_1</td>\n",
       "      <td>1</td>\n",
       "      <td>1</td>\n",
       "      <td>71</td>\n",
       "      <td>0,0322198997669195</td>\n",
       "      <td>-4,85927969955997e-05</td>\n",
       "      <td>0,256578203050804</td>\n",
       "      <td>0,0425262452353082</td>\n",
       "      <td>0,00965410898796004</td>\n",
       "      <td>0,0330250576117472</td>\n",
       "      <td>2,06449498345691e-09</td>\n",
       "      <td>0,268923369074728</td>\n",
       "      <td>0,0422581887990589</td>\n",
       "      <td>-5,76665485366261e-17</td>\n",
       "    </tr>\n",
       "  </tbody>\n",
       "</table>\n",
       "</div>"
      ],
      "text/plain": [
       "     lot  wafer  x   y                ring                   spot  \\\n",
       "0  Lot_1      1  1  67  0,0332031730845769   6,48519201883132e-05   \n",
       "1  Lot_1      1  1  68  0,0328173889580282  -4,66246954348572e-06   \n",
       "2  Lot_1      1  1  69  0,0333211682053133   2,47580311665707e-05   \n",
       "3  Lot_1      1  1  70  0,0327066816529719  -1,41399015151066e-05   \n",
       "4  Lot_1      1  1  71  0,0322198997669195  -4,85927969955997e-05   \n",
       "\n",
       "               trend            twospots               crescent  \\\n",
       "0  0,312294593060493  0,0390430665764935    0,00771987128577758   \n",
       "1  0,288024790081015  0,0405631417212302    0,00263633379698886   \n",
       "2  0,261521426704379  0,0416022202035901  -0,000592417759195467   \n",
       "3  0,290740671081819  0,0408216721611609    0,00851014186519874   \n",
       "4  0,256578203050804  0,0425262452353082    0,00965410898796004   \n",
       "\n",
       "            ring_pure             spot_pure         trend_pure  \\\n",
       "0  0,0325758284622229  6,54906689829159e-10  0,285687707722175   \n",
       "1  0,0327267641746118  8,76695244240241e-10  0,281496623060313   \n",
       "2  0,0328494417424522  1,16997736424868e-09  0,277305538398452   \n",
       "3  0,0329476626926438  1,55655995468072e-09   0,27311445373659   \n",
       "4  0,0330250576117472  2,06449498345691e-09  0,268923369074728   \n",
       "\n",
       "        twospots_pure          crescent_pure  \n",
       "0  0,0395706499953045  -4,84314598172959e-17  \n",
       "1  0,0404069156343969  -5,07606418493978e-17  \n",
       "2  0,0411276544095511  -5,29028513056874e-17  \n",
       "3  0,0417415065091455  -5,56129609519792e-17  \n",
       "4  0,0422581887990589  -5,76665485366261e-17  "
      ]
     },
     "execution_count": 7,
     "metadata": {},
     "output_type": "execute_result"
    }
   ],
   "source": [
    "df.head()"
   ]
  },
  {
   "cell_type": "code",
   "execution_count": 24,
   "id": "9a0769a5-46a8-4816-9f97-c9cf440e86cf",
   "metadata": {},
   "outputs": [
    {
     "data": {
      "text/plain": [
       "14"
      ]
     },
     "execution_count": 24,
     "metadata": {},
     "output_type": "execute_result"
    }
   ],
   "source": [
    "len(df.columns)"
   ]
  },
  {
   "cell_type": "code",
   "execution_count": 25,
   "id": "3541e04a-32f6-4aab-a2dc-ba5f5d77f4d3",
   "metadata": {},
   "outputs": [
    {
     "ename": "TypeError",
     "evalue": "'module' object is not callable",
     "output_type": "error",
     "traceback": [
      "\u001b[1;31m-------------------------------------------------------------------\u001b[0m",
      "\u001b[1;31mTypeError\u001b[0m                         Traceback (most recent call last)",
      "Cell \u001b[1;32mIn[25], line 1\u001b[0m\n\u001b[1;32m----> 1\u001b[0m plt\u001b[38;5;241m.\u001b[39mfigure(figsize\u001b[38;5;241m=\u001b[39m(\u001b[38;5;241m14\u001b[39m,\u001b[38;5;241m14\u001b[39m))\n\u001b[0;32m      2\u001b[0m sns\u001b[38;5;241m.\u001b[39mheatmap(data \u001b[38;5;241m=\u001b[39m df\u001b[38;5;241m.\u001b[39mcorr(), annot\u001b[38;5;241m=\u001b[39m\u001b[38;5;28;01mTrue\u001b[39;00m, \n\u001b[0;32m      3\u001b[0m fmt \u001b[38;5;241m=\u001b[39m \u001b[38;5;124m'\u001b[39m\u001b[38;5;124m.2f\u001b[39m\u001b[38;5;124m'\u001b[39m, linewidths\u001b[38;5;241m=\u001b[39m\u001b[38;5;241m.5\u001b[39m, cmap\u001b[38;5;241m=\u001b[39m\u001b[38;5;124m'\u001b[39m\u001b[38;5;124mBlues\u001b[39m\u001b[38;5;124m'\u001b[39m)\n",
      "\u001b[1;31mTypeError\u001b[0m: 'module' object is not callable"
     ]
    }
   ],
   "source": [
    "\n",
    "plt.figure(figsize=(14,14))\n",
    "sns.heatmap(data = df.corr(), annot=True, \n",
    "fmt = '.2f', linewidths=.5, cmap='Blues')"
   ]
  },
  {
   "cell_type": "code",
   "execution_count": null,
   "id": "52e6de1f-7bcc-4f56-b571-a63264dc04bc",
   "metadata": {},
   "outputs": [],
   "source": []
  }
 ],
 "metadata": {
  "kernelspec": {
   "display_name": "Python 3 (ipykernel)",
   "language": "python",
   "name": "python3"
  },
  "language_info": {
   "codemirror_mode": {
    "name": "ipython",
    "version": 3
   },
   "file_extension": ".py",
   "mimetype": "text/x-python",
   "name": "python",
   "nbconvert_exporter": "python",
   "pygments_lexer": "ipython3",
   "version": "3.11.9"
  }
 },
 "nbformat": 4,
 "nbformat_minor": 5
}
