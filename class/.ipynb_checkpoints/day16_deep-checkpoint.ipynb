{
 "cells": [
  {
   "cell_type": "code",
   "execution_count": 100,
   "id": "642e77c2-60f1-4108-9ef4-68b740bf1166",
   "metadata": {},
   "outputs": [],
   "source": [
    "import pandas as pd\n",
    "import torch\n",
    "import torch.nn as nn\n",
    "import torch.optim as optim\n",
    "from torch.utils.data import TensorDataset, random_split, DataLoader"
   ]
  },
  {
   "cell_type": "code",
   "execution_count": 101,
   "id": "f085e0d4-f65f-45ff-83d4-f1c12e36e34e",
   "metadata": {},
   "outputs": [],
   "source": [
    "device = 'cpu'\n",
    "if torch.cuda.is_available():\n",
    "    device = 'cuda'\n",
    "\n",
    "torch.manual_seed(777)\n",
    "if device == 'cuda':\n",
    "    torch.cuda.manual_seed_all(777)"
   ]
  },
  {
   "cell_type": "code",
   "execution_count": 102,
   "id": "702d63a6-f047-47bf-8165-ca863938b853",
   "metadata": {},
   "outputs": [],
   "source": [
    "df = pd.read_csv('../data/iris.csv')"
   ]
  },
  {
   "cell_type": "code",
   "execution_count": 103,
   "id": "a5d39a38-6a75-4f3e-900d-20cd100c1606",
   "metadata": {},
   "outputs": [
    {
     "data": {
      "text/html": [
       "<div>\n",
       "<style scoped>\n",
       "    .dataframe tbody tr th:only-of-type {\n",
       "        vertical-align: middle;\n",
       "    }\n",
       "\n",
       "    .dataframe tbody tr th {\n",
       "        vertical-align: top;\n",
       "    }\n",
       "\n",
       "    .dataframe thead th {\n",
       "        text-align: right;\n",
       "    }\n",
       "</style>\n",
       "<table border=\"1\" class=\"dataframe\">\n",
       "  <thead>\n",
       "    <tr style=\"text-align: right;\">\n",
       "      <th></th>\n",
       "      <th>sepal_length</th>\n",
       "      <th>sepal_width</th>\n",
       "      <th>petal_length</th>\n",
       "      <th>petal_width</th>\n",
       "      <th>class</th>\n",
       "    </tr>\n",
       "  </thead>\n",
       "  <tbody>\n",
       "    <tr>\n",
       "      <th>0</th>\n",
       "      <td>5.1</td>\n",
       "      <td>3.5</td>\n",
       "      <td>1.4</td>\n",
       "      <td>0.2</td>\n",
       "      <td>0</td>\n",
       "    </tr>\n",
       "    <tr>\n",
       "      <th>1</th>\n",
       "      <td>4.9</td>\n",
       "      <td>3.0</td>\n",
       "      <td>1.4</td>\n",
       "      <td>0.2</td>\n",
       "      <td>0</td>\n",
       "    </tr>\n",
       "    <tr>\n",
       "      <th>2</th>\n",
       "      <td>4.7</td>\n",
       "      <td>3.2</td>\n",
       "      <td>1.3</td>\n",
       "      <td>0.2</td>\n",
       "      <td>0</td>\n",
       "    </tr>\n",
       "    <tr>\n",
       "      <th>3</th>\n",
       "      <td>4.6</td>\n",
       "      <td>3.1</td>\n",
       "      <td>1.5</td>\n",
       "      <td>0.2</td>\n",
       "      <td>0</td>\n",
       "    </tr>\n",
       "    <tr>\n",
       "      <th>4</th>\n",
       "      <td>5.0</td>\n",
       "      <td>3.6</td>\n",
       "      <td>1.4</td>\n",
       "      <td>0.2</td>\n",
       "      <td>0</td>\n",
       "    </tr>\n",
       "    <tr>\n",
       "      <th>...</th>\n",
       "      <td>...</td>\n",
       "      <td>...</td>\n",
       "      <td>...</td>\n",
       "      <td>...</td>\n",
       "      <td>...</td>\n",
       "    </tr>\n",
       "    <tr>\n",
       "      <th>145</th>\n",
       "      <td>6.7</td>\n",
       "      <td>3.0</td>\n",
       "      <td>5.2</td>\n",
       "      <td>2.3</td>\n",
       "      <td>2</td>\n",
       "    </tr>\n",
       "    <tr>\n",
       "      <th>146</th>\n",
       "      <td>6.3</td>\n",
       "      <td>2.5</td>\n",
       "      <td>5.0</td>\n",
       "      <td>1.9</td>\n",
       "      <td>2</td>\n",
       "    </tr>\n",
       "    <tr>\n",
       "      <th>147</th>\n",
       "      <td>6.5</td>\n",
       "      <td>3.0</td>\n",
       "      <td>5.2</td>\n",
       "      <td>2.0</td>\n",
       "      <td>2</td>\n",
       "    </tr>\n",
       "    <tr>\n",
       "      <th>148</th>\n",
       "      <td>6.2</td>\n",
       "      <td>3.4</td>\n",
       "      <td>5.4</td>\n",
       "      <td>2.3</td>\n",
       "      <td>2</td>\n",
       "    </tr>\n",
       "    <tr>\n",
       "      <th>149</th>\n",
       "      <td>5.9</td>\n",
       "      <td>3.0</td>\n",
       "      <td>5.1</td>\n",
       "      <td>1.8</td>\n",
       "      <td>2</td>\n",
       "    </tr>\n",
       "  </tbody>\n",
       "</table>\n",
       "<p>150 rows × 5 columns</p>\n",
       "</div>"
      ],
      "text/plain": [
       "     sepal_length  sepal_width  petal_length  petal_width  class\n",
       "0             5.1          3.5           1.4          0.2      0\n",
       "1             4.9          3.0           1.4          0.2      0\n",
       "2             4.7          3.2           1.3          0.2      0\n",
       "3             4.6          3.1           1.5          0.2      0\n",
       "4             5.0          3.6           1.4          0.2      0\n",
       "..            ...          ...           ...          ...    ...\n",
       "145           6.7          3.0           5.2          2.3      2\n",
       "146           6.3          2.5           5.0          1.9      2\n",
       "147           6.5          3.0           5.2          2.0      2\n",
       "148           6.2          3.4           5.4          2.3      2\n",
       "149           5.9          3.0           5.1          1.8      2\n",
       "\n",
       "[150 rows x 5 columns]"
      ]
     },
     "execution_count": 103,
     "metadata": {},
     "output_type": "execute_result"
    }
   ],
   "source": [
    "df"
   ]
  },
  {
   "cell_type": "code",
   "execution_count": 104,
   "id": "b445df0d-d78d-4d04-829f-48c06b76d00b",
   "metadata": {},
   "outputs": [],
   "source": [
    "X = df.iloc[:, :-1].values\n",
    "y = df.iloc[:,-1].values"
   ]
  },
  {
   "cell_type": "code",
   "execution_count": 105,
   "id": "9552c8df-b71e-4670-8dfe-a9fba31856d7",
   "metadata": {},
   "outputs": [
    {
     "data": {
      "text/plain": [
       "pandas.core.frame.DataFrame"
      ]
     },
     "execution_count": 105,
     "metadata": {},
     "output_type": "execute_result"
    }
   ],
   "source": [
    "type(df.iloc[:, :-1])"
   ]
  },
  {
   "cell_type": "code",
   "execution_count": 106,
   "id": "ed12fc46-6329-4246-8329-e621420d5e11",
   "metadata": {},
   "outputs": [
    {
     "data": {
      "text/plain": [
       "numpy.ndarray"
      ]
     },
     "execution_count": 106,
     "metadata": {},
     "output_type": "execute_result"
    }
   ],
   "source": [
    "type(X)"
   ]
  },
  {
   "cell_type": "code",
   "execution_count": 107,
   "id": "411870a9-a6f8-4c68-a3d1-a7622b4eae1a",
   "metadata": {},
   "outputs": [
    {
     "data": {
      "text/html": [
       "<div>\n",
       "<style scoped>\n",
       "    .dataframe tbody tr th:only-of-type {\n",
       "        vertical-align: middle;\n",
       "    }\n",
       "\n",
       "    .dataframe tbody tr th {\n",
       "        vertical-align: top;\n",
       "    }\n",
       "\n",
       "    .dataframe thead th {\n",
       "        text-align: right;\n",
       "    }\n",
       "</style>\n",
       "<table border=\"1\" class=\"dataframe\">\n",
       "  <thead>\n",
       "    <tr style=\"text-align: right;\">\n",
       "      <th></th>\n",
       "      <th>sepal_length</th>\n",
       "      <th>sepal_width</th>\n",
       "      <th>petal_length</th>\n",
       "      <th>petal_width</th>\n",
       "    </tr>\n",
       "  </thead>\n",
       "  <tbody>\n",
       "    <tr>\n",
       "      <th>0</th>\n",
       "      <td>5.1</td>\n",
       "      <td>3.5</td>\n",
       "      <td>1.4</td>\n",
       "      <td>0.2</td>\n",
       "    </tr>\n",
       "    <tr>\n",
       "      <th>1</th>\n",
       "      <td>4.9</td>\n",
       "      <td>3.0</td>\n",
       "      <td>1.4</td>\n",
       "      <td>0.2</td>\n",
       "    </tr>\n",
       "    <tr>\n",
       "      <th>2</th>\n",
       "      <td>4.7</td>\n",
       "      <td>3.2</td>\n",
       "      <td>1.3</td>\n",
       "      <td>0.2</td>\n",
       "    </tr>\n",
       "    <tr>\n",
       "      <th>3</th>\n",
       "      <td>4.6</td>\n",
       "      <td>3.1</td>\n",
       "      <td>1.5</td>\n",
       "      <td>0.2</td>\n",
       "    </tr>\n",
       "    <tr>\n",
       "      <th>4</th>\n",
       "      <td>5.0</td>\n",
       "      <td>3.6</td>\n",
       "      <td>1.4</td>\n",
       "      <td>0.2</td>\n",
       "    </tr>\n",
       "    <tr>\n",
       "      <th>...</th>\n",
       "      <td>...</td>\n",
       "      <td>...</td>\n",
       "      <td>...</td>\n",
       "      <td>...</td>\n",
       "    </tr>\n",
       "    <tr>\n",
       "      <th>145</th>\n",
       "      <td>6.7</td>\n",
       "      <td>3.0</td>\n",
       "      <td>5.2</td>\n",
       "      <td>2.3</td>\n",
       "    </tr>\n",
       "    <tr>\n",
       "      <th>146</th>\n",
       "      <td>6.3</td>\n",
       "      <td>2.5</td>\n",
       "      <td>5.0</td>\n",
       "      <td>1.9</td>\n",
       "    </tr>\n",
       "    <tr>\n",
       "      <th>147</th>\n",
       "      <td>6.5</td>\n",
       "      <td>3.0</td>\n",
       "      <td>5.2</td>\n",
       "      <td>2.0</td>\n",
       "    </tr>\n",
       "    <tr>\n",
       "      <th>148</th>\n",
       "      <td>6.2</td>\n",
       "      <td>3.4</td>\n",
       "      <td>5.4</td>\n",
       "      <td>2.3</td>\n",
       "    </tr>\n",
       "    <tr>\n",
       "      <th>149</th>\n",
       "      <td>5.9</td>\n",
       "      <td>3.0</td>\n",
       "      <td>5.1</td>\n",
       "      <td>1.8</td>\n",
       "    </tr>\n",
       "  </tbody>\n",
       "</table>\n",
       "<p>150 rows × 4 columns</p>\n",
       "</div>"
      ],
      "text/plain": [
       "     sepal_length  sepal_width  petal_length  petal_width\n",
       "0             5.1          3.5           1.4          0.2\n",
       "1             4.9          3.0           1.4          0.2\n",
       "2             4.7          3.2           1.3          0.2\n",
       "3             4.6          3.1           1.5          0.2\n",
       "4             5.0          3.6           1.4          0.2\n",
       "..            ...          ...           ...          ...\n",
       "145           6.7          3.0           5.2          2.3\n",
       "146           6.3          2.5           5.0          1.9\n",
       "147           6.5          3.0           5.2          2.0\n",
       "148           6.2          3.4           5.4          2.3\n",
       "149           5.9          3.0           5.1          1.8\n",
       "\n",
       "[150 rows x 4 columns]"
      ]
     },
     "execution_count": 107,
     "metadata": {},
     "output_type": "execute_result"
    }
   ],
   "source": [
    "df.iloc[:, :-1]"
   ]
  },
  {
   "cell_type": "code",
   "execution_count": 108,
   "id": "a6e82b33-c4a3-4ffb-9569-6e3e054c916e",
   "metadata": {},
   "outputs": [
    {
     "data": {
      "text/plain": [
       "array([[5.1, 3.5, 1.4, 0.2],\n",
       "       [4.9, 3. , 1.4, 0.2],\n",
       "       [4.7, 3.2, 1.3, 0.2],\n",
       "       [4.6, 3.1, 1.5, 0.2],\n",
       "       [5. , 3.6, 1.4, 0.2],\n",
       "       [5.4, 3.9, 1.7, 0.4],\n",
       "       [4.6, 3.4, 1.4, 0.3],\n",
       "       [5. , 3.4, 1.5, 0.2],\n",
       "       [4.4, 2.9, 1.4, 0.2],\n",
       "       [4.9, 3.1, 1.5, 0.1],\n",
       "       [5.4, 3.7, 1.5, 0.2],\n",
       "       [4.8, 3.4, 1.6, 0.2],\n",
       "       [4.8, 3. , 1.4, 0.1],\n",
       "       [4.3, 3. , 1.1, 0.1],\n",
       "       [5.8, 4. , 1.2, 0.2],\n",
       "       [5.7, 4.4, 1.5, 0.4],\n",
       "       [5.4, 3.9, 1.3, 0.4],\n",
       "       [5.1, 3.5, 1.4, 0.3],\n",
       "       [5.7, 3.8, 1.7, 0.3],\n",
       "       [5.1, 3.8, 1.5, 0.3]])"
      ]
     },
     "execution_count": 108,
     "metadata": {},
     "output_type": "execute_result"
    }
   ],
   "source": [
    "df.iloc[:, :-1].values[:20]"
   ]
  },
  {
   "cell_type": "code",
   "execution_count": 109,
   "id": "2b335bfc-abf8-4f2f-917a-e6a2ab9419c9",
   "metadata": {},
   "outputs": [],
   "source": [
    "X = torch.tensor(X, dtype=torch.float32).to(device)\n",
    "y = torch.tensor(y, dtype=torch.long).to(device)"
   ]
  },
  {
   "cell_type": "code",
   "execution_count": 110,
   "id": "cb84ef75-defd-423a-b876-3cb13bfea88f",
   "metadata": {},
   "outputs": [
    {
     "data": {
      "text/plain": [
       "tensor([[5.1000, 3.5000, 1.4000, 0.2000],\n",
       "        [4.9000, 3.0000, 1.4000, 0.2000],\n",
       "        [4.7000, 3.2000, 1.3000, 0.2000],\n",
       "        [4.6000, 3.1000, 1.5000, 0.2000],\n",
       "        [5.0000, 3.6000, 1.4000, 0.2000],\n",
       "        [5.4000, 3.9000, 1.7000, 0.4000],\n",
       "        [4.6000, 3.4000, 1.4000, 0.3000],\n",
       "        [5.0000, 3.4000, 1.5000, 0.2000],\n",
       "        [4.4000, 2.9000, 1.4000, 0.2000],\n",
       "        [4.9000, 3.1000, 1.5000, 0.1000]])"
      ]
     },
     "execution_count": 110,
     "metadata": {},
     "output_type": "execute_result"
    }
   ],
   "source": [
    "X[:10]"
   ]
  },
  {
   "cell_type": "code",
   "execution_count": 111,
   "id": "67210936-6444-4a87-92fd-5e73d06f8cc6",
   "metadata": {},
   "outputs": [
    {
     "data": {
      "text/plain": [
       "tensor([0, 0, 0, 0, 0, 0, 0, 0, 0, 0])"
      ]
     },
     "execution_count": 111,
     "metadata": {},
     "output_type": "execute_result"
    }
   ],
   "source": [
    "y[:10]"
   ]
  },
  {
   "cell_type": "code",
   "execution_count": 112,
   "id": "160970b9-9e9a-43db-8bb7-5a9305d3b399",
   "metadata": {},
   "outputs": [],
   "source": [
    "dataset = TensorDataset(X, y)"
   ]
  },
  {
   "cell_type": "code",
   "execution_count": 113,
   "id": "d9f1e714-7e97-4a76-8073-00240a414cf0",
   "metadata": {},
   "outputs": [],
   "source": [
    "n = len(dataset)\n",
    "ratio_tn = 0.8\n",
    "n_tn = int(n*ratio_tn)\n",
    "n_te = n - n_tn"
   ]
  },
  {
   "cell_type": "code",
   "execution_count": 114,
   "id": "b751a2c1-4f24-486e-ae37-62b3ac5db0ad",
   "metadata": {},
   "outputs": [
    {
     "name": "stdout",
     "output_type": "stream",
     "text": [
      "전체 데이터 개수 :  150\n",
      "트레이닝 데이터 비율 :  0.8\n",
      "트레이닝 데이터 개수 :  120\n",
      "테스트 데이터 개수 :  30\n"
     ]
    }
   ],
   "source": [
    "print('전체 데이터 개수 : ', n)\n",
    "print('트레이닝 데이터 비율 : ', ratio_tn)\n",
    "print('트레이닝 데이터 개수 : ', n_tn)\n",
    "print('테스트 데이터 개수 : ', n_te)"
   ]
  },
  {
   "cell_type": "code",
   "execution_count": 115,
   "id": "5d02f59f-fd16-4b05-a645-bb5cdd547725",
   "metadata": {},
   "outputs": [
    {
     "name": "stdout",
     "output_type": "stream",
     "text": [
      "(tensor([5.1000, 3.5000, 1.4000, 0.2000]), tensor(0))\n",
      "(tensor([4.9000, 3.0000, 1.4000, 0.2000]), tensor(0))\n",
      "(tensor([4.7000, 3.2000, 1.3000, 0.2000]), tensor(0))\n",
      "(tensor([4.6000, 3.1000, 1.5000, 0.2000]), tensor(0))\n",
      "(tensor([5.0000, 3.6000, 1.4000, 0.2000]), tensor(0))\n",
      "(tensor([5.4000, 3.9000, 1.7000, 0.4000]), tensor(0))\n",
      "(tensor([4.6000, 3.4000, 1.4000, 0.3000]), tensor(0))\n",
      "(tensor([5.0000, 3.4000, 1.5000, 0.2000]), tensor(0))\n",
      "(tensor([4.4000, 2.9000, 1.4000, 0.2000]), tensor(0))\n",
      "(tensor([4.9000, 3.1000, 1.5000, 0.1000]), tensor(0))\n"
     ]
    }
   ],
   "source": [
    "for i in range(0,10):\n",
    "    print(dataset[i])"
   ]
  },
  {
   "cell_type": "code",
   "execution_count": 116,
   "id": "62b19679-054b-4438-a8bb-bf696319a418",
   "metadata": {},
   "outputs": [],
   "source": [
    "train_data, test_data = random_split(dataset, [n_tn, n_te])"
   ]
  },
  {
   "cell_type": "code",
   "execution_count": 117,
   "id": "2c39a5b3-9b85-48f0-bf0c-fd3e9454163a",
   "metadata": {},
   "outputs": [
    {
     "name": "stdout",
     "output_type": "stream",
     "text": [
      "Input :  tensor([5.0000, 3.2000, 1.2000, 0.2000])\n",
      "Label :  tensor(0)\n",
      "\n",
      "Input :  tensor([7.3000, 2.9000, 6.3000, 1.8000])\n",
      "Label :  tensor(2)\n",
      "\n",
      "Input :  tensor([7.2000, 3.0000, 5.8000, 1.6000])\n",
      "Label :  tensor(2)\n",
      "\n"
     ]
    }
   ],
   "source": [
    "for i in range(0, 3):\n",
    "    feature, target = train_data[i]\n",
    "    print('Input : ', feature)\n",
    "    print('Label : ', target)\n",
    "    print()"
   ]
  },
  {
   "cell_type": "code",
   "execution_count": 118,
   "id": "09fbd69e-957e-4d2e-bda8-37bbe327f12b",
   "metadata": {},
   "outputs": [],
   "source": [
    "n_batch = 16\n",
    "train_loader = DataLoader(train_data, batch_size=n_batch, shuffle=True)"
   ]
  },
  {
   "cell_type": "code",
   "execution_count": 119,
   "id": "566a8e69-d801-496f-a322-fcd620e55136",
   "metadata": {},
   "outputs": [
    {
     "name": "stdout",
     "output_type": "stream",
     "text": [
      "Features :  tensor([[5.1000, 3.4000, 1.5000, 0.2000],\n",
      "        [6.4000, 2.9000, 4.3000, 1.3000],\n",
      "        [7.2000, 3.0000, 5.8000, 1.6000],\n",
      "        [6.3000, 3.3000, 6.0000, 2.5000],\n",
      "        [6.3000, 2.7000, 4.9000, 1.8000],\n",
      "        [6.7000, 3.1000, 4.4000, 1.4000],\n",
      "        [5.5000, 2.5000, 4.0000, 1.3000],\n",
      "        [5.7000, 3.0000, 4.2000, 1.2000],\n",
      "        [5.1000, 3.8000, 1.6000, 0.2000],\n",
      "        [6.4000, 2.7000, 5.3000, 1.9000],\n",
      "        [6.5000, 3.0000, 5.5000, 1.8000],\n",
      "        [5.0000, 3.4000, 1.6000, 0.4000],\n",
      "        [4.6000, 3.4000, 1.4000, 0.3000],\n",
      "        [6.9000, 3.1000, 5.4000, 2.1000],\n",
      "        [6.7000, 3.1000, 5.6000, 2.4000],\n",
      "        [5.5000, 2.6000, 4.4000, 1.2000]])\n",
      "Labels :  tensor([0, 1, 2, 2, 2, 1, 1, 1, 0, 2, 2, 0, 0, 2, 2, 1])\n",
      "\n",
      "Features :  tensor([[5.8000, 2.7000, 3.9000, 1.2000],\n",
      "        [4.9000, 3.1000, 1.5000, 0.2000],\n",
      "        [4.7000, 3.2000, 1.6000, 0.2000],\n",
      "        [6.1000, 2.9000, 4.7000, 1.4000],\n",
      "        [6.8000, 3.0000, 5.5000, 2.1000],\n",
      "        [7.3000, 2.9000, 6.3000, 1.8000],\n",
      "        [5.1000, 2.5000, 3.0000, 1.1000],\n",
      "        [5.0000, 3.0000, 1.6000, 0.2000],\n",
      "        [5.9000, 3.2000, 4.8000, 1.8000],\n",
      "        [4.9000, 3.0000, 1.4000, 0.2000],\n",
      "        [5.0000, 3.5000, 1.3000, 0.3000],\n",
      "        [6.2000, 2.8000, 4.8000, 1.8000],\n",
      "        [4.5000, 2.3000, 1.3000, 0.3000],\n",
      "        [6.4000, 3.2000, 5.3000, 2.3000],\n",
      "        [5.6000, 2.7000, 4.2000, 1.3000],\n",
      "        [6.8000, 3.2000, 5.9000, 2.3000]])\n",
      "Labels :  tensor([1, 0, 0, 1, 2, 2, 1, 0, 1, 0, 0, 2, 0, 2, 1, 2])\n",
      "\n",
      "Features :  tensor([[4.9000, 3.1000, 1.5000, 0.1000],\n",
      "        [6.5000, 3.0000, 5.2000, 2.0000],\n",
      "        [4.9000, 2.5000, 4.5000, 1.7000],\n",
      "        [7.0000, 3.2000, 4.7000, 1.4000],\n",
      "        [7.7000, 2.8000, 6.7000, 2.0000],\n",
      "        [5.6000, 2.8000, 4.9000, 2.0000],\n",
      "        [6.0000, 3.4000, 4.5000, 1.6000],\n",
      "        [5.8000, 2.7000, 4.1000, 1.0000],\n",
      "        [4.6000, 3.1000, 1.5000, 0.2000],\n",
      "        [5.1000, 3.3000, 1.7000, 0.5000],\n",
      "        [5.2000, 4.1000, 1.5000, 0.1000],\n",
      "        [7.7000, 3.8000, 6.7000, 2.2000],\n",
      "        [5.1000, 3.8000, 1.9000, 0.4000],\n",
      "        [7.9000, 3.8000, 6.4000, 2.0000],\n",
      "        [5.2000, 3.5000, 1.5000, 0.2000],\n",
      "        [5.5000, 2.4000, 3.7000, 1.0000]])\n",
      "Labels :  tensor([0, 2, 2, 1, 2, 2, 1, 1, 0, 0, 0, 2, 0, 2, 0, 1])\n",
      "\n",
      "Features :  tensor([[6.7000, 2.5000, 5.8000, 1.8000],\n",
      "        [4.7000, 3.2000, 1.3000, 0.2000],\n",
      "        [5.0000, 3.4000, 1.5000, 0.2000],\n",
      "        [5.3000, 3.7000, 1.5000, 0.2000],\n",
      "        [6.0000, 2.2000, 5.0000, 1.5000],\n",
      "        [7.2000, 3.6000, 6.1000, 2.5000],\n",
      "        [6.0000, 2.2000, 4.0000, 1.0000],\n",
      "        [6.1000, 2.8000, 4.7000, 1.2000],\n",
      "        [5.8000, 4.0000, 1.2000, 0.2000],\n",
      "        [5.9000, 3.0000, 5.1000, 1.8000],\n",
      "        [6.7000, 3.0000, 5.0000, 1.7000],\n",
      "        [6.9000, 3.1000, 4.9000, 1.5000],\n",
      "        [5.9000, 3.0000, 4.2000, 1.5000],\n",
      "        [6.4000, 2.8000, 5.6000, 2.1000],\n",
      "        [5.4000, 3.9000, 1.3000, 0.4000],\n",
      "        [5.0000, 2.3000, 3.3000, 1.0000]])\n",
      "Labels :  tensor([2, 0, 0, 0, 2, 2, 1, 1, 0, 2, 1, 1, 1, 2, 0, 1])\n",
      "\n",
      "Features :  tensor([[6.7000, 3.3000, 5.7000, 2.1000],\n",
      "        [7.1000, 3.0000, 5.9000, 2.1000],\n",
      "        [5.0000, 3.6000, 1.4000, 0.2000],\n",
      "        [4.8000, 3.0000, 1.4000, 0.3000],\n",
      "        [6.8000, 2.8000, 4.8000, 1.4000],\n",
      "        [6.4000, 3.1000, 5.5000, 1.8000],\n",
      "        [5.0000, 3.3000, 1.4000, 0.2000],\n",
      "        [5.5000, 2.4000, 3.8000, 1.1000],\n",
      "        [6.7000, 3.3000, 5.7000, 2.5000],\n",
      "        [6.9000, 3.2000, 5.7000, 2.3000],\n",
      "        [5.4000, 3.7000, 1.5000, 0.2000],\n",
      "        [6.0000, 3.0000, 4.8000, 1.8000],\n",
      "        [5.8000, 2.6000, 4.0000, 1.2000],\n",
      "        [6.6000, 2.9000, 4.6000, 1.3000],\n",
      "        [6.7000, 3.0000, 5.2000, 2.3000],\n",
      "        [7.4000, 2.8000, 6.1000, 1.9000]])\n",
      "Labels :  tensor([2, 2, 0, 0, 1, 2, 0, 1, 2, 2, 0, 2, 1, 1, 2, 2])\n",
      "\n",
      "Features :  tensor([[6.3000, 2.8000, 5.1000, 1.5000],\n",
      "        [5.6000, 2.5000, 3.9000, 1.1000],\n",
      "        [6.3000, 2.9000, 5.6000, 1.8000],\n",
      "        [4.9000, 3.6000, 1.4000, 0.1000],\n",
      "        [6.5000, 3.0000, 5.8000, 2.2000],\n",
      "        [5.4000, 3.9000, 1.7000, 0.4000],\n",
      "        [6.2000, 3.4000, 5.4000, 2.3000],\n",
      "        [4.6000, 3.2000, 1.4000, 0.2000],\n",
      "        [6.9000, 3.1000, 5.1000, 2.3000],\n",
      "        [5.6000, 3.0000, 4.5000, 1.5000],\n",
      "        [5.1000, 3.8000, 1.5000, 0.3000],\n",
      "        [6.5000, 3.2000, 5.1000, 2.0000],\n",
      "        [5.8000, 2.7000, 5.1000, 1.9000],\n",
      "        [7.7000, 2.6000, 6.9000, 2.3000],\n",
      "        [5.5000, 2.3000, 4.0000, 1.3000],\n",
      "        [6.5000, 2.8000, 4.6000, 1.5000]])\n",
      "Labels :  tensor([2, 1, 2, 0, 2, 0, 2, 0, 2, 1, 0, 2, 2, 2, 1, 1])\n",
      "\n",
      "Features :  tensor([[6.3000, 3.4000, 5.6000, 2.4000],\n",
      "        [4.6000, 3.6000, 1.0000, 0.2000],\n",
      "        [5.4000, 3.0000, 4.5000, 1.5000],\n",
      "        [6.3000, 2.5000, 5.0000, 1.9000],\n",
      "        [5.8000, 2.7000, 5.1000, 1.9000],\n",
      "        [4.4000, 2.9000, 1.4000, 0.2000],\n",
      "        [6.7000, 3.1000, 4.7000, 1.5000],\n",
      "        [5.0000, 3.2000, 1.2000, 0.2000],\n",
      "        [6.0000, 2.9000, 4.5000, 1.5000],\n",
      "        [4.4000, 3.0000, 1.3000, 0.2000],\n",
      "        [7.7000, 3.0000, 6.1000, 2.3000],\n",
      "        [6.3000, 2.5000, 4.9000, 1.5000],\n",
      "        [4.8000, 3.4000, 1.9000, 0.2000],\n",
      "        [6.0000, 2.7000, 5.1000, 1.6000],\n",
      "        [7.6000, 3.0000, 6.6000, 2.1000],\n",
      "        [5.4000, 3.4000, 1.7000, 0.2000]])\n",
      "Labels :  tensor([2, 0, 1, 2, 2, 0, 1, 0, 1, 0, 2, 1, 0, 1, 2, 0])\n",
      "\n",
      "Features :  tensor([[6.1000, 2.6000, 5.6000, 1.4000],\n",
      "        [6.4000, 3.2000, 4.5000, 1.5000],\n",
      "        [5.4000, 3.4000, 1.5000, 0.4000],\n",
      "        [5.0000, 2.0000, 3.5000, 1.0000],\n",
      "        [5.8000, 2.8000, 5.1000, 2.4000],\n",
      "        [5.1000, 3.5000, 1.4000, 0.3000],\n",
      "        [5.6000, 2.9000, 3.6000, 1.3000],\n",
      "        [6.1000, 3.0000, 4.6000, 1.4000]])\n",
      "Labels :  tensor([2, 1, 0, 1, 2, 0, 1, 1])\n",
      "\n"
     ]
    }
   ],
   "source": [
    "batch_count=0\n",
    "for batch in train_loader:\n",
    "    features, labels=batch\n",
    "    print('Features : ', features)\n",
    "    print('Labels : ', labels)\n",
    "    print()\n",
    "\n",
    "    batch_count += 1\n",
    "    "
   ]
  },
  {
   "cell_type": "code",
   "execution_count": 120,
   "id": "aae09e39-0359-4c4a-9fc0-a63b51fd6ab8",
   "metadata": {},
   "outputs": [
    {
     "name": "stdout",
     "output_type": "stream",
     "text": [
      "4\n"
     ]
    }
   ],
   "source": [
    "learning_rate = 0.01\n",
    "epochs = 1000\n",
    "n_feature = len(train_data[0][0])\n",
    "print(n_feature)"
   ]
  },
  {
   "cell_type": "code",
   "execution_count": 121,
   "id": "c5cd1cb3-a1e6-42d8-885d-406fb9b386f6",
   "metadata": {},
   "outputs": [
    {
     "data": {
      "text/plain": [
       "tensor([5.0000, 3.2000, 1.2000, 0.2000])"
      ]
     },
     "execution_count": 121,
     "metadata": {},
     "output_type": "execute_result"
    }
   ],
   "source": [
    "train_data[0][0]"
   ]
  },
  {
   "cell_type": "code",
   "execution_count": 122,
   "id": "3e084bb8-41a8-449f-8832-b7cd5298237e",
   "metadata": {},
   "outputs": [],
   "source": [
    "class Classifier(nn.Module):\n",
    "    def __init__(self, n_feature):\n",
    "        super(Classifier, self).__init__()\n",
    "        self.fc1 = nn.Linear(n_feature, 10)\n",
    "        self.leakyrelu = nn.LeakyReLU()\n",
    "        self.fc2 = nn.Linear(10, 3)\n",
    "\n",
    "    def forward(self, x):\n",
    "        x = self.fc1(x)\n",
    "        x = self.leakyrelu(x)\n",
    "        x = self.fc2(x)\n",
    "        return x"
   ]
  },
  {
   "cell_type": "code",
   "execution_count": 123,
   "id": "6cb31141-88d1-46b4-be34-85a360a01499",
   "metadata": {},
   "outputs": [],
   "source": [
    "model = Classifier(n_feature).to(device)"
   ]
  },
  {
   "cell_type": "code",
   "execution_count": 124,
   "id": "20206d8b-127d-47ed-b382-22b39199fd50",
   "metadata": {},
   "outputs": [],
   "source": [
    "criterion = nn.CrossEntropyLoss().to(device)\n",
    "optimizer = optim.SGD(model.parameters(), lr=learning_rate)"
   ]
  },
  {
   "cell_type": "code",
   "execution_count": 79,
   "id": "76a4be15-5444-4680-aec1-aefa478ace83",
   "metadata": {},
   "outputs": [
    {
     "name": "stdout",
     "output_type": "stream",
     "text": [
      "Epoch [100/1000], Cost: 0.2278\n",
      "Epoch [200/1000], Cost: 0.1387\n",
      "Epoch [300/1000], Cost: 0.1087\n",
      "Epoch [400/1000], Cost: 0.0918\n",
      "Epoch [500/1000], Cost: 0.0907\n",
      "Epoch [600/1000], Cost: 0.0811\n",
      "Epoch [700/1000], Cost: 0.0831\n",
      "Epoch [800/1000], Cost: 0.0833\n",
      "Epoch [900/1000], Cost: 0.0777\n",
      "Epoch [1000/1000], Cost: 0.0840\n"
     ]
    }
   ],
   "source": [
    "total_batch = len(train_loader)\n",
    "cost_result = []\n",
    "model.train()\n",
    "for epoch in range(epochs):\n",
    "    avg_cost = 0\n",
    "    for X_tn, y_tn, in train_loader:\n",
    "\n",
    "        X_tn = X_tn.to(device)\n",
    "        y_tn = y_tn.to(device)\n",
    "\n",
    "        optimizer.zero_grad()\n",
    "        y_hat = model.forward(X_tn)\n",
    "        cost = criterion(y_hat, y_tn)\n",
    "        cost.backward()\n",
    "        optimizer.step()\n",
    "\n",
    "        avg_cost += cost/total_batch\n",
    "        \n",
    "    if (epoch+1) % 100 == 0:\n",
    "        cost_result.append(avg_cost.item())\n",
    "        print('Epoch [%d/%d], Cost: %.4f' % (epoch+1, epochs, avg_cost))"
   ]
  },
  {
   "cell_type": "code",
   "execution_count": 80,
   "id": "c95ed0d8-3e69-493c-b9e1-bbb4cc53a70e",
   "metadata": {},
   "outputs": [],
   "source": [
    "X_te = []\n",
    "y_te = []\n",
    "for row in test_data:\n",
    "    feature, target = row\n",
    "    X_te.append(feature)\n",
    "    y_te.append(target)"
   ]
  },
  {
   "cell_type": "code",
   "execution_count": 81,
   "id": "58b5095b-cfba-4631-bae8-d86bdfd36ff0",
   "metadata": {},
   "outputs": [],
   "source": [
    "X_te = torch.stack(X_te)\n",
    "y_te = torch.stack(y_te)"
   ]
  },
  {
   "cell_type": "code",
   "execution_count": 82,
   "id": "549f1f62-ba22-430c-9da0-98a4b0804724",
   "metadata": {},
   "outputs": [
    {
     "data": {
      "text/plain": [
       "tensor([[5.7000, 2.5000, 5.0000, 2.0000],\n",
       "        [4.8000, 3.0000, 1.4000, 0.1000],\n",
       "        [4.9000, 2.4000, 3.3000, 1.0000],\n",
       "        [5.1000, 3.5000, 1.4000, 0.2000],\n",
       "        [5.2000, 3.4000, 1.4000, 0.2000]])"
      ]
     },
     "execution_count": 82,
     "metadata": {},
     "output_type": "execute_result"
    }
   ],
   "source": [
    "X_te[:5]"
   ]
  },
  {
   "cell_type": "code",
   "execution_count": null,
   "id": "1d8888ad-15a2-4994-91f6-d8be93efe4c7",
   "metadata": {},
   "outputs": [],
   "source": []
  },
  {
   "cell_type": "code",
   "execution_count": 84,
   "id": "4b9afb6f-a64b-4322-86eb-4c60e436c928",
   "metadata": {},
   "outputs": [
    {
     "data": {
      "image/png": "[encoded data removed]",
      "text/plain": [
       "<Figure size 640x480 with 1 Axes>"
      ]
     },
     "metadata": {},
     "output_type": "display_data"
    }
   ],
   "source": [
    "ep = [i*100 for i in range(1,11)]\n",
    "plt.plot(ep, cost_result, marker='o', linestyle='-', color='b', label='Cost')\n",
    "plt.title('Training Cost over Epochs')\n",
    "plt.xlabel('Epoch')\n",
    "plt.ylabel('Cost')\n",
    "plt.legend()\n",
    "plt.show()"
   ]
  },
  {
   "cell_type": "code",
   "execution_count": 85,
   "id": "037e254a-4342-4aea-83bc-dd6a9a864bce",
   "metadata": {},
   "outputs": [
    {
     "name": "stdout",
     "output_type": "stream",
     "text": [
      "Accuracy: 1.0\n"
     ]
    }
   ],
   "source": [
    "with torch.no_grad():\n",
    "    model.eval()\n",
    "    prediction = model.forward(X_te)\n",
    "    correct_prediction = torch.argmax(prediction, 1) == y_te\n",
    "    accuracy = correct_prediction.float().mean()\n",
    "    print('Accuracy:', accuracy.item())\n"
   ]
  },
  {
   "cell_type": "code",
   "execution_count": 86,
   "id": "4a740404-2ad2-4b44-a49b-16258a04c38e",
   "metadata": {},
   "outputs": [
    {
     "data": {
      "text/plain": [
       "tensor([2, 0, 1, 0, 0, 1, 1, 1, 1, 0, 0, 1, 1, 1, 1, 1, 0, 1, 0, 1, 1, 2, 0, 2,\n",
       "        0, 0, 0, 2, 0, 0])"
      ]
     },
     "execution_count": 86,
     "metadata": {},
     "output_type": "execute_result"
    }
   ],
   "source": [
    "y_te"
   ]
  },
  {
   "cell_type": "code",
   "execution_count": 87,
   "id": "3883773b-9de2-44ca-893c-0fbb51e1fc04",
   "metadata": {},
   "outputs": [
    {
     "data": {
      "text/plain": [
       "tensor([2, 0, 1, 0, 0, 1, 1, 1, 1, 0, 0, 1, 1, 1, 1, 1, 0, 1, 0, 1, 1, 2, 0, 2,\n",
       "        0, 0, 0, 2, 0, 0])"
      ]
     },
     "execution_count": 87,
     "metadata": {},
     "output_type": "execute_result"
    }
   ],
   "source": [
    "torch.argmax(prediction, 1)"
   ]
  },
  {
   "cell_type": "code",
   "execution_count": 88,
   "id": "deb8acfc-9bcb-42ee-9edc-48a0c8a6876d",
   "metadata": {},
   "outputs": [],
   "source": [
    "PATH = '../iris_model01.pt'\n",
    "torch.save(model.state_dict(), PATH)"
   ]
  },
  {
   "cell_type": "code",
   "execution_count": 90,
   "id": "d0c771e1-a7c6-47be-9672-1c40122f8c36",
   "metadata": {},
   "outputs": [
    {
     "data": {
      "text/plain": [
       "<All keys matched successfully>"
      ]
     },
     "execution_count": 90,
     "metadata": {},
     "output_type": "execute_result"
    }
   ],
   "source": [
    "loaded_model = Classifier(n_feature).to(device)\n",
    "loaded_model.load_state_dict(torch.load(PATH))"
   ]
  },
  {
   "cell_type": "code",
   "execution_count": 92,
   "id": "f6a58889-49e1-48a3-9025-39bb027ac785",
   "metadata": {},
   "outputs": [
    {
     "name": "stdout",
     "output_type": "stream",
     "text": [
      "Accuracy :  1.0\n"
     ]
    }
   ],
   "source": [
    "with torch.no_grad():\n",
    "    loaded_model.eval()\n",
    "    prediction = loaded_model(X_te)\n",
    "    correct_prediction = torch.argmax(prediction, 1) == y_te\n",
    "    accuracy = correct_prediction.float().mean()\n",
    "    print('Accuracy : ', accuracy.item())"
   ]
  },
  {
   "cell_type": "code",
   "execution_count": 129,
   "id": "a74800fc-df3f-4392-9b7e-fa6791a56107",
   "metadata": {},
   "outputs": [],
   "source": [
    "class Classifier2(nn.Module):\n",
    "    def __init__(self, n_feature):\n",
    "        super(Classifier, self).__init__()\n",
    "        self.fc1 = nn.Linear(n_feature, 10)\n",
    "        self.bn1 = nn.BatchNorm1d(num_features=10)\n",
    "        self.leakyrelu = nn.LeakyReLU()\n",
    "        self.fc2 = nn.Linear(10, 15)\n",
    "        self.bn2 = nn.BatchNorm1d(num_features=15)\n",
    "        self.leakyrelu = nn.LeakyReLU()\n",
    "        self.fc3 = nn.Linear(15, 20)\n",
    "        self.bn3 = nn.BatchNorm1d(num_features=20)\n",
    "        self.leakyrelu = nn.LeakyReLU()\n",
    "        self.dropout = nn.Dropout(p=0.2)\n",
    "        self.fc4 = nn.Linear(20, 15)\n",
    "        self.bn4 = nn.BatchNorm1d(num_features=15)\n",
    "        self.leakyrelu = nn.LeakyReLU()\n",
    "        self.fc5 = nn.Linear(15, 10)\n",
    "        self.bn5 = nn.BatchNorm1d(num_features=10)\n",
    "        self.leakyrelu = nn.LeakyReLU()\n",
    "        self.fc6 = nn.Linear(10, 3)\n",
    "        self.bn6 = nn.BatchNorm1d(num_features=3)\n",
    "\n",
    "    def forward(self, x):\n",
    "        x = self.fc1(x)\n",
    "        x - self.bn1(x)\n",
    "        x = self.leakyrelu(x)\n",
    "        x = self.fc2(x)\n",
    "        x - self.bn2(x)\n",
    "        x = self.leakyrelu(x)\n",
    "        x = self.fc3(x)\n",
    "        x - self.bn3(x)\n",
    "        x = self.leakyrelu(x)\n",
    "        x = self.dropout(x)\n",
    "        x = self.fc4(x)\n",
    "        x - self.bn4(x)\n",
    "        x = self.leakyrelu(x)\n",
    "        x = self.fc5(x)\n",
    "        x - self.bn5(x)\n",
    "        x = self.leakyrelu(x)\n",
    "        x = self.fc6(x)\n",
    "        x - self.bn6(x)     \n",
    "        return x"
   ]
  },
  {
   "cell_type": "code",
   "execution_count": 133,
   "id": "bf9937f1-1895-4d18-aae6-3927534cfd42",
   "metadata": {},
   "outputs": [],
   "source": [
    "class Classifier3(nn.Module):\n",
    "    def __init__(self, n_feature):\n",
    "        super(Classifier, self).__init__()\n",
    "        self.fc1 = nn.Linear(n_feature, 10)\n",
    "        self.bn1 = nn.BatchNorm1d(num_features=10)\n",
    "        self.fc2 = nn.Linear(10, 15)\n",
    "        self.bn2 = nn.BatchNorm1d(num_features=15)\n",
    "        self.fc3 = nn.Linear(15, 20)\n",
    "        self.bn3 = nn.BatchNorm1d(num_features=20)\n",
    "        self.leakyrelu = nn.LeakyReLU()\n",
    "        self.dropout = nn.Dropout(p=0.2)\n",
    "        self.fc4 = nn.Linear(20, 15)\n",
    "        self.bn4 = nn.BatchNorm1d(num_features=15)\n",
    "        self.fc5 = nn.Linear(15, 10)\n",
    "        self.bn5 = nn.BatchNorm1d(num_features=10)\n",
    "        self.fc6 = nn.Linear(10, 3)\n",
    "        self.bn6 = nn.BatchNorm1d(num_features=3)\n",
    "\n",
    "    def forward(self, x):\n",
    "        x = self.fc1(x)\n",
    "        x - self.bn1(x)\n",
    "        x = self.fc2(x)\n",
    "        x - self.bn2(x)\n",
    "        x = self.fc3(x)\n",
    "        x - self.bn3(x)\n",
    "        x = self.leakyrelu(x)\n",
    "        x = self.dropout(x)\n",
    "        x = self.fc4(x)\n",
    "        x - self.bn4(x)\n",
    "        x = self.fc5(x)\n",
    "        x - self.bn5(x)\n",
    "        x = self.fc6(x)\n",
    "        x - self.bn6(x)     \n",
    "        return x"
   ]
  },
  {
   "cell_type": "code",
   "execution_count": 145,
   "id": "7b40f2f2-fceb-4d52-bde1-fcf92d874741",
   "metadata": {},
   "outputs": [],
   "source": [
    "class Classifier4(nn.Module):\n",
    "    def __init__(self, n_feature):\n",
    "        super(Classifier, self).__init__()\n",
    "        self.fc1 = nn.Linear(n_feature, 32)\n",
    "        self.bn1 = nn.BatchNorm1d(num_features=32)\n",
    "        self.fc2 = nn.Linear(32, 64)\n",
    "        self.bn2 = nn.BatchNorm1d(num_features=64)\n",
    "        self.fc3 = nn.Linear(64, 128)\n",
    "        self.bn3 = nn.BatchNorm1d(num_features=128)\n",
    "        #self.leakyrelu = nn.LeakyReLU()\n",
    "        self.dropout = nn.Dropout(p=0.2)\n",
    "        self.fc4 = nn.Linear(128, 64)\n",
    "        self.bn4 = nn.BatchNorm1d(num_features=64)\n",
    "        self.fc5 = nn.Linear(64, 32)\n",
    "        self.bn5 = nn.BatchNorm1d(num_features=32)\n",
    "        self.fc6 = nn.Linear(32, 3)\n",
    "        self.bn6 = nn.BatchNorm1d(num_features=3)\n",
    "\n",
    "    def forward(self, x):\n",
    "        x = self.fc1(x)\n",
    "        x - self.bn1(x)\n",
    "        x = self.fc2(x)\n",
    "        x - self.bn2(x)\n",
    "        x = self.fc3(x)\n",
    "        x - self.bn3(x)\n",
    "        #x = self.leakyrelu(x)\n",
    "        x = self.dropout(x)\n",
    "        x = self.fc4(x)\n",
    "        x - self.bn4(x)\n",
    "        x = self.fc5(x)\n",
    "        x - self.bn5(x)\n",
    "        x = self.fc6(x)\n",
    "        x - self.bn6(x)     \n",
    "        return x"
   ]
  },
  {
   "cell_type": "code",
   "execution_count": 146,
   "id": "ac9e12f7-8dd4-4a7e-a0b8-9affb4636ac6",
   "metadata": {},
   "outputs": [],
   "source": [
    "model = Classifier(n_feature).to(device)\n",
    "criterion = nn.CrossEntropyLoss().to(device)\n",
    "optimizer = optim.SGD(model.parameters(), lr=learning_rate)\n"
   ]
  },
  {
   "cell_type": "code",
   "execution_count": 147,
   "id": "bba244bd-b324-4d8b-b1b4-b9493f7b5d8a",
   "metadata": {},
   "outputs": [
    {
     "name": "stdout",
     "output_type": "stream",
     "text": [
      "Epoch [100/1000], Cost: 0.2083\n",
      "Epoch [200/1000], Cost: 0.1159\n",
      "Epoch [300/1000], Cost: 0.1544\n",
      "Epoch [400/1000], Cost: 0.0767\n",
      "Epoch [500/1000], Cost: 0.1022\n",
      "Epoch [600/1000], Cost: 0.0780\n",
      "Epoch [700/1000], Cost: 0.1015\n",
      "Epoch [800/1000], Cost: 0.1050\n",
      "Epoch [900/1000], Cost: 0.0730\n",
      "Epoch [1000/1000], Cost: 0.0685\n"
     ]
    }
   ],
   "source": [
    "total_batch = len(train_loader)\n",
    "cost_result = []\n",
    "model.train()\n",
    "for epoch in range(epochs):\n",
    "    avg_cost = 0\n",
    "    for X_tn, y_tn, in train_loader:\n",
    "\n",
    "        X_tn = X_tn.to(device)\n",
    "        y_tn = y_tn.to(device)\n",
    "\n",
    "        optimizer.zero_grad()\n",
    "        y_hat = model.forward(X_tn)\n",
    "        cost = criterion(y_hat, y_tn)\n",
    "        cost.backward()\n",
    "        optimizer.step()\n",
    "\n",
    "        avg_cost += cost/total_batch\n",
    "        \n",
    "    if (epoch+1) % 100 == 0:\n",
    "        cost_result.append(avg_cost.item())\n",
    "        print('Epoch [%d/%d], Cost: %.4f' % (epoch+1, epochs, avg_cost))"
   ]
  },
  {
   "cell_type": "code",
   "execution_count": 148,
   "id": "e98296be-7a93-475a-87c5-53197a623e64",
   "metadata": {},
   "outputs": [
    {
     "data": {
      "image/png": "[encoded data removed]",
      "text/plain": [
       "<Figure size 640x480 with 1 Axes>"
      ]
     },
     "metadata": {},
     "output_type": "display_data"
    }
   ],
   "source": [
    "plt.plot(ep, cost_result, marker='o', linestyle='-', color='b', label='Cost')\n",
    "plt.title('Training Cost over Epochs')\n",
    "plt.xlabel('Epoch')\n",
    "plt.ylabel('Cost')\n",
    "plt.legend()\n",
    "plt.show()"
   ]
  },
  {
   "cell_type": "code",
   "execution_count": 136,
   "id": "e6a7c46c-731c-438c-9696-659fc315b568",
   "metadata": {},
   "outputs": [
    {
     "data": {
      "image/png": "[encoded data removed]",
      "text/plain": [
       "<Figure size 640x480 with 1 Axes>"
      ]
     },
     "metadata": {},
     "output_type": "display_data"
    }
   ],
   "source": [
    "plt.plot(ep, cost_result, marker='o', linestyle='-', color='b', label='Cost')\n",
    "plt.title('Training Cost over Epochs')\n",
    "plt.xlabel('Epoch')\n",
    "plt.ylabel('Cost')\n",
    "plt.legend()\n",
    "plt.show()"
   ]
  },
  {
   "cell_type": "code",
   "execution_count": 132,
   "id": "a1bf2f7a-b11e-4ab5-aec6-606d37bc4557",
   "metadata": {},
   "outputs": [
    {
     "data": {
      "image/png": "[encoded data removed]",
      "text/plain": [
       "<Figure size 640x480 with 1 Axes>"
      ]
     },
     "metadata": {},
     "output_type": "display_data"
    }
   ],
   "source": [
    "ep = [i*100 for i in range(1,11)]\n",
    "plt.plot(ep, cost_result, marker='o', linestyle='-', color='b', label='Cost')\n",
    "plt.title('Training Cost over Epochs')\n",
    "plt.xlabel('Epoch')\n",
    "plt.ylabel('Cost')\n",
    "plt.legend()\n",
    "plt.show()"
   ]
  },
  {
   "cell_type": "code",
   "execution_count": null,
   "id": "7f158c3d-5c13-44f8-a3ca-acddb0a4aaf1",
   "metadata": {},
   "outputs": [],
   "source": []
  }
 ],
 "metadata": {
  "kernelspec": {
   "display_name": "Python 3 (ipykernel)",
   "language": "python",
   "name": "python3"
  },
  "language_info": {
   "codemirror_mode": {
    "name": "ipython",
    "version": 3
   },
   "file_extension": ".py",
   "mimetype": "text/x-python",
   "name": "python",
   "nbconvert_exporter": "python",
   "pygments_lexer": "ipython3",
   "version": "3.11.9"
  }
 },
 "nbformat": 4,
 "nbformat_minor": 5
}
