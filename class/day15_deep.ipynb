{
 "cells": [
  {
   "cell_type": "code",
   "execution_count": 28,
   "id": "3b782366-46a1-4f09-9a35-3f5e6d676ec3",
   "metadata": {},
   "outputs": [],
   "source": [
    "import numpy as np"
   ]
  },
  {
   "cell_type": "code",
   "execution_count": 29,
   "id": "9d357cfa-16c3-497b-806a-91a6e82e3479",
   "metadata": {},
   "outputs": [
    {
     "name": "stdout",
     "output_type": "stream",
     "text": [
      "[[2 3]\n",
      " [5 1]]\n"
     ]
    }
   ],
   "source": [
    "input_data = np.array([[2,3], [5,1]])\n",
    "print(input_data)"
   ]
  },
  {
   "cell_type": "code",
   "execution_count": 30,
   "id": "5d87c91b-a43c-46e7-a99a-9a185646fc8f",
   "metadata": {},
   "outputs": [
    {
     "name": "stdout",
     "output_type": "stream",
     "text": [
      "[2 3 5 1]\n"
     ]
    }
   ],
   "source": [
    "x = input_data.reshape(-1)\n",
    "print(x)"
   ]
  },
  {
   "cell_type": "code",
   "execution_count": 31,
   "id": "fb28fbd6-eaa2-43af-a7eb-9d6561431d75",
   "metadata": {},
   "outputs": [],
   "source": [
    "w1 = np.array([2, 1, -3, 3])\n",
    "w2 = np.array([1, -3, 1, 3])"
   ]
  },
  {
   "cell_type": "code",
   "execution_count": 32,
   "id": "36cf895e-ecda-4d33-a9c4-52f3a4f6ffed",
   "metadata": {},
   "outputs": [],
   "source": [
    "b1 = 3\n",
    "b2 = 3"
   ]
  },
  {
   "cell_type": "code",
   "execution_count": 33,
   "id": "a800a00a-1c5e-4886-a4ee-689f350ad456",
   "metadata": {},
   "outputs": [
    {
     "name": "stdout",
     "output_type": "stream",
     "text": [
      "[[ 2  1 -3  3]\n",
      " [ 1 -3  1  3]]\n"
     ]
    }
   ],
   "source": [
    "W = np.array([w1, w2])\n",
    "print(W)"
   ]
  },
  {
   "cell_type": "code",
   "execution_count": 34,
   "id": "f3393597-5089-4460-b5d8-60473a4b1e7c",
   "metadata": {},
   "outputs": [
    {
     "name": "stdout",
     "output_type": "stream",
     "text": [
      "[3 3]\n"
     ]
    }
   ],
   "source": [
    "b = np.array([b1, b2])\n",
    "print(b)"
   ]
  },
  {
   "cell_type": "code",
   "execution_count": 35,
   "id": "e890c431-e405-48b1-bdf6-1ad7d0d6728d",
   "metadata": {},
   "outputs": [
    {
     "name": "stdout",
     "output_type": "stream",
     "text": [
      "[-2  4]\n"
     ]
    }
   ],
   "source": [
    "weight_sum = np.dot(W, x) + b\n",
    "print(weight_sum)"
   ]
  },
  {
   "cell_type": "code",
   "execution_count": 36,
   "id": "1ecc3d52-159d-40e6-b427-946185a8cb8d",
   "metadata": {},
   "outputs": [
    {
     "name": "stdout",
     "output_type": "stream",
     "text": [
      "[0.11920292 0.98201379]\n"
     ]
    }
   ],
   "source": [
    "res = 1/(1+np.exp(-weight_sum))\n",
    "print(res)"
   ]
  },
  {
   "cell_type": "code",
   "execution_count": null,
   "id": "94e9a7e1-8c59-4d15-bc2e-aad7a910999a",
   "metadata": {},
   "outputs": [],
   "source": []
  },
  {
   "cell_type": "code",
   "execution_count": null,
   "id": "557ef195-09eb-4fa8-aeb7-6e18604593cb",
   "metadata": {},
   "outputs": [],
   "source": []
  }
 ],
 "metadata": {
  "kernelspec": {
   "display_name": "Python 3 (ipykernel)",
   "language": "python",
   "name": "python3"
  },
  "language_info": {
   "codemirror_mode": {
    "name": "ipython",
    "version": 3
   },
   "file_extension": ".py",
   "mimetype": "text/x-python",
   "name": "python",
   "nbconvert_exporter": "python",
   "pygments_lexer": "ipython3",
   "version": "3.11.9"
  }
 },
 "nbformat": 4,
 "nbformat_minor": 5
}
