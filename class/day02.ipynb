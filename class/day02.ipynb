{
 "cells": [
  {
   "cell_type": "code",
   "execution_count": 1,
   "id": "aba623d8-e875-49e2-9c64-13b72374a12c",
   "metadata": {},
   "outputs": [
    {
     "data": {
      "text/plain": [
       "2"
      ]
     },
     "execution_count": 1,
     "metadata": {},
     "output_type": "execute_result"
    }
   ],
   "source": [
    "x = [4, 2, 8, 9, 3]\n",
    "min_value = min(x)\n",
    "min_value"
   ]
  },
  {
   "cell_type": "code",
   "execution_count": 2,
   "id": "ad7a6665-9993-478f-a2c1-0d25a5942e4a",
   "metadata": {},
   "outputs": [
    {
     "data": {
      "text/plain": [
       "1"
      ]
     },
     "execution_count": 2,
     "metadata": {},
     "output_type": "execute_result"
    }
   ],
   "source": [
    "x.index(min_value)"
   ]
  },
  {
   "cell_type": "code",
   "execution_count": 4,
   "id": "297db521-56c6-43d8-a727-6ddc53eb50d9",
   "metadata": {},
   "outputs": [],
   "source": [
    "import numpy as np"
   ]
  },
  {
   "cell_type": "code",
   "execution_count": 5,
   "id": "266d8934-5363-4949-8add-bf80cb132995",
   "metadata": {},
   "outputs": [
    {
     "data": {
      "text/plain": [
       "2"
      ]
     },
     "execution_count": 5,
     "metadata": {},
     "output_type": "execute_result"
    }
   ],
   "source": [
    "np.min(x)"
   ]
  },
  {
   "cell_type": "code",
   "execution_count": 7,
   "id": "58b4c371-075c-49db-aa0f-43bd1e6f7b6c",
   "metadata": {},
   "outputs": [
    {
     "data": {
      "text/plain": [
       "1"
      ]
     },
     "execution_count": 7,
     "metadata": {},
     "output_type": "execute_result"
    }
   ],
   "source": [
    "np.argmin(x)"
   ]
  },
  {
   "cell_type": "code",
   "execution_count": 8,
   "id": "b76a3a67-97e6-464f-a1db-743f8d0ceb81",
   "metadata": {},
   "outputs": [],
   "source": [
    "#스칼라\n",
    "import numpy as np\n",
    "import pandas as pd"
   ]
  },
  {
   "cell_type": "code",
   "execution_count": 9,
   "id": "6b1e9776-9435-4189-aeab-029d8d1e0816",
   "metadata": {},
   "outputs": [],
   "source": [
    "df = pd.read_csv('./data/house_prices.csv')"
   ]
  },
  {
   "cell_type": "code",
   "execution_count": 10,
   "id": "2356c3eb-2ef6-4fd9-a577-23ad55d32d06",
   "metadata": {},
   "outputs": [
    {
     "data": {
      "text/html": [
       "<div>\n",
       "<style scoped>\n",
       "    .dataframe tbody tr th:only-of-type {\n",
       "        vertical-align: middle;\n",
       "    }\n",
       "\n",
       "    .dataframe tbody tr th {\n",
       "        vertical-align: top;\n",
       "    }\n",
       "\n",
       "    .dataframe thead th {\n",
       "        text-align: right;\n",
       "    }\n",
       "</style>\n",
       "<table border=\"1\" class=\"dataframe\">\n",
       "  <thead>\n",
       "    <tr style=\"text-align: right;\">\n",
       "      <th></th>\n",
       "      <th>CRIM</th>\n",
       "      <th>ZN</th>\n",
       "      <th>INDUS</th>\n",
       "      <th>CHAS</th>\n",
       "      <th>NOX</th>\n",
       "      <th>RM</th>\n",
       "      <th>AGE</th>\n",
       "      <th>DIS</th>\n",
       "      <th>RAD</th>\n",
       "      <th>TAX</th>\n",
       "      <th>PTRATIO</th>\n",
       "      <th>B</th>\n",
       "      <th>LSTAT</th>\n",
       "      <th>MEDV</th>\n",
       "    </tr>\n",
       "  </thead>\n",
       "  <tbody>\n",
       "    <tr>\n",
       "      <th>0</th>\n",
       "      <td>0.00632</td>\n",
       "      <td>18.0</td>\n",
       "      <td>2.31</td>\n",
       "      <td>0</td>\n",
       "      <td>0.538</td>\n",
       "      <td>6.575</td>\n",
       "      <td>65.2</td>\n",
       "      <td>4.0900</td>\n",
       "      <td>1</td>\n",
       "      <td>296</td>\n",
       "      <td>15.3</td>\n",
       "      <td>396.90</td>\n",
       "      <td>4.98</td>\n",
       "      <td>24.0</td>\n",
       "    </tr>\n",
       "    <tr>\n",
       "      <th>1</th>\n",
       "      <td>0.02731</td>\n",
       "      <td>0.0</td>\n",
       "      <td>7.07</td>\n",
       "      <td>0</td>\n",
       "      <td>0.469</td>\n",
       "      <td>6.421</td>\n",
       "      <td>78.9</td>\n",
       "      <td>4.9671</td>\n",
       "      <td>2</td>\n",
       "      <td>242</td>\n",
       "      <td>17.8</td>\n",
       "      <td>396.90</td>\n",
       "      <td>9.14</td>\n",
       "      <td>21.6</td>\n",
       "    </tr>\n",
       "    <tr>\n",
       "      <th>2</th>\n",
       "      <td>0.02729</td>\n",
       "      <td>0.0</td>\n",
       "      <td>7.07</td>\n",
       "      <td>0</td>\n",
       "      <td>0.469</td>\n",
       "      <td>7.185</td>\n",
       "      <td>61.1</td>\n",
       "      <td>4.9671</td>\n",
       "      <td>2</td>\n",
       "      <td>242</td>\n",
       "      <td>17.8</td>\n",
       "      <td>392.83</td>\n",
       "      <td>4.03</td>\n",
       "      <td>34.7</td>\n",
       "    </tr>\n",
       "  </tbody>\n",
       "</table>\n",
       "</div>"
      ],
      "text/plain": [
       "      CRIM    ZN  INDUS  CHAS    NOX     RM   AGE     DIS  RAD  TAX  PTRATIO  \\\n",
       "0  0.00632  18.0   2.31     0  0.538  6.575  65.2  4.0900    1  296     15.3   \n",
       "1  0.02731   0.0   7.07     0  0.469  6.421  78.9  4.9671    2  242     17.8   \n",
       "2  0.02729   0.0   7.07     0  0.469  7.185  61.1  4.9671    2  242     17.8   \n",
       "\n",
       "        B  LSTAT  MEDV  \n",
       "0  396.90   4.98  24.0  \n",
       "1  396.90   9.14  21.6  \n",
       "2  392.83   4.03  34.7  "
      ]
     },
     "execution_count": 10,
     "metadata": {},
     "output_type": "execute_result"
    }
   ],
   "source": [
    "df.head(3)"
   ]
  },
  {
   "cell_type": "code",
   "execution_count": 11,
   "id": "ad454ced-4e6f-465f-872e-f5838362d3e8",
   "metadata": {},
   "outputs": [
    {
     "data": {
      "text/plain": [
       "0.469"
      ]
     },
     "execution_count": 11,
     "metadata": {},
     "output_type": "execute_result"
    }
   ],
   "source": [
    "df.iloc[2,4]"
   ]
  },
  {
   "cell_type": "code",
   "execution_count": 12,
   "id": "647c9416-ec2a-4915-a1cc-a3a7e5a53c07",
   "metadata": {},
   "outputs": [
    {
     "data": {
      "text/plain": [
       "6.998"
      ]
     },
     "execution_count": 12,
     "metadata": {},
     "output_type": "execute_result"
    }
   ],
   "source": [
    "df.iloc[3,5]"
   ]
  },
  {
   "cell_type": "code",
   "execution_count": 14,
   "id": "fe54683d-3eb1-4290-b72d-08dbd30f4dad",
   "metadata": {},
   "outputs": [
    {
     "data": {
      "text/plain": [
       "7.147"
      ]
     },
     "execution_count": 14,
     "metadata": {},
     "output_type": "execute_result"
    }
   ],
   "source": [
    "df.iloc[2,3] + df.iloc[4,5]"
   ]
  },
  {
   "cell_type": "code",
   "execution_count": 25,
   "id": "3342c417-c383-4821-a36b-14a6ecc259fa",
   "metadata": {},
   "outputs": [
    {
     "name": "stdout",
     "output_type": "stream",
     "text": [
      "[ 1  2  3  4  5  6  7  8  9 10 11 12 13 14 15 16]\n"
     ]
    }
   ],
   "source": [
    "A = np.array([1,2,3,4,5,6,7,8, 9, 10, 11, 12, 13,14,15,16])\n",
    "print(A)"
   ]
  },
  {
   "cell_type": "code",
   "execution_count": 27,
   "id": "13ac8d4c-5e35-45d1-a7ee-c9e13b241fa0",
   "metadata": {},
   "outputs": [
    {
     "name": "stdout",
     "output_type": "stream",
     "text": [
      "[[ 1]\n",
      " [ 2]\n",
      " [ 3]\n",
      " [ 4]\n",
      " [ 5]\n",
      " [ 6]\n",
      " [ 7]\n",
      " [ 8]\n",
      " [ 9]\n",
      " [10]\n",
      " [11]\n",
      " [12]\n",
      " [13]\n",
      " [14]\n",
      " [15]\n",
      " [16]]\n"
     ]
    }
   ],
   "source": [
    "A1 = A.reshape(16,1)\n",
    "print(A1)"
   ]
  },
  {
   "cell_type": "code",
   "execution_count": 28,
   "id": "ffd76833-7ab1-4d9f-832a-6575cb15e8e3",
   "metadata": {},
   "outputs": [
    {
     "name": "stdout",
     "output_type": "stream",
     "text": [
      "[ 1  2  3  4  5  6  7  8  9 10 11 12 13 14 15 16]\n"
     ]
    }
   ],
   "source": [
    "A2 = A1.reshape(-1)\n",
    "print(A2)"
   ]
  },
  {
   "cell_type": "code",
   "execution_count": 29,
   "id": "31f8fc7a-851f-4791-b11e-19652b9b13b6",
   "metadata": {},
   "outputs": [
    {
     "name": "stdout",
     "output_type": "stream",
     "text": [
      "[[ 1  2]\n",
      " [ 3  4]\n",
      " [ 5  6]\n",
      " [ 7  8]\n",
      " [ 9 10]\n",
      " [11 12]\n",
      " [13 14]\n",
      " [15 16]]\n"
     ]
    }
   ],
   "source": [
    "A3 = A2.reshape(8,-1)\n",
    "print(A3)"
   ]
  },
  {
   "cell_type": "code",
   "execution_count": 32,
   "id": "107d85cf-c4fe-49d2-9188-deb33a037c69",
   "metadata": {},
   "outputs": [],
   "source": [
    "A = np.array([[1,2],[3,4]])\n",
    "B = np.array([[5,6],[7,8]])"
   ]
  },
  {
   "cell_type": "code",
   "execution_count": 33,
   "id": "77b84281-ea6c-4980-96b0-1b1c52d00aba",
   "metadata": {},
   "outputs": [
    {
     "name": "stdout",
     "output_type": "stream",
     "text": [
      "[[1 2]\n",
      " [3 4]]\n",
      "[[5 6]\n",
      " [7 8]]\n"
     ]
    }
   ],
   "source": [
    "print(A)\n",
    "print(B)"
   ]
  },
  {
   "cell_type": "code",
   "execution_count": 34,
   "id": "5526e94d-d287-4425-9dec-c7ef967279ee",
   "metadata": {},
   "outputs": [
    {
     "name": "stdout",
     "output_type": "stream",
     "text": [
      "[[1 2]\n",
      " [3 4]\n",
      " [5 6]\n",
      " [7 8]]\n"
     ]
    }
   ],
   "source": [
    "C = np.concatenate((A, B), axis=0)\n",
    "print(C)"
   ]
  },
  {
   "cell_type": "code",
   "execution_count": 35,
   "id": "b96d0933-24c3-437d-b670-ec65a72aa304",
   "metadata": {},
   "outputs": [
    {
     "data": {
      "text/plain": [
       "(4, 2)"
      ]
     },
     "execution_count": 35,
     "metadata": {},
     "output_type": "execute_result"
    }
   ],
   "source": [
    "C.shape"
   ]
  },
  {
   "cell_type": "code",
   "execution_count": 36,
   "id": "4e7cacae-e8bb-4be2-8285-13203bbf4c5e",
   "metadata": {},
   "outputs": [],
   "source": [
    "X = df[['CRIM', 'NOX', 'RM', 'AGE', 'TAX']]"
   ]
  },
  {
   "cell_type": "code",
   "execution_count": 37,
   "id": "adac443d-aee8-4cdf-bdb7-9068000620ba",
   "metadata": {},
   "outputs": [
    {
     "data": {
      "text/html": [
       "<div>\n",
       "<style scoped>\n",
       "    .dataframe tbody tr th:only-of-type {\n",
       "        vertical-align: middle;\n",
       "    }\n",
       "\n",
       "    .dataframe tbody tr th {\n",
       "        vertical-align: top;\n",
       "    }\n",
       "\n",
       "    .dataframe thead th {\n",
       "        text-align: right;\n",
       "    }\n",
       "</style>\n",
       "<table border=\"1\" class=\"dataframe\">\n",
       "  <thead>\n",
       "    <tr style=\"text-align: right;\">\n",
       "      <th></th>\n",
       "      <th>CRIM</th>\n",
       "      <th>NOX</th>\n",
       "      <th>RM</th>\n",
       "      <th>AGE</th>\n",
       "      <th>TAX</th>\n",
       "    </tr>\n",
       "  </thead>\n",
       "  <tbody>\n",
       "    <tr>\n",
       "      <th>0</th>\n",
       "      <td>0.00632</td>\n",
       "      <td>0.538</td>\n",
       "      <td>6.575</td>\n",
       "      <td>65.2</td>\n",
       "      <td>296</td>\n",
       "    </tr>\n",
       "    <tr>\n",
       "      <th>1</th>\n",
       "      <td>0.02731</td>\n",
       "      <td>0.469</td>\n",
       "      <td>6.421</td>\n",
       "      <td>78.9</td>\n",
       "      <td>242</td>\n",
       "    </tr>\n",
       "    <tr>\n",
       "      <th>2</th>\n",
       "      <td>0.02729</td>\n",
       "      <td>0.469</td>\n",
       "      <td>7.185</td>\n",
       "      <td>61.1</td>\n",
       "      <td>242</td>\n",
       "    </tr>\n",
       "    <tr>\n",
       "      <th>3</th>\n",
       "      <td>0.03237</td>\n",
       "      <td>0.458</td>\n",
       "      <td>6.998</td>\n",
       "      <td>45.8</td>\n",
       "      <td>222</td>\n",
       "    </tr>\n",
       "    <tr>\n",
       "      <th>4</th>\n",
       "      <td>0.06905</td>\n",
       "      <td>0.458</td>\n",
       "      <td>7.147</td>\n",
       "      <td>54.2</td>\n",
       "      <td>222</td>\n",
       "    </tr>\n",
       "    <tr>\n",
       "      <th>...</th>\n",
       "      <td>...</td>\n",
       "      <td>...</td>\n",
       "      <td>...</td>\n",
       "      <td>...</td>\n",
       "      <td>...</td>\n",
       "    </tr>\n",
       "    <tr>\n",
       "      <th>501</th>\n",
       "      <td>0.06263</td>\n",
       "      <td>0.573</td>\n",
       "      <td>6.593</td>\n",
       "      <td>69.1</td>\n",
       "      <td>273</td>\n",
       "    </tr>\n",
       "    <tr>\n",
       "      <th>502</th>\n",
       "      <td>0.04527</td>\n",
       "      <td>0.573</td>\n",
       "      <td>6.120</td>\n",
       "      <td>76.7</td>\n",
       "      <td>273</td>\n",
       "    </tr>\n",
       "    <tr>\n",
       "      <th>503</th>\n",
       "      <td>0.06076</td>\n",
       "      <td>0.573</td>\n",
       "      <td>6.976</td>\n",
       "      <td>91.0</td>\n",
       "      <td>273</td>\n",
       "    </tr>\n",
       "    <tr>\n",
       "      <th>504</th>\n",
       "      <td>0.10959</td>\n",
       "      <td>0.573</td>\n",
       "      <td>6.794</td>\n",
       "      <td>89.3</td>\n",
       "      <td>273</td>\n",
       "    </tr>\n",
       "    <tr>\n",
       "      <th>505</th>\n",
       "      <td>0.04741</td>\n",
       "      <td>0.573</td>\n",
       "      <td>6.030</td>\n",
       "      <td>80.8</td>\n",
       "      <td>273</td>\n",
       "    </tr>\n",
       "  </tbody>\n",
       "</table>\n",
       "<p>506 rows × 5 columns</p>\n",
       "</div>"
      ],
      "text/plain": [
       "        CRIM    NOX     RM   AGE  TAX\n",
       "0    0.00632  0.538  6.575  65.2  296\n",
       "1    0.02731  0.469  6.421  78.9  242\n",
       "2    0.02729  0.469  7.185  61.1  242\n",
       "3    0.03237  0.458  6.998  45.8  222\n",
       "4    0.06905  0.458  7.147  54.2  222\n",
       "..       ...    ...    ...   ...  ...\n",
       "501  0.06263  0.573  6.593  69.1  273\n",
       "502  0.04527  0.573  6.120  76.7  273\n",
       "503  0.06076  0.573  6.976  91.0  273\n",
       "504  0.10959  0.573  6.794  89.3  273\n",
       "505  0.04741  0.573  6.030  80.8  273\n",
       "\n",
       "[506 rows x 5 columns]"
      ]
     },
     "execution_count": 37,
     "metadata": {},
     "output_type": "execute_result"
    }
   ],
   "source": [
    "X"
   ]
  },
  {
   "cell_type": "code",
   "execution_count": 38,
   "id": "c0badcf8-6bf2-49fc-92d0-21ab70f54dcb",
   "metadata": {},
   "outputs": [],
   "source": [
    "X_t = np.transpose(X)"
   ]
  },
  {
   "cell_type": "code",
   "execution_count": 39,
   "id": "f04799f5-c731-4450-81ff-1f7d73247f0d",
   "metadata": {},
   "outputs": [
    {
     "data": {
      "text/html": [
       "<div>\n",
       "<style scoped>\n",
       "    .dataframe tbody tr th:only-of-type {\n",
       "        vertical-align: middle;\n",
       "    }\n",
       "\n",
       "    .dataframe tbody tr th {\n",
       "        vertical-align: top;\n",
       "    }\n",
       "\n",
       "    .dataframe thead th {\n",
       "        text-align: right;\n",
       "    }\n",
       "</style>\n",
       "<table border=\"1\" class=\"dataframe\">\n",
       "  <thead>\n",
       "    <tr style=\"text-align: right;\">\n",
       "      <th></th>\n",
       "      <th>0</th>\n",
       "      <th>1</th>\n",
       "      <th>2</th>\n",
       "      <th>3</th>\n",
       "      <th>4</th>\n",
       "      <th>5</th>\n",
       "      <th>6</th>\n",
       "      <th>7</th>\n",
       "      <th>8</th>\n",
       "      <th>9</th>\n",
       "      <th>...</th>\n",
       "      <th>496</th>\n",
       "      <th>497</th>\n",
       "      <th>498</th>\n",
       "      <th>499</th>\n",
       "      <th>500</th>\n",
       "      <th>501</th>\n",
       "      <th>502</th>\n",
       "      <th>503</th>\n",
       "      <th>504</th>\n",
       "      <th>505</th>\n",
       "    </tr>\n",
       "  </thead>\n",
       "  <tbody>\n",
       "    <tr>\n",
       "      <th>CRIM</th>\n",
       "      <td>0.00632</td>\n",
       "      <td>0.02731</td>\n",
       "      <td>0.02729</td>\n",
       "      <td>0.03237</td>\n",
       "      <td>0.06905</td>\n",
       "      <td>0.02985</td>\n",
       "      <td>0.08829</td>\n",
       "      <td>0.14455</td>\n",
       "      <td>0.21124</td>\n",
       "      <td>0.17004</td>\n",
       "      <td>...</td>\n",
       "      <td>0.2896</td>\n",
       "      <td>0.26838</td>\n",
       "      <td>0.23912</td>\n",
       "      <td>0.17783</td>\n",
       "      <td>0.22438</td>\n",
       "      <td>0.06263</td>\n",
       "      <td>0.04527</td>\n",
       "      <td>0.06076</td>\n",
       "      <td>0.10959</td>\n",
       "      <td>0.04741</td>\n",
       "    </tr>\n",
       "    <tr>\n",
       "      <th>NOX</th>\n",
       "      <td>0.53800</td>\n",
       "      <td>0.46900</td>\n",
       "      <td>0.46900</td>\n",
       "      <td>0.45800</td>\n",
       "      <td>0.45800</td>\n",
       "      <td>0.45800</td>\n",
       "      <td>0.52400</td>\n",
       "      <td>0.52400</td>\n",
       "      <td>0.52400</td>\n",
       "      <td>0.52400</td>\n",
       "      <td>...</td>\n",
       "      <td>0.5850</td>\n",
       "      <td>0.58500</td>\n",
       "      <td>0.58500</td>\n",
       "      <td>0.58500</td>\n",
       "      <td>0.58500</td>\n",
       "      <td>0.57300</td>\n",
       "      <td>0.57300</td>\n",
       "      <td>0.57300</td>\n",
       "      <td>0.57300</td>\n",
       "      <td>0.57300</td>\n",
       "    </tr>\n",
       "    <tr>\n",
       "      <th>RM</th>\n",
       "      <td>6.57500</td>\n",
       "      <td>6.42100</td>\n",
       "      <td>7.18500</td>\n",
       "      <td>6.99800</td>\n",
       "      <td>7.14700</td>\n",
       "      <td>6.43000</td>\n",
       "      <td>6.01200</td>\n",
       "      <td>6.17200</td>\n",
       "      <td>5.63100</td>\n",
       "      <td>6.00400</td>\n",
       "      <td>...</td>\n",
       "      <td>5.3900</td>\n",
       "      <td>5.79400</td>\n",
       "      <td>6.01900</td>\n",
       "      <td>5.56900</td>\n",
       "      <td>6.02700</td>\n",
       "      <td>6.59300</td>\n",
       "      <td>6.12000</td>\n",
       "      <td>6.97600</td>\n",
       "      <td>6.79400</td>\n",
       "      <td>6.03000</td>\n",
       "    </tr>\n",
       "    <tr>\n",
       "      <th>AGE</th>\n",
       "      <td>65.20000</td>\n",
       "      <td>78.90000</td>\n",
       "      <td>61.10000</td>\n",
       "      <td>45.80000</td>\n",
       "      <td>54.20000</td>\n",
       "      <td>58.70000</td>\n",
       "      <td>66.60000</td>\n",
       "      <td>96.10000</td>\n",
       "      <td>100.00000</td>\n",
       "      <td>85.90000</td>\n",
       "      <td>...</td>\n",
       "      <td>72.9000</td>\n",
       "      <td>70.60000</td>\n",
       "      <td>65.30000</td>\n",
       "      <td>73.50000</td>\n",
       "      <td>79.70000</td>\n",
       "      <td>69.10000</td>\n",
       "      <td>76.70000</td>\n",
       "      <td>91.00000</td>\n",
       "      <td>89.30000</td>\n",
       "      <td>80.80000</td>\n",
       "    </tr>\n",
       "    <tr>\n",
       "      <th>TAX</th>\n",
       "      <td>296.00000</td>\n",
       "      <td>242.00000</td>\n",
       "      <td>242.00000</td>\n",
       "      <td>222.00000</td>\n",
       "      <td>222.00000</td>\n",
       "      <td>222.00000</td>\n",
       "      <td>311.00000</td>\n",
       "      <td>311.00000</td>\n",
       "      <td>311.00000</td>\n",
       "      <td>311.00000</td>\n",
       "      <td>...</td>\n",
       "      <td>391.0000</td>\n",
       "      <td>391.00000</td>\n",
       "      <td>391.00000</td>\n",
       "      <td>391.00000</td>\n",
       "      <td>391.00000</td>\n",
       "      <td>273.00000</td>\n",
       "      <td>273.00000</td>\n",
       "      <td>273.00000</td>\n",
       "      <td>273.00000</td>\n",
       "      <td>273.00000</td>\n",
       "    </tr>\n",
       "  </tbody>\n",
       "</table>\n",
       "<p>5 rows × 506 columns</p>\n",
       "</div>"
      ],
      "text/plain": [
       "            0          1          2          3          4          5    \\\n",
       "CRIM    0.00632    0.02731    0.02729    0.03237    0.06905    0.02985   \n",
       "NOX     0.53800    0.46900    0.46900    0.45800    0.45800    0.45800   \n",
       "RM      6.57500    6.42100    7.18500    6.99800    7.14700    6.43000   \n",
       "AGE    65.20000   78.90000   61.10000   45.80000   54.20000   58.70000   \n",
       "TAX   296.00000  242.00000  242.00000  222.00000  222.00000  222.00000   \n",
       "\n",
       "            6          7          8          9    ...       496        497  \\\n",
       "CRIM    0.08829    0.14455    0.21124    0.17004  ...    0.2896    0.26838   \n",
       "NOX     0.52400    0.52400    0.52400    0.52400  ...    0.5850    0.58500   \n",
       "RM      6.01200    6.17200    5.63100    6.00400  ...    5.3900    5.79400   \n",
       "AGE    66.60000   96.10000  100.00000   85.90000  ...   72.9000   70.60000   \n",
       "TAX   311.00000  311.00000  311.00000  311.00000  ...  391.0000  391.00000   \n",
       "\n",
       "            498        499        500        501        502        503  \\\n",
       "CRIM    0.23912    0.17783    0.22438    0.06263    0.04527    0.06076   \n",
       "NOX     0.58500    0.58500    0.58500    0.57300    0.57300    0.57300   \n",
       "RM      6.01900    5.56900    6.02700    6.59300    6.12000    6.97600   \n",
       "AGE    65.30000   73.50000   79.70000   69.10000   76.70000   91.00000   \n",
       "TAX   391.00000  391.00000  391.00000  273.00000  273.00000  273.00000   \n",
       "\n",
       "            504        505  \n",
       "CRIM    0.10959    0.04741  \n",
       "NOX     0.57300    0.57300  \n",
       "RM      6.79400    6.03000  \n",
       "AGE    89.30000   80.80000  \n",
       "TAX   273.00000  273.00000  \n",
       "\n",
       "[5 rows x 506 columns]"
      ]
     },
     "execution_count": 39,
     "metadata": {},
     "output_type": "execute_result"
    }
   ],
   "source": [
    "X_t"
   ]
  },
  {
   "cell_type": "code",
   "execution_count": 40,
   "id": "c221588a-4109-4044-baa7-9558e1c9fbe9",
   "metadata": {},
   "outputs": [],
   "source": [
    "X_t = X.T"
   ]
  },
  {
   "cell_type": "code",
   "execution_count": 41,
   "id": "7a6721be-cdcb-44db-946f-9beef0c6404d",
   "metadata": {},
   "outputs": [
    {
     "data": {
      "text/html": [
       "<div>\n",
       "<style scoped>\n",
       "    .dataframe tbody tr th:only-of-type {\n",
       "        vertical-align: middle;\n",
       "    }\n",
       "\n",
       "    .dataframe tbody tr th {\n",
       "        vertical-align: top;\n",
       "    }\n",
       "\n",
       "    .dataframe thead th {\n",
       "        text-align: right;\n",
       "    }\n",
       "</style>\n",
       "<table border=\"1\" class=\"dataframe\">\n",
       "  <thead>\n",
       "    <tr style=\"text-align: right;\">\n",
       "      <th></th>\n",
       "      <th>0</th>\n",
       "      <th>1</th>\n",
       "      <th>2</th>\n",
       "      <th>3</th>\n",
       "      <th>4</th>\n",
       "      <th>5</th>\n",
       "      <th>6</th>\n",
       "      <th>7</th>\n",
       "      <th>8</th>\n",
       "      <th>9</th>\n",
       "      <th>...</th>\n",
       "      <th>496</th>\n",
       "      <th>497</th>\n",
       "      <th>498</th>\n",
       "      <th>499</th>\n",
       "      <th>500</th>\n",
       "      <th>501</th>\n",
       "      <th>502</th>\n",
       "      <th>503</th>\n",
       "      <th>504</th>\n",
       "      <th>505</th>\n",
       "    </tr>\n",
       "  </thead>\n",
       "  <tbody>\n",
       "    <tr>\n",
       "      <th>CRIM</th>\n",
       "      <td>0.00632</td>\n",
       "      <td>0.02731</td>\n",
       "      <td>0.02729</td>\n",
       "      <td>0.03237</td>\n",
       "      <td>0.06905</td>\n",
       "      <td>0.02985</td>\n",
       "      <td>0.08829</td>\n",
       "      <td>0.14455</td>\n",
       "      <td>0.21124</td>\n",
       "      <td>0.17004</td>\n",
       "      <td>...</td>\n",
       "      <td>0.2896</td>\n",
       "      <td>0.26838</td>\n",
       "      <td>0.23912</td>\n",
       "      <td>0.17783</td>\n",
       "      <td>0.22438</td>\n",
       "      <td>0.06263</td>\n",
       "      <td>0.04527</td>\n",
       "      <td>0.06076</td>\n",
       "      <td>0.10959</td>\n",
       "      <td>0.04741</td>\n",
       "    </tr>\n",
       "    <tr>\n",
       "      <th>NOX</th>\n",
       "      <td>0.53800</td>\n",
       "      <td>0.46900</td>\n",
       "      <td>0.46900</td>\n",
       "      <td>0.45800</td>\n",
       "      <td>0.45800</td>\n",
       "      <td>0.45800</td>\n",
       "      <td>0.52400</td>\n",
       "      <td>0.52400</td>\n",
       "      <td>0.52400</td>\n",
       "      <td>0.52400</td>\n",
       "      <td>...</td>\n",
       "      <td>0.5850</td>\n",
       "      <td>0.58500</td>\n",
       "      <td>0.58500</td>\n",
       "      <td>0.58500</td>\n",
       "      <td>0.58500</td>\n",
       "      <td>0.57300</td>\n",
       "      <td>0.57300</td>\n",
       "      <td>0.57300</td>\n",
       "      <td>0.57300</td>\n",
       "      <td>0.57300</td>\n",
       "    </tr>\n",
       "    <tr>\n",
       "      <th>RM</th>\n",
       "      <td>6.57500</td>\n",
       "      <td>6.42100</td>\n",
       "      <td>7.18500</td>\n",
       "      <td>6.99800</td>\n",
       "      <td>7.14700</td>\n",
       "      <td>6.43000</td>\n",
       "      <td>6.01200</td>\n",
       "      <td>6.17200</td>\n",
       "      <td>5.63100</td>\n",
       "      <td>6.00400</td>\n",
       "      <td>...</td>\n",
       "      <td>5.3900</td>\n",
       "      <td>5.79400</td>\n",
       "      <td>6.01900</td>\n",
       "      <td>5.56900</td>\n",
       "      <td>6.02700</td>\n",
       "      <td>6.59300</td>\n",
       "      <td>6.12000</td>\n",
       "      <td>6.97600</td>\n",
       "      <td>6.79400</td>\n",
       "      <td>6.03000</td>\n",
       "    </tr>\n",
       "    <tr>\n",
       "      <th>AGE</th>\n",
       "      <td>65.20000</td>\n",
       "      <td>78.90000</td>\n",
       "      <td>61.10000</td>\n",
       "      <td>45.80000</td>\n",
       "      <td>54.20000</td>\n",
       "      <td>58.70000</td>\n",
       "      <td>66.60000</td>\n",
       "      <td>96.10000</td>\n",
       "      <td>100.00000</td>\n",
       "      <td>85.90000</td>\n",
       "      <td>...</td>\n",
       "      <td>72.9000</td>\n",
       "      <td>70.60000</td>\n",
       "      <td>65.30000</td>\n",
       "      <td>73.50000</td>\n",
       "      <td>79.70000</td>\n",
       "      <td>69.10000</td>\n",
       "      <td>76.70000</td>\n",
       "      <td>91.00000</td>\n",
       "      <td>89.30000</td>\n",
       "      <td>80.80000</td>\n",
       "    </tr>\n",
       "    <tr>\n",
       "      <th>TAX</th>\n",
       "      <td>296.00000</td>\n",
       "      <td>242.00000</td>\n",
       "      <td>242.00000</td>\n",
       "      <td>222.00000</td>\n",
       "      <td>222.00000</td>\n",
       "      <td>222.00000</td>\n",
       "      <td>311.00000</td>\n",
       "      <td>311.00000</td>\n",
       "      <td>311.00000</td>\n",
       "      <td>311.00000</td>\n",
       "      <td>...</td>\n",
       "      <td>391.0000</td>\n",
       "      <td>391.00000</td>\n",
       "      <td>391.00000</td>\n",
       "      <td>391.00000</td>\n",
       "      <td>391.00000</td>\n",
       "      <td>273.00000</td>\n",
       "      <td>273.00000</td>\n",
       "      <td>273.00000</td>\n",
       "      <td>273.00000</td>\n",
       "      <td>273.00000</td>\n",
       "    </tr>\n",
       "  </tbody>\n",
       "</table>\n",
       "<p>5 rows × 506 columns</p>\n",
       "</div>"
      ],
      "text/plain": [
       "            0          1          2          3          4          5    \\\n",
       "CRIM    0.00632    0.02731    0.02729    0.03237    0.06905    0.02985   \n",
       "NOX     0.53800    0.46900    0.46900    0.45800    0.45800    0.45800   \n",
       "RM      6.57500    6.42100    7.18500    6.99800    7.14700    6.43000   \n",
       "AGE    65.20000   78.90000   61.10000   45.80000   54.20000   58.70000   \n",
       "TAX   296.00000  242.00000  242.00000  222.00000  222.00000  222.00000   \n",
       "\n",
       "            6          7          8          9    ...       496        497  \\\n",
       "CRIM    0.08829    0.14455    0.21124    0.17004  ...    0.2896    0.26838   \n",
       "NOX     0.52400    0.52400    0.52400    0.52400  ...    0.5850    0.58500   \n",
       "RM      6.01200    6.17200    5.63100    6.00400  ...    5.3900    5.79400   \n",
       "AGE    66.60000   96.10000  100.00000   85.90000  ...   72.9000   70.60000   \n",
       "TAX   311.00000  311.00000  311.00000  311.00000  ...  391.0000  391.00000   \n",
       "\n",
       "            498        499        500        501        502        503  \\\n",
       "CRIM    0.23912    0.17783    0.22438    0.06263    0.04527    0.06076   \n",
       "NOX     0.58500    0.58500    0.58500    0.57300    0.57300    0.57300   \n",
       "RM      6.01900    5.56900    6.02700    6.59300    6.12000    6.97600   \n",
       "AGE    65.30000   73.50000   79.70000   69.10000   76.70000   91.00000   \n",
       "TAX   391.00000  391.00000  391.00000  273.00000  273.00000  273.00000   \n",
       "\n",
       "            504        505  \n",
       "CRIM    0.10959    0.04741  \n",
       "NOX     0.57300    0.57300  \n",
       "RM      6.79400    6.03000  \n",
       "AGE    89.30000   80.80000  \n",
       "TAX   273.00000  273.00000  \n",
       "\n",
       "[5 rows x 506 columns]"
      ]
     },
     "execution_count": 41,
     "metadata": {},
     "output_type": "execute_result"
    }
   ],
   "source": [
    "X_t"
   ]
  },
  {
   "cell_type": "code",
   "execution_count": 42,
   "id": "d2e4fb0e-6682-485b-8ae2-14f67c050ce3",
   "metadata": {},
   "outputs": [],
   "source": [
    "XtX = X_t@X"
   ]
  },
  {
   "cell_type": "code",
   "execution_count": 43,
   "id": "7175143d-9232-4a38-956c-f5596cd40dc2",
   "metadata": {},
   "outputs": [
    {
     "data": {
      "text/plain": [
       "7.91431657769047e+21"
      ]
     },
     "execution_count": 43,
     "metadata": {},
     "output_type": "execute_result"
    }
   ],
   "source": [
    "np.linalg.det(XtX)"
   ]
  },
  {
   "cell_type": "code",
   "execution_count": 44,
   "id": "7cf591a6-b61e-46f6-a7b3-cebce06ac606",
   "metadata": {},
   "outputs": [
    {
     "data": {
      "text/html": [
       "<div>\n",
       "<style scoped>\n",
       "    .dataframe tbody tr th:only-of-type {\n",
       "        vertical-align: middle;\n",
       "    }\n",
       "\n",
       "    .dataframe tbody tr th {\n",
       "        vertical-align: top;\n",
       "    }\n",
       "\n",
       "    .dataframe thead th {\n",
       "        text-align: right;\n",
       "    }\n",
       "</style>\n",
       "<table border=\"1\" class=\"dataframe\">\n",
       "  <thead>\n",
       "    <tr style=\"text-align: right;\">\n",
       "      <th></th>\n",
       "      <th>CRIM</th>\n",
       "      <th>NOX</th>\n",
       "      <th>NOX</th>\n",
       "    </tr>\n",
       "  </thead>\n",
       "  <tbody>\n",
       "    <tr>\n",
       "      <th>CRIM</th>\n",
       "      <td>43970.343555</td>\n",
       "      <td>1226.12317</td>\n",
       "      <td>1226.12317</td>\n",
       "    </tr>\n",
       "    <tr>\n",
       "      <th>NOX</th>\n",
       "      <td>1226.123170</td>\n",
       "      <td>162.47038</td>\n",
       "      <td>162.47038</td>\n",
       "    </tr>\n",
       "    <tr>\n",
       "      <th>NOX</th>\n",
       "      <td>1226.123170</td>\n",
       "      <td>162.47038</td>\n",
       "      <td>162.47038</td>\n",
       "    </tr>\n",
       "  </tbody>\n",
       "</table>\n",
       "</div>"
      ],
      "text/plain": [
       "              CRIM         NOX         NOX\n",
       "CRIM  43970.343555  1226.12317  1226.12317\n",
       "NOX    1226.123170   162.47038   162.47038\n",
       "NOX    1226.123170   162.47038   162.47038"
      ]
     },
     "execution_count": 44,
     "metadata": {},
     "output_type": "execute_result"
    }
   ],
   "source": [
    "A = df[['CRIM', 'NOX', 'NOX']]\n",
    "AtA = A.T@A\n",
    "AtA"
   ]
  },
  {
   "cell_type": "code",
   "execution_count": 45,
   "id": "ff6f45d7-b84d-410d-b399-64a275764ea2",
   "metadata": {},
   "outputs": [
    {
     "data": {
      "text/plain": [
       "-1.6066291246500755e-07"
      ]
     },
     "execution_count": 45,
     "metadata": {},
     "output_type": "execute_result"
    }
   ],
   "source": [
    "np.linalg.det(AtA)"
   ]
  },
  {
   "cell_type": "code",
   "execution_count": 46,
   "id": "ea28030e-1db9-4591-9764-a08283cd5529",
   "metadata": {},
   "outputs": [],
   "source": [
    "XtX_inv = np.linalg.inv(XtX)"
   ]
  },
  {
   "cell_type": "code",
   "execution_count": 47,
   "id": "8ead95ec-195b-40d0-852f-531b6aa92556",
   "metadata": {},
   "outputs": [
    {
     "name": "stdout",
     "output_type": "stream",
     "text": [
      "[[ 4.07613803e-05  1.32526683e-04  4.76832932e-05 -1.01889386e-06\n",
      "  -1.10744437e-06]\n",
      " [ 1.32526683e-04  3.44301609e-01 -1.30762150e-02 -8.56047279e-04\n",
      "  -1.21234099e-04]\n",
      " [ 4.76832932e-05 -1.30762150e-02  9.05341934e-04  1.73338529e-05\n",
      "   1.03814433e-06]\n",
      " [-1.01889386e-06 -8.56047279e-04  1.73338529e-05  5.35211609e-06\n",
      "   4.19638894e-09]\n",
      " [-1.10744437e-06 -1.21234099e-04  1.03814433e-06  4.19638894e-09\n",
      "   1.58047038e-07]]\n"
     ]
    }
   ],
   "source": [
    "print(XtX_inv)"
   ]
  },
  {
   "cell_type": "code",
   "execution_count": 48,
   "id": "a29802b4-9d9e-4817-89ac-0018c8657f32",
   "metadata": {},
   "outputs": [
    {
     "data": {
      "text/html": [
       "<div>\n",
       "<style scoped>\n",
       "    .dataframe tbody tr th:only-of-type {\n",
       "        vertical-align: middle;\n",
       "    }\n",
       "\n",
       "    .dataframe tbody tr th {\n",
       "        vertical-align: top;\n",
       "    }\n",
       "\n",
       "    .dataframe thead th {\n",
       "        text-align: right;\n",
       "    }\n",
       "</style>\n",
       "<table border=\"1\" class=\"dataframe\">\n",
       "  <thead>\n",
       "    <tr style=\"text-align: right;\">\n",
       "      <th></th>\n",
       "      <th>0</th>\n",
       "      <th>1</th>\n",
       "      <th>2</th>\n",
       "      <th>3</th>\n",
       "      <th>4</th>\n",
       "    </tr>\n",
       "  </thead>\n",
       "  <tbody>\n",
       "    <tr>\n",
       "      <th>CRIM</th>\n",
       "      <td>1.000000e+00</td>\n",
       "      <td>-4.447888e-14</td>\n",
       "      <td>-1.020086e-15</td>\n",
       "      <td>-4.691598e-16</td>\n",
       "      <td>2.699273e-18</td>\n",
       "    </tr>\n",
       "    <tr>\n",
       "      <th>NOX</th>\n",
       "      <td>-1.452603e-17</td>\n",
       "      <td>1.000000e+00</td>\n",
       "      <td>-2.678151e-16</td>\n",
       "      <td>-2.168159e-18</td>\n",
       "      <td>-3.659899e-18</td>\n",
       "    </tr>\n",
       "    <tr>\n",
       "      <th>RM</th>\n",
       "      <td>-9.428389e-17</td>\n",
       "      <td>6.247078e-15</td>\n",
       "      <td>1.000000e+00</td>\n",
       "      <td>-1.370854e-16</td>\n",
       "      <td>3.749752e-18</td>\n",
       "    </tr>\n",
       "    <tr>\n",
       "      <th>AGE</th>\n",
       "      <td>-2.786726e-16</td>\n",
       "      <td>-1.250669e-13</td>\n",
       "      <td>-1.535879e-14</td>\n",
       "      <td>1.000000e+00</td>\n",
       "      <td>-7.049449e-17</td>\n",
       "    </tr>\n",
       "    <tr>\n",
       "      <th>TAX</th>\n",
       "      <td>-6.501229e-15</td>\n",
       "      <td>-7.405329e-13</td>\n",
       "      <td>-9.465845e-14</td>\n",
       "      <td>-3.369418e-15</td>\n",
       "      <td>1.000000e+00</td>\n",
       "    </tr>\n",
       "  </tbody>\n",
       "</table>\n",
       "</div>"
      ],
      "text/plain": [
       "                 0             1             2             3             4\n",
       "CRIM  1.000000e+00 -4.447888e-14 -1.020086e-15 -4.691598e-16  2.699273e-18\n",
       "NOX  -1.452603e-17  1.000000e+00 -2.678151e-16 -2.168159e-18 -3.659899e-18\n",
       "RM   -9.428389e-17  6.247078e-15  1.000000e+00 -1.370854e-16  3.749752e-18\n",
       "AGE  -2.786726e-16 -1.250669e-13 -1.535879e-14  1.000000e+00 -7.049449e-17\n",
       "TAX  -6.501229e-15 -7.405329e-13 -9.465845e-14 -3.369418e-15  1.000000e+00"
      ]
     },
     "execution_count": 48,
     "metadata": {},
     "output_type": "execute_result"
    }
   ],
   "source": [
    "XtX@XtX_inv"
   ]
  },
  {
   "cell_type": "code",
   "execution_count": 49,
   "id": "4ab7e2f4-a1f5-46ed-b98a-dc7c093b4397",
   "metadata": {},
   "outputs": [
    {
     "data": {
      "text/html": [
       "<div>\n",
       "<style scoped>\n",
       "    .dataframe tbody tr th:only-of-type {\n",
       "        vertical-align: middle;\n",
       "    }\n",
       "\n",
       "    .dataframe tbody tr th {\n",
       "        vertical-align: top;\n",
       "    }\n",
       "\n",
       "    .dataframe thead th {\n",
       "        text-align: right;\n",
       "    }\n",
       "</style>\n",
       "<table border=\"1\" class=\"dataframe\">\n",
       "  <thead>\n",
       "    <tr style=\"text-align: right;\">\n",
       "      <th></th>\n",
       "      <th>CRIM</th>\n",
       "      <th>NOX</th>\n",
       "      <th>RM</th>\n",
       "      <th>AGE</th>\n",
       "      <th>TAX</th>\n",
       "    </tr>\n",
       "  </thead>\n",
       "  <tbody>\n",
       "    <tr>\n",
       "      <th>0</th>\n",
       "      <td>1.000000e+00</td>\n",
       "      <td>-7.576365e-16</td>\n",
       "      <td>-8.235377e-15</td>\n",
       "      <td>-9.886624e-14</td>\n",
       "      <td>-5.807765e-13</td>\n",
       "    </tr>\n",
       "    <tr>\n",
       "      <th>1</th>\n",
       "      <td>1.419495e-13</td>\n",
       "      <td>1.000000e+00</td>\n",
       "      <td>1.941346e-13</td>\n",
       "      <td>2.357091e-12</td>\n",
       "      <td>7.872695e-12</td>\n",
       "    </tr>\n",
       "    <tr>\n",
       "      <th>2</th>\n",
       "      <td>-3.420988e-15</td>\n",
       "      <td>-8.161380e-16</td>\n",
       "      <td>1.000000e+00</td>\n",
       "      <td>-9.470352e-14</td>\n",
       "      <td>-3.688790e-13</td>\n",
       "    </tr>\n",
       "    <tr>\n",
       "      <th>3</th>\n",
       "      <td>-2.045842e-16</td>\n",
       "      <td>-3.458849e-17</td>\n",
       "      <td>-3.330749e-16</td>\n",
       "      <td>1.000000e+00</td>\n",
       "      <td>-1.846921e-14</td>\n",
       "    </tr>\n",
       "    <tr>\n",
       "      <th>4</th>\n",
       "      <td>2.699273e-18</td>\n",
       "      <td>-3.659899e-18</td>\n",
       "      <td>3.749752e-18</td>\n",
       "      <td>-7.049449e-17</td>\n",
       "      <td>1.000000e+00</td>\n",
       "    </tr>\n",
       "  </tbody>\n",
       "</table>\n",
       "</div>"
      ],
      "text/plain": [
       "           CRIM           NOX            RM           AGE           TAX\n",
       "0  1.000000e+00 -7.576365e-16 -8.235377e-15 -9.886624e-14 -5.807765e-13\n",
       "1  1.419495e-13  1.000000e+00  1.941346e-13  2.357091e-12  7.872695e-12\n",
       "2 -3.420988e-15 -8.161380e-16  1.000000e+00 -9.470352e-14 -3.688790e-13\n",
       "3 -2.045842e-16 -3.458849e-17 -3.330749e-16  1.000000e+00 -1.846921e-14\n",
       "4  2.699273e-18 -3.659899e-18  3.749752e-18 -7.049449e-17  1.000000e+00"
      ]
     },
     "execution_count": 49,
     "metadata": {},
     "output_type": "execute_result"
    }
   ],
   "source": [
    "XtX_inv@XtX"
   ]
  },
  {
   "cell_type": "code",
   "execution_count": null,
   "id": "0556d799-22ca-479b-8af2-58c1d576a0b4",
   "metadata": {},
   "outputs": [],
   "source": []
  },
  {
   "cell_type": "code",
   "execution_count": null,
   "id": "c3cc2711-c40b-45ff-835f-34f9a418c905",
   "metadata": {},
   "outputs": [],
   "source": []
  }
 ],
 "metadata": {
  "kernelspec": {
   "display_name": "Python 3 (ipykernel)",
   "language": "python",
   "name": "python3"
  },
  "language_info": {
   "codemirror_mode": {
    "name": "ipython",
    "version": 3
   },
   "file_extension": ".py",
   "mimetype": "text/x-python",
   "name": "python",
   "nbconvert_exporter": "python",
   "pygments_lexer": "ipython3",
   "version": "3.11.9"
  }
 },
 "nbformat": 4,
 "nbformat_minor": 5
}
