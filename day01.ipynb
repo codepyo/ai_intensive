{
 "cells": [
  {
   "cell_type": "code",
   "execution_count": 7,
   "id": "8331af0f-1007-4b63-a455-c97c6dafe89d",
   "metadata": {},
   "outputs": [],
   "source": [
    "import numpy as np\n",
    "import pyarrow as pa\n",
    "import pandas as pd\n",
    "import scipy as sp\n",
    "import matplotlib as plt\n",
    "import seaborn as sns\n",
    "import plotly\n",
    "import sklearn \n",
    "import torch, torchvision, torchaudio"
   ]
  },
  {
   "cell_type": "code",
   "execution_count": null,
   "id": "6401f831-baa8-4682-aede-c0860f52dfa5",
   "metadata": {},
   "outputs": [],
   "source": []
  },
  {
   "cell_type": "code",
   "execution_count": null,
   "id": "eb00a006-94af-4734-a7b4-4b91a17a20d6",
   "metadata": {},
   "outputs": [],
   "source": []
  }
 ],
 "metadata": {
  "kernelspec": {
   "display_name": "Python 3 (ipykernel)",
   "language": "python",
   "name": "python3"
  },
  "language_info": {
   "codemirror_mode": {
    "name": "ipython",
    "version": 3
   },
   "file_extension": ".py",
   "mimetype": "text/x-python",
   "name": "python",
   "nbconvert_exporter": "python",
   "pygments_lexer": "ipython3",
   "version": "3.11.9"
  }
 },
 "nbformat": 4,
 "nbformat_minor": 5
}
